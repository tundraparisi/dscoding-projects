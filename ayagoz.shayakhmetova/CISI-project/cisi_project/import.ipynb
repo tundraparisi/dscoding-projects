{
 "cells": [
  {
   "cell_type": "code",
   "execution_count": 1,
   "id": "21fd0e1d",
   "metadata": {},
   "outputs": [],
   "source": [
    "import pandas as pd"
   ]
  },
  {
   "cell_type": "code",
   "execution_count": 2,
   "id": "3f26cda4",
   "metadata": {},
   "outputs": [],
   "source": [
    "path_movie = '/Users/apple/Documents/GitHub/dscoding-projects/ayagoz.shayakhmetova/CISI-project/cisi_project/tmdb_5000_movies.csv'\n",
    "data_movie = pd.read_csv(path_movie)"
   ]
  },
  {
   "cell_type": "code",
   "execution_count": 4,
   "id": "b42cf91f",
   "metadata": {},
   "outputs": [
    {
     "data": {
      "text/plain": [
       "0       True\n",
       "1       True\n",
       "2       True\n",
       "3       True\n",
       "4       True\n",
       "        ... \n",
       "4798    True\n",
       "4799    True\n",
       "4800    True\n",
       "4801    True\n",
       "4802    True\n",
       "Name: status, Length: 4803, dtype: bool"
      ]
     },
     "execution_count": 4,
     "metadata": {},
     "output_type": "execute_result"
    }
   ],
   "source": [
    "#data_movie.head()\n",
    "#data_movie.tail()\n",
    "#data_movie = data_name_basics.drop_duplicates()\n",
    "#row_count = len(data_movie)\n",
    "#row_count\n",
    "#data_movie = data_movie.drop_duplicates()\n",
    "#data_movie = data_movie.drop(columns='homepage') # deleted column \"homepage\"\n",
    "data_movie[\"status\"].isin([\"Released\"])\n",
    "#data_movie.dtypes\n",
    "#data_movie.isna().sum()"
   ]
  },
  {
   "cell_type": "code",
   "execution_count": null,
   "id": "c362fb02",
   "metadata": {},
   "outputs": [],
   "source": [
    "#title_merged = pd.merge(data_title_basics, data_title_akas, on = '')"
   ]
  }
 ],
 "metadata": {
  "kernelspec": {
   "display_name": "Python 3 (ipykernel)",
   "language": "python",
   "name": "python3"
  },
  "language_info": {
   "codemirror_mode": {
    "name": "ipython",
    "version": 3
   },
   "file_extension": ".py",
   "mimetype": "text/x-python",
   "name": "python",
   "nbconvert_exporter": "python",
   "pygments_lexer": "ipython3",
   "version": "3.11.5"
  }
 },
 "nbformat": 4,
 "nbformat_minor": 5
}
