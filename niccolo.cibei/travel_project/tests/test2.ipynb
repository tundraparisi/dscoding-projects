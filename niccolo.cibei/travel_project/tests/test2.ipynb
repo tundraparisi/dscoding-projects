{
 "cells": [
  {
   "cell_type": "code",
   "execution_count": 1,
   "outputs": [],
   "source": [
    "import pandas as pd\n",
    "import numpy as np\n",
    "import scipy"
   ],
   "metadata": {
    "collapsed": false,
    "ExecuteTime": {
     "end_time": "2023-10-27T09:35:13.717163900Z",
     "start_time": "2023-10-27T09:35:10.903235800Z"
    }
   },
   "id": "37bace62f22fe3e9"
  },
  {
   "cell_type": "code",
   "execution_count": 2,
   "outputs": [],
   "source": [
    "#url = 'http://island.ricerca.di.unimi.it/~alfio/shared/worldcities.xlsx'\n",
    "df= pd.read_excel(r\"C:\\Users\\cibei\\OneDrive\\Desktop\\Coding_for_data_science\\Python\\dscoding-projects\\niccolo.cibei\\project\\dataset\\worldcities.xlsx\")"
   ],
   "metadata": {
    "collapsed": false,
    "ExecuteTime": {
     "end_time": "2023-10-24T18:05:11.027132Z",
     "start_time": "2023-10-24T18:05:08.130074100Z"
    }
   },
   "id": "b84b9bcbda289716"
  },
  {
   "cell_type": "code",
   "execution_count": 1,
   "outputs": [
    {
     "ename": "ModuleNotFoundError",
     "evalue": "No module named 'shapely'",
     "output_type": "error",
     "traceback": [
      "\u001B[1;31m---------------------------------------------------------------------------\u001B[0m",
      "\u001B[1;31mModuleNotFoundError\u001B[0m                       Traceback (most recent call last)",
      "Cell \u001B[1;32mIn[1], line 2\u001B[0m\n\u001B[0;32m      1\u001B[0m \u001B[38;5;28;01mimport\u001B[39;00m \u001B[38;5;21;01mpandas\u001B[39;00m \u001B[38;5;28;01mas\u001B[39;00m \u001B[38;5;21;01mpd\u001B[39;00m\n\u001B[1;32m----> 2\u001B[0m \u001B[38;5;28;01mfrom\u001B[39;00m \u001B[38;5;21;01mshapely\u001B[39;00m\u001B[38;5;21;01m.\u001B[39;00m\u001B[38;5;21;01mgeometry\u001B[39;00m \u001B[38;5;28;01mimport\u001B[39;00m Point\n\u001B[0;32m      3\u001B[0m \u001B[38;5;28;01mimport\u001B[39;00m \u001B[38;5;21;01mgeopandas\u001B[39;00m \u001B[38;5;28;01mas\u001B[39;00m \u001B[38;5;21;01mgpd\u001B[39;00m\n\u001B[0;32m      4\u001B[0m \u001B[38;5;28;01mfrom\u001B[39;00m \u001B[38;5;21;01mgeopandas\u001B[39;00m \u001B[38;5;28;01mimport\u001B[39;00m GeoDataFrame\n",
      "\u001B[1;31mModuleNotFoundError\u001B[0m: No module named 'shapely'"
     ]
    }
   ],
   "source": [
    "import pandas as pd\n",
    "from shapely.geometry import Point\n",
    "import geopandas as gpd\n",
    "from geopandas import GeoDataFrame\n",
    "\n",
    "\n",
    "geometry = [Point(xy) for xy in zip(df['lng'], df['lat'])]\n",
    "gdf = GeoDataFrame(df, geometry=geometry)   \n",
    "\n",
    "#this is a simple map that goes with geopandas\n",
    "world = gpd.read_file(gpd.datasets.get_path('naturalearth_lowres'))\n",
    "gdf.plot(ax=world.plot(figsize=(10, 6)), marker='o', color='red', markersize=15);"
   ],
   "metadata": {
    "collapsed": false,
    "ExecuteTime": {
     "end_time": "2023-11-10T17:20:19.959902800Z",
     "start_time": "2023-11-10T17:20:19.285876300Z"
    }
   },
   "id": "fab67efe31af40bf"
  },
  {
   "cell_type": "code",
   "execution_count": null,
   "outputs": [],
   "source": [
    "import plotly.graph_objects as go\n",
    "\n",
    "def plot_shortest_path(df, shortest_path):\n",
    "    # Estrai le coordinate delle città\n",
    "    city_coords = df[['lat', 'lng']].to_numpy()\n",
    "\n",
    "    # Estrai le coordinate del percorso\n",
    "    path_coords = [city_coords[city_id - 1] for city_id in shortest_path]\n",
    "\n",
    "    # Crea un grafico a dispersione con il percorso\n",
    "    fig = go.Figure()\n",
    "\n",
    "    fig.add_trace(go.Scattergeo(\n",
    "        locationmode=\"ISO-3\",\n",
    "        lon=[coord[1] for coord in city_coords],\n",
    "        lat=[coord[0] for coord in city_coords],\n",
    "        mode=\"markers\",\n",
    "        marker=dict(size=8, color=\"red\"),\n",
    "        hoverinfo=\"text\",\n",
    "        text=df['city_ascii'],\n",
    "        name=\"Cities\"\n",
    "    ))\n",
    "\n",
    "    fig.add_trace(go.Scattergeo(\n",
    "        locationmode=\"ISO-3\",\n",
    "        lon=[coord[1] for coord in path_coords],\n",
    "        lat=[coord[0] for coord in path_coords],\n",
    "        mode=\"lines+markers\",\n",
    "        line=dict(width=2, color=\"blue\"),\n",
    "        marker=dict(size=8, color=\"blue\"),\n",
    "        hoverinfo=\"text\",\n",
    "        text=df['city_ascii'][shortest_path],\n",
    "        name=\"Shortest Path\"\n",
    "    ))\n",
    "\n",
    "    fig.update_geos(projection_type=\"natural earth\", showland=True, landcolor=\"rgb(250, 250, 250)\")\n",
    "\n",
    "    fig.show()\n"
   ],
   "metadata": {
    "collapsed": false
   },
   "id": "1c7b92c19c276fb0"
  },
  {
   "cell_type": "code",
   "execution_count": null,
   "outputs": [],
   "source": [],
   "metadata": {
    "collapsed": false
   },
   "id": "255b4e74309afccb"
  },
  {
   "cell_type": "code",
   "execution_count": null,
   "outputs": [],
   "source": [],
   "metadata": {
    "collapsed": false
   },
   "id": "7509d4131cd3a929"
  },
  {
   "cell_type": "code",
   "execution_count": 5,
   "outputs": [
    {
     "data": {
      "text/plain": "49.5"
     },
     "execution_count": 5,
     "metadata": {},
     "output_type": "execute_result"
    }
   ],
   "source": [
    "a = np.arange(100)\n",
    "a.mean()"
   ],
   "metadata": {
    "collapsed": false,
    "ExecuteTime": {
     "end_time": "2023-10-27T09:36:25.379729200Z",
     "start_time": "2023-10-27T09:36:25.357603Z"
    }
   },
   "id": "9c5639c7e8212e1c"
  },
  {
   "cell_type": "code",
   "execution_count": 11,
   "outputs": [
    {
     "data": {
      "text/plain": "array([2.04577974, 1.88053823])"
     },
     "execution_count": 11,
     "metadata": {},
     "output_type": "execute_result"
    }
   ],
   "source": [
    "a = np.random.normal(size= (10,2))\n",
    "\n",
    "a.min(axis= 0)\n",
    "a.max(axis= 0)"
   ],
   "metadata": {
    "collapsed": false,
    "ExecuteTime": {
     "end_time": "2023-10-27T09:45:38.705040100Z",
     "start_time": "2023-10-27T09:45:38.692094800Z"
    }
   },
   "id": "16b75a2e0396cb4b"
  },
  {
   "cell_type": "code",
   "execution_count": 22,
   "outputs": [
    {
     "data": {
      "text/plain": "array([[3.92554448, 4.38277689],\n       [3.49899313, 5.8935898 ],\n       [5.73954567, 3.57643504],\n       [3.88927224, 5.08858007],\n       [3.64576946, 5.05827069],\n       [5.48008484, 5.38699051],\n       [6.21046817, 4.97987046],\n       [5.01039395, 4.16716205],\n       [4.88398942, 4.29837233],\n       [3.61060658, 5.49059556]])"
     },
     "execution_count": 22,
     "metadata": {},
     "output_type": "execute_result"
    }
   ],
   "source": [
    "a = np.random.normal(size= (10,2), loc= 5)\n",
    "a.mean(axis= 0)"
   ],
   "metadata": {
    "collapsed": false,
    "ExecuteTime": {
     "end_time": "2023-10-27T09:55:05.882497100Z",
     "start_time": "2023-10-27T09:55:05.868268100Z"
    }
   },
   "id": "88aef04b0a5f5c42"
  },
  {
   "cell_type": "code",
   "execution_count": 27,
   "outputs": [
    {
     "data": {
      "text/plain": "(array([0, 0, 2], dtype=int64), array([0, 1, 0], dtype=int64))"
     },
     "execution_count": 27,
     "metadata": {},
     "output_type": "execute_result"
    }
   ],
   "source": [
    "np.random.seed(2)\n",
    "a = np.random.randint(low= 1, high= 10, size = (5,2))\n",
    "\n",
    "np.nonzero(a == a.max())"
   ],
   "metadata": {
    "collapsed": false,
    "ExecuteTime": {
     "end_time": "2023-10-27T09:55:52.738616300Z",
     "start_time": "2023-10-27T09:55:52.728116400Z"
    }
   },
   "id": "26b41c36b32176fe"
  },
  {
   "cell_type": "code",
   "execution_count": 28,
   "outputs": [
    {
     "data": {
      "text/plain": "3"
     },
     "execution_count": 28,
     "metadata": {},
     "output_type": "execute_result"
    }
   ],
   "source": [
    "np.sum (a == a.max())"
   ],
   "metadata": {
    "collapsed": false,
    "ExecuteTime": {
     "end_time": "2023-10-27T09:55:54.987857300Z",
     "start_time": "2023-10-27T09:55:54.970701800Z"
    }
   },
   "id": "4e21c0aa081b8ba1"
  },
  {
   "cell_type": "code",
   "execution_count": 30,
   "outputs": [
    {
     "data": {
      "text/plain": "5"
     },
     "execution_count": 30,
     "metadata": {},
     "output_type": "execute_result"
    }
   ],
   "source": [
    "np.sum (a > a.mean())"
   ],
   "metadata": {
    "collapsed": false,
    "ExecuteTime": {
     "end_time": "2023-10-27T09:56:29.692891200Z",
     "start_time": "2023-10-27T09:56:29.657548300Z"
    }
   },
   "id": "937879c5126f3ffd"
  },
  {
   "cell_type": "code",
   "execution_count": null,
   "outputs": [],
   "source": [],
   "metadata": {
    "collapsed": false
   },
   "id": "d2c763b0d90e3e9d"
  },
  {
   "cell_type": "code",
   "execution_count": 31,
   "outputs": [
    {
     "data": {
      "text/plain": "array([[ 0.69042756,  0.29288513],\n       [-1.4122158 ,  0.22562539],\n       [-1.19674608,  1.4000238 ]])"
     },
     "execution_count": 31,
     "metadata": {},
     "output_type": "execute_result"
    }
   ],
   "source": [
    "a =np.random.random(size = (3,2))\n",
    "(a- a.mean())/a.std()"
   ],
   "metadata": {
    "collapsed": false,
    "ExecuteTime": {
     "end_time": "2023-10-27T09:58:16.063810Z",
     "start_time": "2023-10-27T09:58:16.051851500Z"
    }
   },
   "id": "f89b03c4641b2e50"
  },
  {
   "cell_type": "code",
   "execution_count": 32,
   "outputs": [
    {
     "data": {
      "text/plain": "array([[ 0.7297718 ,  1.4135993 ],\n       [ 0.68419696, -0.6707057 ],\n       [-1.41396876, -0.7428936 ]])"
     },
     "execution_count": 32,
     "metadata": {},
     "output_type": "execute_result"
    }
   ],
   "source": [
    "a =np.random.random(size = (3,2))\n",
    "(a- a.mean(axis=0))/a.std(axis=0)"
   ],
   "metadata": {
    "collapsed": false,
    "ExecuteTime": {
     "end_time": "2023-10-27T09:59:11.207605800Z",
     "start_time": "2023-10-27T09:59:11.198410100Z"
    }
   },
   "id": "a1a2b4911b07b7df"
  },
  {
   "cell_type": "code",
   "execution_count": 37,
   "outputs": [],
   "source": [
    "a = np.arange(60).reshape(6, -1)[:, :6]"
   ],
   "metadata": {
    "collapsed": false,
    "ExecuteTime": {
     "end_time": "2023-10-27T10:21:03.300721800Z",
     "start_time": "2023-10-27T10:21:03.291740200Z"
    }
   },
   "id": "5531f9b3a8534e2"
  },
  {
   "cell_type": "code",
   "execution_count": 42,
   "outputs": [
    {
     "data": {
      "text/plain": "array([[11, 12, 13, 14],\n       [31, 32, 33, 34],\n       [51, 52, 53, 54]])"
     },
     "execution_count": 42,
     "metadata": {},
     "output_type": "execute_result"
    }
   ],
   "source": [
    "a[[0, 0, 2, 4], [1, 5, 3, 2]]"
   ],
   "metadata": {
    "collapsed": false,
    "ExecuteTime": {
     "end_time": "2023-10-27T10:23:34.664462500Z",
     "start_time": "2023-10-27T10:23:34.653220200Z"
    }
   },
   "id": "561bf2fa8476897"
  },
  {
   "cell_type": "code",
   "execution_count": null,
   "outputs": [],
   "source": [
    "a[[1, 3, 5],  1:5]\n"
   ],
   "metadata": {
    "collapsed": false
   },
   "id": "84453f403f080d0d"
  },
  {
   "cell_type": "code",
   "execution_count": 50,
   "outputs": [
    {
     "data": {
      "text/plain": "array([10, 15, 20, 25, 30, 35, 40, 45, 50, 55])"
     },
     "execution_count": 50,
     "metadata": {},
     "output_type": "execute_result"
    }
   ],
   "source": [
    "#a[1:, [0,5]]\n",
    "\n",
    "a[(a % 5 == 0 )& (a > 5)]"
   ],
   "metadata": {
    "collapsed": false,
    "ExecuteTime": {
     "end_time": "2023-10-27T10:27:13.064038700Z",
     "start_time": "2023-10-27T10:27:13.052072300Z"
    }
   },
   "id": "cd03d109a027f728"
  },
  {
   "cell_type": "code",
   "execution_count": null,
   "outputs": [],
   "source": [],
   "metadata": {
    "collapsed": false
   },
   "id": "2df7494322ecf11"
  }
 ],
 "metadata": {
  "kernelspec": {
   "display_name": "Python 3",
   "language": "python",
   "name": "python3"
  },
  "language_info": {
   "codemirror_mode": {
    "name": "ipython",
    "version": 2
   },
   "file_extension": ".py",
   "mimetype": "text/x-python",
   "name": "python",
   "nbconvert_exporter": "python",
   "pygments_lexer": "ipython2",
   "version": "2.7.6"
  }
 },
 "nbformat": 4,
 "nbformat_minor": 5
}
