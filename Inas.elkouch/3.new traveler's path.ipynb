{
 "cells": [
  {
   "cell_type": "code",
   "execution_count": 1,
   "id": "3703fa69",
   "metadata": {},
   "outputs": [],
   "source": [
    "import pandas as pd \n",
    "from math import cos, asin, sqrt, pi"
   ]
  },
  {
   "cell_type": "code",
   "execution_count": 2,
   "id": "a6564789",
   "metadata": {},
   "outputs": [],
   "source": [
    "def distance(lat1, lon1, lat2, lon2):\n",
    "    r = 6371 # km\n",
    "    p = pi / 180\n",
    "\n",
    "    a = 0.5 - cos((lat2-lat1)*p)/2 + cos(lat1*p) * cos(lat2*p) * (1-cos((lon2-lon1)*p))/2\n",
    "    return 2 * r * asin(sqrt(a))\n"
   ]
  },
  {
   "cell_type": "code",
   "execution_count": 3,
   "id": "788f8ad7",
   "metadata": {},
   "outputs": [],
   "source": [
    "def present(city, path):\n",
    "    for x in path:\n",
    "        if city[3] == x[3]:\n",
    "            return True\n",
    "    return False\n"
   ]
  },
  {
   "cell_type": "code",
   "execution_count": 4,
   "id": "d2d9460f",
   "metadata": {},
   "outputs": [],
   "source": [
    "#declare functions here\n",
    "def convert_coordinates(coord_str):\n",
    "    if coord_str is not None:\n",
    "        if 'N' in coord_str or 'E' in coord_str:\n",
    "            return float(coord_str[:-1])\n",
    "        elif 'S' in coord_str or 'W' in coord_str:\n",
    "            return -float(coord_str[:-1])\n",
    "        else:\n",
    "            return float(coord_str)\n",
    "    else:\n",
    "        return None"
   ]
  },
  {
   "cell_type": "code",
   "execution_count": 5,
   "id": "c98b413e",
   "metadata": {},
   "outputs": [],
   "source": [
    "#Reading data\n",
    "df = pd.read_csv('new_data.csv')\n",
    "specific_data = df[(df['dt'] >= '2010-01-01') & (df['dt'] <= '2010-01-31')]\n",
    "data = specific_data.values.tolist()\n"
   ]
  },
  {
   "cell_type": "code",
   "execution_count": 6,
   "id": "d59bee0b",
   "metadata": {},
   "outputs": [],
   "source": [
    "# Convert coordinates in the list of the lists\n",
    "for city in data:\n",
    "    city[5] = convert_coordinates(city[5])\n",
    "    city[6] = convert_coordinates(city[6])\n",
    "\n",
    "#print(data)"
   ]
  },
  {
   "cell_type": "code",
   "execution_count": null,
   "id": "b45ea1e4",
   "metadata": {},
   "outputs": [],
   "source": [
    "#Starting the path"
   ]
  },
  {
   "cell_type": "code",
   "execution_count": 7,
   "id": "2c3390be",
   "metadata": {},
   "outputs": [],
   "source": [
    "#putting Beijing data as initial one, then it updates\n",
    "country = ['2010-01-01', -5.3050000000000015, 0.419, 'Peking', 'China', 39.38, 116.53]\n",
    "path = []\n",
    "l = []\n",
    "path.append(country)\n",
    "i = 0"
   ]
  },
  {
   "cell_type": "code",
   "execution_count": 8,
   "id": "de88cb7e",
   "metadata": {},
   "outputs": [],
   "source": [
    "#Begin to find three closest city\n",
    "while country[3] != 'Los Angeles':\n",
    "    j = 0\n",
    "    three_closest = [0, 0, 0]\n",
    "    while j < 3:\n",
    "        min_dist = 10000000\n",
    "        for city in data:\n",
    "            if present(city, path) == False:\n",
    "                dist = distance(country[5], country[6], city[5], city[6])\n",
    "                if dist < min_dist and (city not in three_closest):\n",
    "                    min_dist = dist\n",
    "                    three_closest[j] = city\n",
    "\n",
    "        j = j+1\n",
    "\n",
    "    #print('Three closest: ',three_closest)\n",
    "    # choose the most heated\n",
    "    max_city = three_closest[0]\n",
    "    for c in three_closest:\n",
    "        if(c[1] > max_city[1]):\n",
    "            max_city = c\n",
    "\n",
    "    path.append(max_city)\n",
    "    country = max_city\n",
    "    i = i+1"
   ]
  },
  {
   "cell_type": "code",
   "execution_count": 9,
   "id": "85203c18",
   "metadata": {},
   "outputs": [
    {
     "name": "stdout",
     "output_type": "stream",
     "text": [
      "Planning the route...\n",
      "Peking , China\n",
      "Tangshan , China\n",
      "Jinan , China\n",
      "Tianjin , China\n",
      "Dalian , China\n",
      "Seoul , South Korea\n",
      "Shanghai , China\n",
      "Taipei , Taiwan\n",
      "Guangzhou , China\n",
      "Chongqing , China\n",
      "Wuhan , China\n",
      "Nanjing , China\n",
      "Xian , China\n",
      "Chengdu , China\n",
      "Calcutta , India\n",
      "Dhaka , Bangladesh\n",
      "Rangoon , Burma\n",
      "Ho Chi Minh City , Vietnam\n",
      "Singapore , Singapore\n",
      "Surabaya , Indonesia\n",
      "Jakarta , Indonesia\n",
      "Bangkok , Thailand\n",
      "Manila , Philippines\n",
      "Nagoya , Japan\n",
      "Tokyo , Japan\n",
      "Shenyang , China\n",
      "Taiyuan , China\n",
      "Kanpur , India\n",
      "Delhi , India\n",
      "Jaipur , India\n",
      "Ahmadabad , India\n",
      "Bombay , India\n",
      "Hyderabad , India\n",
      "Madras , India\n",
      "Bangalore , India\n",
      "Pune , India\n",
      "Surat , India\n",
      "Karachi , Pakistan\n",
      "New Delhi , India\n",
      "Lakhnau , India\n",
      "Nagpur , India\n",
      "Faisalabad , Pakistan\n",
      "Lahore , Pakistan\n",
      "Baghdad , Iraq\n",
      "Riyadh , Saudi Arabia\n",
      "Jiddah , Saudi Arabia\n",
      "Umm Durman , Sudan\n",
      "Addis Abeba , Ethiopia\n",
      "Dar Es Salaam , Tanzania\n",
      "Mogadishu , Somalia\n",
      "Harare , Zimbabwe\n",
      "Durban , South Africa\n",
      "Luanda , Angola\n",
      "Ibadan , Nigeria\n",
      "Abidjan , Côte D'Ivoire\n",
      "Lagos , Nigeria\n",
      "Kinshasa , Congo (Democratic Republic Of The)\n",
      "Kano , Nigeria\n",
      "Dakar , Senegal\n",
      "Fortaleza , Brazil\n",
      "Salvador , Brazil\n",
      "Rio De Janeiro , Brazil\n",
      "Belo Horizonte , Brazil\n",
      "São Paulo , Brazil\n",
      "Brasília , Brazil\n",
      "Bogotá , Colombia\n",
      "Santo Domingo , Dominican Republic\n",
      "Cali , Colombia\n",
      "Lima , Peru\n",
      "Santiago , Chile\n",
      "Cape Town , South Africa\n",
      "Nairobi , Kenya\n",
      "Alexandria , Egypt\n",
      "Cairo , Egypt\n",
      "Gizeh , Egypt\n",
      "Izmir , Turkey\n",
      "Aleppo , Syria\n",
      "Istanbul , Turkey\n",
      "Rome , Italy\n",
      "Madrid , Spain\n",
      "Casablanca , Morocco\n",
      "London , United Kingdom\n",
      "Paris , France\n",
      "Berlin , Germany\n",
      "Kiev , Ukraine\n",
      "Ankara , Turkey\n",
      "Mashhad , Iran\n",
      "Kabul , Afghanistan\n",
      "Saint Petersburg , Russia\n",
      "Changchun , China\n",
      "Los Angeles , United States\n"
     ]
    }
   ],
   "source": [
    "print(\"Planning the route...\")\n",
    "for x in path:\n",
    "    print(x[3],',',x[4])"
   ]
  },
  {
   "cell_type": "code",
   "execution_count": null,
   "id": "ecd90718",
   "metadata": {},
   "outputs": [],
   "source": []
  },
  {
   "cell_type": "code",
   "execution_count": null,
   "id": "896e00c5",
   "metadata": {},
   "outputs": [],
   "source": []
  },
  {
   "cell_type": "code",
   "execution_count": null,
   "id": "b140fb38",
   "metadata": {},
   "outputs": [],
   "source": []
  },
  {
   "cell_type": "code",
   "execution_count": null,
   "id": "601b77f7",
   "metadata": {},
   "outputs": [],
   "source": []
  },
  {
   "cell_type": "code",
   "execution_count": null,
   "id": "739f184d",
   "metadata": {},
   "outputs": [],
   "source": []
  },
  {
   "cell_type": "code",
   "execution_count": null,
   "id": "db23eb9c",
   "metadata": {},
   "outputs": [],
   "source": []
  },
  {
   "cell_type": "code",
   "execution_count": null,
   "id": "d8ddd9fa",
   "metadata": {},
   "outputs": [],
   "source": []
  },
  {
   "cell_type": "code",
   "execution_count": null,
   "id": "3e948a5f",
   "metadata": {},
   "outputs": [],
   "source": []
  },
  {
   "cell_type": "code",
   "execution_count": null,
   "id": "a87b68b5",
   "metadata": {},
   "outputs": [],
   "source": []
  }
 ],
 "metadata": {
  "kernelspec": {
   "display_name": "Python 3 (ipykernel)",
   "language": "python",
   "name": "python3"
  },
  "language_info": {
   "codemirror_mode": {
    "name": "ipython",
    "version": 3
   },
   "file_extension": ".py",
   "mimetype": "text/x-python",
   "name": "python",
   "nbconvert_exporter": "python",
   "pygments_lexer": "ipython3",
   "version": "3.8.18"
  }
 },
 "nbformat": 4,
 "nbformat_minor": 5
}
