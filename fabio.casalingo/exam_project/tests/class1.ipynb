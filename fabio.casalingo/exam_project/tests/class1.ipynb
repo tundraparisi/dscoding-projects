{
 "cells": [
  {
   "cell_type": "code",
   "execution_count": null,
   "id": "faf8d43a",
   "metadata": {},
   "outputs": [],
   "source": [
    "with open (path,'r') as file:\n",
    "    var = file.readlines()"
   ]
  },
  {
   "cell_type": "code",
   "execution_count": 2,
   "id": "aff53ce7",
   "metadata": {
    "ExecuteTime": {
     "end_time": "2023-11-07T12:39:59.779146200Z",
     "start_time": "2023-11-07T12:39:59.348682100Z"
    }
   },
   "outputs": [],
   "source": [
    "def import_data(path):\n",
    "    with open (path,'r') as file:\n",
    "        data = file.readlines()\n",
    "    return data"
   ]
  },
  {
   "cell_type": "code",
   "execution_count": null,
   "id": "7a955222",
   "metadata": {},
   "outputs": [],
   "source": [
    "# var = import_data('path')"
   ]
  },
  {
   "cell_type": "code",
   "execution_count": null,
   "id": "9111b215",
   "metadata": {},
   "outputs": [],
   "source": [
    "#install pandas\n"
   ]
  },
  {
   "cell_type": "code",
   "execution_count": 2,
   "id": "8a418625",
   "metadata": {
    "ExecuteTime": {
     "end_time": "2023-11-14T12:09:21.562950500Z",
     "start_time": "2023-11-14T12:09:20.233050600Z"
    }
   },
   "outputs": [],
   "source": [
    "import pandas as pd"
   ]
  },
  {
   "cell_type": "code",
   "execution_count": 9,
   "id": "22bde2ab",
   "metadata": {
    "ExecuteTime": {
     "end_time": "2023-11-17T21:00:52.950037Z",
     "start_time": "2023-11-17T21:00:48.753963500Z"
    }
   },
   "outputs": [],
   "source": [
    "f = dataset = pd.read_excel('C:/Uni/Coding/python/worldcities.xlsx')"
   ]
  },
  {
   "cell_type": "code",
   "execution_count": 3,
   "id": "e2ad7ad3",
   "metadata": {
    "ExecuteTime": {
     "end_time": "2023-11-16T23:41:11.012248800Z",
     "start_time": "2023-11-16T23:41:10.895537100Z"
    }
   },
   "outputs": [
    {
     "data": {
      "text/plain": "              city   city_ascii      lat       lng      country iso2 iso3  \\\n0            Tokyo        Tokyo  35.6897  139.6922        Japan   JP  JPN   \n1          Jakarta      Jakarta  -6.2146  106.8451    Indonesia   ID  IDN   \n2            Delhi        Delhi  28.6600   77.2300        India   IN  IND   \n3           Mumbai       Mumbai  18.9667   72.8333        India   IN  IND   \n4           Manila       Manila  14.5958  120.9772  Philippines   PH  PHL   \n...            ...          ...      ...       ...          ...  ...  ...   \n26563         Nord         Nord  81.7166  -17.8000    Greenland   GL  GRL   \n26564  Timmiarmiut  Timmiarmiut  62.5333  -42.2167    Greenland   GL  GRL   \n26565  Cheremoshna  Cheremoshna  51.3894   30.0989      Ukraine   UA  UKR   \n26566    Ambarchik    Ambarchik  69.6510  162.3336       Russia   RU  RUS   \n26567      Nordvik      Nordvik  74.0165  111.5100       Russia   RU  RUS   \n\n               admin_name  capital  population          id  \n0                   Tōkyō  primary  37977000.0  1392685764  \n1                 Jakarta  primary  34540000.0  1360771077  \n2                   Delhi    admin  29617000.0  1356872604  \n3             Mahārāshtra    admin  23355000.0  1356226629  \n4                  Manila  primary  23088000.0  1608618140  \n...                   ...      ...         ...         ...  \n26563          Sermersooq      NaN        10.0  1304217709  \n26564            Kujalleq      NaN        10.0  1304206491  \n26565   Kyyivs’ka Oblast’      NaN         0.0  1804043438  \n26566    Sakha (Yakutiya)      NaN         0.0  1643739159  \n26567  Krasnoyarskiy Kray      NaN         0.0  1643587468  \n\n[26568 rows x 11 columns]",
      "text/html": "<div>\n<style scoped>\n    .dataframe tbody tr th:only-of-type {\n        vertical-align: middle;\n    }\n\n    .dataframe tbody tr th {\n        vertical-align: top;\n    }\n\n    .dataframe thead th {\n        text-align: right;\n    }\n</style>\n<table border=\"1\" class=\"dataframe\">\n  <thead>\n    <tr style=\"text-align: right;\">\n      <th></th>\n      <th>city</th>\n      <th>city_ascii</th>\n      <th>lat</th>\n      <th>lng</th>\n      <th>country</th>\n      <th>iso2</th>\n      <th>iso3</th>\n      <th>admin_name</th>\n      <th>capital</th>\n      <th>population</th>\n      <th>id</th>\n    </tr>\n  </thead>\n  <tbody>\n    <tr>\n      <th>0</th>\n      <td>Tokyo</td>\n      <td>Tokyo</td>\n      <td>35.6897</td>\n      <td>139.6922</td>\n      <td>Japan</td>\n      <td>JP</td>\n      <td>JPN</td>\n      <td>Tōkyō</td>\n      <td>primary</td>\n      <td>37977000.0</td>\n      <td>1392685764</td>\n    </tr>\n    <tr>\n      <th>1</th>\n      <td>Jakarta</td>\n      <td>Jakarta</td>\n      <td>-6.2146</td>\n      <td>106.8451</td>\n      <td>Indonesia</td>\n      <td>ID</td>\n      <td>IDN</td>\n      <td>Jakarta</td>\n      <td>primary</td>\n      <td>34540000.0</td>\n      <td>1360771077</td>\n    </tr>\n    <tr>\n      <th>2</th>\n      <td>Delhi</td>\n      <td>Delhi</td>\n      <td>28.6600</td>\n      <td>77.2300</td>\n      <td>India</td>\n      <td>IN</td>\n      <td>IND</td>\n      <td>Delhi</td>\n      <td>admin</td>\n      <td>29617000.0</td>\n      <td>1356872604</td>\n    </tr>\n    <tr>\n      <th>3</th>\n      <td>Mumbai</td>\n      <td>Mumbai</td>\n      <td>18.9667</td>\n      <td>72.8333</td>\n      <td>India</td>\n      <td>IN</td>\n      <td>IND</td>\n      <td>Mahārāshtra</td>\n      <td>admin</td>\n      <td>23355000.0</td>\n      <td>1356226629</td>\n    </tr>\n    <tr>\n      <th>4</th>\n      <td>Manila</td>\n      <td>Manila</td>\n      <td>14.5958</td>\n      <td>120.9772</td>\n      <td>Philippines</td>\n      <td>PH</td>\n      <td>PHL</td>\n      <td>Manila</td>\n      <td>primary</td>\n      <td>23088000.0</td>\n      <td>1608618140</td>\n    </tr>\n    <tr>\n      <th>...</th>\n      <td>...</td>\n      <td>...</td>\n      <td>...</td>\n      <td>...</td>\n      <td>...</td>\n      <td>...</td>\n      <td>...</td>\n      <td>...</td>\n      <td>...</td>\n      <td>...</td>\n      <td>...</td>\n    </tr>\n    <tr>\n      <th>26563</th>\n      <td>Nord</td>\n      <td>Nord</td>\n      <td>81.7166</td>\n      <td>-17.8000</td>\n      <td>Greenland</td>\n      <td>GL</td>\n      <td>GRL</td>\n      <td>Sermersooq</td>\n      <td>NaN</td>\n      <td>10.0</td>\n      <td>1304217709</td>\n    </tr>\n    <tr>\n      <th>26564</th>\n      <td>Timmiarmiut</td>\n      <td>Timmiarmiut</td>\n      <td>62.5333</td>\n      <td>-42.2167</td>\n      <td>Greenland</td>\n      <td>GL</td>\n      <td>GRL</td>\n      <td>Kujalleq</td>\n      <td>NaN</td>\n      <td>10.0</td>\n      <td>1304206491</td>\n    </tr>\n    <tr>\n      <th>26565</th>\n      <td>Cheremoshna</td>\n      <td>Cheremoshna</td>\n      <td>51.3894</td>\n      <td>30.0989</td>\n      <td>Ukraine</td>\n      <td>UA</td>\n      <td>UKR</td>\n      <td>Kyyivs’ka Oblast’</td>\n      <td>NaN</td>\n      <td>0.0</td>\n      <td>1804043438</td>\n    </tr>\n    <tr>\n      <th>26566</th>\n      <td>Ambarchik</td>\n      <td>Ambarchik</td>\n      <td>69.6510</td>\n      <td>162.3336</td>\n      <td>Russia</td>\n      <td>RU</td>\n      <td>RUS</td>\n      <td>Sakha (Yakutiya)</td>\n      <td>NaN</td>\n      <td>0.0</td>\n      <td>1643739159</td>\n    </tr>\n    <tr>\n      <th>26567</th>\n      <td>Nordvik</td>\n      <td>Nordvik</td>\n      <td>74.0165</td>\n      <td>111.5100</td>\n      <td>Russia</td>\n      <td>RU</td>\n      <td>RUS</td>\n      <td>Krasnoyarskiy Kray</td>\n      <td>NaN</td>\n      <td>0.0</td>\n      <td>1643587468</td>\n    </tr>\n  </tbody>\n</table>\n<p>26568 rows × 11 columns</p>\n</div>"
     },
     "execution_count": 3,
     "metadata": {},
     "output_type": "execute_result"
    }
   ],
   "source": [
    "f"
   ]
  },
  {
   "cell_type": "code",
   "execution_count": 8,
   "id": "bb053fcb",
   "metadata": {
    "ExecuteTime": {
     "end_time": "2023-11-17T21:00:44.497744200Z",
     "start_time": "2023-11-17T21:00:44.483958900Z"
    }
   },
   "outputs": [],
   "source": [
    "import numpy as np\n",
    "import pandas as pd\n",
    "from geopy.distance import great_circle as gc\n",
    "import exam_project.self_made_functions as func\n",
    "import folium\n",
    "import streamlit as st\n",
    "import pandas as pd\n",
    "import numpy as np\n",
    "import pydeck as pdk\n",
    "import plotly.express as px"
   ]
  },
  {
   "cell_type": "code",
   "execution_count": 24,
   "outputs": [
    {
     "data": {
      "application/vnd.plotly.v1+json": {
       "data": [
        {
         "coloraxis": "coloraxis",
         "geo": "geo",
         "hovertemplate": "<b>%{hovertext}</b><br><br>iso3=%{location}<br>population=%{z}<extra></extra>",
         "hovertext": [
          "ABW",
          "AFG",
          "AGO",
          "ALB",
          "AND",
          "ARE",
          "ARG",
          "ARM",
          "ASM",
          "ATG",
          "AUS",
          "AUT",
          "AZE",
          "BDI",
          "BEL",
          "BEN",
          "BFA",
          "BGD",
          "BGR",
          "BHR",
          "BHS",
          "BIH",
          "BLR",
          "BLZ",
          "BMU",
          "BOL",
          "BRA",
          "BRB",
          "BRN",
          "BTN",
          "BWA",
          "CAF",
          "CAN",
          "CHE",
          "CHL",
          "CHN",
          "CIV",
          "CMR",
          "COD",
          "COG",
          "COK",
          "COL",
          "COM",
          "CPV",
          "CRI",
          "CUB",
          "CUW",
          "CYM",
          "CYP",
          "CZE",
          "DEU",
          "DJI",
          "DMA",
          "DNK",
          "DOM",
          "DZA",
          "ECU",
          "EGY",
          "ERI",
          "ESP",
          "EST",
          "ETH",
          "FIN",
          "FJI",
          "FLK",
          "FRA",
          "FRO",
          "FSM",
          "GAB",
          "GBR",
          "GEO",
          "GHA",
          "GIB",
          "GIN",
          "GLP",
          "GMB",
          "GNB",
          "GNQ",
          "GRC",
          "GRD",
          "GRL",
          "GTM",
          "GUF",
          "GUM",
          "GUY",
          "HKG",
          "HND",
          "HRV",
          "HTI",
          "HUN",
          "IDN",
          "IMN",
          "IND",
          "IRL",
          "IRN",
          "IRQ",
          "ISL",
          "ISR",
          "ITA",
          "JAM",
          "JEY",
          "JOR",
          "JPN",
          "KAZ",
          "KEN",
          "KGZ",
          "KHM",
          "KIR",
          "KNA",
          "KOR",
          "KWT",
          "LAO",
          "LBN",
          "LBR",
          "LBY",
          "LCA",
          "LIE",
          "LKA",
          "LSO",
          "LTU",
          "LUX",
          "LVA",
          "MAC",
          "MAR",
          "MCO",
          "MDA",
          "MDG",
          "MDV",
          "MEX",
          "MHL",
          "MKD",
          "MLI",
          "MLT",
          "MMR",
          "MNE",
          "MNG",
          "MNP",
          "MOZ",
          "MRT",
          "MTQ",
          "MUS",
          "MWI",
          "MYS",
          "MYT",
          "NAM",
          "NCL",
          "NER",
          "NGA",
          "NIC",
          "NLD",
          "NOR",
          "NPL",
          "NZL",
          "OMN",
          "PAK",
          "PAN",
          "PER",
          "PHL",
          "PLW",
          "PNG",
          "POL",
          "PRI",
          "PRK",
          "PRT",
          "PRY",
          "PYF",
          "QAT",
          "REU",
          "ROU",
          "RUS",
          "RWA",
          "SAU",
          "SDN",
          "SEN",
          "SGP",
          "SGS",
          "SHN",
          "SLB",
          "SLE",
          "SLV",
          "SMR",
          "SOM",
          "SRB",
          "SSD",
          "STP",
          "SUR",
          "SVK",
          "SVN",
          "SWE",
          "SWZ",
          "SYC",
          "SYR",
          "TCA",
          "TCD",
          "TGO",
          "THA",
          "TJK",
          "TKM",
          "TLS",
          "TON",
          "TTO",
          "TUN",
          "TUR",
          "TUV",
          "TWN",
          "TZA",
          "UGA",
          "UKR",
          "URY",
          "USA",
          "UZB",
          "VAT",
          "VCT",
          "VEN",
          "VNM",
          "VUT",
          "WLF",
          "WSM",
          "XKS",
          "XWB",
          "YEM",
          "ZAF",
          "ZMB",
          "ZWE"
         ],
         "locations": [
          "ABW",
          "AFG",
          "AGO",
          "ALB",
          "AND",
          "ARE",
          "ARG",
          "ARM",
          "ASM",
          "ATG",
          "AUS",
          "AUT",
          "AZE",
          "BDI",
          "BEL",
          "BEN",
          "BFA",
          "BGD",
          "BGR",
          "BHR",
          "BHS",
          "BIH",
          "BLR",
          "BLZ",
          "BMU",
          "BOL",
          "BRA",
          "BRB",
          "BRN",
          "BTN",
          "BWA",
          "CAF",
          "CAN",
          "CHE",
          "CHL",
          "CHN",
          "CIV",
          "CMR",
          "COD",
          "COG",
          "COK",
          "COL",
          "COM",
          "CPV",
          "CRI",
          "CUB",
          "CUW",
          "CYM",
          "CYP",
          "CZE",
          "DEU",
          "DJI",
          "DMA",
          "DNK",
          "DOM",
          "DZA",
          "ECU",
          "EGY",
          "ERI",
          "ESP",
          "EST",
          "ETH",
          "FIN",
          "FJI",
          "FLK",
          "FRA",
          "FRO",
          "FSM",
          "GAB",
          "GBR",
          "GEO",
          "GHA",
          "GIB",
          "GIN",
          "GLP",
          "GMB",
          "GNB",
          "GNQ",
          "GRC",
          "GRD",
          "GRL",
          "GTM",
          "GUF",
          "GUM",
          "GUY",
          "HKG",
          "HND",
          "HRV",
          "HTI",
          "HUN",
          "IDN",
          "IMN",
          "IND",
          "IRL",
          "IRN",
          "IRQ",
          "ISL",
          "ISR",
          "ITA",
          "JAM",
          "JEY",
          "JOR",
          "JPN",
          "KAZ",
          "KEN",
          "KGZ",
          "KHM",
          "KIR",
          "KNA",
          "KOR",
          "KWT",
          "LAO",
          "LBN",
          "LBR",
          "LBY",
          "LCA",
          "LIE",
          "LKA",
          "LSO",
          "LTU",
          "LUX",
          "LVA",
          "MAC",
          "MAR",
          "MCO",
          "MDA",
          "MDG",
          "MDV",
          "MEX",
          "MHL",
          "MKD",
          "MLI",
          "MLT",
          "MMR",
          "MNE",
          "MNG",
          "MNP",
          "MOZ",
          "MRT",
          "MTQ",
          "MUS",
          "MWI",
          "MYS",
          "MYT",
          "NAM",
          "NCL",
          "NER",
          "NGA",
          "NIC",
          "NLD",
          "NOR",
          "NPL",
          "NZL",
          "OMN",
          "PAK",
          "PAN",
          "PER",
          "PHL",
          "PLW",
          "PNG",
          "POL",
          "PRI",
          "PRK",
          "PRT",
          "PRY",
          "PYF",
          "QAT",
          "REU",
          "ROU",
          "RUS",
          "RWA",
          "SAU",
          "SDN",
          "SEN",
          "SGP",
          "SGS",
          "SHN",
          "SLB",
          "SLE",
          "SLV",
          "SMR",
          "SOM",
          "SRB",
          "SSD",
          "STP",
          "SUR",
          "SVK",
          "SVN",
          "SWE",
          "SWZ",
          "SYC",
          "SYR",
          "TCA",
          "TCD",
          "TGO",
          "THA",
          "TJK",
          "TKM",
          "TLS",
          "TON",
          "TTO",
          "TUN",
          "TUR",
          "TUV",
          "TWN",
          "TZA",
          "UGA",
          "UKR",
          "URY",
          "USA",
          "UZB",
          "VAT",
          "VCT",
          "VEN",
          "VNM",
          "VUT",
          "WLF",
          "WSM",
          "XKS",
          "XWB",
          "YEM",
          "ZAF",
          "ZMB",
          "ZWE"
         ],
         "name": "",
         "z": [
          34980.0,
          7474525.0,
          1.1609969E7,
          1691769.0,
          22151.0,
          6235798.0,
          3.6192503298E7,
          1747029.0,
          12576.0,
          21926.0,
          2.3563278E7,
          4446483.0,
          4471589.0,
          898678.0,
          3639342.0,
          1928328.0,
          2809260.0,
          2.3288987E7,
          5654453.0,
          325174.0,
          306066.0,
          1583331.0,
          6606289.0,
          144057.0,
          52320.0,
          9579010.0,
          1.35416434E8,
          110000.0,
          101349.0,
          129000.0,
          781305.0,
          1389032.0,
          3.7747786E7,
          4004627.0,
          1.3775014E7,
          1.388868247E9,
          8012496.0,
          8327335.0,
          2.7429409E7,
          3069055.0,
          5445.0,
          2.8491631E7,
          157002.0,
          252653.0,
          913445.0,
          7480952.0,
          150000.0,
          27704.0,
          724091.0,
          6506053.0,
          5.8243288E7,
          670959.0,
          16582.0,
          1894253.0,
          6349737.0,
          1.0828214E7,
          8895151.0,
          3.8873354E7,
          1344590.0,
          2.2741191E7,
          846104.0,
          7156734.0,
          4350445.0,
          258527.0,
          2213.0,
          3.8429395E7,
          17990.0,
          6227.0,
          1202076.0,
          7.2555282E7,
          2072042.0,
          6417422.0,
          187083.0,
          3037125.0,
          145818.0,
          309494.0,
          532723.0,
          569917.0,
          4587831.0,
          4315.0,
          46412.0,
          4362464.0,
          119553.0,
          123462.0,
          315724.0,
          7347000.0,
          5324013.0,
          2065222.0,
          3181750.0,
          6406810.0,
          8.5283563E7,
          25000.0,
          2.70170371E8,
          1893782.0,
          4.8493926E7,
          1.8624715E7,
          269489.0,
          6091260.0,
          1.684906E7,
          1418101.0,
          33522.0,
          6057680.0,
          1.48273773E8,
          1.0798797E7,
          1.1135325E7,
          2024060.0,
          3154026.0,
          33907.0,
          13220.0,
          5.8770399E7,
          900367.0,
          1262137.0,
          1588587.0,
          1277948.0,
          4117805.0,
          91660.0,
          46508.0,
          2259322.0,
          606980.0,
          1868972.0,
          194462.0,
          1384350.0,
          568700.0,
          1.6986585E7,
          36371.0,
          1707469.0,
          4105156.0,
          133019.0,
          1.03464676789E8,
          25400.0,
          1498142.0,
          3283446.0,
          47579.0,
          1.2306878E7,
          319993.0,
          2019578.0,
          2500.0,
          5498168.0,
          1694656.0,
          253995.0,
          498704.0,
          3333893.0,
          1.9509922E7,
          32057.0,
          801778.0,
          93060.0,
          2303841.0,
          5.477188E7,
          2738421.0,
          5804106.0,
          2460353.0,
          3541383.0,
          4692723.0,
          2229298.0,
          5.6952881E7,
          1634277.0,
          2.1273383E7,
          6.2547674E7,
          15770.0,
          853092.0,
          1.553426E7,
          1540117.0,
          1.0812978E7,
          8318471.0,
          3443900.0,
          131695.0,
          1312947.0,
          225357.0,
          9285451.0,
          1.05990872E8,
          1545603.0,
          2.2327128E7,
          1.5752339E7,
          2632879.0,
          5745000.0,
          99.0,
          0.0,
          91227.0,
          1489035.0,
          2063848.0,
          4040.0,
          2978151.0,
          3628632.0,
          1408282.0,
          62802.0,
          316248.0,
          2906075.0,
          710758.472,
          4057311.0,
          232552.0,
          26450.0,
          9015544.0,
          5801.0,
          2127104.0,
          1218460.0,
          2.3598357E7,
          1515690.0,
          2455609.0,
          299127.0,
          31962.0,
          277741.0,
          3645708.0,
          7.0958511E7,
          6025.0,
          1.6329799E7,
          1.1276325E7,
          3795319.0,
          2.5564289E7,
          2806470.0,
          4.00521452E8,
          8086374.0,
          825.0,
          25418.0,
          2.1621242E7,
          3.7934404E7,
          65539.0,
          0.0,
          37708.0,
          1964079.0,
          0.0,
          6674466.0,
          1.5430094E7,
          4744736.0,
          3661602.0
         ],
         "type": "choropleth"
        }
       ],
       "layout": {
        "template": {
         "data": {
          "histogram2dcontour": [
           {
            "type": "histogram2dcontour",
            "colorbar": {
             "outlinewidth": 0,
             "ticks": ""
            },
            "colorscale": [
             [
              0.0,
              "#0d0887"
             ],
             [
              0.1111111111111111,
              "#46039f"
             ],
             [
              0.2222222222222222,
              "#7201a8"
             ],
             [
              0.3333333333333333,
              "#9c179e"
             ],
             [
              0.4444444444444444,
              "#bd3786"
             ],
             [
              0.5555555555555556,
              "#d8576b"
             ],
             [
              0.6666666666666666,
              "#ed7953"
             ],
             [
              0.7777777777777778,
              "#fb9f3a"
             ],
             [
              0.8888888888888888,
              "#fdca26"
             ],
             [
              1.0,
              "#f0f921"
             ]
            ]
           }
          ],
          "choropleth": [
           {
            "type": "choropleth",
            "colorbar": {
             "outlinewidth": 0,
             "ticks": ""
            }
           }
          ],
          "histogram2d": [
           {
            "type": "histogram2d",
            "colorbar": {
             "outlinewidth": 0,
             "ticks": ""
            },
            "colorscale": [
             [
              0.0,
              "#0d0887"
             ],
             [
              0.1111111111111111,
              "#46039f"
             ],
             [
              0.2222222222222222,
              "#7201a8"
             ],
             [
              0.3333333333333333,
              "#9c179e"
             ],
             [
              0.4444444444444444,
              "#bd3786"
             ],
             [
              0.5555555555555556,
              "#d8576b"
             ],
             [
              0.6666666666666666,
              "#ed7953"
             ],
             [
              0.7777777777777778,
              "#fb9f3a"
             ],
             [
              0.8888888888888888,
              "#fdca26"
             ],
             [
              1.0,
              "#f0f921"
             ]
            ]
           }
          ],
          "heatmap": [
           {
            "type": "heatmap",
            "colorbar": {
             "outlinewidth": 0,
             "ticks": ""
            },
            "colorscale": [
             [
              0.0,
              "#0d0887"
             ],
             [
              0.1111111111111111,
              "#46039f"
             ],
             [
              0.2222222222222222,
              "#7201a8"
             ],
             [
              0.3333333333333333,
              "#9c179e"
             ],
             [
              0.4444444444444444,
              "#bd3786"
             ],
             [
              0.5555555555555556,
              "#d8576b"
             ],
             [
              0.6666666666666666,
              "#ed7953"
             ],
             [
              0.7777777777777778,
              "#fb9f3a"
             ],
             [
              0.8888888888888888,
              "#fdca26"
             ],
             [
              1.0,
              "#f0f921"
             ]
            ]
           }
          ],
          "heatmapgl": [
           {
            "type": "heatmapgl",
            "colorbar": {
             "outlinewidth": 0,
             "ticks": ""
            },
            "colorscale": [
             [
              0.0,
              "#0d0887"
             ],
             [
              0.1111111111111111,
              "#46039f"
             ],
             [
              0.2222222222222222,
              "#7201a8"
             ],
             [
              0.3333333333333333,
              "#9c179e"
             ],
             [
              0.4444444444444444,
              "#bd3786"
             ],
             [
              0.5555555555555556,
              "#d8576b"
             ],
             [
              0.6666666666666666,
              "#ed7953"
             ],
             [
              0.7777777777777778,
              "#fb9f3a"
             ],
             [
              0.8888888888888888,
              "#fdca26"
             ],
             [
              1.0,
              "#f0f921"
             ]
            ]
           }
          ],
          "contourcarpet": [
           {
            "type": "contourcarpet",
            "colorbar": {
             "outlinewidth": 0,
             "ticks": ""
            }
           }
          ],
          "contour": [
           {
            "type": "contour",
            "colorbar": {
             "outlinewidth": 0,
             "ticks": ""
            },
            "colorscale": [
             [
              0.0,
              "#0d0887"
             ],
             [
              0.1111111111111111,
              "#46039f"
             ],
             [
              0.2222222222222222,
              "#7201a8"
             ],
             [
              0.3333333333333333,
              "#9c179e"
             ],
             [
              0.4444444444444444,
              "#bd3786"
             ],
             [
              0.5555555555555556,
              "#d8576b"
             ],
             [
              0.6666666666666666,
              "#ed7953"
             ],
             [
              0.7777777777777778,
              "#fb9f3a"
             ],
             [
              0.8888888888888888,
              "#fdca26"
             ],
             [
              1.0,
              "#f0f921"
             ]
            ]
           }
          ],
          "surface": [
           {
            "type": "surface",
            "colorbar": {
             "outlinewidth": 0,
             "ticks": ""
            },
            "colorscale": [
             [
              0.0,
              "#0d0887"
             ],
             [
              0.1111111111111111,
              "#46039f"
             ],
             [
              0.2222222222222222,
              "#7201a8"
             ],
             [
              0.3333333333333333,
              "#9c179e"
             ],
             [
              0.4444444444444444,
              "#bd3786"
             ],
             [
              0.5555555555555556,
              "#d8576b"
             ],
             [
              0.6666666666666666,
              "#ed7953"
             ],
             [
              0.7777777777777778,
              "#fb9f3a"
             ],
             [
              0.8888888888888888,
              "#fdca26"
             ],
             [
              1.0,
              "#f0f921"
             ]
            ]
           }
          ],
          "mesh3d": [
           {
            "type": "mesh3d",
            "colorbar": {
             "outlinewidth": 0,
             "ticks": ""
            }
           }
          ],
          "scatter": [
           {
            "marker": {
             "line": {
              "color": "#283442"
             }
            },
            "type": "scatter"
           }
          ],
          "parcoords": [
           {
            "type": "parcoords",
            "line": {
             "colorbar": {
              "outlinewidth": 0,
              "ticks": ""
             }
            }
           }
          ],
          "scatterpolargl": [
           {
            "type": "scatterpolargl",
            "marker": {
             "colorbar": {
              "outlinewidth": 0,
              "ticks": ""
             }
            }
           }
          ],
          "bar": [
           {
            "error_x": {
             "color": "#f2f5fa"
            },
            "error_y": {
             "color": "#f2f5fa"
            },
            "marker": {
             "line": {
              "color": "rgb(17,17,17)",
              "width": 0.5
             },
             "pattern": {
              "fillmode": "overlay",
              "size": 10,
              "solidity": 0.2
             }
            },
            "type": "bar"
           }
          ],
          "scattergeo": [
           {
            "type": "scattergeo",
            "marker": {
             "colorbar": {
              "outlinewidth": 0,
              "ticks": ""
             }
            }
           }
          ],
          "scatterpolar": [
           {
            "type": "scatterpolar",
            "marker": {
             "colorbar": {
              "outlinewidth": 0,
              "ticks": ""
             }
            }
           }
          ],
          "histogram": [
           {
            "marker": {
             "pattern": {
              "fillmode": "overlay",
              "size": 10,
              "solidity": 0.2
             }
            },
            "type": "histogram"
           }
          ],
          "scattergl": [
           {
            "marker": {
             "line": {
              "color": "#283442"
             }
            },
            "type": "scattergl"
           }
          ],
          "scatter3d": [
           {
            "type": "scatter3d",
            "line": {
             "colorbar": {
              "outlinewidth": 0,
              "ticks": ""
             }
            },
            "marker": {
             "colorbar": {
              "outlinewidth": 0,
              "ticks": ""
             }
            }
           }
          ],
          "scattermapbox": [
           {
            "type": "scattermapbox",
            "marker": {
             "colorbar": {
              "outlinewidth": 0,
              "ticks": ""
             }
            }
           }
          ],
          "scatterternary": [
           {
            "type": "scatterternary",
            "marker": {
             "colorbar": {
              "outlinewidth": 0,
              "ticks": ""
             }
            }
           }
          ],
          "scattercarpet": [
           {
            "type": "scattercarpet",
            "marker": {
             "colorbar": {
              "outlinewidth": 0,
              "ticks": ""
             }
            }
           }
          ],
          "carpet": [
           {
            "aaxis": {
             "endlinecolor": "#A2B1C6",
             "gridcolor": "#506784",
             "linecolor": "#506784",
             "minorgridcolor": "#506784",
             "startlinecolor": "#A2B1C6"
            },
            "baxis": {
             "endlinecolor": "#A2B1C6",
             "gridcolor": "#506784",
             "linecolor": "#506784",
             "minorgridcolor": "#506784",
             "startlinecolor": "#A2B1C6"
            },
            "type": "carpet"
           }
          ],
          "table": [
           {
            "cells": {
             "fill": {
              "color": "#506784"
             },
             "line": {
              "color": "rgb(17,17,17)"
             }
            },
            "header": {
             "fill": {
              "color": "#2a3f5f"
             },
             "line": {
              "color": "rgb(17,17,17)"
             }
            },
            "type": "table"
           }
          ],
          "barpolar": [
           {
            "marker": {
             "line": {
              "color": "rgb(17,17,17)",
              "width": 0.5
             },
             "pattern": {
              "fillmode": "overlay",
              "size": 10,
              "solidity": 0.2
             }
            },
            "type": "barpolar"
           }
          ],
          "pie": [
           {
            "automargin": true,
            "type": "pie"
           }
          ]
         },
         "layout": {
          "autotypenumbers": "strict",
          "colorway": [
           "#636efa",
           "#EF553B",
           "#00cc96",
           "#ab63fa",
           "#FFA15A",
           "#19d3f3",
           "#FF6692",
           "#B6E880",
           "#FF97FF",
           "#FECB52"
          ],
          "font": {
           "color": "#f2f5fa"
          },
          "hovermode": "closest",
          "hoverlabel": {
           "align": "left"
          },
          "paper_bgcolor": "rgb(17,17,17)",
          "plot_bgcolor": "rgb(17,17,17)",
          "polar": {
           "bgcolor": "rgb(17,17,17)",
           "angularaxis": {
            "gridcolor": "#506784",
            "linecolor": "#506784",
            "ticks": ""
           },
           "radialaxis": {
            "gridcolor": "#506784",
            "linecolor": "#506784",
            "ticks": ""
           }
          },
          "ternary": {
           "bgcolor": "rgb(17,17,17)",
           "aaxis": {
            "gridcolor": "#506784",
            "linecolor": "#506784",
            "ticks": ""
           },
           "baxis": {
            "gridcolor": "#506784",
            "linecolor": "#506784",
            "ticks": ""
           },
           "caxis": {
            "gridcolor": "#506784",
            "linecolor": "#506784",
            "ticks": ""
           }
          },
          "coloraxis": {
           "colorbar": {
            "outlinewidth": 0,
            "ticks": ""
           }
          },
          "colorscale": {
           "sequential": [
            [
             0.0,
             "#0d0887"
            ],
            [
             0.1111111111111111,
             "#46039f"
            ],
            [
             0.2222222222222222,
             "#7201a8"
            ],
            [
             0.3333333333333333,
             "#9c179e"
            ],
            [
             0.4444444444444444,
             "#bd3786"
            ],
            [
             0.5555555555555556,
             "#d8576b"
            ],
            [
             0.6666666666666666,
             "#ed7953"
            ],
            [
             0.7777777777777778,
             "#fb9f3a"
            ],
            [
             0.8888888888888888,
             "#fdca26"
            ],
            [
             1.0,
             "#f0f921"
            ]
           ],
           "sequentialminus": [
            [
             0.0,
             "#0d0887"
            ],
            [
             0.1111111111111111,
             "#46039f"
            ],
            [
             0.2222222222222222,
             "#7201a8"
            ],
            [
             0.3333333333333333,
             "#9c179e"
            ],
            [
             0.4444444444444444,
             "#bd3786"
            ],
            [
             0.5555555555555556,
             "#d8576b"
            ],
            [
             0.6666666666666666,
             "#ed7953"
            ],
            [
             0.7777777777777778,
             "#fb9f3a"
            ],
            [
             0.8888888888888888,
             "#fdca26"
            ],
            [
             1.0,
             "#f0f921"
            ]
           ],
           "diverging": [
            [
             0,
             "#8e0152"
            ],
            [
             0.1,
             "#c51b7d"
            ],
            [
             0.2,
             "#de77ae"
            ],
            [
             0.3,
             "#f1b6da"
            ],
            [
             0.4,
             "#fde0ef"
            ],
            [
             0.5,
             "#f7f7f7"
            ],
            [
             0.6,
             "#e6f5d0"
            ],
            [
             0.7,
             "#b8e186"
            ],
            [
             0.8,
             "#7fbc41"
            ],
            [
             0.9,
             "#4d9221"
            ],
            [
             1,
             "#276419"
            ]
           ]
          },
          "xaxis": {
           "gridcolor": "#283442",
           "linecolor": "#506784",
           "ticks": "",
           "title": {
            "standoff": 15
           },
           "zerolinecolor": "#283442",
           "automargin": true,
           "zerolinewidth": 2
          },
          "yaxis": {
           "gridcolor": "#283442",
           "linecolor": "#506784",
           "ticks": "",
           "title": {
            "standoff": 15
           },
           "zerolinecolor": "#283442",
           "automargin": true,
           "zerolinewidth": 2
          },
          "scene": {
           "xaxis": {
            "backgroundcolor": "rgb(17,17,17)",
            "gridcolor": "#506784",
            "linecolor": "#506784",
            "showbackground": true,
            "ticks": "",
            "zerolinecolor": "#C8D4E3",
            "gridwidth": 2
           },
           "yaxis": {
            "backgroundcolor": "rgb(17,17,17)",
            "gridcolor": "#506784",
            "linecolor": "#506784",
            "showbackground": true,
            "ticks": "",
            "zerolinecolor": "#C8D4E3",
            "gridwidth": 2
           },
           "zaxis": {
            "backgroundcolor": "rgb(17,17,17)",
            "gridcolor": "#506784",
            "linecolor": "#506784",
            "showbackground": true,
            "ticks": "",
            "zerolinecolor": "#C8D4E3",
            "gridwidth": 2
           }
          },
          "shapedefaults": {
           "line": {
            "color": "#f2f5fa"
           }
          },
          "annotationdefaults": {
           "arrowcolor": "#f2f5fa",
           "arrowhead": 0,
           "arrowwidth": 1
          },
          "geo": {
           "bgcolor": "rgb(17,17,17)",
           "landcolor": "rgb(17,17,17)",
           "subunitcolor": "#506784",
           "showland": true,
           "showlakes": true,
           "lakecolor": "rgb(17,17,17)"
          },
          "title": {
           "x": 0.05
          },
          "updatemenudefaults": {
           "bgcolor": "#506784",
           "borderwidth": 0
          },
          "sliderdefaults": {
           "bgcolor": "#C8D4E3",
           "borderwidth": 1,
           "bordercolor": "rgb(17,17,17)",
           "tickwidth": 0
          },
          "mapbox": {
           "style": "dark"
          }
         }
        },
        "geo": {
         "domain": {
          "x": [
           0.0,
           1.0
          ],
          "y": [
           0.0,
           1.0
          ]
         },
         "projection": {
          "type": "natural earth"
         },
         "center": {}
        },
        "coloraxis": {
         "colorbar": {
          "title": {
           "text": "population"
          }
         },
         "colorscale": [
          [
           0.0,
           "#440154"
          ],
          [
           0.1111111111111111,
           "#482878"
          ],
          [
           0.2222222222222222,
           "#3e4989"
          ],
          [
           0.3333333333333333,
           "#31688e"
          ],
          [
           0.4444444444444444,
           "#26828e"
          ],
          [
           0.5555555555555556,
           "#1f9e89"
          ],
          [
           0.6666666666666666,
           "#35b779"
          ],
          [
           0.7777777777777778,
           "#6ece58"
          ],
          [
           0.8888888888888888,
           "#b5de2b"
          ],
          [
           1.0,
           "#fde725"
          ]
         ],
         "cmin": 0,
         "cmax": 200000000
        },
        "legend": {
         "tracegroupgap": 0
        },
        "title": {
         "text": "Population distribution"
        }
       },
       "config": {
        "plotlyServerURL": "https://plot.ly"
       }
      },
      "text/html": "<div>                            <div id=\"0816459f-8a95-4ff4-9bf1-db9ff6970cf3\" class=\"plotly-graph-div\" style=\"height:525px; width:100%;\"></div>            <script type=\"text/javascript\">                require([\"plotly\"], function(Plotly) {                    window.PLOTLYENV=window.PLOTLYENV || {};                                    if (document.getElementById(\"0816459f-8a95-4ff4-9bf1-db9ff6970cf3\")) {                    Plotly.newPlot(                        \"0816459f-8a95-4ff4-9bf1-db9ff6970cf3\",                        [{\"coloraxis\":\"coloraxis\",\"geo\":\"geo\",\"hovertemplate\":\"\\u003cb\\u003e%{hovertext}\\u003c\\u002fb\\u003e\\u003cbr\\u003e\\u003cbr\\u003eiso3=%{location}\\u003cbr\\u003epopulation=%{z}\\u003cextra\\u003e\\u003c\\u002fextra\\u003e\",\"hovertext\":[\"ABW\",\"AFG\",\"AGO\",\"ALB\",\"AND\",\"ARE\",\"ARG\",\"ARM\",\"ASM\",\"ATG\",\"AUS\",\"AUT\",\"AZE\",\"BDI\",\"BEL\",\"BEN\",\"BFA\",\"BGD\",\"BGR\",\"BHR\",\"BHS\",\"BIH\",\"BLR\",\"BLZ\",\"BMU\",\"BOL\",\"BRA\",\"BRB\",\"BRN\",\"BTN\",\"BWA\",\"CAF\",\"CAN\",\"CHE\",\"CHL\",\"CHN\",\"CIV\",\"CMR\",\"COD\",\"COG\",\"COK\",\"COL\",\"COM\",\"CPV\",\"CRI\",\"CUB\",\"CUW\",\"CYM\",\"CYP\",\"CZE\",\"DEU\",\"DJI\",\"DMA\",\"DNK\",\"DOM\",\"DZA\",\"ECU\",\"EGY\",\"ERI\",\"ESP\",\"EST\",\"ETH\",\"FIN\",\"FJI\",\"FLK\",\"FRA\",\"FRO\",\"FSM\",\"GAB\",\"GBR\",\"GEO\",\"GHA\",\"GIB\",\"GIN\",\"GLP\",\"GMB\",\"GNB\",\"GNQ\",\"GRC\",\"GRD\",\"GRL\",\"GTM\",\"GUF\",\"GUM\",\"GUY\",\"HKG\",\"HND\",\"HRV\",\"HTI\",\"HUN\",\"IDN\",\"IMN\",\"IND\",\"IRL\",\"IRN\",\"IRQ\",\"ISL\",\"ISR\",\"ITA\",\"JAM\",\"JEY\",\"JOR\",\"JPN\",\"KAZ\",\"KEN\",\"KGZ\",\"KHM\",\"KIR\",\"KNA\",\"KOR\",\"KWT\",\"LAO\",\"LBN\",\"LBR\",\"LBY\",\"LCA\",\"LIE\",\"LKA\",\"LSO\",\"LTU\",\"LUX\",\"LVA\",\"MAC\",\"MAR\",\"MCO\",\"MDA\",\"MDG\",\"MDV\",\"MEX\",\"MHL\",\"MKD\",\"MLI\",\"MLT\",\"MMR\",\"MNE\",\"MNG\",\"MNP\",\"MOZ\",\"MRT\",\"MTQ\",\"MUS\",\"MWI\",\"MYS\",\"MYT\",\"NAM\",\"NCL\",\"NER\",\"NGA\",\"NIC\",\"NLD\",\"NOR\",\"NPL\",\"NZL\",\"OMN\",\"PAK\",\"PAN\",\"PER\",\"PHL\",\"PLW\",\"PNG\",\"POL\",\"PRI\",\"PRK\",\"PRT\",\"PRY\",\"PYF\",\"QAT\",\"REU\",\"ROU\",\"RUS\",\"RWA\",\"SAU\",\"SDN\",\"SEN\",\"SGP\",\"SGS\",\"SHN\",\"SLB\",\"SLE\",\"SLV\",\"SMR\",\"SOM\",\"SRB\",\"SSD\",\"STP\",\"SUR\",\"SVK\",\"SVN\",\"SWE\",\"SWZ\",\"SYC\",\"SYR\",\"TCA\",\"TCD\",\"TGO\",\"THA\",\"TJK\",\"TKM\",\"TLS\",\"TON\",\"TTO\",\"TUN\",\"TUR\",\"TUV\",\"TWN\",\"TZA\",\"UGA\",\"UKR\",\"URY\",\"USA\",\"UZB\",\"VAT\",\"VCT\",\"VEN\",\"VNM\",\"VUT\",\"WLF\",\"WSM\",\"XKS\",\"XWB\",\"YEM\",\"ZAF\",\"ZMB\",\"ZWE\"],\"locations\":[\"ABW\",\"AFG\",\"AGO\",\"ALB\",\"AND\",\"ARE\",\"ARG\",\"ARM\",\"ASM\",\"ATG\",\"AUS\",\"AUT\",\"AZE\",\"BDI\",\"BEL\",\"BEN\",\"BFA\",\"BGD\",\"BGR\",\"BHR\",\"BHS\",\"BIH\",\"BLR\",\"BLZ\",\"BMU\",\"BOL\",\"BRA\",\"BRB\",\"BRN\",\"BTN\",\"BWA\",\"CAF\",\"CAN\",\"CHE\",\"CHL\",\"CHN\",\"CIV\",\"CMR\",\"COD\",\"COG\",\"COK\",\"COL\",\"COM\",\"CPV\",\"CRI\",\"CUB\",\"CUW\",\"CYM\",\"CYP\",\"CZE\",\"DEU\",\"DJI\",\"DMA\",\"DNK\",\"DOM\",\"DZA\",\"ECU\",\"EGY\",\"ERI\",\"ESP\",\"EST\",\"ETH\",\"FIN\",\"FJI\",\"FLK\",\"FRA\",\"FRO\",\"FSM\",\"GAB\",\"GBR\",\"GEO\",\"GHA\",\"GIB\",\"GIN\",\"GLP\",\"GMB\",\"GNB\",\"GNQ\",\"GRC\",\"GRD\",\"GRL\",\"GTM\",\"GUF\",\"GUM\",\"GUY\",\"HKG\",\"HND\",\"HRV\",\"HTI\",\"HUN\",\"IDN\",\"IMN\",\"IND\",\"IRL\",\"IRN\",\"IRQ\",\"ISL\",\"ISR\",\"ITA\",\"JAM\",\"JEY\",\"JOR\",\"JPN\",\"KAZ\",\"KEN\",\"KGZ\",\"KHM\",\"KIR\",\"KNA\",\"KOR\",\"KWT\",\"LAO\",\"LBN\",\"LBR\",\"LBY\",\"LCA\",\"LIE\",\"LKA\",\"LSO\",\"LTU\",\"LUX\",\"LVA\",\"MAC\",\"MAR\",\"MCO\",\"MDA\",\"MDG\",\"MDV\",\"MEX\",\"MHL\",\"MKD\",\"MLI\",\"MLT\",\"MMR\",\"MNE\",\"MNG\",\"MNP\",\"MOZ\",\"MRT\",\"MTQ\",\"MUS\",\"MWI\",\"MYS\",\"MYT\",\"NAM\",\"NCL\",\"NER\",\"NGA\",\"NIC\",\"NLD\",\"NOR\",\"NPL\",\"NZL\",\"OMN\",\"PAK\",\"PAN\",\"PER\",\"PHL\",\"PLW\",\"PNG\",\"POL\",\"PRI\",\"PRK\",\"PRT\",\"PRY\",\"PYF\",\"QAT\",\"REU\",\"ROU\",\"RUS\",\"RWA\",\"SAU\",\"SDN\",\"SEN\",\"SGP\",\"SGS\",\"SHN\",\"SLB\",\"SLE\",\"SLV\",\"SMR\",\"SOM\",\"SRB\",\"SSD\",\"STP\",\"SUR\",\"SVK\",\"SVN\",\"SWE\",\"SWZ\",\"SYC\",\"SYR\",\"TCA\",\"TCD\",\"TGO\",\"THA\",\"TJK\",\"TKM\",\"TLS\",\"TON\",\"TTO\",\"TUN\",\"TUR\",\"TUV\",\"TWN\",\"TZA\",\"UGA\",\"UKR\",\"URY\",\"USA\",\"UZB\",\"VAT\",\"VCT\",\"VEN\",\"VNM\",\"VUT\",\"WLF\",\"WSM\",\"XKS\",\"XWB\",\"YEM\",\"ZAF\",\"ZMB\",\"ZWE\"],\"name\":\"\",\"z\":[34980.0,7474525.0,11609969.0,1691769.0,22151.0,6235798.0,36192503.298,1747029.0,12576.0,21926.0,23563278.0,4446483.0,4471589.0,898678.0,3639342.0,1928328.0,2809260.0,23288987.0,5654453.0,325174.0,306066.0,1583331.0,6606289.0,144057.0,52320.0,9579010.0,135416434.0,110000.0,101349.0,129000.0,781305.0,1389032.0,37747786.0,4004627.0,13775014.0,1388868247.0,8012496.0,8327335.0,27429409.0,3069055.0,5445.0,28491631.0,157002.0,252653.0,913445.0,7480952.0,150000.0,27704.0,724091.0,6506053.0,58243288.0,670959.0,16582.0,1894253.0,6349737.0,10828214.0,8895151.0,38873354.0,1344590.0,22741191.0,846104.0,7156734.0,4350445.0,258527.0,2213.0,38429395.0,17990.0,6227.0,1202076.0,72555282.0,2072042.0,6417422.0,187083.0,3037125.0,145818.0,309494.0,532723.0,569917.0,4587831.0,4315.0,46412.0,4362464.0,119553.0,123462.0,315724.0,7347000.0,5324013.0,2065222.0,3181750.0,6406810.0,85283563.0,25000.0,270170371.0,1893782.0,48493926.0,18624715.0,269489.0,6091260.0,16849060.0,1418101.0,33522.0,6057680.0,148273773.0,10798797.0,11135325.0,2024060.0,3154026.0,33907.0,13220.0,58770399.0,900367.0,1262137.0,1588587.0,1277948.0,4117805.0,91660.0,46508.0,2259322.0,606980.0,1868972.0,194462.0,1384350.0,568700.0,16986585.0,36371.0,1707469.0,4105156.0,133019.0,103464676.789,25400.0,1498142.0,3283446.0,47579.0,12306878.0,319993.0,2019578.0,2500.0,5498168.0,1694656.0,253995.0,498704.0,3333893.0,19509922.0,32057.0,801778.0,93060.0,2303841.0,54771880.0,2738421.0,5804106.0,2460353.0,3541383.0,4692723.0,2229298.0,56952881.0,1634277.0,21273383.0,62547674.0,15770.0,853092.0,15534260.0,1540117.0,10812978.0,8318471.0,3443900.0,131695.0,1312947.0,225357.0,9285451.0,105990872.0,1545603.0,22327128.0,15752339.0,2632879.0,5745000.0,99.0,0.0,91227.0,1489035.0,2063848.0,4040.0,2978151.0,3628632.0,1408282.0,62802.0,316248.0,2906075.0,710758.472,4057311.0,232552.0,26450.0,9015544.0,5801.0,2127104.0,1218460.0,23598357.0,1515690.0,2455609.0,299127.0,31962.0,277741.0,3645708.0,70958511.0,6025.0,16329799.0,11276325.0,3795319.0,25564289.0,2806470.0,400521452.0,8086374.0,825.0,25418.0,21621242.0,37934404.0,65539.0,0.0,37708.0,1964079.0,0.0,6674466.0,15430094.0,4744736.0,3661602.0],\"type\":\"choropleth\"}],                        {\"template\":{\"data\":{\"histogram2dcontour\":[{\"type\":\"histogram2dcontour\",\"colorbar\":{\"outlinewidth\":0,\"ticks\":\"\"},\"colorscale\":[[0.0,\"#0d0887\"],[0.1111111111111111,\"#46039f\"],[0.2222222222222222,\"#7201a8\"],[0.3333333333333333,\"#9c179e\"],[0.4444444444444444,\"#bd3786\"],[0.5555555555555556,\"#d8576b\"],[0.6666666666666666,\"#ed7953\"],[0.7777777777777778,\"#fb9f3a\"],[0.8888888888888888,\"#fdca26\"],[1.0,\"#f0f921\"]]}],\"choropleth\":[{\"type\":\"choropleth\",\"colorbar\":{\"outlinewidth\":0,\"ticks\":\"\"}}],\"histogram2d\":[{\"type\":\"histogram2d\",\"colorbar\":{\"outlinewidth\":0,\"ticks\":\"\"},\"colorscale\":[[0.0,\"#0d0887\"],[0.1111111111111111,\"#46039f\"],[0.2222222222222222,\"#7201a8\"],[0.3333333333333333,\"#9c179e\"],[0.4444444444444444,\"#bd3786\"],[0.5555555555555556,\"#d8576b\"],[0.6666666666666666,\"#ed7953\"],[0.7777777777777778,\"#fb9f3a\"],[0.8888888888888888,\"#fdca26\"],[1.0,\"#f0f921\"]]}],\"heatmap\":[{\"type\":\"heatmap\",\"colorbar\":{\"outlinewidth\":0,\"ticks\":\"\"},\"colorscale\":[[0.0,\"#0d0887\"],[0.1111111111111111,\"#46039f\"],[0.2222222222222222,\"#7201a8\"],[0.3333333333333333,\"#9c179e\"],[0.4444444444444444,\"#bd3786\"],[0.5555555555555556,\"#d8576b\"],[0.6666666666666666,\"#ed7953\"],[0.7777777777777778,\"#fb9f3a\"],[0.8888888888888888,\"#fdca26\"],[1.0,\"#f0f921\"]]}],\"heatmapgl\":[{\"type\":\"heatmapgl\",\"colorbar\":{\"outlinewidth\":0,\"ticks\":\"\"},\"colorscale\":[[0.0,\"#0d0887\"],[0.1111111111111111,\"#46039f\"],[0.2222222222222222,\"#7201a8\"],[0.3333333333333333,\"#9c179e\"],[0.4444444444444444,\"#bd3786\"],[0.5555555555555556,\"#d8576b\"],[0.6666666666666666,\"#ed7953\"],[0.7777777777777778,\"#fb9f3a\"],[0.8888888888888888,\"#fdca26\"],[1.0,\"#f0f921\"]]}],\"contourcarpet\":[{\"type\":\"contourcarpet\",\"colorbar\":{\"outlinewidth\":0,\"ticks\":\"\"}}],\"contour\":[{\"type\":\"contour\",\"colorbar\":{\"outlinewidth\":0,\"ticks\":\"\"},\"colorscale\":[[0.0,\"#0d0887\"],[0.1111111111111111,\"#46039f\"],[0.2222222222222222,\"#7201a8\"],[0.3333333333333333,\"#9c179e\"],[0.4444444444444444,\"#bd3786\"],[0.5555555555555556,\"#d8576b\"],[0.6666666666666666,\"#ed7953\"],[0.7777777777777778,\"#fb9f3a\"],[0.8888888888888888,\"#fdca26\"],[1.0,\"#f0f921\"]]}],\"surface\":[{\"type\":\"surface\",\"colorbar\":{\"outlinewidth\":0,\"ticks\":\"\"},\"colorscale\":[[0.0,\"#0d0887\"],[0.1111111111111111,\"#46039f\"],[0.2222222222222222,\"#7201a8\"],[0.3333333333333333,\"#9c179e\"],[0.4444444444444444,\"#bd3786\"],[0.5555555555555556,\"#d8576b\"],[0.6666666666666666,\"#ed7953\"],[0.7777777777777778,\"#fb9f3a\"],[0.8888888888888888,\"#fdca26\"],[1.0,\"#f0f921\"]]}],\"mesh3d\":[{\"type\":\"mesh3d\",\"colorbar\":{\"outlinewidth\":0,\"ticks\":\"\"}}],\"scatter\":[{\"marker\":{\"line\":{\"color\":\"#283442\"}},\"type\":\"scatter\"}],\"parcoords\":[{\"type\":\"parcoords\",\"line\":{\"colorbar\":{\"outlinewidth\":0,\"ticks\":\"\"}}}],\"scatterpolargl\":[{\"type\":\"scatterpolargl\",\"marker\":{\"colorbar\":{\"outlinewidth\":0,\"ticks\":\"\"}}}],\"bar\":[{\"error_x\":{\"color\":\"#f2f5fa\"},\"error_y\":{\"color\":\"#f2f5fa\"},\"marker\":{\"line\":{\"color\":\"rgb(17,17,17)\",\"width\":0.5},\"pattern\":{\"fillmode\":\"overlay\",\"size\":10,\"solidity\":0.2}},\"type\":\"bar\"}],\"scattergeo\":[{\"type\":\"scattergeo\",\"marker\":{\"colorbar\":{\"outlinewidth\":0,\"ticks\":\"\"}}}],\"scatterpolar\":[{\"type\":\"scatterpolar\",\"marker\":{\"colorbar\":{\"outlinewidth\":0,\"ticks\":\"\"}}}],\"histogram\":[{\"marker\":{\"pattern\":{\"fillmode\":\"overlay\",\"size\":10,\"solidity\":0.2}},\"type\":\"histogram\"}],\"scattergl\":[{\"marker\":{\"line\":{\"color\":\"#283442\"}},\"type\":\"scattergl\"}],\"scatter3d\":[{\"type\":\"scatter3d\",\"line\":{\"colorbar\":{\"outlinewidth\":0,\"ticks\":\"\"}},\"marker\":{\"colorbar\":{\"outlinewidth\":0,\"ticks\":\"\"}}}],\"scattermapbox\":[{\"type\":\"scattermapbox\",\"marker\":{\"colorbar\":{\"outlinewidth\":0,\"ticks\":\"\"}}}],\"scatterternary\":[{\"type\":\"scatterternary\",\"marker\":{\"colorbar\":{\"outlinewidth\":0,\"ticks\":\"\"}}}],\"scattercarpet\":[{\"type\":\"scattercarpet\",\"marker\":{\"colorbar\":{\"outlinewidth\":0,\"ticks\":\"\"}}}],\"carpet\":[{\"aaxis\":{\"endlinecolor\":\"#A2B1C6\",\"gridcolor\":\"#506784\",\"linecolor\":\"#506784\",\"minorgridcolor\":\"#506784\",\"startlinecolor\":\"#A2B1C6\"},\"baxis\":{\"endlinecolor\":\"#A2B1C6\",\"gridcolor\":\"#506784\",\"linecolor\":\"#506784\",\"minorgridcolor\":\"#506784\",\"startlinecolor\":\"#A2B1C6\"},\"type\":\"carpet\"}],\"table\":[{\"cells\":{\"fill\":{\"color\":\"#506784\"},\"line\":{\"color\":\"rgb(17,17,17)\"}},\"header\":{\"fill\":{\"color\":\"#2a3f5f\"},\"line\":{\"color\":\"rgb(17,17,17)\"}},\"type\":\"table\"}],\"barpolar\":[{\"marker\":{\"line\":{\"color\":\"rgb(17,17,17)\",\"width\":0.5},\"pattern\":{\"fillmode\":\"overlay\",\"size\":10,\"solidity\":0.2}},\"type\":\"barpolar\"}],\"pie\":[{\"automargin\":true,\"type\":\"pie\"}]},\"layout\":{\"autotypenumbers\":\"strict\",\"colorway\":[\"#636efa\",\"#EF553B\",\"#00cc96\",\"#ab63fa\",\"#FFA15A\",\"#19d3f3\",\"#FF6692\",\"#B6E880\",\"#FF97FF\",\"#FECB52\"],\"font\":{\"color\":\"#f2f5fa\"},\"hovermode\":\"closest\",\"hoverlabel\":{\"align\":\"left\"},\"paper_bgcolor\":\"rgb(17,17,17)\",\"plot_bgcolor\":\"rgb(17,17,17)\",\"polar\":{\"bgcolor\":\"rgb(17,17,17)\",\"angularaxis\":{\"gridcolor\":\"#506784\",\"linecolor\":\"#506784\",\"ticks\":\"\"},\"radialaxis\":{\"gridcolor\":\"#506784\",\"linecolor\":\"#506784\",\"ticks\":\"\"}},\"ternary\":{\"bgcolor\":\"rgb(17,17,17)\",\"aaxis\":{\"gridcolor\":\"#506784\",\"linecolor\":\"#506784\",\"ticks\":\"\"},\"baxis\":{\"gridcolor\":\"#506784\",\"linecolor\":\"#506784\",\"ticks\":\"\"},\"caxis\":{\"gridcolor\":\"#506784\",\"linecolor\":\"#506784\",\"ticks\":\"\"}},\"coloraxis\":{\"colorbar\":{\"outlinewidth\":0,\"ticks\":\"\"}},\"colorscale\":{\"sequential\":[[0.0,\"#0d0887\"],[0.1111111111111111,\"#46039f\"],[0.2222222222222222,\"#7201a8\"],[0.3333333333333333,\"#9c179e\"],[0.4444444444444444,\"#bd3786\"],[0.5555555555555556,\"#d8576b\"],[0.6666666666666666,\"#ed7953\"],[0.7777777777777778,\"#fb9f3a\"],[0.8888888888888888,\"#fdca26\"],[1.0,\"#f0f921\"]],\"sequentialminus\":[[0.0,\"#0d0887\"],[0.1111111111111111,\"#46039f\"],[0.2222222222222222,\"#7201a8\"],[0.3333333333333333,\"#9c179e\"],[0.4444444444444444,\"#bd3786\"],[0.5555555555555556,\"#d8576b\"],[0.6666666666666666,\"#ed7953\"],[0.7777777777777778,\"#fb9f3a\"],[0.8888888888888888,\"#fdca26\"],[1.0,\"#f0f921\"]],\"diverging\":[[0,\"#8e0152\"],[0.1,\"#c51b7d\"],[0.2,\"#de77ae\"],[0.3,\"#f1b6da\"],[0.4,\"#fde0ef\"],[0.5,\"#f7f7f7\"],[0.6,\"#e6f5d0\"],[0.7,\"#b8e186\"],[0.8,\"#7fbc41\"],[0.9,\"#4d9221\"],[1,\"#276419\"]]},\"xaxis\":{\"gridcolor\":\"#283442\",\"linecolor\":\"#506784\",\"ticks\":\"\",\"title\":{\"standoff\":15},\"zerolinecolor\":\"#283442\",\"automargin\":true,\"zerolinewidth\":2},\"yaxis\":{\"gridcolor\":\"#283442\",\"linecolor\":\"#506784\",\"ticks\":\"\",\"title\":{\"standoff\":15},\"zerolinecolor\":\"#283442\",\"automargin\":true,\"zerolinewidth\":2},\"scene\":{\"xaxis\":{\"backgroundcolor\":\"rgb(17,17,17)\",\"gridcolor\":\"#506784\",\"linecolor\":\"#506784\",\"showbackground\":true,\"ticks\":\"\",\"zerolinecolor\":\"#C8D4E3\",\"gridwidth\":2},\"yaxis\":{\"backgroundcolor\":\"rgb(17,17,17)\",\"gridcolor\":\"#506784\",\"linecolor\":\"#506784\",\"showbackground\":true,\"ticks\":\"\",\"zerolinecolor\":\"#C8D4E3\",\"gridwidth\":2},\"zaxis\":{\"backgroundcolor\":\"rgb(17,17,17)\",\"gridcolor\":\"#506784\",\"linecolor\":\"#506784\",\"showbackground\":true,\"ticks\":\"\",\"zerolinecolor\":\"#C8D4E3\",\"gridwidth\":2}},\"shapedefaults\":{\"line\":{\"color\":\"#f2f5fa\"}},\"annotationdefaults\":{\"arrowcolor\":\"#f2f5fa\",\"arrowhead\":0,\"arrowwidth\":1},\"geo\":{\"bgcolor\":\"rgb(17,17,17)\",\"landcolor\":\"rgb(17,17,17)\",\"subunitcolor\":\"#506784\",\"showland\":true,\"showlakes\":true,\"lakecolor\":\"rgb(17,17,17)\"},\"title\":{\"x\":0.05},\"updatemenudefaults\":{\"bgcolor\":\"#506784\",\"borderwidth\":0},\"sliderdefaults\":{\"bgcolor\":\"#C8D4E3\",\"borderwidth\":1,\"bordercolor\":\"rgb(17,17,17)\",\"tickwidth\":0},\"mapbox\":{\"style\":\"dark\"}}},\"geo\":{\"domain\":{\"x\":[0.0,1.0],\"y\":[0.0,1.0]},\"projection\":{\"type\":\"natural earth\"},\"center\":{}},\"coloraxis\":{\"colorbar\":{\"title\":{\"text\":\"population\"}},\"colorscale\":[[0.0,\"#440154\"],[0.1111111111111111,\"#482878\"],[0.2222222222222222,\"#3e4989\"],[0.3333333333333333,\"#31688e\"],[0.4444444444444444,\"#26828e\"],[0.5555555555555556,\"#1f9e89\"],[0.6666666666666666,\"#35b779\"],[0.7777777777777778,\"#6ece58\"],[0.8888888888888888,\"#b5de2b\"],[1.0,\"#fde725\"]],\"cmin\":0,\"cmax\":200000000},\"legend\":{\"tracegroupgap\":0},\"title\":{\"text\":\"Population distribution\"}},                        {\"responsive\": true}                    ).then(function(){\n                            \nvar gd = document.getElementById('0816459f-8a95-4ff4-9bf1-db9ff6970cf3');\nvar x = new MutationObserver(function (mutations, observer) {{\n        var display = window.getComputedStyle(gd).display;\n        if (!display || display === 'none') {{\n            console.log([gd, 'removed!']);\n            Plotly.purge(gd);\n            observer.disconnect();\n        }}\n}});\n\n// Listen for the removal of the full notebook cells\nvar notebookContainer = gd.closest('#notebook-container');\nif (notebookContainer) {{\n    x.observe(notebookContainer, {childList: true});\n}}\n\n// Listen for the clearing of the current output cell\nvar outputEl = gd.closest('.output');\nif (outputEl) {{\n    x.observe(outputEl, {childList: true});\n}}\n\n                        })                };                });            </script>        </div>"
     },
     "metadata": {},
     "output_type": "display_data"
    }
   ],
   "source": [
    "df = f.groupby('iso3')['population'].sum().reset_index()\n",
    "df\n",
    "fig = px.choropleth(df, \n",
    "                     locations='iso3',\n",
    "                     color='population',\n",
    "                     hover_name='iso3',\n",
    "                     projection='natural earth',\n",
    "                    range_color = (0, 200000000),\n",
    "                     title='Population distribution',\n",
    "                      color_continuous_scale='Viridis')\n",
    "\n",
    "fig.show()"
   ],
   "metadata": {
    "collapsed": false,
    "ExecuteTime": {
     "end_time": "2023-11-17T21:14:20.468840100Z",
     "start_time": "2023-11-17T21:14:20.382565500Z"
    }
   },
   "id": "802b514a58562a69"
  },
  {
   "cell_type": "code",
   "execution_count": 18,
   "outputs": [
    {
     "data": {
      "text/plain": "    iso3  population\n0    ABW     34980.0\n1    AFG   7474525.0\n2    AGO  11609969.0\n3    ALB   1691769.0\n4    AND     22151.0\n..   ...         ...\n219  XWB         0.0\n220  YEM   6674466.0\n221  ZAF  15430094.0\n222  ZMB   4744736.0\n223  ZWE   3661602.0\n\n[224 rows x 2 columns]",
      "text/html": "<div>\n<style scoped>\n    .dataframe tbody tr th:only-of-type {\n        vertical-align: middle;\n    }\n\n    .dataframe tbody tr th {\n        vertical-align: top;\n    }\n\n    .dataframe thead th {\n        text-align: right;\n    }\n</style>\n<table border=\"1\" class=\"dataframe\">\n  <thead>\n    <tr style=\"text-align: right;\">\n      <th></th>\n      <th>iso3</th>\n      <th>population</th>\n    </tr>\n  </thead>\n  <tbody>\n    <tr>\n      <th>0</th>\n      <td>ABW</td>\n      <td>34980.0</td>\n    </tr>\n    <tr>\n      <th>1</th>\n      <td>AFG</td>\n      <td>7474525.0</td>\n    </tr>\n    <tr>\n      <th>2</th>\n      <td>AGO</td>\n      <td>11609969.0</td>\n    </tr>\n    <tr>\n      <th>3</th>\n      <td>ALB</td>\n      <td>1691769.0</td>\n    </tr>\n    <tr>\n      <th>4</th>\n      <td>AND</td>\n      <td>22151.0</td>\n    </tr>\n    <tr>\n      <th>...</th>\n      <td>...</td>\n      <td>...</td>\n    </tr>\n    <tr>\n      <th>219</th>\n      <td>XWB</td>\n      <td>0.0</td>\n    </tr>\n    <tr>\n      <th>220</th>\n      <td>YEM</td>\n      <td>6674466.0</td>\n    </tr>\n    <tr>\n      <th>221</th>\n      <td>ZAF</td>\n      <td>15430094.0</td>\n    </tr>\n    <tr>\n      <th>222</th>\n      <td>ZMB</td>\n      <td>4744736.0</td>\n    </tr>\n    <tr>\n      <th>223</th>\n      <td>ZWE</td>\n      <td>3661602.0</td>\n    </tr>\n  </tbody>\n</table>\n<p>224 rows × 2 columns</p>\n</div>"
     },
     "execution_count": 18,
     "metadata": {},
     "output_type": "execute_result"
    }
   ],
   "source": [
    "df_aggregato = f.groupby('iso3')['population'].sum().reset_index()\n",
    "df_aggregato"
   ],
   "metadata": {
    "collapsed": false,
    "ExecuteTime": {
     "end_time": "2023-11-17T21:09:37.604193900Z",
     "start_time": "2023-11-17T21:09:37.280608Z"
    }
   },
   "id": "615909143f42524c"
  },
  {
   "cell_type": "code",
   "execution_count": 6,
   "id": "d108f9545abdd78f",
   "metadata": {
    "ExecuteTime": {
     "end_time": "2023-11-10T12:09:26.822908500Z",
     "start_time": "2023-11-10T12:09:26.236913500Z"
    }
   },
   "outputs": [
    {
     "data": {
      "text/plain": "['Shibuya', 'Kamirenjaku', 'Kawaguchi']"
     },
     "execution_count": 6,
     "metadata": {},
     "output_type": "execute_result"
    }
   ],
   "source": [
    "import plotly.express as px\n",
    "\n",
    "# Esempio di dati (sostituisci questi dati con il tuo dataset)\n",
    "capitali = [\"Roma\", \"Parigi\", \"Berlino\", \"Londra\", \"Madrid\"]\n",
    "latitudine = [41.9028, 48.8566, 52.5200, 51.5074, 40.4168]\n",
    "longitudine = [12.4964, 2.3522, 13.4050, -0.1278, -3.7038]\n",
    "popolazione = [2873000, 2140526, 3769495, 8787892, 3334730]\n",
    "\n",
    "# Creazione del grafico a dispersione con Plotly\n",
    "fig = px.scatter_geo(\n",
    "    lat=latitudine,\n",
    "    lon=longitudine,\n",
    "    text=capitali,\n",
    "    size=popolazione,\n",
    "    hover_name=capitali,\n",
    "    \n",
    "    title=\"Posizione delle Capitali Europee e Popolazione\"\n",
    ")\n",
    "\n",
    "# Aggiungi un'etichetta per la barra dei colori\n",
    "fig.update_traces(marker=dict(color=popolazione, colorbar_title=\"Popolazione\"))\n",
    "\n",
    "# Mostra il grafico interattivo\n",
    "fig.show()\n"
   ]
  },
  {
   "cell_type": "code",
   "execution_count": 6,
   "outputs": [
    {
     "data": {
      "application/vnd.plotly.v1+json": {
       "data": [
        {
         "lat": [
          40.748817,
          48.856613,
          35.689487
         ],
         "line": {
          "color": "blue",
          "width": 2
         },
         "locationmode": "ISO-3",
         "lon": [
          -73.985427,
          2.352222,
          139.691706
         ],
         "marker": {
          "color": "red",
          "size": 8
         },
         "mode": "lines+markers",
         "type": "scattergeo"
        }
       ],
       "layout": {
        "geo": {
         "countrycolor": "rgb(204, 204, 204)",
         "landcolor": "rgb(243, 243, 243)",
         "projection": {
          "type": "orthographic"
         },
         "showland": true
        },
        "template": {
         "data": {
          "histogram2dcontour": [
           {
            "type": "histogram2dcontour",
            "colorbar": {
             "outlinewidth": 0,
             "ticks": ""
            },
            "colorscale": [
             [
              0.0,
              "#0d0887"
             ],
             [
              0.1111111111111111,
              "#46039f"
             ],
             [
              0.2222222222222222,
              "#7201a8"
             ],
             [
              0.3333333333333333,
              "#9c179e"
             ],
             [
              0.4444444444444444,
              "#bd3786"
             ],
             [
              0.5555555555555556,
              "#d8576b"
             ],
             [
              0.6666666666666666,
              "#ed7953"
             ],
             [
              0.7777777777777778,
              "#fb9f3a"
             ],
             [
              0.8888888888888888,
              "#fdca26"
             ],
             [
              1.0,
              "#f0f921"
             ]
            ]
           }
          ],
          "choropleth": [
           {
            "type": "choropleth",
            "colorbar": {
             "outlinewidth": 0,
             "ticks": ""
            }
           }
          ],
          "histogram2d": [
           {
            "type": "histogram2d",
            "colorbar": {
             "outlinewidth": 0,
             "ticks": ""
            },
            "colorscale": [
             [
              0.0,
              "#0d0887"
             ],
             [
              0.1111111111111111,
              "#46039f"
             ],
             [
              0.2222222222222222,
              "#7201a8"
             ],
             [
              0.3333333333333333,
              "#9c179e"
             ],
             [
              0.4444444444444444,
              "#bd3786"
             ],
             [
              0.5555555555555556,
              "#d8576b"
             ],
             [
              0.6666666666666666,
              "#ed7953"
             ],
             [
              0.7777777777777778,
              "#fb9f3a"
             ],
             [
              0.8888888888888888,
              "#fdca26"
             ],
             [
              1.0,
              "#f0f921"
             ]
            ]
           }
          ],
          "heatmap": [
           {
            "type": "heatmap",
            "colorbar": {
             "outlinewidth": 0,
             "ticks": ""
            },
            "colorscale": [
             [
              0.0,
              "#0d0887"
             ],
             [
              0.1111111111111111,
              "#46039f"
             ],
             [
              0.2222222222222222,
              "#7201a8"
             ],
             [
              0.3333333333333333,
              "#9c179e"
             ],
             [
              0.4444444444444444,
              "#bd3786"
             ],
             [
              0.5555555555555556,
              "#d8576b"
             ],
             [
              0.6666666666666666,
              "#ed7953"
             ],
             [
              0.7777777777777778,
              "#fb9f3a"
             ],
             [
              0.8888888888888888,
              "#fdca26"
             ],
             [
              1.0,
              "#f0f921"
             ]
            ]
           }
          ],
          "heatmapgl": [
           {
            "type": "heatmapgl",
            "colorbar": {
             "outlinewidth": 0,
             "ticks": ""
            },
            "colorscale": [
             [
              0.0,
              "#0d0887"
             ],
             [
              0.1111111111111111,
              "#46039f"
             ],
             [
              0.2222222222222222,
              "#7201a8"
             ],
             [
              0.3333333333333333,
              "#9c179e"
             ],
             [
              0.4444444444444444,
              "#bd3786"
             ],
             [
              0.5555555555555556,
              "#d8576b"
             ],
             [
              0.6666666666666666,
              "#ed7953"
             ],
             [
              0.7777777777777778,
              "#fb9f3a"
             ],
             [
              0.8888888888888888,
              "#fdca26"
             ],
             [
              1.0,
              "#f0f921"
             ]
            ]
           }
          ],
          "contourcarpet": [
           {
            "type": "contourcarpet",
            "colorbar": {
             "outlinewidth": 0,
             "ticks": ""
            }
           }
          ],
          "contour": [
           {
            "type": "contour",
            "colorbar": {
             "outlinewidth": 0,
             "ticks": ""
            },
            "colorscale": [
             [
              0.0,
              "#0d0887"
             ],
             [
              0.1111111111111111,
              "#46039f"
             ],
             [
              0.2222222222222222,
              "#7201a8"
             ],
             [
              0.3333333333333333,
              "#9c179e"
             ],
             [
              0.4444444444444444,
              "#bd3786"
             ],
             [
              0.5555555555555556,
              "#d8576b"
             ],
             [
              0.6666666666666666,
              "#ed7953"
             ],
             [
              0.7777777777777778,
              "#fb9f3a"
             ],
             [
              0.8888888888888888,
              "#fdca26"
             ],
             [
              1.0,
              "#f0f921"
             ]
            ]
           }
          ],
          "surface": [
           {
            "type": "surface",
            "colorbar": {
             "outlinewidth": 0,
             "ticks": ""
            },
            "colorscale": [
             [
              0.0,
              "#0d0887"
             ],
             [
              0.1111111111111111,
              "#46039f"
             ],
             [
              0.2222222222222222,
              "#7201a8"
             ],
             [
              0.3333333333333333,
              "#9c179e"
             ],
             [
              0.4444444444444444,
              "#bd3786"
             ],
             [
              0.5555555555555556,
              "#d8576b"
             ],
             [
              0.6666666666666666,
              "#ed7953"
             ],
             [
              0.7777777777777778,
              "#fb9f3a"
             ],
             [
              0.8888888888888888,
              "#fdca26"
             ],
             [
              1.0,
              "#f0f921"
             ]
            ]
           }
          ],
          "mesh3d": [
           {
            "type": "mesh3d",
            "colorbar": {
             "outlinewidth": 0,
             "ticks": ""
            }
           }
          ],
          "scatter": [
           {
            "marker": {
             "line": {
              "color": "#283442"
             }
            },
            "type": "scatter"
           }
          ],
          "parcoords": [
           {
            "type": "parcoords",
            "line": {
             "colorbar": {
              "outlinewidth": 0,
              "ticks": ""
             }
            }
           }
          ],
          "scatterpolargl": [
           {
            "type": "scatterpolargl",
            "marker": {
             "colorbar": {
              "outlinewidth": 0,
              "ticks": ""
             }
            }
           }
          ],
          "bar": [
           {
            "error_x": {
             "color": "#f2f5fa"
            },
            "error_y": {
             "color": "#f2f5fa"
            },
            "marker": {
             "line": {
              "color": "rgb(17,17,17)",
              "width": 0.5
             },
             "pattern": {
              "fillmode": "overlay",
              "size": 10,
              "solidity": 0.2
             }
            },
            "type": "bar"
           }
          ],
          "scattergeo": [
           {
            "type": "scattergeo",
            "marker": {
             "colorbar": {
              "outlinewidth": 0,
              "ticks": ""
             }
            }
           }
          ],
          "scatterpolar": [
           {
            "type": "scatterpolar",
            "marker": {
             "colorbar": {
              "outlinewidth": 0,
              "ticks": ""
             }
            }
           }
          ],
          "histogram": [
           {
            "marker": {
             "pattern": {
              "fillmode": "overlay",
              "size": 10,
              "solidity": 0.2
             }
            },
            "type": "histogram"
           }
          ],
          "scattergl": [
           {
            "marker": {
             "line": {
              "color": "#283442"
             }
            },
            "type": "scattergl"
           }
          ],
          "scatter3d": [
           {
            "type": "scatter3d",
            "line": {
             "colorbar": {
              "outlinewidth": 0,
              "ticks": ""
             }
            },
            "marker": {
             "colorbar": {
              "outlinewidth": 0,
              "ticks": ""
             }
            }
           }
          ],
          "scattermapbox": [
           {
            "type": "scattermapbox",
            "marker": {
             "colorbar": {
              "outlinewidth": 0,
              "ticks": ""
             }
            }
           }
          ],
          "scatterternary": [
           {
            "type": "scatterternary",
            "marker": {
             "colorbar": {
              "outlinewidth": 0,
              "ticks": ""
             }
            }
           }
          ],
          "scattercarpet": [
           {
            "type": "scattercarpet",
            "marker": {
             "colorbar": {
              "outlinewidth": 0,
              "ticks": ""
             }
            }
           }
          ],
          "carpet": [
           {
            "aaxis": {
             "endlinecolor": "#A2B1C6",
             "gridcolor": "#506784",
             "linecolor": "#506784",
             "minorgridcolor": "#506784",
             "startlinecolor": "#A2B1C6"
            },
            "baxis": {
             "endlinecolor": "#A2B1C6",
             "gridcolor": "#506784",
             "linecolor": "#506784",
             "minorgridcolor": "#506784",
             "startlinecolor": "#A2B1C6"
            },
            "type": "carpet"
           }
          ],
          "table": [
           {
            "cells": {
             "fill": {
              "color": "#506784"
             },
             "line": {
              "color": "rgb(17,17,17)"
             }
            },
            "header": {
             "fill": {
              "color": "#2a3f5f"
             },
             "line": {
              "color": "rgb(17,17,17)"
             }
            },
            "type": "table"
           }
          ],
          "barpolar": [
           {
            "marker": {
             "line": {
              "color": "rgb(17,17,17)",
              "width": 0.5
             },
             "pattern": {
              "fillmode": "overlay",
              "size": 10,
              "solidity": 0.2
             }
            },
            "type": "barpolar"
           }
          ],
          "pie": [
           {
            "automargin": true,
            "type": "pie"
           }
          ]
         },
         "layout": {
          "autotypenumbers": "strict",
          "colorway": [
           "#636efa",
           "#EF553B",
           "#00cc96",
           "#ab63fa",
           "#FFA15A",
           "#19d3f3",
           "#FF6692",
           "#B6E880",
           "#FF97FF",
           "#FECB52"
          ],
          "font": {
           "color": "#f2f5fa"
          },
          "hovermode": "closest",
          "hoverlabel": {
           "align": "left"
          },
          "paper_bgcolor": "rgb(17,17,17)",
          "plot_bgcolor": "rgb(17,17,17)",
          "polar": {
           "bgcolor": "rgb(17,17,17)",
           "angularaxis": {
            "gridcolor": "#506784",
            "linecolor": "#506784",
            "ticks": ""
           },
           "radialaxis": {
            "gridcolor": "#506784",
            "linecolor": "#506784",
            "ticks": ""
           }
          },
          "ternary": {
           "bgcolor": "rgb(17,17,17)",
           "aaxis": {
            "gridcolor": "#506784",
            "linecolor": "#506784",
            "ticks": ""
           },
           "baxis": {
            "gridcolor": "#506784",
            "linecolor": "#506784",
            "ticks": ""
           },
           "caxis": {
            "gridcolor": "#506784",
            "linecolor": "#506784",
            "ticks": ""
           }
          },
          "coloraxis": {
           "colorbar": {
            "outlinewidth": 0,
            "ticks": ""
           }
          },
          "colorscale": {
           "sequential": [
            [
             0.0,
             "#0d0887"
            ],
            [
             0.1111111111111111,
             "#46039f"
            ],
            [
             0.2222222222222222,
             "#7201a8"
            ],
            [
             0.3333333333333333,
             "#9c179e"
            ],
            [
             0.4444444444444444,
             "#bd3786"
            ],
            [
             0.5555555555555556,
             "#d8576b"
            ],
            [
             0.6666666666666666,
             "#ed7953"
            ],
            [
             0.7777777777777778,
             "#fb9f3a"
            ],
            [
             0.8888888888888888,
             "#fdca26"
            ],
            [
             1.0,
             "#f0f921"
            ]
           ],
           "sequentialminus": [
            [
             0.0,
             "#0d0887"
            ],
            [
             0.1111111111111111,
             "#46039f"
            ],
            [
             0.2222222222222222,
             "#7201a8"
            ],
            [
             0.3333333333333333,
             "#9c179e"
            ],
            [
             0.4444444444444444,
             "#bd3786"
            ],
            [
             0.5555555555555556,
             "#d8576b"
            ],
            [
             0.6666666666666666,
             "#ed7953"
            ],
            [
             0.7777777777777778,
             "#fb9f3a"
            ],
            [
             0.8888888888888888,
             "#fdca26"
            ],
            [
             1.0,
             "#f0f921"
            ]
           ],
           "diverging": [
            [
             0,
             "#8e0152"
            ],
            [
             0.1,
             "#c51b7d"
            ],
            [
             0.2,
             "#de77ae"
            ],
            [
             0.3,
             "#f1b6da"
            ],
            [
             0.4,
             "#fde0ef"
            ],
            [
             0.5,
             "#f7f7f7"
            ],
            [
             0.6,
             "#e6f5d0"
            ],
            [
             0.7,
             "#b8e186"
            ],
            [
             0.8,
             "#7fbc41"
            ],
            [
             0.9,
             "#4d9221"
            ],
            [
             1,
             "#276419"
            ]
           ]
          },
          "xaxis": {
           "gridcolor": "#283442",
           "linecolor": "#506784",
           "ticks": "",
           "title": {
            "standoff": 15
           },
           "zerolinecolor": "#283442",
           "automargin": true,
           "zerolinewidth": 2
          },
          "yaxis": {
           "gridcolor": "#283442",
           "linecolor": "#506784",
           "ticks": "",
           "title": {
            "standoff": 15
           },
           "zerolinecolor": "#283442",
           "automargin": true,
           "zerolinewidth": 2
          },
          "scene": {
           "xaxis": {
            "backgroundcolor": "rgb(17,17,17)",
            "gridcolor": "#506784",
            "linecolor": "#506784",
            "showbackground": true,
            "ticks": "",
            "zerolinecolor": "#C8D4E3",
            "gridwidth": 2
           },
           "yaxis": {
            "backgroundcolor": "rgb(17,17,17)",
            "gridcolor": "#506784",
            "linecolor": "#506784",
            "showbackground": true,
            "ticks": "",
            "zerolinecolor": "#C8D4E3",
            "gridwidth": 2
           },
           "zaxis": {
            "backgroundcolor": "rgb(17,17,17)",
            "gridcolor": "#506784",
            "linecolor": "#506784",
            "showbackground": true,
            "ticks": "",
            "zerolinecolor": "#C8D4E3",
            "gridwidth": 2
           }
          },
          "shapedefaults": {
           "line": {
            "color": "#f2f5fa"
           }
          },
          "annotationdefaults": {
           "arrowcolor": "#f2f5fa",
           "arrowhead": 0,
           "arrowwidth": 1
          },
          "geo": {
           "bgcolor": "rgb(17,17,17)",
           "landcolor": "rgb(17,17,17)",
           "subunitcolor": "#506784",
           "showland": true,
           "showlakes": true,
           "lakecolor": "rgb(17,17,17)"
          },
          "title": {
           "x": 0.05
          },
          "updatemenudefaults": {
           "bgcolor": "#506784",
           "borderwidth": 0
          },
          "sliderdefaults": {
           "bgcolor": "#C8D4E3",
           "borderwidth": 1,
           "bordercolor": "rgb(17,17,17)",
           "tickwidth": 0
          },
          "mapbox": {
           "style": "dark"
          }
         }
        }
       },
       "config": {
        "plotlyServerURL": "https://plot.ly"
       }
      },
      "text/html": "<div>                            <div id=\"8df9cc24-9150-44b3-9f2d-4264b60f7bfb\" class=\"plotly-graph-div\" style=\"height:525px; width:100%;\"></div>            <script type=\"text/javascript\">                require([\"plotly\"], function(Plotly) {                    window.PLOTLYENV=window.PLOTLYENV || {};                                    if (document.getElementById(\"8df9cc24-9150-44b3-9f2d-4264b60f7bfb\")) {                    Plotly.newPlot(                        \"8df9cc24-9150-44b3-9f2d-4264b60f7bfb\",                        [{\"lat\":[40.748817,48.856613,35.689487],\"line\":{\"color\":\"blue\",\"width\":2},\"locationmode\":\"ISO-3\",\"lon\":[-73.985427,2.352222,139.691706],\"marker\":{\"color\":\"red\",\"size\":8},\"mode\":\"lines+markers\",\"type\":\"scattergeo\"}],                        {\"geo\":{\"countrycolor\":\"rgb(204, 204, 204)\",\"landcolor\":\"rgb(243, 243, 243)\",\"projection\":{\"type\":\"orthographic\"},\"showland\":true},\"template\":{\"data\":{\"histogram2dcontour\":[{\"type\":\"histogram2dcontour\",\"colorbar\":{\"outlinewidth\":0,\"ticks\":\"\"},\"colorscale\":[[0.0,\"#0d0887\"],[0.1111111111111111,\"#46039f\"],[0.2222222222222222,\"#7201a8\"],[0.3333333333333333,\"#9c179e\"],[0.4444444444444444,\"#bd3786\"],[0.5555555555555556,\"#d8576b\"],[0.6666666666666666,\"#ed7953\"],[0.7777777777777778,\"#fb9f3a\"],[0.8888888888888888,\"#fdca26\"],[1.0,\"#f0f921\"]]}],\"choropleth\":[{\"type\":\"choropleth\",\"colorbar\":{\"outlinewidth\":0,\"ticks\":\"\"}}],\"histogram2d\":[{\"type\":\"histogram2d\",\"colorbar\":{\"outlinewidth\":0,\"ticks\":\"\"},\"colorscale\":[[0.0,\"#0d0887\"],[0.1111111111111111,\"#46039f\"],[0.2222222222222222,\"#7201a8\"],[0.3333333333333333,\"#9c179e\"],[0.4444444444444444,\"#bd3786\"],[0.5555555555555556,\"#d8576b\"],[0.6666666666666666,\"#ed7953\"],[0.7777777777777778,\"#fb9f3a\"],[0.8888888888888888,\"#fdca26\"],[1.0,\"#f0f921\"]]}],\"heatmap\":[{\"type\":\"heatmap\",\"colorbar\":{\"outlinewidth\":0,\"ticks\":\"\"},\"colorscale\":[[0.0,\"#0d0887\"],[0.1111111111111111,\"#46039f\"],[0.2222222222222222,\"#7201a8\"],[0.3333333333333333,\"#9c179e\"],[0.4444444444444444,\"#bd3786\"],[0.5555555555555556,\"#d8576b\"],[0.6666666666666666,\"#ed7953\"],[0.7777777777777778,\"#fb9f3a\"],[0.8888888888888888,\"#fdca26\"],[1.0,\"#f0f921\"]]}],\"heatmapgl\":[{\"type\":\"heatmapgl\",\"colorbar\":{\"outlinewidth\":0,\"ticks\":\"\"},\"colorscale\":[[0.0,\"#0d0887\"],[0.1111111111111111,\"#46039f\"],[0.2222222222222222,\"#7201a8\"],[0.3333333333333333,\"#9c179e\"],[0.4444444444444444,\"#bd3786\"],[0.5555555555555556,\"#d8576b\"],[0.6666666666666666,\"#ed7953\"],[0.7777777777777778,\"#fb9f3a\"],[0.8888888888888888,\"#fdca26\"],[1.0,\"#f0f921\"]]}],\"contourcarpet\":[{\"type\":\"contourcarpet\",\"colorbar\":{\"outlinewidth\":0,\"ticks\":\"\"}}],\"contour\":[{\"type\":\"contour\",\"colorbar\":{\"outlinewidth\":0,\"ticks\":\"\"},\"colorscale\":[[0.0,\"#0d0887\"],[0.1111111111111111,\"#46039f\"],[0.2222222222222222,\"#7201a8\"],[0.3333333333333333,\"#9c179e\"],[0.4444444444444444,\"#bd3786\"],[0.5555555555555556,\"#d8576b\"],[0.6666666666666666,\"#ed7953\"],[0.7777777777777778,\"#fb9f3a\"],[0.8888888888888888,\"#fdca26\"],[1.0,\"#f0f921\"]]}],\"surface\":[{\"type\":\"surface\",\"colorbar\":{\"outlinewidth\":0,\"ticks\":\"\"},\"colorscale\":[[0.0,\"#0d0887\"],[0.1111111111111111,\"#46039f\"],[0.2222222222222222,\"#7201a8\"],[0.3333333333333333,\"#9c179e\"],[0.4444444444444444,\"#bd3786\"],[0.5555555555555556,\"#d8576b\"],[0.6666666666666666,\"#ed7953\"],[0.7777777777777778,\"#fb9f3a\"],[0.8888888888888888,\"#fdca26\"],[1.0,\"#f0f921\"]]}],\"mesh3d\":[{\"type\":\"mesh3d\",\"colorbar\":{\"outlinewidth\":0,\"ticks\":\"\"}}],\"scatter\":[{\"marker\":{\"line\":{\"color\":\"#283442\"}},\"type\":\"scatter\"}],\"parcoords\":[{\"type\":\"parcoords\",\"line\":{\"colorbar\":{\"outlinewidth\":0,\"ticks\":\"\"}}}],\"scatterpolargl\":[{\"type\":\"scatterpolargl\",\"marker\":{\"colorbar\":{\"outlinewidth\":0,\"ticks\":\"\"}}}],\"bar\":[{\"error_x\":{\"color\":\"#f2f5fa\"},\"error_y\":{\"color\":\"#f2f5fa\"},\"marker\":{\"line\":{\"color\":\"rgb(17,17,17)\",\"width\":0.5},\"pattern\":{\"fillmode\":\"overlay\",\"size\":10,\"solidity\":0.2}},\"type\":\"bar\"}],\"scattergeo\":[{\"type\":\"scattergeo\",\"marker\":{\"colorbar\":{\"outlinewidth\":0,\"ticks\":\"\"}}}],\"scatterpolar\":[{\"type\":\"scatterpolar\",\"marker\":{\"colorbar\":{\"outlinewidth\":0,\"ticks\":\"\"}}}],\"histogram\":[{\"marker\":{\"pattern\":{\"fillmode\":\"overlay\",\"size\":10,\"solidity\":0.2}},\"type\":\"histogram\"}],\"scattergl\":[{\"marker\":{\"line\":{\"color\":\"#283442\"}},\"type\":\"scattergl\"}],\"scatter3d\":[{\"type\":\"scatter3d\",\"line\":{\"colorbar\":{\"outlinewidth\":0,\"ticks\":\"\"}},\"marker\":{\"colorbar\":{\"outlinewidth\":0,\"ticks\":\"\"}}}],\"scattermapbox\":[{\"type\":\"scattermapbox\",\"marker\":{\"colorbar\":{\"outlinewidth\":0,\"ticks\":\"\"}}}],\"scatterternary\":[{\"type\":\"scatterternary\",\"marker\":{\"colorbar\":{\"outlinewidth\":0,\"ticks\":\"\"}}}],\"scattercarpet\":[{\"type\":\"scattercarpet\",\"marker\":{\"colorbar\":{\"outlinewidth\":0,\"ticks\":\"\"}}}],\"carpet\":[{\"aaxis\":{\"endlinecolor\":\"#A2B1C6\",\"gridcolor\":\"#506784\",\"linecolor\":\"#506784\",\"minorgridcolor\":\"#506784\",\"startlinecolor\":\"#A2B1C6\"},\"baxis\":{\"endlinecolor\":\"#A2B1C6\",\"gridcolor\":\"#506784\",\"linecolor\":\"#506784\",\"minorgridcolor\":\"#506784\",\"startlinecolor\":\"#A2B1C6\"},\"type\":\"carpet\"}],\"table\":[{\"cells\":{\"fill\":{\"color\":\"#506784\"},\"line\":{\"color\":\"rgb(17,17,17)\"}},\"header\":{\"fill\":{\"color\":\"#2a3f5f\"},\"line\":{\"color\":\"rgb(17,17,17)\"}},\"type\":\"table\"}],\"barpolar\":[{\"marker\":{\"line\":{\"color\":\"rgb(17,17,17)\",\"width\":0.5},\"pattern\":{\"fillmode\":\"overlay\",\"size\":10,\"solidity\":0.2}},\"type\":\"barpolar\"}],\"pie\":[{\"automargin\":true,\"type\":\"pie\"}]},\"layout\":{\"autotypenumbers\":\"strict\",\"colorway\":[\"#636efa\",\"#EF553B\",\"#00cc96\",\"#ab63fa\",\"#FFA15A\",\"#19d3f3\",\"#FF6692\",\"#B6E880\",\"#FF97FF\",\"#FECB52\"],\"font\":{\"color\":\"#f2f5fa\"},\"hovermode\":\"closest\",\"hoverlabel\":{\"align\":\"left\"},\"paper_bgcolor\":\"rgb(17,17,17)\",\"plot_bgcolor\":\"rgb(17,17,17)\",\"polar\":{\"bgcolor\":\"rgb(17,17,17)\",\"angularaxis\":{\"gridcolor\":\"#506784\",\"linecolor\":\"#506784\",\"ticks\":\"\"},\"radialaxis\":{\"gridcolor\":\"#506784\",\"linecolor\":\"#506784\",\"ticks\":\"\"}},\"ternary\":{\"bgcolor\":\"rgb(17,17,17)\",\"aaxis\":{\"gridcolor\":\"#506784\",\"linecolor\":\"#506784\",\"ticks\":\"\"},\"baxis\":{\"gridcolor\":\"#506784\",\"linecolor\":\"#506784\",\"ticks\":\"\"},\"caxis\":{\"gridcolor\":\"#506784\",\"linecolor\":\"#506784\",\"ticks\":\"\"}},\"coloraxis\":{\"colorbar\":{\"outlinewidth\":0,\"ticks\":\"\"}},\"colorscale\":{\"sequential\":[[0.0,\"#0d0887\"],[0.1111111111111111,\"#46039f\"],[0.2222222222222222,\"#7201a8\"],[0.3333333333333333,\"#9c179e\"],[0.4444444444444444,\"#bd3786\"],[0.5555555555555556,\"#d8576b\"],[0.6666666666666666,\"#ed7953\"],[0.7777777777777778,\"#fb9f3a\"],[0.8888888888888888,\"#fdca26\"],[1.0,\"#f0f921\"]],\"sequentialminus\":[[0.0,\"#0d0887\"],[0.1111111111111111,\"#46039f\"],[0.2222222222222222,\"#7201a8\"],[0.3333333333333333,\"#9c179e\"],[0.4444444444444444,\"#bd3786\"],[0.5555555555555556,\"#d8576b\"],[0.6666666666666666,\"#ed7953\"],[0.7777777777777778,\"#fb9f3a\"],[0.8888888888888888,\"#fdca26\"],[1.0,\"#f0f921\"]],\"diverging\":[[0,\"#8e0152\"],[0.1,\"#c51b7d\"],[0.2,\"#de77ae\"],[0.3,\"#f1b6da\"],[0.4,\"#fde0ef\"],[0.5,\"#f7f7f7\"],[0.6,\"#e6f5d0\"],[0.7,\"#b8e186\"],[0.8,\"#7fbc41\"],[0.9,\"#4d9221\"],[1,\"#276419\"]]},\"xaxis\":{\"gridcolor\":\"#283442\",\"linecolor\":\"#506784\",\"ticks\":\"\",\"title\":{\"standoff\":15},\"zerolinecolor\":\"#283442\",\"automargin\":true,\"zerolinewidth\":2},\"yaxis\":{\"gridcolor\":\"#283442\",\"linecolor\":\"#506784\",\"ticks\":\"\",\"title\":{\"standoff\":15},\"zerolinecolor\":\"#283442\",\"automargin\":true,\"zerolinewidth\":2},\"scene\":{\"xaxis\":{\"backgroundcolor\":\"rgb(17,17,17)\",\"gridcolor\":\"#506784\",\"linecolor\":\"#506784\",\"showbackground\":true,\"ticks\":\"\",\"zerolinecolor\":\"#C8D4E3\",\"gridwidth\":2},\"yaxis\":{\"backgroundcolor\":\"rgb(17,17,17)\",\"gridcolor\":\"#506784\",\"linecolor\":\"#506784\",\"showbackground\":true,\"ticks\":\"\",\"zerolinecolor\":\"#C8D4E3\",\"gridwidth\":2},\"zaxis\":{\"backgroundcolor\":\"rgb(17,17,17)\",\"gridcolor\":\"#506784\",\"linecolor\":\"#506784\",\"showbackground\":true,\"ticks\":\"\",\"zerolinecolor\":\"#C8D4E3\",\"gridwidth\":2}},\"shapedefaults\":{\"line\":{\"color\":\"#f2f5fa\"}},\"annotationdefaults\":{\"arrowcolor\":\"#f2f5fa\",\"arrowhead\":0,\"arrowwidth\":1},\"geo\":{\"bgcolor\":\"rgb(17,17,17)\",\"landcolor\":\"rgb(17,17,17)\",\"subunitcolor\":\"#506784\",\"showland\":true,\"showlakes\":true,\"lakecolor\":\"rgb(17,17,17)\"},\"title\":{\"x\":0.05},\"updatemenudefaults\":{\"bgcolor\":\"#506784\",\"borderwidth\":0},\"sliderdefaults\":{\"bgcolor\":\"#C8D4E3\",\"borderwidth\":1,\"bordercolor\":\"rgb(17,17,17)\",\"tickwidth\":0},\"mapbox\":{\"style\":\"dark\"}}}},                        {\"responsive\": true}                    ).then(function(){\n                            \nvar gd = document.getElementById('8df9cc24-9150-44b3-9f2d-4264b60f7bfb');\nvar x = new MutationObserver(function (mutations, observer) {{\n        var display = window.getComputedStyle(gd).display;\n        if (!display || display === 'none') {{\n            console.log([gd, 'removed!']);\n            Plotly.purge(gd);\n            observer.disconnect();\n        }}\n}});\n\n// Listen for the removal of the full notebook cells\nvar notebookContainer = gd.closest('#notebook-container');\nif (notebookContainer) {{\n    x.observe(notebookContainer, {childList: true});\n}}\n\n// Listen for the clearing of the current output cell\nvar outputEl = gd.closest('.output');\nif (outputEl) {{\n    x.observe(outputEl, {childList: true});\n}}\n\n                        })                };                });            </script>        </div>"
     },
     "metadata": {},
     "output_type": "display_data"
    }
   ],
   "source": [
    "import plotly.graph_objects as go\n",
    "\n",
    "# List of coordinates (longitude, latitude)\n",
    "coordinates = [\n",
    "    (-73.985427, 40.748817),  # New York City\n",
    "    (2.352222, 48.856613),   # Paris\n",
    "    (139.691706, 35.689487)  # Tokyo\n",
    "]\n",
    "\n",
    "# Create a path\n",
    "path = go.Scattergeo(\n",
    "    locationmode=\"ISO-3\",\n",
    "    lon=[coord[0] for coord in coordinates],\n",
    "    lat=[coord[1] for coord in coordinates],\n",
    "    mode=\"lines+markers\",\n",
    "    line=dict(width=2, color=\"blue\"),\n",
    "    marker=dict(size=8, color=\"red\")\n",
    ")\n",
    "\n",
    "# Create a layout for the globe with orthographic projection\n",
    "layout = go.Layout(\n",
    "    geo=dict(\n",
    "        showland=True,\n",
    "        landcolor=\"rgb(243, 243, 243)\",\n",
    "        countrycolor=\"rgb(204, 204, 204)\",\n",
    "        projection=dict(type=\"orthographic\")  # Use orthographic projection\n",
    "    )\n",
    ")\n",
    "\n",
    "# Create a figure\n",
    "fig = go.Figure(data=[path], layout=layout)\n",
    "\n",
    "# Show the globe with the path\n",
    "fig.show()\n"
   ],
   "metadata": {
    "collapsed": false,
    "ExecuteTime": {
     "end_time": "2023-11-09T12:46:14.371503300Z",
     "start_time": "2023-11-09T12:46:14.338442300Z"
    }
   },
   "id": "1af728c4dd2156d2"
  },
  {
   "cell_type": "code",
   "execution_count": null,
   "outputs": [],
   "source": [],
   "metadata": {
    "collapsed": false
   },
   "id": "5efae77737a6fedc"
  },
  {
   "cell_type": "code",
   "execution_count": 30,
   "outputs": [
    {
     "name": "stdout",
     "output_type": "stream",
     "text": [
      "User Guide: https://docs.kepler.gl/docs/keplergl-jupyter\n",
      "Map saved to prova2.html!\n"
     ]
    },
    {
     "name": "stderr",
     "output_type": "stream",
     "text": [
      "C:\\Uni\\Coding\\python\\ENV_DIR\\Lib\\site-packages\\jupyter_client\\session.py:721: UserWarning: Message serialization failed with:\n",
      "Out of range float values are not JSON compliant\n",
      "Supporting this message is deprecated in jupyter-client 7, please make sure your message is JSON-compliant\n",
      "  content = self.pack(content)\n"
     ]
    }
   ],
   "source": [],
   "metadata": {
    "collapsed": false,
    "ExecuteTime": {
     "end_time": "2023-11-07T13:22:40.575713100Z",
     "start_time": "2023-11-07T13:22:39.920805200Z"
    }
   },
   "id": "1f283f4e8b02d18"
  },
  {
   "cell_type": "code",
   "execution_count": 23,
   "id": "1f72072ce1a4e924",
   "metadata": {
    "ExecuteTime": {
     "end_time": "2023-11-07T13:05:47.219812300Z",
     "start_time": "2023-11-07T13:05:47.186221200Z"
    }
   },
   "outputs": [
    {
     "data": {
      "application/vnd.jupyter.widget-view+json": {
       "model_id": "1ebae147e28c4595a3961e6a02478721",
       "version_major": 2,
       "version_minor": 0
      },
      "text/plain": [
       "KeplerGl(data={'cities': {'index': [0, 1, 2, 3, 4, 5, 6, 7, 8, 9, 10, 11, 12, 13, 14, 15, 16, 17, 18, 19, 20, …"
      ]
     },
     "metadata": {},
     "output_type": "display_data"
    }
   ],
   "source": [
    "# WKT\n",
    "wkt_str = 'POLYGON ((-74.158491 40.835947, -74.130031 40.819962, -74.148818 40.830916, -74.151923 40.832074, -74.158491 40.835947))'\n",
    "\n",
    "df_w_wkt = pd.DataFrame({\n",
    "    'id': [1],\n",
    "    'wkt_string': [wkt_str]\n",
    "})\n",
    "\n",
    "map.add_data(df_w_wkt, \"df_w_wkt\")\n",
    "map"
   ]
  },
  {
   "cell_type": "code",
   "execution_count": null,
   "id": "c72caaf11a7d2872",
   "metadata": {
    "ExecuteTime": {
     "start_time": "2023-11-09T13:07:23.827601600Z"
    }
   },
   "outputs": [],
   "source": [
    "a = func.east(1380382862)\n",
    "func.map_test(a)"
   ]
  },
  {
   "cell_type": "code",
   "execution_count": 8,
   "outputs": [
    {
     "data": {
      "text/plain": "([38.759, 38.7944], [-9.2199, -9.1053])"
     },
     "execution_count": 8,
     "metadata": {},
     "output_type": "execute_result"
    }
   ],
   "source": [
    "coordinates = []\n",
    "visit = [1620164302,1620849212]\n",
    "for i in range(len(visit)):\n",
    "    coordinates.append(dataset[(dataset['id'] == visit[i])][['lat', 'lng']].values[0])\n",
    "lon=[coord[1] for coord in coordinates]\n",
    "lat=[coord[0] for coord in coordinates]\n",
    "(lat,lon)"
   ],
   "metadata": {
    "collapsed": false,
    "ExecuteTime": {
     "end_time": "2023-11-09T13:00:13.056337400Z",
     "start_time": "2023-11-09T13:00:12.995770700Z"
    }
   },
   "id": "4bec86525f6b74cf"
  },
  {
   "cell_type": "code",
   "execution_count": 4,
   "outputs": [
    {
     "data": {
      "application/vnd.plotly.v1+json": {
       "data": [
        {
         "lat": [
          40.748817,
          48.856613,
          35.689487
         ],
         "line": {
          "color": "blue",
          "width": 2
         },
         "locationmode": "ISO-3",
         "lon": [
          -73.985427,
          2.352222,
          139.691706
         ],
         "marker": {
          "color": "red",
          "size": 8
         },
         "mode": "lines+markers",
         "type": "scattergeo"
        }
       ],
       "layout": {
        "geo": {
         "countrycolor": "rgb(204, 204, 204)",
         "landcolor": "rgb(243, 243, 243)",
         "projection": {
          "type": "orthographic"
         },
         "showland": true
        },
        "template": {
         "data": {
          "histogram2dcontour": [
           {
            "type": "histogram2dcontour",
            "colorbar": {
             "outlinewidth": 0,
             "ticks": ""
            },
            "colorscale": [
             [
              0.0,
              "#0d0887"
             ],
             [
              0.1111111111111111,
              "#46039f"
             ],
             [
              0.2222222222222222,
              "#7201a8"
             ],
             [
              0.3333333333333333,
              "#9c179e"
             ],
             [
              0.4444444444444444,
              "#bd3786"
             ],
             [
              0.5555555555555556,
              "#d8576b"
             ],
             [
              0.6666666666666666,
              "#ed7953"
             ],
             [
              0.7777777777777778,
              "#fb9f3a"
             ],
             [
              0.8888888888888888,
              "#fdca26"
             ],
             [
              1.0,
              "#f0f921"
             ]
            ]
           }
          ],
          "choropleth": [
           {
            "type": "choropleth",
            "colorbar": {
             "outlinewidth": 0,
             "ticks": ""
            }
           }
          ],
          "histogram2d": [
           {
            "type": "histogram2d",
            "colorbar": {
             "outlinewidth": 0,
             "ticks": ""
            },
            "colorscale": [
             [
              0.0,
              "#0d0887"
             ],
             [
              0.1111111111111111,
              "#46039f"
             ],
             [
              0.2222222222222222,
              "#7201a8"
             ],
             [
              0.3333333333333333,
              "#9c179e"
             ],
             [
              0.4444444444444444,
              "#bd3786"
             ],
             [
              0.5555555555555556,
              "#d8576b"
             ],
             [
              0.6666666666666666,
              "#ed7953"
             ],
             [
              0.7777777777777778,
              "#fb9f3a"
             ],
             [
              0.8888888888888888,
              "#fdca26"
             ],
             [
              1.0,
              "#f0f921"
             ]
            ]
           }
          ],
          "heatmap": [
           {
            "type": "heatmap",
            "colorbar": {
             "outlinewidth": 0,
             "ticks": ""
            },
            "colorscale": [
             [
              0.0,
              "#0d0887"
             ],
             [
              0.1111111111111111,
              "#46039f"
             ],
             [
              0.2222222222222222,
              "#7201a8"
             ],
             [
              0.3333333333333333,
              "#9c179e"
             ],
             [
              0.4444444444444444,
              "#bd3786"
             ],
             [
              0.5555555555555556,
              "#d8576b"
             ],
             [
              0.6666666666666666,
              "#ed7953"
             ],
             [
              0.7777777777777778,
              "#fb9f3a"
             ],
             [
              0.8888888888888888,
              "#fdca26"
             ],
             [
              1.0,
              "#f0f921"
             ]
            ]
           }
          ],
          "heatmapgl": [
           {
            "type": "heatmapgl",
            "colorbar": {
             "outlinewidth": 0,
             "ticks": ""
            },
            "colorscale": [
             [
              0.0,
              "#0d0887"
             ],
             [
              0.1111111111111111,
              "#46039f"
             ],
             [
              0.2222222222222222,
              "#7201a8"
             ],
             [
              0.3333333333333333,
              "#9c179e"
             ],
             [
              0.4444444444444444,
              "#bd3786"
             ],
             [
              0.5555555555555556,
              "#d8576b"
             ],
             [
              0.6666666666666666,
              "#ed7953"
             ],
             [
              0.7777777777777778,
              "#fb9f3a"
             ],
             [
              0.8888888888888888,
              "#fdca26"
             ],
             [
              1.0,
              "#f0f921"
             ]
            ]
           }
          ],
          "contourcarpet": [
           {
            "type": "contourcarpet",
            "colorbar": {
             "outlinewidth": 0,
             "ticks": ""
            }
           }
          ],
          "contour": [
           {
            "type": "contour",
            "colorbar": {
             "outlinewidth": 0,
             "ticks": ""
            },
            "colorscale": [
             [
              0.0,
              "#0d0887"
             ],
             [
              0.1111111111111111,
              "#46039f"
             ],
             [
              0.2222222222222222,
              "#7201a8"
             ],
             [
              0.3333333333333333,
              "#9c179e"
             ],
             [
              0.4444444444444444,
              "#bd3786"
             ],
             [
              0.5555555555555556,
              "#d8576b"
             ],
             [
              0.6666666666666666,
              "#ed7953"
             ],
             [
              0.7777777777777778,
              "#fb9f3a"
             ],
             [
              0.8888888888888888,
              "#fdca26"
             ],
             [
              1.0,
              "#f0f921"
             ]
            ]
           }
          ],
          "surface": [
           {
            "type": "surface",
            "colorbar": {
             "outlinewidth": 0,
             "ticks": ""
            },
            "colorscale": [
             [
              0.0,
              "#0d0887"
             ],
             [
              0.1111111111111111,
              "#46039f"
             ],
             [
              0.2222222222222222,
              "#7201a8"
             ],
             [
              0.3333333333333333,
              "#9c179e"
             ],
             [
              0.4444444444444444,
              "#bd3786"
             ],
             [
              0.5555555555555556,
              "#d8576b"
             ],
             [
              0.6666666666666666,
              "#ed7953"
             ],
             [
              0.7777777777777778,
              "#fb9f3a"
             ],
             [
              0.8888888888888888,
              "#fdca26"
             ],
             [
              1.0,
              "#f0f921"
             ]
            ]
           }
          ],
          "mesh3d": [
           {
            "type": "mesh3d",
            "colorbar": {
             "outlinewidth": 0,
             "ticks": ""
            }
           }
          ],
          "scatter": [
           {
            "marker": {
             "line": {
              "color": "#283442"
             }
            },
            "type": "scatter"
           }
          ],
          "parcoords": [
           {
            "type": "parcoords",
            "line": {
             "colorbar": {
              "outlinewidth": 0,
              "ticks": ""
             }
            }
           }
          ],
          "scatterpolargl": [
           {
            "type": "scatterpolargl",
            "marker": {
             "colorbar": {
              "outlinewidth": 0,
              "ticks": ""
             }
            }
           }
          ],
          "bar": [
           {
            "error_x": {
             "color": "#f2f5fa"
            },
            "error_y": {
             "color": "#f2f5fa"
            },
            "marker": {
             "line": {
              "color": "rgb(17,17,17)",
              "width": 0.5
             },
             "pattern": {
              "fillmode": "overlay",
              "size": 10,
              "solidity": 0.2
             }
            },
            "type": "bar"
           }
          ],
          "scattergeo": [
           {
            "type": "scattergeo",
            "marker": {
             "colorbar": {
              "outlinewidth": 0,
              "ticks": ""
             }
            }
           }
          ],
          "scatterpolar": [
           {
            "type": "scatterpolar",
            "marker": {
             "colorbar": {
              "outlinewidth": 0,
              "ticks": ""
             }
            }
           }
          ],
          "histogram": [
           {
            "marker": {
             "pattern": {
              "fillmode": "overlay",
              "size": 10,
              "solidity": 0.2
             }
            },
            "type": "histogram"
           }
          ],
          "scattergl": [
           {
            "marker": {
             "line": {
              "color": "#283442"
             }
            },
            "type": "scattergl"
           }
          ],
          "scatter3d": [
           {
            "type": "scatter3d",
            "line": {
             "colorbar": {
              "outlinewidth": 0,
              "ticks": ""
             }
            },
            "marker": {
             "colorbar": {
              "outlinewidth": 0,
              "ticks": ""
             }
            }
           }
          ],
          "scattermapbox": [
           {
            "type": "scattermapbox",
            "marker": {
             "colorbar": {
              "outlinewidth": 0,
              "ticks": ""
             }
            }
           }
          ],
          "scatterternary": [
           {
            "type": "scatterternary",
            "marker": {
             "colorbar": {
              "outlinewidth": 0,
              "ticks": ""
             }
            }
           }
          ],
          "scattercarpet": [
           {
            "type": "scattercarpet",
            "marker": {
             "colorbar": {
              "outlinewidth": 0,
              "ticks": ""
             }
            }
           }
          ],
          "carpet": [
           {
            "aaxis": {
             "endlinecolor": "#A2B1C6",
             "gridcolor": "#506784",
             "linecolor": "#506784",
             "minorgridcolor": "#506784",
             "startlinecolor": "#A2B1C6"
            },
            "baxis": {
             "endlinecolor": "#A2B1C6",
             "gridcolor": "#506784",
             "linecolor": "#506784",
             "minorgridcolor": "#506784",
             "startlinecolor": "#A2B1C6"
            },
            "type": "carpet"
           }
          ],
          "table": [
           {
            "cells": {
             "fill": {
              "color": "#506784"
             },
             "line": {
              "color": "rgb(17,17,17)"
             }
            },
            "header": {
             "fill": {
              "color": "#2a3f5f"
             },
             "line": {
              "color": "rgb(17,17,17)"
             }
            },
            "type": "table"
           }
          ],
          "barpolar": [
           {
            "marker": {
             "line": {
              "color": "rgb(17,17,17)",
              "width": 0.5
             },
             "pattern": {
              "fillmode": "overlay",
              "size": 10,
              "solidity": 0.2
             }
            },
            "type": "barpolar"
           }
          ],
          "pie": [
           {
            "automargin": true,
            "type": "pie"
           }
          ]
         },
         "layout": {
          "autotypenumbers": "strict",
          "colorway": [
           "#636efa",
           "#EF553B",
           "#00cc96",
           "#ab63fa",
           "#FFA15A",
           "#19d3f3",
           "#FF6692",
           "#B6E880",
           "#FF97FF",
           "#FECB52"
          ],
          "font": {
           "color": "#f2f5fa"
          },
          "hovermode": "closest",
          "hoverlabel": {
           "align": "left"
          },
          "paper_bgcolor": "rgb(17,17,17)",
          "plot_bgcolor": "rgb(17,17,17)",
          "polar": {
           "bgcolor": "rgb(17,17,17)",
           "angularaxis": {
            "gridcolor": "#506784",
            "linecolor": "#506784",
            "ticks": ""
           },
           "radialaxis": {
            "gridcolor": "#506784",
            "linecolor": "#506784",
            "ticks": ""
           }
          },
          "ternary": {
           "bgcolor": "rgb(17,17,17)",
           "aaxis": {
            "gridcolor": "#506784",
            "linecolor": "#506784",
            "ticks": ""
           },
           "baxis": {
            "gridcolor": "#506784",
            "linecolor": "#506784",
            "ticks": ""
           },
           "caxis": {
            "gridcolor": "#506784",
            "linecolor": "#506784",
            "ticks": ""
           }
          },
          "coloraxis": {
           "colorbar": {
            "outlinewidth": 0,
            "ticks": ""
           }
          },
          "colorscale": {
           "sequential": [
            [
             0.0,
             "#0d0887"
            ],
            [
             0.1111111111111111,
             "#46039f"
            ],
            [
             0.2222222222222222,
             "#7201a8"
            ],
            [
             0.3333333333333333,
             "#9c179e"
            ],
            [
             0.4444444444444444,
             "#bd3786"
            ],
            [
             0.5555555555555556,
             "#d8576b"
            ],
            [
             0.6666666666666666,
             "#ed7953"
            ],
            [
             0.7777777777777778,
             "#fb9f3a"
            ],
            [
             0.8888888888888888,
             "#fdca26"
            ],
            [
             1.0,
             "#f0f921"
            ]
           ],
           "sequentialminus": [
            [
             0.0,
             "#0d0887"
            ],
            [
             0.1111111111111111,
             "#46039f"
            ],
            [
             0.2222222222222222,
             "#7201a8"
            ],
            [
             0.3333333333333333,
             "#9c179e"
            ],
            [
             0.4444444444444444,
             "#bd3786"
            ],
            [
             0.5555555555555556,
             "#d8576b"
            ],
            [
             0.6666666666666666,
             "#ed7953"
            ],
            [
             0.7777777777777778,
             "#fb9f3a"
            ],
            [
             0.8888888888888888,
             "#fdca26"
            ],
            [
             1.0,
             "#f0f921"
            ]
           ],
           "diverging": [
            [
             0,
             "#8e0152"
            ],
            [
             0.1,
             "#c51b7d"
            ],
            [
             0.2,
             "#de77ae"
            ],
            [
             0.3,
             "#f1b6da"
            ],
            [
             0.4,
             "#fde0ef"
            ],
            [
             0.5,
             "#f7f7f7"
            ],
            [
             0.6,
             "#e6f5d0"
            ],
            [
             0.7,
             "#b8e186"
            ],
            [
             0.8,
             "#7fbc41"
            ],
            [
             0.9,
             "#4d9221"
            ],
            [
             1,
             "#276419"
            ]
           ]
          },
          "xaxis": {
           "gridcolor": "#283442",
           "linecolor": "#506784",
           "ticks": "",
           "title": {
            "standoff": 15
           },
           "zerolinecolor": "#283442",
           "automargin": true,
           "zerolinewidth": 2
          },
          "yaxis": {
           "gridcolor": "#283442",
           "linecolor": "#506784",
           "ticks": "",
           "title": {
            "standoff": 15
           },
           "zerolinecolor": "#283442",
           "automargin": true,
           "zerolinewidth": 2
          },
          "scene": {
           "xaxis": {
            "backgroundcolor": "rgb(17,17,17)",
            "gridcolor": "#506784",
            "linecolor": "#506784",
            "showbackground": true,
            "ticks": "",
            "zerolinecolor": "#C8D4E3",
            "gridwidth": 2
           },
           "yaxis": {
            "backgroundcolor": "rgb(17,17,17)",
            "gridcolor": "#506784",
            "linecolor": "#506784",
            "showbackground": true,
            "ticks": "",
            "zerolinecolor": "#C8D4E3",
            "gridwidth": 2
           },
           "zaxis": {
            "backgroundcolor": "rgb(17,17,17)",
            "gridcolor": "#506784",
            "linecolor": "#506784",
            "showbackground": true,
            "ticks": "",
            "zerolinecolor": "#C8D4E3",
            "gridwidth": 2
           }
          },
          "shapedefaults": {
           "line": {
            "color": "#f2f5fa"
           }
          },
          "annotationdefaults": {
           "arrowcolor": "#f2f5fa",
           "arrowhead": 0,
           "arrowwidth": 1
          },
          "geo": {
           "bgcolor": "rgb(17,17,17)",
           "landcolor": "rgb(17,17,17)",
           "subunitcolor": "#506784",
           "showland": true,
           "showlakes": true,
           "lakecolor": "rgb(17,17,17)"
          },
          "title": {
           "x": 0.05
          },
          "updatemenudefaults": {
           "bgcolor": "#506784",
           "borderwidth": 0
          },
          "sliderdefaults": {
           "bgcolor": "#C8D4E3",
           "borderwidth": 1,
           "bordercolor": "rgb(17,17,17)",
           "tickwidth": 0
          },
          "mapbox": {
           "style": "dark"
          }
         }
        },
        "margin": {
         "r": 0,
         "t": 0,
         "l": 0,
         "b": 0
        },
        "height": 800
       },
       "config": {
        "plotlyServerURL": "https://plot.ly"
       }
      },
      "text/html": "<div>                            <div id=\"638f47a0-40b9-4959-8bef-f5adb264e80d\" class=\"plotly-graph-div\" style=\"height:800px; width:100%;\"></div>            <script type=\"text/javascript\">                require([\"plotly\"], function(Plotly) {                    window.PLOTLYENV=window.PLOTLYENV || {};                                    if (document.getElementById(\"638f47a0-40b9-4959-8bef-f5adb264e80d\")) {                    Plotly.newPlot(                        \"638f47a0-40b9-4959-8bef-f5adb264e80d\",                        [{\"lat\":[40.748817,48.856613,35.689487],\"line\":{\"color\":\"blue\",\"width\":2},\"locationmode\":\"ISO-3\",\"lon\":[-73.985427,2.352222,139.691706],\"marker\":{\"color\":\"red\",\"size\":8},\"mode\":\"lines+markers\",\"type\":\"scattergeo\"}],                        {\"geo\":{\"countrycolor\":\"rgb(204, 204, 204)\",\"landcolor\":\"rgb(243, 243, 243)\",\"projection\":{\"type\":\"orthographic\"},\"showland\":true},\"template\":{\"data\":{\"histogram2dcontour\":[{\"type\":\"histogram2dcontour\",\"colorbar\":{\"outlinewidth\":0,\"ticks\":\"\"},\"colorscale\":[[0.0,\"#0d0887\"],[0.1111111111111111,\"#46039f\"],[0.2222222222222222,\"#7201a8\"],[0.3333333333333333,\"#9c179e\"],[0.4444444444444444,\"#bd3786\"],[0.5555555555555556,\"#d8576b\"],[0.6666666666666666,\"#ed7953\"],[0.7777777777777778,\"#fb9f3a\"],[0.8888888888888888,\"#fdca26\"],[1.0,\"#f0f921\"]]}],\"choropleth\":[{\"type\":\"choropleth\",\"colorbar\":{\"outlinewidth\":0,\"ticks\":\"\"}}],\"histogram2d\":[{\"type\":\"histogram2d\",\"colorbar\":{\"outlinewidth\":0,\"ticks\":\"\"},\"colorscale\":[[0.0,\"#0d0887\"],[0.1111111111111111,\"#46039f\"],[0.2222222222222222,\"#7201a8\"],[0.3333333333333333,\"#9c179e\"],[0.4444444444444444,\"#bd3786\"],[0.5555555555555556,\"#d8576b\"],[0.6666666666666666,\"#ed7953\"],[0.7777777777777778,\"#fb9f3a\"],[0.8888888888888888,\"#fdca26\"],[1.0,\"#f0f921\"]]}],\"heatmap\":[{\"type\":\"heatmap\",\"colorbar\":{\"outlinewidth\":0,\"ticks\":\"\"},\"colorscale\":[[0.0,\"#0d0887\"],[0.1111111111111111,\"#46039f\"],[0.2222222222222222,\"#7201a8\"],[0.3333333333333333,\"#9c179e\"],[0.4444444444444444,\"#bd3786\"],[0.5555555555555556,\"#d8576b\"],[0.6666666666666666,\"#ed7953\"],[0.7777777777777778,\"#fb9f3a\"],[0.8888888888888888,\"#fdca26\"],[1.0,\"#f0f921\"]]}],\"heatmapgl\":[{\"type\":\"heatmapgl\",\"colorbar\":{\"outlinewidth\":0,\"ticks\":\"\"},\"colorscale\":[[0.0,\"#0d0887\"],[0.1111111111111111,\"#46039f\"],[0.2222222222222222,\"#7201a8\"],[0.3333333333333333,\"#9c179e\"],[0.4444444444444444,\"#bd3786\"],[0.5555555555555556,\"#d8576b\"],[0.6666666666666666,\"#ed7953\"],[0.7777777777777778,\"#fb9f3a\"],[0.8888888888888888,\"#fdca26\"],[1.0,\"#f0f921\"]]}],\"contourcarpet\":[{\"type\":\"contourcarpet\",\"colorbar\":{\"outlinewidth\":0,\"ticks\":\"\"}}],\"contour\":[{\"type\":\"contour\",\"colorbar\":{\"outlinewidth\":0,\"ticks\":\"\"},\"colorscale\":[[0.0,\"#0d0887\"],[0.1111111111111111,\"#46039f\"],[0.2222222222222222,\"#7201a8\"],[0.3333333333333333,\"#9c179e\"],[0.4444444444444444,\"#bd3786\"],[0.5555555555555556,\"#d8576b\"],[0.6666666666666666,\"#ed7953\"],[0.7777777777777778,\"#fb9f3a\"],[0.8888888888888888,\"#fdca26\"],[1.0,\"#f0f921\"]]}],\"surface\":[{\"type\":\"surface\",\"colorbar\":{\"outlinewidth\":0,\"ticks\":\"\"},\"colorscale\":[[0.0,\"#0d0887\"],[0.1111111111111111,\"#46039f\"],[0.2222222222222222,\"#7201a8\"],[0.3333333333333333,\"#9c179e\"],[0.4444444444444444,\"#bd3786\"],[0.5555555555555556,\"#d8576b\"],[0.6666666666666666,\"#ed7953\"],[0.7777777777777778,\"#fb9f3a\"],[0.8888888888888888,\"#fdca26\"],[1.0,\"#f0f921\"]]}],\"mesh3d\":[{\"type\":\"mesh3d\",\"colorbar\":{\"outlinewidth\":0,\"ticks\":\"\"}}],\"scatter\":[{\"marker\":{\"line\":{\"color\":\"#283442\"}},\"type\":\"scatter\"}],\"parcoords\":[{\"type\":\"parcoords\",\"line\":{\"colorbar\":{\"outlinewidth\":0,\"ticks\":\"\"}}}],\"scatterpolargl\":[{\"type\":\"scatterpolargl\",\"marker\":{\"colorbar\":{\"outlinewidth\":0,\"ticks\":\"\"}}}],\"bar\":[{\"error_x\":{\"color\":\"#f2f5fa\"},\"error_y\":{\"color\":\"#f2f5fa\"},\"marker\":{\"line\":{\"color\":\"rgb(17,17,17)\",\"width\":0.5},\"pattern\":{\"fillmode\":\"overlay\",\"size\":10,\"solidity\":0.2}},\"type\":\"bar\"}],\"scattergeo\":[{\"type\":\"scattergeo\",\"marker\":{\"colorbar\":{\"outlinewidth\":0,\"ticks\":\"\"}}}],\"scatterpolar\":[{\"type\":\"scatterpolar\",\"marker\":{\"colorbar\":{\"outlinewidth\":0,\"ticks\":\"\"}}}],\"histogram\":[{\"marker\":{\"pattern\":{\"fillmode\":\"overlay\",\"size\":10,\"solidity\":0.2}},\"type\":\"histogram\"}],\"scattergl\":[{\"marker\":{\"line\":{\"color\":\"#283442\"}},\"type\":\"scattergl\"}],\"scatter3d\":[{\"type\":\"scatter3d\",\"line\":{\"colorbar\":{\"outlinewidth\":0,\"ticks\":\"\"}},\"marker\":{\"colorbar\":{\"outlinewidth\":0,\"ticks\":\"\"}}}],\"scattermapbox\":[{\"type\":\"scattermapbox\",\"marker\":{\"colorbar\":{\"outlinewidth\":0,\"ticks\":\"\"}}}],\"scatterternary\":[{\"type\":\"scatterternary\",\"marker\":{\"colorbar\":{\"outlinewidth\":0,\"ticks\":\"\"}}}],\"scattercarpet\":[{\"type\":\"scattercarpet\",\"marker\":{\"colorbar\":{\"outlinewidth\":0,\"ticks\":\"\"}}}],\"carpet\":[{\"aaxis\":{\"endlinecolor\":\"#A2B1C6\",\"gridcolor\":\"#506784\",\"linecolor\":\"#506784\",\"minorgridcolor\":\"#506784\",\"startlinecolor\":\"#A2B1C6\"},\"baxis\":{\"endlinecolor\":\"#A2B1C6\",\"gridcolor\":\"#506784\",\"linecolor\":\"#506784\",\"minorgridcolor\":\"#506784\",\"startlinecolor\":\"#A2B1C6\"},\"type\":\"carpet\"}],\"table\":[{\"cells\":{\"fill\":{\"color\":\"#506784\"},\"line\":{\"color\":\"rgb(17,17,17)\"}},\"header\":{\"fill\":{\"color\":\"#2a3f5f\"},\"line\":{\"color\":\"rgb(17,17,17)\"}},\"type\":\"table\"}],\"barpolar\":[{\"marker\":{\"line\":{\"color\":\"rgb(17,17,17)\",\"width\":0.5},\"pattern\":{\"fillmode\":\"overlay\",\"size\":10,\"solidity\":0.2}},\"type\":\"barpolar\"}],\"pie\":[{\"automargin\":true,\"type\":\"pie\"}]},\"layout\":{\"autotypenumbers\":\"strict\",\"colorway\":[\"#636efa\",\"#EF553B\",\"#00cc96\",\"#ab63fa\",\"#FFA15A\",\"#19d3f3\",\"#FF6692\",\"#B6E880\",\"#FF97FF\",\"#FECB52\"],\"font\":{\"color\":\"#f2f5fa\"},\"hovermode\":\"closest\",\"hoverlabel\":{\"align\":\"left\"},\"paper_bgcolor\":\"rgb(17,17,17)\",\"plot_bgcolor\":\"rgb(17,17,17)\",\"polar\":{\"bgcolor\":\"rgb(17,17,17)\",\"angularaxis\":{\"gridcolor\":\"#506784\",\"linecolor\":\"#506784\",\"ticks\":\"\"},\"radialaxis\":{\"gridcolor\":\"#506784\",\"linecolor\":\"#506784\",\"ticks\":\"\"}},\"ternary\":{\"bgcolor\":\"rgb(17,17,17)\",\"aaxis\":{\"gridcolor\":\"#506784\",\"linecolor\":\"#506784\",\"ticks\":\"\"},\"baxis\":{\"gridcolor\":\"#506784\",\"linecolor\":\"#506784\",\"ticks\":\"\"},\"caxis\":{\"gridcolor\":\"#506784\",\"linecolor\":\"#506784\",\"ticks\":\"\"}},\"coloraxis\":{\"colorbar\":{\"outlinewidth\":0,\"ticks\":\"\"}},\"colorscale\":{\"sequential\":[[0.0,\"#0d0887\"],[0.1111111111111111,\"#46039f\"],[0.2222222222222222,\"#7201a8\"],[0.3333333333333333,\"#9c179e\"],[0.4444444444444444,\"#bd3786\"],[0.5555555555555556,\"#d8576b\"],[0.6666666666666666,\"#ed7953\"],[0.7777777777777778,\"#fb9f3a\"],[0.8888888888888888,\"#fdca26\"],[1.0,\"#f0f921\"]],\"sequentialminus\":[[0.0,\"#0d0887\"],[0.1111111111111111,\"#46039f\"],[0.2222222222222222,\"#7201a8\"],[0.3333333333333333,\"#9c179e\"],[0.4444444444444444,\"#bd3786\"],[0.5555555555555556,\"#d8576b\"],[0.6666666666666666,\"#ed7953\"],[0.7777777777777778,\"#fb9f3a\"],[0.8888888888888888,\"#fdca26\"],[1.0,\"#f0f921\"]],\"diverging\":[[0,\"#8e0152\"],[0.1,\"#c51b7d\"],[0.2,\"#de77ae\"],[0.3,\"#f1b6da\"],[0.4,\"#fde0ef\"],[0.5,\"#f7f7f7\"],[0.6,\"#e6f5d0\"],[0.7,\"#b8e186\"],[0.8,\"#7fbc41\"],[0.9,\"#4d9221\"],[1,\"#276419\"]]},\"xaxis\":{\"gridcolor\":\"#283442\",\"linecolor\":\"#506784\",\"ticks\":\"\",\"title\":{\"standoff\":15},\"zerolinecolor\":\"#283442\",\"automargin\":true,\"zerolinewidth\":2},\"yaxis\":{\"gridcolor\":\"#283442\",\"linecolor\":\"#506784\",\"ticks\":\"\",\"title\":{\"standoff\":15},\"zerolinecolor\":\"#283442\",\"automargin\":true,\"zerolinewidth\":2},\"scene\":{\"xaxis\":{\"backgroundcolor\":\"rgb(17,17,17)\",\"gridcolor\":\"#506784\",\"linecolor\":\"#506784\",\"showbackground\":true,\"ticks\":\"\",\"zerolinecolor\":\"#C8D4E3\",\"gridwidth\":2},\"yaxis\":{\"backgroundcolor\":\"rgb(17,17,17)\",\"gridcolor\":\"#506784\",\"linecolor\":\"#506784\",\"showbackground\":true,\"ticks\":\"\",\"zerolinecolor\":\"#C8D4E3\",\"gridwidth\":2},\"zaxis\":{\"backgroundcolor\":\"rgb(17,17,17)\",\"gridcolor\":\"#506784\",\"linecolor\":\"#506784\",\"showbackground\":true,\"ticks\":\"\",\"zerolinecolor\":\"#C8D4E3\",\"gridwidth\":2}},\"shapedefaults\":{\"line\":{\"color\":\"#f2f5fa\"}},\"annotationdefaults\":{\"arrowcolor\":\"#f2f5fa\",\"arrowhead\":0,\"arrowwidth\":1},\"geo\":{\"bgcolor\":\"rgb(17,17,17)\",\"landcolor\":\"rgb(17,17,17)\",\"subunitcolor\":\"#506784\",\"showland\":true,\"showlakes\":true,\"lakecolor\":\"rgb(17,17,17)\"},\"title\":{\"x\":0.05},\"updatemenudefaults\":{\"bgcolor\":\"#506784\",\"borderwidth\":0},\"sliderdefaults\":{\"bgcolor\":\"#C8D4E3\",\"borderwidth\":1,\"bordercolor\":\"rgb(17,17,17)\",\"tickwidth\":0},\"mapbox\":{\"style\":\"dark\"}}},\"margin\":{\"r\":0,\"t\":0,\"l\":0,\"b\":0},\"height\":800},                        {\"responsive\": true}                    ).then(function(){\n                            \nvar gd = document.getElementById('638f47a0-40b9-4959-8bef-f5adb264e80d');\nvar x = new MutationObserver(function (mutations, observer) {{\n        var display = window.getComputedStyle(gd).display;\n        if (!display || display === 'none') {{\n            console.log([gd, 'removed!']);\n            Plotly.purge(gd);\n            observer.disconnect();\n        }}\n}});\n\n// Listen for the removal of the full notebook cells\nvar notebookContainer = gd.closest('#notebook-container');\nif (notebookContainer) {{\n    x.observe(notebookContainer, {childList: true});\n}}\n\n// Listen for the clearing of the current output cell\nvar outputEl = gd.closest('.output');\nif (outputEl) {{\n    x.observe(outputEl, {childList: true});\n}}\n\n                        })                };                });            </script>        </div>"
     },
     "metadata": {},
     "output_type": "display_data"
    }
   ],
   "source": [
    "import plotly.graph_objects as go\n",
    "\n",
    "# Lista delle coordinate (longitudine, latitudine)\n",
    "coordinates = [\n",
    "    (-73.985427, 40.748817),  # New York City\n",
    "    (2.352222, 48.856613),   # Parigi\n",
    "    (139.691706, 35.689487)  # Tokyo\n",
    "]\n",
    "\n",
    "# Creare un percorso\n",
    "path = go.Scattergeo(\n",
    "    locationmode=\"ISO-3\",\n",
    "    lon=[coord[0] for coord in coordinates],\n",
    "    lat=[coord[1] for coord in coordinates],\n",
    "    mode=\"lines+markers\",\n",
    "    line=dict(width=2, color=\"blue\"),\n",
    "    marker=dict(size=8, color=\"red\")\n",
    ")\n",
    "\n",
    "# Creare il layout della mappa con proiezione ortografica e regolare il campo di vista\n",
    "layout = go.Layout(\n",
    "    geo=dict(\n",
    "        showland=True,\n",
    "        landcolor=\"rgb(243, 243, 243)\",\n",
    "        countrycolor=\"rgb(204, 204, 204)\",\n",
    "        projection=dict(\n",
    "            type=\"orthographic\"  # Utilizza la proiezione ortografica\n",
    "        )\n",
    "    )\n",
    ")\n",
    "\n",
    "# Creare una figura\n",
    "fig = go.Figure(data=[path], layout=layout)\n",
    "fig.update_layout(height=800, margin={\"r\":0,\"t\":0,\"l\":0,\"b\":0})\n",
    "# Mostrare la mappa con il percorso\n",
    "fig.show()\n"
   ],
   "metadata": {
    "collapsed": false,
    "ExecuteTime": {
     "end_time": "2023-11-09T13:45:13.685515800Z",
     "start_time": "2023-11-09T13:45:13.587221Z"
    }
   },
   "id": "e6cc2bbc314c880a"
  },
  {
   "cell_type": "code",
   "execution_count": null,
   "outputs": [],
   "source": [],
   "metadata": {
    "collapsed": false
   },
   "id": "72979756dcc3f5f0"
  },
  {
   "cell_type": "code",
   "execution_count": null,
   "id": "3af17a3ad307d21f",
   "metadata": {},
   "outputs": [],
   "source": []
  },
  {
   "cell_type": "code",
   "execution_count": 18,
   "id": "2a6dcc9591760b3c",
   "metadata": {
    "ExecuteTime": {
     "end_time": "2023-11-07T13:00:08.494453400Z",
     "start_time": "2023-11-07T12:59:58.500858400Z"
    }
   },
   "outputs": [
    {
     "data": {
      "text/plain": [
       "[Distance(0.0),\n",
       " Distance(5786.0955560719185),\n",
       " Distance(5833.425501440086),\n",
       " Distance(6734.26357896465),\n",
       " Distance(2996.2579808376913),\n",
       " Distance(1761.4719125002853),\n",
       " Distance(18534.19313656261),\n",
       " Distance(1150.9482051508576),\n",
       " Distance(11305.847181093839),\n",
       " Distance(2902.893299441147),\n",
       " Distance(2093.8011728624433),\n",
       " Distance(9563.24469617227),\n",
       " Distance(10853.721319112647),\n",
       " Distance(5137.537289681116),\n",
       " Distance(7478.2335019113225),\n",
       " Distance(4602.219038919287),\n",
       " Distance(18369.603937706594),\n",
       " Distance(2874.954653349564),\n",
       " Distance(4890.35772437459),\n",
       " Distance(13475.574586206458),\n",
       " Distance(8945.92992608345),\n",
       " Distance(396.523796123737),\n",
       " Distance(6929.0255397453175),\n",
       " Distance(6661.703008212993),\n",
       " Distance(7659.380851770831),\n",
       " Distance(13353.418801932),\n",
       " Distance(4327.007009479255),\n",
       " Distance(8799.25260535867),\n",
       " Distance(18566.766152565782),\n",
       " Distance(2503.6771027303357),\n",
       " Distance(6414.420265495418),\n",
       " Distance(3343.796381960421),\n",
       " Distance(5955.915398486789),\n",
       " Distance(9712.085122993778),\n",
       " Distance(9558.73303551977),\n",
       " Distance(1933.1502991707919),\n",
       " Distance(2017.2535188840502),\n",
       " Distance(2248.625870134297),\n",
       " Distance(2164.225206930879),\n",
       " Distance(2296.4743906780423),\n",
       " Distance(15492.322190258266),\n",
       " Distance(6318.10453645806),\n",
       " Distance(14317.870900016165),\n",
       " Distance(1847.6341638869703),\n",
       " Distance(258.0312329819962),\n",
       " Distance(2425.010746457754),\n",
       " Distance(2192.0917110201303),\n",
       " Distance(2597.545429154926),\n",
       " Distance(2052.2709730729216),\n",
       " Distance(10138.9396160556),\n",
       " Distance(2258.712162842493),\n",
       " Distance(13844.767812655442),\n",
       " Distance(2210.6998757042643),\n",
       " Distance(5320.375248901265),\n",
       " Distance(2087.675662371306),\n",
       " Distance(2866.9890664926206),\n",
       " Distance(3666.6099895620946),\n",
       " Distance(6667.698365848927),\n",
       " Distance(3166.213629737872),\n",
       " Distance(1534.6124675193648),\n",
       " Distance(2369.1662463339976),\n",
       " Distance(1811.67912904049),\n",
       " Distance(13248.889812056146),\n",
       " Distance(1969.8587022182853),\n",
       " Distance(2109.713488918369),\n",
       " Distance(6531.478428825895),\n",
       " Distance(2879.3670118566292),\n",
       " Distance(10479.159602941523),\n",
       " Distance(1782.036687201229),\n",
       " Distance(1806.4282879890097),\n",
       " Distance(2922.099518358016),\n",
       " Distance(3343.8609680531754),\n",
       " Distance(2743.7765576710517),\n",
       " Distance(2798.47289392076),\n",
       " Distance(1562.5061296484669),\n",
       " Distance(1939.0867191346751),\n",
       " Distance(2824.5613712773848),\n",
       " Distance(2645.4632772998148),\n",
       " Distance(17235.30854696798),\n",
       " Distance(2360.1372765906767),\n",
       " Distance(3267.0492950029648),\n",
       " Distance(8692.729243535176),\n",
       " Distance(2044.3776730412844),\n",
       " Distance(11386.69221545323),\n",
       " Distance(3193.599495278823),\n",
       " Distance(2377.7162775749775),\n",
       " Distance(2390.7372978515464),\n",
       " Distance(2194.4057157667658),\n",
       " Distance(2473.0998571682712),\n",
       " Distance(3373.6515487124557),\n",
       " Distance(1654.3084967351735),\n",
       " Distance(2346.2833765197),\n",
       " Distance(1915.256096511828),\n",
       " Distance(11997.338810097253),\n",
       " Distance(3715.3627410305294),\n",
       " Distance(3157.1867275049467),\n",
       " Distance(3207.2356116117517),\n",
       " Distance(2182.987512427832),\n",
       " Distance(2539.8051931425744),\n",
       " Distance(1884.9242938232312),\n",
       " Distance(2127.2456239535304),\n",
       " Distance(3593.549983331797),\n",
       " Distance(2565.471404329649),\n",
       " Distance(6610.536612228496),\n",
       " Distance(8342.768899127957),\n",
       " Distance(1735.4260373199184),\n",
       " Distance(5320.996416786852),\n",
       " Distance(10398.16488976525),\n",
       " Distance(2722.0419168646463),\n",
       " Distance(3014.4990290167984),\n",
       " Distance(2086.1944767894124),\n",
       " Distance(10874.249943143392),\n",
       " Distance(2617.3826887736227),\n",
       " Distance(11251.597952319009),\n",
       " Distance(2330.016080244109),\n",
       " Distance(8763.681510566741),\n",
       " Distance(2031.6839377271885),\n",
       " Distance(3197.536665795106),\n",
       " Distance(2091.8443468169803),\n",
       " Distance(10733.362792005646),\n",
       " Distance(11034.81579429149),\n",
       " Distance(4773.278637354205),\n",
       " Distance(10340.432194092347),\n",
       " Distance(1612.7751408780018),\n",
       " Distance(10904.426305155228),\n",
       " Distance(1836.0880996817882),\n",
       " Distance(2014.4939589273706),\n",
       " Distance(7592.532189266037),\n",
       " Distance(2602.388086899858),\n",
       " Distance(7826.225415253749),\n",
       " Distance(2742.1138893803713),\n",
       " Distance(1960.3746172764145),\n",
       " Distance(10892.86867077221),\n",
       " Distance(1831.4597106135088),\n",
       " Distance(2214.3745755947393),\n",
       " Distance(3513.4862398663104),\n",
       " Distance(1752.7184051136996),\n",
       " Distance(2853.919247197346),\n",
       " Distance(18222.753330539446),\n",
       " Distance(2448.3950172801437),\n",
       " Distance(2188.535771688624),\n",
       " Distance(8191.225799842997),\n",
       " Distance(2364.4958333766103),\n",
       " Distance(2813.003468632558),\n",
       " Distance(1853.861075674118),\n",
       " Distance(5544.70290702138),\n",
       " Distance(14088.446914581911),\n",
       " Distance(2522.7805864135703),\n",
       " Distance(3254.7005197250246),\n",
       " Distance(1890.0703857754804),\n",
       " Distance(9579.313374305571),\n",
       " Distance(2593.8276468813406),\n",
       " Distance(2414.8850974928127),\n",
       " Distance(1894.0200725033828),\n",
       " Distance(1865.7621817428262),\n",
       " Distance(3032.375127602768),\n",
       " Distance(2944.0072304356536),\n",
       " Distance(2307.8980930860093),\n",
       " Distance(2182.677951537583),\n",
       " Distance(10794.405830977035),\n",
       " Distance(2298.126442886596),\n",
       " Distance(2446.052006711094),\n",
       " Distance(1870.2363864335584),\n",
       " Distance(10413.863339405787),\n",
       " Distance(2763.91109167),\n",
       " Distance(1851.1112336251354),\n",
       " Distance(1940.7460407224944),\n",
       " Distance(1842.0804498281727),\n",
       " Distance(1636.1023442509197),\n",
       " Distance(1565.347320946087),\n",
       " Distance(1898.4819564794893),\n",
       " Distance(3367.162849388092),\n",
       " Distance(2952.5305802144776),\n",
       " Distance(13539.911628975664),\n",
       " Distance(2589.4330327318225),\n",
       " Distance(1932.2599210806172),\n",
       " Distance(11594.476126284626),\n",
       " Distance(3280.8328948865806),\n",
       " Distance(2063.6634910167086),\n",
       " Distance(2231.81585520871),\n",
       " Distance(9251.54486977883),\n",
       " Distance(2530.4635712484533),\n",
       " Distance(1986.377306816065),\n",
       " Distance(10731.726487345473),\n",
       " Distance(3289.386309230569),\n",
       " Distance(2361.1181223663625),\n",
       " Distance(3294.9638671805856),\n",
       " Distance(9298.651412143083),\n",
       " Distance(3312.1944322713402),\n",
       " Distance(2684.3373824872883),\n",
       " Distance(2974.9407345452482),\n",
       " Distance(2146.021359618218),\n",
       " Distance(3215.5977500237823),\n",
       " Distance(2691.042428742853),\n",
       " Distance(2415.8268893963864),\n",
       " Distance(2002.3994464956525),\n",
       " Distance(2357.772235521746),\n",
       " Distance(9081.682707589736),\n",
       " Distance(9520.98419462088),\n",
       " Distance(5898.039871740468),\n",
       " Distance(2807.3489886264874),\n",
       " Distance(2885.7458272819417),\n",
       " Distance(2647.035853141203),\n",
       " Distance(2031.492174436341),\n",
       " Distance(3215.582359424436),\n",
       " Distance(7695.9443460471175),\n",
       " Distance(2753.8112876215046),\n",
       " Distance(1941.7655168208655),\n",
       " Distance(3161.7987624850857),\n",
       " Distance(29.00396781913729),\n",
       " Distance(2951.1027571213563),\n",
       " Distance(3119.2394977253584),\n",
       " Distance(2997.8628373310935),\n",
       " Distance(6268.52668134591),\n",
       " Distance(2007.788664130704),\n",
       " Distance(8917.371192597984),\n",
       " Distance(1571.968877636219),\n",
       " Distance(3297.431745328608),\n",
       " Distance(3212.7292134584454),\n",
       " Distance(1980.8048508629126),\n",
       " Distance(8270.08608813528),\n",
       " Distance(2220.3279503643253),\n",
       " Distance(3213.369754957954),\n",
       " Distance(2389.951213632876),\n",
       " Distance(2069.8577473608457),\n",
       " Distance(10388.809791448986),\n",
       " Distance(10306.851873941676),\n",
       " Distance(3429.287969699684),\n",
       " Distance(967.2776507315667),\n",
       " Distance(10797.396327319399),\n",
       " Distance(3075.288804372577),\n",
       " Distance(2421.51248128601),\n",
       " Distance(5587.491909741815),\n",
       " Distance(1790.2261425754841),\n",
       " Distance(3256.6407626790706),\n",
       " Distance(3412.940837530744),\n",
       " Distance(2664.462787576839),\n",
       " Distance(1553.5490351191668),\n",
       " Distance(10761.441145411081),\n",
       " Distance(2036.3792115013516),\n",
       " Distance(2672.4409448025076),\n",
       " Distance(2387.350998999956),\n",
       " Distance(8979.746503338465),\n",
       " Distance(6071.635865000362),\n",
       " Distance(17008.46679696894),\n",
       " Distance(3059.536368629023),\n",
       " Distance(2933.5225821737745),\n",
       " Distance(1902.6533931003307),\n",
       " Distance(4468.165192759008),\n",
       " Distance(1727.8141003204332),\n",
       " Distance(2743.3426560838266),\n",
       " Distance(3004.5494880435667),\n",
       " Distance(3370.730396708251),\n",
       " Distance(6037.82879012251),\n",
       " Distance(2403.7358809544626),\n",
       " Distance(10395.807306624607),\n",
       " Distance(9570.178503121904),\n",
       " Distance(3387.196712521046),\n",
       " Distance(17670.111812697167),\n",
       " Distance(6975.883865044778),\n",
       " Distance(1722.1837289150817),\n",
       " Distance(1550.7466892106077),\n",
       " Distance(2772.1916549010148),\n",
       " Distance(2754.2409392630807),\n",
       " Distance(9586.160647941731),\n",
       " Distance(8199.314151001594),\n",
       " Distance(9500.708914213545),\n",
       " Distance(2989.376030814695),\n",
       " Distance(3151.8513232154037),\n",
       " Distance(17482.4718101107),\n",
       " Distance(1180.328211299215),\n",
       " Distance(8997.662574805461),\n",
       " Distance(2159.7097283935213),\n",
       " Distance(11669.856476873425),\n",
       " Distance(1721.771659203995),\n",
       " Distance(9528.733536246913),\n",
       " Distance(2277.650294273697),\n",
       " Distance(1895.1129722721653),\n",
       " Distance(3045.690732828262),\n",
       " Distance(9337.191325429689),\n",
       " Distance(9854.979349746496),\n",
       " Distance(16532.34491487241),\n",
       " Distance(1287.1562732235057),\n",
       " Distance(12641.428602465216),\n",
       " Distance(2231.1574703503165),\n",
       " Distance(10478.84118797998),\n",
       " Distance(3331.498089693288),\n",
       " Distance(1823.746002611421),\n",
       " Distance(1307.3728665334404),\n",
       " Distance(1735.413268255679),\n",
       " Distance(2370.9501986370833),\n",
       " Distance(2666.7420043033685),\n",
       " Distance(14497.114113686504),\n",
       " Distance(1829.7509444230147),\n",
       " Distance(9444.347665396544),\n",
       " Distance(5660.683651041592),\n",
       " Distance(2654.317659653549),\n",
       " Distance(2100.3395581697882),\n",
       " Distance(2274.205577055531),\n",
       " Distance(2464.4665220986517),\n",
       " Distance(13358.715458484592),\n",
       " Distance(2501.4849617879413),\n",
       " Distance(2587.9386397378316),\n",
       " Distance(11410.571288910705),\n",
       " Distance(3136.0989117007653),\n",
       " Distance(1581.037225851134),\n",
       " Distance(4833.446546164168),\n",
       " Distance(13233.620711431495),\n",
       " Distance(2011.5060946407752),\n",
       " Distance(2342.309928070721),\n",
       " Distance(10857.155538523844),\n",
       " Distance(14073.404583539297),\n",
       " Distance(7160.810650235671),\n",
       " Distance(4028.571754600245),\n",
       " Distance(7926.073097610084),\n",
       " Distance(2354.470519116422),\n",
       " Distance(2880.8820604027496),\n",
       " Distance(5523.447181445538),\n",
       " Distance(3123.853632485447),\n",
       " Distance(14260.963153356375),\n",
       " Distance(1000.2962792371334),\n",
       " Distance(16456.369979430136),\n",
       " Distance(12324.746224285294),\n",
       " Distance(13064.261928725698),\n",
       " Distance(13193.406671387696),\n",
       " Distance(1440.8791061554707),\n",
       " Distance(1737.0580776309237),\n",
       " Distance(4009.8035294178467),\n",
       " Distance(9119.417013385073),\n",
       " Distance(5991.274493123935),\n",
       " Distance(2373.5367254075427),\n",
       " Distance(5810.213575650689),\n",
       " Distance(6047.885272627726),\n",
       " Distance(1428.234659842236),\n",
       " Distance(2113.55668904863),\n",
       " Distance(2715.889175213783),\n",
       " Distance(5778.269135919813),\n",
       " Distance(5816.566878765715),\n",
       " Distance(9006.82599291938),\n",
       " Distance(1459.3037333042557),\n",
       " Distance(3093.422445124767),\n",
       " Distance(13803.130078806222),\n",
       " Distance(3766.010385955955),\n",
       " Distance(1529.1317363047),\n",
       " Distance(3366.3623935272585),\n",
       " Distance(7555.530974415891),\n",
       " Distance(5795.950779248908),\n",
       " Distance(8929.07378347461),\n",
       " Distance(10853.077804443901),\n",
       " Distance(1620.1555641239568),\n",
       " Distance(8788.721741392104),\n",
       " Distance(5509.715228635603),\n",
       " Distance(2581.2412541159097),\n",
       " Distance(6254.797259978516),\n",
       " Distance(2017.905520239139),\n",
       " Distance(2969.7337462025953),\n",
       " Distance(2089.238951022086),\n",
       " Distance(7528.319829209866),\n",
       " Distance(3153.2041275264664),\n",
       " Distance(2094.7633459600906),\n",
       " Distance(3383.146489160824),\n",
       " Distance(2703.0555261147206),\n",
       " Distance(12118.8009191108),\n",
       " Distance(4402.358706417988),\n",
       " Distance(880.9937811898345),\n",
       " Distance(10267.470706604436),\n",
       " Distance(2419.806531971782),\n",
       " Distance(2024.938939041793),\n",
       " Distance(2353.3104273045483),\n",
       " Distance(8886.037063391703),\n",
       " Distance(10882.48260219899),\n",
       " Distance(3609.6093179609047),\n",
       " Distance(8888.134848355608),\n",
       " Distance(3210.468782600053),\n",
       " Distance(5977.18661682657),\n",
       " Distance(13807.717792731293),\n",
       " Distance(7793.528336904961),\n",
       " Distance(6515.323329700627),\n",
       " Distance(7921.3793815527415),\n",
       " Distance(2651.103781458744),\n",
       " Distance(10552.746480441621),\n",
       " Distance(3352.2162633271123),\n",
       " Distance(5859.3118707112),\n",
       " Distance(8636.922473253726),\n",
       " Distance(8125.531019876983),\n",
       " Distance(10288.476485584646),\n",
       " Distance(13657.153098876985),\n",
       " Distance(14436.096817363547),\n",
       " Distance(2595.219802517847),\n",
       " Distance(3449.997154767663),\n",
       " Distance(8529.13991549006),\n",
       " Distance(12837.784629246617),\n",
       " Distance(6093.9731113130965),\n",
       " Distance(832.08008440593),\n",
       " Distance(1296.3735845539718),\n",
       " Distance(14167.94342255289),\n",
       " Distance(1708.9400593404557),\n",
       " Distance(9390.388849974575),\n",
       " Distance(8291.432283522998),\n",
       " Distance(12332.348975446359),\n",
       " Distance(2352.759118088991),\n",
       " Distance(8881.809207336537),\n",
       " Distance(3286.983570032185),\n",
       " Distance(6085.521485933686),\n",
       " Distance(18588.98679370188),\n",
       " Distance(2357.8580422121204),\n",
       " Distance(17997.822725296395),\n",
       " Distance(5989.563084820768),\n",
       " Distance(9127.811933198516),\n",
       " Distance(8710.201179877875),\n",
       " Distance(8976.763246582115),\n",
       " Distance(11089.058476403889),\n",
       " Distance(13351.47480718651),\n",
       " Distance(11685.884919931641),\n",
       " Distance(8852.429809703885),\n",
       " Distance(5328.090837533829),\n",
       " Distance(13689.478311319472),\n",
       " Distance(363.8819479318458),\n",
       " Distance(15862.976698722678),\n",
       " Distance(1562.2836459705056),\n",
       " Distance(3173.360170202412),\n",
       " Distance(8341.684806961153),\n",
       " Distance(8578.52350714355),\n",
       " Distance(1901.5500722324177),\n",
       " Distance(12761.854557168315),\n",
       " Distance(8950.397697019187),\n",
       " Distance(1911.7404602458334),\n",
       " Distance(2186.9049299724534),\n",
       " Distance(7809.047071894702),\n",
       " Distance(9045.931165662889),\n",
       " Distance(1893.3561880203674),\n",
       " Distance(12916.473861803332),\n",
       " Distance(8376.74548867076),\n",
       " Distance(6665.291123640782),\n",
       " Distance(2429.0790719578986),\n",
       " Distance(18306.51532508324),\n",
       " Distance(10455.504580320356),\n",
       " Distance(10629.10449039113),\n",
       " Distance(9474.767355557093),\n",
       " Distance(5270.052348615504),\n",
       " Distance(8258.931552238788),\n",
       " Distance(10536.996024082979),\n",
       " Distance(2946.791371321818),\n",
       " Distance(14267.229610807892),\n",
       " Distance(11523.925626827466),\n",
       " Distance(11297.467148359445),\n",
       " Distance(10539.226896249329),\n",
       " Distance(5008.377709187101),\n",
       " Distance(1796.200806462209),\n",
       " Distance(5853.017576764404),\n",
       " Distance(9278.493938584552),\n",
       " Distance(5804.039745387368),\n",
       " Distance(2130.9292638725606),\n",
       " Distance(10007.78851336437),\n",
       " Distance(11519.24899633399),\n",
       " Distance(13297.112568417024),\n",
       " Distance(3491.734079615686),\n",
       " Distance(10843.313769496108),\n",
       " Distance(5645.14912772984),\n",
       " Distance(2968.4795038400216),\n",
       " Distance(6267.5970858290575),\n",
       " Distance(2991.9800825514953),\n",
       " Distance(12809.462560231052),\n",
       " Distance(4764.84637471369),\n",
       " Distance(2040.154332693643),\n",
       " Distance(5833.2030116013275),\n",
       " Distance(7685.460485124991),\n",
       " Distance(10400.355513755574),\n",
       " Distance(2219.800805197613),\n",
       " Distance(11407.828677509779),\n",
       " Distance(6688.606436987491),\n",
       " Distance(6808.032421461556),\n",
       " Distance(5943.477797957587),\n",
       " Distance(1517.0072534446924),\n",
       " Distance(5318.389882570073),\n",
       " Distance(2932.2219581689706),\n",
       " Distance(16893.00047372243),\n",
       " Distance(10534.481926404344),\n",
       " Distance(7920.0279510000355),\n",
       " Distance(13094.965027112821),\n",
       " Distance(13904.473656702989),\n",
       " Distance(3359.780535445745),\n",
       " Distance(1409.7946094827255),\n",
       " Distance(424.4912873206771),\n",
       " Distance(11083.560427672428),\n",
       " Distance(3465.4701465733365),\n",
       " Distance(1807.854490538914),\n",
       " Distance(2359.890497891223),\n",
       " Distance(2397.325440835305),\n",
       " Distance(1158.1857623985768),\n",
       " Distance(1822.4370165376486),\n",
       " Distance(3156.58786699105),\n",
       " Distance(6589.9953881231395),\n",
       " Distance(18817.802943174665),\n",
       " Distance(2825.8219218444647),\n",
       " Distance(14146.335329529747),\n",
       " Distance(11156.936240782079),\n",
       " Distance(1108.5417679661584),\n",
       " Distance(9369.935980274027),\n",
       " Distance(6123.8254235905215),\n",
       " Distance(8842.087096770372),\n",
       " Distance(3018.9662310078475),\n",
       " Distance(2102.591216838157),\n",
       " Distance(2553.322358085398),\n",
       " Distance(7909.6902242227),\n",
       " Distance(10984.783875767418),\n",
       " Distance(1976.24099469103),\n",
       " Distance(5627.323661664716),\n",
       " Distance(7896.247160276182),\n",
       " Distance(17.795515834263185),\n",
       " Distance(3250.4292373176177),\n",
       " Distance(2136.0060736421347),\n",
       " Distance(3312.5570731539237),\n",
       " Distance(2996.881676620733),\n",
       " Distance(1999.178476067568),\n",
       " Distance(9483.231383327979),\n",
       " Distance(7737.466378075432),\n",
       " Distance(2286.889886964445),\n",
       " Distance(2522.748117468064),\n",
       " Distance(10840.519184834655),\n",
       " Distance(9339.371320653618),\n",
       " Distance(13285.444352879487),\n",
       " Distance(7913.9089845440885),\n",
       " Distance(5836.315452679633),\n",
       " Distance(3007.2381451166116),\n",
       " Distance(17723.285522288425),\n",
       " Distance(16115.549171359511),\n",
       " Distance(8662.768804408473),\n",
       " Distance(1953.7347211714196),\n",
       " Distance(9177.602544324274),\n",
       " Distance(1771.168242813588),\n",
       " Distance(6458.168763413318),\n",
       " Distance(2677.0490557887356),\n",
       " Distance(1904.4690392302475),\n",
       " Distance(5975.680138848821),\n",
       " Distance(10015.885524017047),\n",
       " Distance(9714.86505622184),\n",
       " Distance(9173.727176842414),\n",
       " Distance(7853.256544721185),\n",
       " Distance(8437.849355091961),\n",
       " Distance(6730.8180260854315),\n",
       " Distance(5013.564322353441),\n",
       " Distance(17758.205296228774),\n",
       " Distance(18529.55033996406),\n",
       " Distance(9829.648110052563),\n",
       " Distance(9070.979792645172),\n",
       " Distance(18574.186838196358),\n",
       " Distance(12750.976954995169),\n",
       " Distance(2229.7278349078388),\n",
       " Distance(1972.17499336173),\n",
       " Distance(8246.50874905822),\n",
       " Distance(19.58796626627077),\n",
       " Distance(674.4759748806117),\n",
       " Distance(5776.52609662063),\n",
       " Distance(1505.284306914175),\n",
       " Distance(3531.4092095384813),\n",
       " Distance(2330.918715054013),\n",
       " Distance(1583.453815897929),\n",
       " Distance(3181.804090709577),\n",
       " Distance(2288.9303677521984),\n",
       " Distance(1901.3213263876082),\n",
       " Distance(2976.1428297980724),\n",
       " Distance(5863.263916777495),\n",
       " Distance(6710.360395548517),\n",
       " Distance(3461.9946480826684),\n",
       " Distance(1797.4041593704437),\n",
       " Distance(7098.520041148688),\n",
       " Distance(12603.07370060421),\n",
       " Distance(1815.836225410021),\n",
       " Distance(1845.4270921047794),\n",
       " Distance(5244.112117524465),\n",
       " Distance(1607.3771729878601),\n",
       " Distance(1979.4811664134102),\n",
       " Distance(6833.431586862116),\n",
       " Distance(3848.9650955636985),\n",
       " Distance(1146.6770799983112),\n",
       " Distance(1840.31027569405),\n",
       " Distance(2126.2982688775846),\n",
       " Distance(7993.389750887384),\n",
       " Distance(4454.317252348028),\n",
       " Distance(12959.582296257344),\n",
       " Distance(1967.8869167726343),\n",
       " Distance(4470.965509283865),\n",
       " Distance(3057.9372781280654),\n",
       " Distance(8245.8391458976),\n",
       " Distance(3447.772565860311),\n",
       " Distance(11152.278981138797),\n",
       " Distance(15542.342263745597),\n",
       " Distance(5574.9353658123755),\n",
       " Distance(5476.106506265298),\n",
       " Distance(10417.487452616679),\n",
       " Distance(6120.670308459693),\n",
       " Distance(11175.143771470155),\n",
       " Distance(10832.802913899937),\n",
       " Distance(7760.035756146098),\n",
       " Distance(12310.679203695132),\n",
       " Distance(13124.557741309718),\n",
       " Distance(18126.982063472453),\n",
       " Distance(13323.988207604763),\n",
       " Distance(2492.702444849853),\n",
       " Distance(8127.216321008007),\n",
       " Distance(9585.435447866113),\n",
       " Distance(11495.810824322096),\n",
       " Distance(9291.993149471666),\n",
       " Distance(5807.920024551592),\n",
       " Distance(5372.413817155213),\n",
       " Distance(3218.3762031549772),\n",
       " Distance(5796.533581395697),\n",
       " Distance(2512.6720678136867),\n",
       " Distance(5814.079469975303),\n",
       " Distance(6885.611178930528),\n",
       " Distance(2590.2174451423643),\n",
       " Distance(937.5379240145678),\n",
       " Distance(2206.818495520178),\n",
       " Distance(18450.80967991353),\n",
       " Distance(2785.229435956388),\n",
       " Distance(2579.787606267624),\n",
       " Distance(2324.932115249686),\n",
       " Distance(4588.776307771995),\n",
       " Distance(13914.270795709877),\n",
       " Distance(1934.094896346189),\n",
       " Distance(10885.841543397679),\n",
       " Distance(2746.0563481018103),\n",
       " Distance(3728.26215052326),\n",
       " Distance(6654.605378185367),\n",
       " Distance(5908.920209668539),\n",
       " Distance(15485.037463410901),\n",
       " Distance(5794.499317013451),\n",
       " Distance(2389.516046200556),\n",
       " Distance(12602.84507649642),\n",
       " Distance(11315.357291114575),\n",
       " Distance(10576.04765812873),\n",
       " Distance(7846.380301621314),\n",
       " Distance(11319.197344687987),\n",
       " Distance(6694.20219650746),\n",
       " Distance(1757.1462052592713),\n",
       " Distance(7821.13162003363),\n",
       " Distance(6466.885583319396),\n",
       " Distance(11437.902155810247),\n",
       " Distance(4299.789677872617),\n",
       " Distance(9114.365235101655),\n",
       " Distance(5864.686346424714),\n",
       " Distance(2829.050043745028),\n",
       " Distance(13213.123603438798),\n",
       " Distance(1509.2123278130025),\n",
       " Distance(8808.284259204307),\n",
       " Distance(5832.2541989898555),\n",
       " Distance(1838.3712426822024),\n",
       " Distance(12143.566363407479),\n",
       " Distance(2463.90618468554),\n",
       " Distance(1539.3874282491865),\n",
       " Distance(8689.551776256303),\n",
       " Distance(9047.298936127856),\n",
       " Distance(5137.45388965258),\n",
       " Distance(9332.691226207095),\n",
       " Distance(4159.15679909396),\n",
       " Distance(1899.5256469522506),\n",
       " Distance(1824.5648702112487),\n",
       " Distance(10691.762113146415),\n",
       " Distance(7929.556668169284),\n",
       " Distance(5366.008464781242),\n",
       " Distance(5557.822997781972),\n",
       " Distance(13509.959260332096),\n",
       " Distance(13573.50966150829),\n",
       " Distance(11017.607278443935),\n",
       " Distance(16305.017916023035),\n",
       " Distance(12426.134222156195),\n",
       " Distance(1853.7376531098146),\n",
       " Distance(10610.762516193428),\n",
       " Distance(1166.340581248883),\n",
       " Distance(6174.284408491975),\n",
       " Distance(7868.250489089621),\n",
       " Distance(2625.159597990045),\n",
       " Distance(14084.792861665488),\n",
       " Distance(305.19233752653525),\n",
       " Distance(7620.126690590233),\n",
       " Distance(6343.365737357617),\n",
       " Distance(998.0928445590658),\n",
       " Distance(3069.5094260236706),\n",
       " Distance(1879.4668317920682),\n",
       " Distance(5824.443504034687),\n",
       " Distance(11128.029209540344),\n",
       " Distance(13695.190414622113),\n",
       " Distance(5778.078822666483),\n",
       " Distance(5522.329252380691),\n",
       " Distance(9289.438937709705),\n",
       " Distance(13136.925043514088),\n",
       " Distance(13272.727677001416),\n",
       " Distance(6994.140125204405),\n",
       " Distance(2378.980629490093),\n",
       " Distance(17084.594245076663),\n",
       " Distance(12957.949195493897),\n",
       " Distance(12833.617597968614),\n",
       " Distance(5325.401846277346),\n",
       " Distance(9040.592652962368),\n",
       " Distance(1898.5805111197963),\n",
       " Distance(9557.915770139485),\n",
       " Distance(14419.472404794653),\n",
       " Distance(1614.9809822277768),\n",
       " Distance(2556.672606027214),\n",
       " Distance(5930.219237813109),\n",
       " Distance(11051.051425901525),\n",
       " Distance(7457.774413171028),\n",
       " Distance(13105.183569256094),\n",
       " Distance(6787.82029875729),\n",
       " Distance(8454.888010142695),\n",
       " Distance(5150.456973060962),\n",
       " Distance(5812.999554302005),\n",
       " Distance(9963.161412743484),\n",
       " Distance(16256.391004129413),\n",
       " Distance(13347.168690571909),\n",
       " Distance(9345.681277131082),\n",
       " Distance(10571.042043783847),\n",
       " Distance(2508.8384355201806),\n",
       " Distance(2277.7816340260524),\n",
       " Distance(6127.914449024311),\n",
       " Distance(8053.051743122492),\n",
       " Distance(8169.255917612747),\n",
       " Distance(10320.837397922043),\n",
       " Distance(9957.692970873328),\n",
       " Distance(14343.246800076653),\n",
       " Distance(9146.746741002738),\n",
       " Distance(13569.847284489191),\n",
       " Distance(13658.561133841178),\n",
       " Distance(13496.460467128061),\n",
       " Distance(9345.526820994279),\n",
       " Distance(6132.095866852414),\n",
       " Distance(12333.332598146324),\n",
       " Distance(13543.266172110669),\n",
       " Distance(4139.725847960383),\n",
       " Distance(6853.317802492798),\n",
       " Distance(11899.403263092172),\n",
       " Distance(13503.387539413832),\n",
       " Distance(12450.858521071865),\n",
       " Distance(8984.479728904269),\n",
       " Distance(10336.25336285649),\n",
       " Distance(8081.812904056576),\n",
       " Distance(8405.18440142463),\n",
       " Distance(8530.84435060119),\n",
       " Distance(9506.237148931134),\n",
       " Distance(12056.710321946704),\n",
       " Distance(7817.906066158765),\n",
       " Distance(9341.207560094163),\n",
       " Distance(8298.684058269531),\n",
       " Distance(12918.30890037346),\n",
       " Distance(8186.19742418272),\n",
       " Distance(12496.020147261492),\n",
       " Distance(9838.173481857539),\n",
       " Distance(11141.28801781645),\n",
       " Distance(10325.225828290693),\n",
       " Distance(7877.404931022555),\n",
       " Distance(14731.585760781461),\n",
       " Distance(9095.187496650711),\n",
       " Distance(9487.70229757487),\n",
       " Distance(7953.269035797445),\n",
       " Distance(9276.930800712456),\n",
       " Distance(8983.02165254794),\n",
       " Distance(11670.34830074244),\n",
       " Distance(10779.02190139626),\n",
       " Distance(14124.587594226312),\n",
       " Distance(11303.385927039268),\n",
       " Distance(5083.110120274432),\n",
       " Distance(14036.668679243003),\n",
       " Distance(7583.936444942379),\n",
       " Distance(13743.198490131696),\n",
       " Distance(9052.01125719038),\n",
       " Distance(14333.989729233645),\n",
       " Distance(13529.28283832891),\n",
       " Distance(16949.29536184339),\n",
       " Distance(13175.595128377208),\n",
       " Distance(9399.576486446404),\n",
       " Distance(9367.518778817948),\n",
       " Distance(12219.016851988488),\n",
       " Distance(13843.94646118271),\n",
       " Distance(13649.847686207133),\n",
       " Distance(15140.40675459742),\n",
       " Distance(5137.929546175442),\n",
       " Distance(9304.115756412906),\n",
       " Distance(14936.337290138243),\n",
       " Distance(13289.496664945511),\n",
       " Distance(9448.506162445554),\n",
       " Distance(7595.86188470288),\n",
       " Distance(9432.503489597937),\n",
       " Distance(8272.025310305382),\n",
       " Distance(10630.072876396885),\n",
       " Distance(5834.223245869319),\n",
       " Distance(9666.224028540391),\n",
       " Distance(8796.7844352974),\n",
       " Distance(14116.392071347778),\n",
       " Distance(9486.566220394883),\n",
       " Distance(6847.115589268024),\n",
       " Distance(14222.455899840033),\n",
       " Distance(11339.380323078678),\n",
       " Distance(4777.118138516993),\n",
       " Distance(13272.636284048589),\n",
       " Distance(5448.821178052994),\n",
       " Distance(7242.841558864094),\n",
       " Distance(14075.141546722545),\n",
       " Distance(13718.429907714879),\n",
       " Distance(6662.616974705013),\n",
       " Distance(4259.354050052312),\n",
       " Distance(9953.160189337841),\n",
       " Distance(12008.843319250687),\n",
       " Distance(14400.021809963533),\n",
       " Distance(7501.1592386048405),\n",
       " Distance(9553.00117214037),\n",
       " Distance(14007.46590546106),\n",
       " Distance(5137.81673425726),\n",
       " Distance(9789.300792385478),\n",
       " Distance(4525.380521180109),\n",
       " Distance(14153.53977089065),\n",
       " Distance(7902.770880793933),\n",
       " Distance(13719.758377148493),\n",
       " Distance(10340.317802237481),\n",
       " Distance(12227.071200179022),\n",
       " Distance(13926.490445702297),\n",
       " Distance(13667.09449702011),\n",
       " Distance(7618.450081671197),\n",
       " Distance(10243.27421526114),\n",
       " Distance(3713.201121499974),\n",
       " Distance(6424.821129112419),\n",
       " Distance(13274.90201149666),\n",
       " Distance(14248.963226592181),\n",
       " Distance(9683.957682930311),\n",
       " Distance(9146.44829857513),\n",
       " Distance(2355.3618865505637),\n",
       " Distance(2521.5460001545925),\n",
       " Distance(3176.686309490073),\n",
       " Distance(5653.083037835728),\n",
       " Distance(3800.593762295379),\n",
       " Distance(834.8307186223337),\n",
       " Distance(6322.2896203946775),\n",
       " Distance(2635.4656211168035),\n",
       " Distance(1806.1890677668011),\n",
       " Distance(18694.759780735632),\n",
       " Distance(2824.961880908164),\n",
       " Distance(8067.569510210307),\n",
       " Distance(9277.279264606412),\n",
       " Distance(38.17564776480375),\n",
       " Distance(1899.1698213165478),\n",
       " Distance(16230.198361665376),\n",
       " Distance(9847.540513039157),\n",
       " Distance(1626.563005615601),\n",
       " Distance(3618.8936580160102),\n",
       " Distance(8216.148934931842),\n",
       " Distance(1719.41168857378),\n",
       " Distance(1129.3450409650688),\n",
       " Distance(10133.47686856717),\n",
       " Distance(10239.54564965845),\n",
       " Distance(9167.810768968488),\n",
       " Distance(4645.965175538015),\n",
       " Distance(6842.0584399259005),\n",
       " Distance(3067.9856825884563),\n",
       " Distance(4645.472477878765),\n",
       " Distance(2440.04795256318),\n",
       " Distance(1137.0828555083397),\n",
       " Distance(6529.910181017),\n",
       " Distance(11302.651326120538),\n",
       " Distance(1849.2063655778982),\n",
       " Distance(2059.432078497327),\n",
       " Distance(2999.149330164716),\n",
       " Distance(2446.1736287034005),\n",
       " Distance(12160.701269650232),\n",
       " Distance(10468.14944039273),\n",
       " Distance(10880.614656604952),\n",
       " Distance(11805.105575454985),\n",
       " Distance(3448.5754273267935),\n",
       " Distance(7921.066923112194),\n",
       " Distance(1336.6630207915669),\n",
       " Distance(3219.631777692997),\n",
       " Distance(15034.294595171024),\n",
       " Distance(3242.606284732467),\n",
       " Distance(3217.8244571121763),\n",
       " Distance(16886.533218794386),\n",
       " Distance(10831.824772064658),\n",
       " Distance(6698.588232883804),\n",
       " Distance(1946.2214324096303),\n",
       " Distance(5759.947131871638),\n",
       " Distance(1902.9737540877338),\n",
       " Distance(10442.429633690375),\n",
       " Distance(3147.6766579970495),\n",
       " Distance(2917.7255647079014),\n",
       " Distance(2383.2859571490458),\n",
       " Distance(10362.224635112965),\n",
       " Distance(1534.8026334081044),\n",
       " Distance(10793.352820698716),\n",
       " Distance(8299.633925073691),\n",
       " Distance(1168.9174600304377),\n",
       " Distance(4551.701072388022),\n",
       " Distance(8838.137640365958),\n",
       " Distance(1773.5787747194004),\n",
       " Distance(11853.081801998396),\n",
       " Distance(2277.006536523349),\n",
       " Distance(12778.099631278712),\n",
       " Distance(6738.677944107194),\n",
       " Distance(13420.303561374834),\n",
       " Distance(9486.130300328292),\n",
       " Distance(8025.525282721126),\n",
       " Distance(16650.322758132745),\n",
       " Distance(18804.100342564667),\n",
       " Distance(10089.396623679984),\n",
       " Distance(5348.15289827815),\n",
       " Distance(9821.344786473308),\n",
       " Distance(12784.512202105487),\n",
       " Distance(1703.2318858931915),\n",
       " Distance(5858.1574070490515),\n",
       " Distance(17821.2825000979),\n",
       " Distance(11515.98767472936),\n",
       " Distance(14175.03410437821),\n",
       " Distance(10089.982732256978),\n",
       " Distance(2296.190894387188),\n",
       " Distance(8930.399185304357),\n",
       " Distance(1791.6204296722217),\n",
       " Distance(5249.728404480751),\n",
       " Distance(1801.9377165841693),\n",
       " Distance(9476.366005403746),\n",
       " Distance(3668.4568690422543),\n",
       " Distance(11078.237636072408),\n",
       " Distance(9662.411691611162),\n",
       " Distance(1772.1551799003228),\n",
       " Distance(5555.5231846798115),\n",
       " Distance(9660.14992455939),\n",
       " Distance(2242.633925353569),\n",
       " Distance(8202.308112583165),\n",
       " Distance(8078.424539400023),\n",
       " Distance(1678.8052827011925),\n",
       " Distance(3088.3031074860633),\n",
       " Distance(2337.0876049676795),\n",
       " Distance(13220.294628021258),\n",
       " Distance(16603.525499422358),\n",
       " Distance(9745.602236625557),\n",
       " Distance(2406.098607522641),\n",
       " Distance(7216.2342965441085),\n",
       " Distance(18543.097905275514),\n",
       " Distance(9825.455787560817),\n",
       " Distance(5559.203714516067),\n",
       " Distance(1540.0211200410247),\n",
       " Distance(11294.780258018322),\n",
       " Distance(5488.07636312426),\n",
       " Distance(2780.582559845182),\n",
       " Distance(1099.7444799517082),\n",
       " Distance(13379.576581259651),\n",
       " Distance(13680.216874284954),\n",
       " Distance(2580.69096244666),\n",
       " Distance(10957.34490343917),\n",
       " Distance(5240.655913441686),\n",
       " Distance(6713.738965979832),\n",
       " Distance(2110.280239706882),\n",
       " Distance(11277.78692829425),\n",
       " Distance(6205.4469297679725),\n",
       " Distance(11122.034682798638),\n",
       " Distance(2529.5445007716726),\n",
       " Distance(2285.0083512801384),\n",
       " Distance(18551.623294782883),\n",
       " Distance(9698.240939884188),\n",
       " Distance(1865.067882744451),\n",
       " Distance(2998.966123654553),\n",
       " Distance(10700.126415251907),\n",
       " Distance(1885.726950743677),\n",
       " Distance(2110.519372181017),\n",
       " Distance(2786.2248240291137),\n",
       " Distance(2255.165164167206),\n",
       " Distance(2420.810325521153),\n",
       " Distance(1857.3597944696994),\n",
       " Distance(8221.611420930607),\n",
       " Distance(16785.644351280185),\n",
       " Distance(1955.5749429913615),\n",
       " Distance(10831.18024654427),\n",
       " Distance(10709.549445492461),\n",
       " Distance(2389.6434081779807),\n",
       " Distance(254.3547779521411),\n",
       " Distance(208.28081666566004),\n",
       " Distance(11125.78408032555),\n",
       " Distance(2991.599146349302),\n",
       " Distance(5689.619869445437),\n",
       " Distance(10276.968717802172),\n",
       " Distance(2707.24652762894),\n",
       " Distance(5622.55273308012),\n",
       " Distance(3517.1105483711895),\n",
       " Distance(2075.2633999123823),\n",
       " Distance(1943.044605302013),\n",
       " Distance(2985.035704924535),\n",
       " Distance(9457.921673765428),\n",
       " Distance(3104.9636744841123),\n",
       " Distance(8799.117388579982),\n",
       " Distance(10868.876645541377),\n",
       " Distance(8178.873832104203),\n",
       " Distance(7950.323008830299),\n",
       " Distance(2666.9466436018056),\n",
       " Distance(1719.497892489036),\n",
       " Distance(3244.1055353428387),\n",
       " Distance(2148.581965805509),\n",
       " Distance(9568.65694079465),\n",
       " Distance(12842.086160185794),\n",
       " Distance(11293.17905865697),\n",
       " Distance(2361.5087366964544),\n",
       " Distance(2429.4517291114093),\n",
       " Distance(9331.803362042932),\n",
       " Distance(4652.383520406945),\n",
       " Distance(2247.496592024949),\n",
       " ...]"
      ]
     },
     "execution_count": 18,
     "metadata": {},
     "output_type": "execute_result"
    }
   ],
   "source": [
    "from geopy.distance import great_circle\n",
    "\n",
    "def distancefrom(id):\n",
    "    distance = []\n",
    "    city = dataset.loc[dataset['id']==id,['lat','lng']].iloc[0]\n",
    "    for column_name, item in dataset.iterrows():\n",
    "        distance.append(great_circle(city, dataset.loc[column_name,['lat','lng']]))\n",
    "    return distance\n",
    "a=distancefrom(1392685764)\n",
    "a"
   ]
  },
  {
   "cell_type": "code",
   "execution_count": 9,
   "id": "90541eaf65dd13eb",
   "metadata": {
    "ExecuteTime": {
     "end_time": "2023-11-04T20:48:11.114659100Z",
     "start_time": "2023-11-04T20:48:11.098646600Z"
    }
   },
   "outputs": [
    {
     "data": {
      "text/plain": [
       "country\n",
       "United States                               7768\n",
       "United Kingdom                              1798\n",
       "Germany                                     1606\n",
       "Russia                                      1161\n",
       "Japan                                        827\n",
       "                                            ... \n",
       "Northern Mariana Islands                       1\n",
       "Macau                                          1\n",
       "Singapore                                      1\n",
       "Martinique                                     1\n",
       "South Georgia And South Sandwich Islands       1\n",
       "Name: count, Length: 224, dtype: int64"
      ]
     },
     "execution_count": 9,
     "metadata": {},
     "output_type": "execute_result"
    }
   ],
   "source": [
    "f['country'].value_counts()"
   ]
  },
  {
   "cell_type": "code",
   "execution_count": 5,
   "id": "32486353",
   "metadata": {
    "ExecuteTime": {
     "end_time": "2023-11-17T16:03:34.429570500Z",
     "start_time": "2023-11-17T16:03:34.383868500Z"
    }
   },
   "outputs": [
    {
     "data": {
      "text/plain": "         city city_ascii      lat      lng        country iso2 iso3  \\\n748    Lisbon     Lisbon  38.7452  -9.1604       Portugal   PT  PRT   \n21265  Lisbon     Lisbon  44.0265 -70.0900  United States   US  USA   \n25366  Lisbon     Lisbon  40.7752 -80.7628  United States   US  USA   \n\n      admin_name  capital  population          id  \n748       Lisboa  primary    506654.0  1620619017  \n21265      Maine      NaN      8896.0  1840066320  \n25366       Ohio      NaN      5372.0  1840011932  ",
      "text/html": "<div>\n<style scoped>\n    .dataframe tbody tr th:only-of-type {\n        vertical-align: middle;\n    }\n\n    .dataframe tbody tr th {\n        vertical-align: top;\n    }\n\n    .dataframe thead th {\n        text-align: right;\n    }\n</style>\n<table border=\"1\" class=\"dataframe\">\n  <thead>\n    <tr style=\"text-align: right;\">\n      <th></th>\n      <th>city</th>\n      <th>city_ascii</th>\n      <th>lat</th>\n      <th>lng</th>\n      <th>country</th>\n      <th>iso2</th>\n      <th>iso3</th>\n      <th>admin_name</th>\n      <th>capital</th>\n      <th>population</th>\n      <th>id</th>\n    </tr>\n  </thead>\n  <tbody>\n    <tr>\n      <th>748</th>\n      <td>Lisbon</td>\n      <td>Lisbon</td>\n      <td>38.7452</td>\n      <td>-9.1604</td>\n      <td>Portugal</td>\n      <td>PT</td>\n      <td>PRT</td>\n      <td>Lisboa</td>\n      <td>primary</td>\n      <td>506654.0</td>\n      <td>1620619017</td>\n    </tr>\n    <tr>\n      <th>21265</th>\n      <td>Lisbon</td>\n      <td>Lisbon</td>\n      <td>44.0265</td>\n      <td>-70.0900</td>\n      <td>United States</td>\n      <td>US</td>\n      <td>USA</td>\n      <td>Maine</td>\n      <td>NaN</td>\n      <td>8896.0</td>\n      <td>1840066320</td>\n    </tr>\n    <tr>\n      <th>25366</th>\n      <td>Lisbon</td>\n      <td>Lisbon</td>\n      <td>40.7752</td>\n      <td>-80.7628</td>\n      <td>United States</td>\n      <td>US</td>\n      <td>USA</td>\n      <td>Ohio</td>\n      <td>NaN</td>\n      <td>5372.0</td>\n      <td>1840011932</td>\n    </tr>\n  </tbody>\n</table>\n</div>"
     },
     "execution_count": 5,
     "metadata": {},
     "output_type": "execute_result"
    }
   ],
   "source": [
    "f[(f['city'] == 'Lisbon')]"
   ]
  },
  {
   "cell_type": "code",
   "execution_count": 68,
   "outputs": [
    {
     "data": {
      "text/plain": "             city  city_ascii      lat       lng      country iso2 iso3  \\\n129        Sydney      Sydney -33.8650  151.2094    Australia   AU  AUS   \n312      Brisbane    Brisbane -27.4678  153.0281    Australia   AU  AUS   \n500      Auckland    Auckland -36.8500  174.7833  New Zealand   NZ  NZL   \n754      Canberra    Canberra -35.2931  149.1269    Australia   AU  AUS   \n755    Wellington  Wellington -41.2889  174.7772  New Zealand   NZ  NZL   \n...           ...         ...      ...       ...          ...  ...  ...   \n26542    Pakhachi    Pakhachi  60.5816  169.0500       Russia   RU  RUS   \n26546  Il’pyrskiy  Il'pyrskiy  59.9674  164.1720       Russia   RU  RUS   \n26549      Siglan      Siglan  59.0337  152.4166       Russia   RU  RUS   \n26550    Utkholok    Utkholok  57.5504  157.2333       Russia   RU  RUS   \n26566   Ambarchik   Ambarchik  69.6510  162.3336       Russia   RU  RUS   \n\n                         admin_name  capital  population          id  \n129                 New South Wales    admin   5312163.0  1036074917  \n312                      Queensland    admin   2514184.0  1036192929  \n500                        Auckland    admin   1467800.0  1554435911  \n754    Australian Capital Territory  primary    426704.0  1036142029  \n755                      Wellington  primary    418500.0  1554772152  \n...                             ...      ...         ...         ...  \n26542              Kamchatskiy Kray      NaN        10.0  1643406349  \n26546              Kamchatskiy Kray      NaN        10.0  1643660854  \n26549          Magadanskaya Oblast’      NaN        10.0  1643408923  \n26550              Kamchatskiy Kray      NaN        10.0  1643251905  \n26566              Sakha (Yakutiya)      NaN         0.0  1643739159  \n\n[372 rows x 11 columns]",
      "text/html": "<div>\n<style scoped>\n    .dataframe tbody tr th:only-of-type {\n        vertical-align: middle;\n    }\n\n    .dataframe tbody tr th {\n        vertical-align: top;\n    }\n\n    .dataframe thead th {\n        text-align: right;\n    }\n</style>\n<table border=\"1\" class=\"dataframe\">\n  <thead>\n    <tr style=\"text-align: right;\">\n      <th></th>\n      <th>city</th>\n      <th>city_ascii</th>\n      <th>lat</th>\n      <th>lng</th>\n      <th>country</th>\n      <th>iso2</th>\n      <th>iso3</th>\n      <th>admin_name</th>\n      <th>capital</th>\n      <th>population</th>\n      <th>id</th>\n    </tr>\n  </thead>\n  <tbody>\n    <tr>\n      <th>129</th>\n      <td>Sydney</td>\n      <td>Sydney</td>\n      <td>-33.8650</td>\n      <td>151.2094</td>\n      <td>Australia</td>\n      <td>AU</td>\n      <td>AUS</td>\n      <td>New South Wales</td>\n      <td>admin</td>\n      <td>5312163.0</td>\n      <td>1036074917</td>\n    </tr>\n    <tr>\n      <th>312</th>\n      <td>Brisbane</td>\n      <td>Brisbane</td>\n      <td>-27.4678</td>\n      <td>153.0281</td>\n      <td>Australia</td>\n      <td>AU</td>\n      <td>AUS</td>\n      <td>Queensland</td>\n      <td>admin</td>\n      <td>2514184.0</td>\n      <td>1036192929</td>\n    </tr>\n    <tr>\n      <th>500</th>\n      <td>Auckland</td>\n      <td>Auckland</td>\n      <td>-36.8500</td>\n      <td>174.7833</td>\n      <td>New Zealand</td>\n      <td>NZ</td>\n      <td>NZL</td>\n      <td>Auckland</td>\n      <td>admin</td>\n      <td>1467800.0</td>\n      <td>1554435911</td>\n    </tr>\n    <tr>\n      <th>754</th>\n      <td>Canberra</td>\n      <td>Canberra</td>\n      <td>-35.2931</td>\n      <td>149.1269</td>\n      <td>Australia</td>\n      <td>AU</td>\n      <td>AUS</td>\n      <td>Australian Capital Territory</td>\n      <td>primary</td>\n      <td>426704.0</td>\n      <td>1036142029</td>\n    </tr>\n    <tr>\n      <th>755</th>\n      <td>Wellington</td>\n      <td>Wellington</td>\n      <td>-41.2889</td>\n      <td>174.7772</td>\n      <td>New Zealand</td>\n      <td>NZ</td>\n      <td>NZL</td>\n      <td>Wellington</td>\n      <td>primary</td>\n      <td>418500.0</td>\n      <td>1554772152</td>\n    </tr>\n    <tr>\n      <th>...</th>\n      <td>...</td>\n      <td>...</td>\n      <td>...</td>\n      <td>...</td>\n      <td>...</td>\n      <td>...</td>\n      <td>...</td>\n      <td>...</td>\n      <td>...</td>\n      <td>...</td>\n      <td>...</td>\n    </tr>\n    <tr>\n      <th>26542</th>\n      <td>Pakhachi</td>\n      <td>Pakhachi</td>\n      <td>60.5816</td>\n      <td>169.0500</td>\n      <td>Russia</td>\n      <td>RU</td>\n      <td>RUS</td>\n      <td>Kamchatskiy Kray</td>\n      <td>NaN</td>\n      <td>10.0</td>\n      <td>1643406349</td>\n    </tr>\n    <tr>\n      <th>26546</th>\n      <td>Il’pyrskiy</td>\n      <td>Il'pyrskiy</td>\n      <td>59.9674</td>\n      <td>164.1720</td>\n      <td>Russia</td>\n      <td>RU</td>\n      <td>RUS</td>\n      <td>Kamchatskiy Kray</td>\n      <td>NaN</td>\n      <td>10.0</td>\n      <td>1643660854</td>\n    </tr>\n    <tr>\n      <th>26549</th>\n      <td>Siglan</td>\n      <td>Siglan</td>\n      <td>59.0337</td>\n      <td>152.4166</td>\n      <td>Russia</td>\n      <td>RU</td>\n      <td>RUS</td>\n      <td>Magadanskaya Oblast’</td>\n      <td>NaN</td>\n      <td>10.0</td>\n      <td>1643408923</td>\n    </tr>\n    <tr>\n      <th>26550</th>\n      <td>Utkholok</td>\n      <td>Utkholok</td>\n      <td>57.5504</td>\n      <td>157.2333</td>\n      <td>Russia</td>\n      <td>RU</td>\n      <td>RUS</td>\n      <td>Kamchatskiy Kray</td>\n      <td>NaN</td>\n      <td>10.0</td>\n      <td>1643251905</td>\n    </tr>\n    <tr>\n      <th>26566</th>\n      <td>Ambarchik</td>\n      <td>Ambarchik</td>\n      <td>69.6510</td>\n      <td>162.3336</td>\n      <td>Russia</td>\n      <td>RU</td>\n      <td>RUS</td>\n      <td>Sakha (Yakutiya)</td>\n      <td>NaN</td>\n      <td>0.0</td>\n      <td>1643739159</td>\n    </tr>\n  </tbody>\n</table>\n<p>372 rows × 11 columns</p>\n</div>"
     },
     "execution_count": 68,
     "metadata": {},
     "output_type": "execute_result"
    }
   ],
   "source": [
    "f[(f['lng'] > 145.1175) & (abs(f['lat'] - f.loc[f['id'] == 1620619017, 'lat'].values[0]))]"
   ],
   "metadata": {
    "collapsed": false,
    "ExecuteTime": {
     "end_time": "2023-11-16T18:15:25.091716700Z",
     "start_time": "2023-11-16T18:15:24.993992700Z"
    }
   },
   "id": "1f06483641bb019b"
  },
  {
   "cell_type": "code",
   "execution_count": 66,
   "outputs": [],
   "source": [
    "f = dataset = pd.read_excel('C:/Uni/Coding/python/worldcities.xlsx')\n",
    "visited_cities = []\n",
    "city_coords = (43.3942,145.1175)\n",
    "k = f.copy()\n",
    "t = f.copy()\n",
    "starting_city = 1620619017\n",
    "while next_city_id != starting_city:\n",
    "    f['Distance from prev'] = f.apply(\n",
    "                    lambda row: gc(city_coords, (row['lat'], row['lng'])).kilometers,\n",
    "                    axis=1\n",
    "                )\n",
    "    f['Diff_lat'] = abs(\n",
    "        f['lat'] - f.loc[f['id'] == 1620619017, 'lat'].values[0]\n",
    "    )\n",
    "    # Città a est della posizione corrente\n",
    "    east_cities = f[\n",
    "        (f['lng'] > city_coords[1]) & (f['Diff_lat'] < 10)  &\n",
    "        ~f['id'].isin(visited_cities)\n",
    "        ]\n",
    "    print(east_cities['city'])\n",
    "    \n",
    "    if east_cities.empty:\n",
    "        if city_coords[1] < 0:\n",
    "            f = k.copy()\n",
    "            print('sono qui')\n",
    "            east_cities = f[(f['lng'] > 0) & (f['Diff_lat'] < 10)]\n",
    "            f = f[f['lng'].between(0, 180)]\n",
    "        else:\n",
    "            f = t.copy()\n",
    "            east_cities = f[(f['lng'] < 0) & (abs(f['lat'] - f.loc[f['id'] == 1620619017, 'lat'].values[0]))]\n",
    "            print(east_cities['city'])\n",
    "            f = f[f['lng'].between(-180, start_coords[1])]\n",
    "    \n",
    "    # Ordina per latitudine differenziale e distanza dal punto precedente\n",
    "    east_cities = east_cities.sort_values(by='Distance from prev')[1:20]\n",
    "    east_cities = east_cities.sort_values(by='Diff_lat')[:3]\n",
    "    #east_cities = east_cities.sort_values(by='Distance from prev')[1:]\n",
    "    \n",
    "    if not east_cities.empty:\n",
    "        print(east_cities['city'].iloc[0], east_cities['lng'].iloc[0])\n",
    "    \n",
    "        next_city_id = east_cities['id'].iloc[0]\n",
    "        # Altri passaggi relativi a next_city_id\n",
    "    else:\n",
    "        # Gestisci il caso in cui east_cities sia vuoto\n",
    "        print('qua')\n",
    "        next_city_id = starting_city\n",
    "    \n",
    "    visited_cities.append(next_city_id)\n",
    "    city_coords = (\n",
    "        f.loc[f['id'] == next_city_id, 'lat'].values[0],\n",
    "        f.loc[f['id'] == next_city_id, 'lng'].values[0]\n",
    "    )\n",
    "    print(next_city_id)"
   ],
   "metadata": {
    "collapsed": false,
    "ExecuteTime": {
     "end_time": "2023-11-16T18:01:42.007489400Z",
     "start_time": "2023-11-16T18:01:38.009049700Z"
    }
   },
   "id": "3bc65b2bcb768574"
  },
  {
   "cell_type": "code",
   "execution_count": 64,
   "outputs": [
    {
     "data": {
      "text/plain": "                 city      city_ascii      lat       lng        country iso2  \\\n6           São Paulo       Sao Paulo -23.5504  -46.6339         Brazil   BR   \n8         Mexico City     Mexico City  19.4333  -99.1333         Mexico   MX   \n12           New York        New York  40.6943  -73.9249  United States   US   \n16       Buenos Aires    Buenos Aires -34.5997  -58.3819      Argentina   AR   \n27        Los Angeles     Los Angeles  34.1139 -118.4068  United States   US   \n...               ...             ...      ...       ...            ...  ...   \n26528       Puca Urco       Puca Urco  -2.3328  -71.9167           Peru   PE   \n26532  Soldado Bartra  Soldado Bartra  -2.5161  -75.7666           Peru   PE   \n26556        Zvëzdnyy        Zvezdnyy  70.9566 -179.5900         Russia   RU   \n26563            Nord            Nord  81.7166  -17.8000      Greenland   GL   \n26564     Timmiarmiut     Timmiarmiut  62.5333  -42.2167      Greenland   GL   \n\n      iso3                        admin_name  capital  population          id  \n6      BRA                         São Paulo    admin  22046000.0  1076532519  \n8      MEX                  Ciudad de México  primary  20996000.0  1484247881  \n12     USA                          New York      NaN  18713220.0  1840034016  \n16     ARG  Buenos Aires, Ciudad Autónoma de  primary  16157000.0  1032717330  \n27     USA                        California      NaN  12750807.0  1840020491  \n...    ...                               ...      ...         ...         ...  \n26528  PER                            Loreto      NaN        10.0  1604085670  \n26532  PER                            Loreto      NaN        10.0  1604302193  \n26556  RUS       Chukotskiy Avtonomnyy Okrug      NaN        10.0  1643877771  \n26563  GRL                        Sermersooq      NaN        10.0  1304217709  \n26564  GRL                          Kujalleq      NaN        10.0  1304206491  \n\n[13658 rows x 11 columns]",
      "text/html": "<div>\n<style scoped>\n    .dataframe tbody tr th:only-of-type {\n        vertical-align: middle;\n    }\n\n    .dataframe tbody tr th {\n        vertical-align: top;\n    }\n\n    .dataframe thead th {\n        text-align: right;\n    }\n</style>\n<table border=\"1\" class=\"dataframe\">\n  <thead>\n    <tr style=\"text-align: right;\">\n      <th></th>\n      <th>city</th>\n      <th>city_ascii</th>\n      <th>lat</th>\n      <th>lng</th>\n      <th>country</th>\n      <th>iso2</th>\n      <th>iso3</th>\n      <th>admin_name</th>\n      <th>capital</th>\n      <th>population</th>\n      <th>id</th>\n    </tr>\n  </thead>\n  <tbody>\n    <tr>\n      <th>6</th>\n      <td>São Paulo</td>\n      <td>Sao Paulo</td>\n      <td>-23.5504</td>\n      <td>-46.6339</td>\n      <td>Brazil</td>\n      <td>BR</td>\n      <td>BRA</td>\n      <td>São Paulo</td>\n      <td>admin</td>\n      <td>22046000.0</td>\n      <td>1076532519</td>\n    </tr>\n    <tr>\n      <th>8</th>\n      <td>Mexico City</td>\n      <td>Mexico City</td>\n      <td>19.4333</td>\n      <td>-99.1333</td>\n      <td>Mexico</td>\n      <td>MX</td>\n      <td>MEX</td>\n      <td>Ciudad de México</td>\n      <td>primary</td>\n      <td>20996000.0</td>\n      <td>1484247881</td>\n    </tr>\n    <tr>\n      <th>12</th>\n      <td>New York</td>\n      <td>New York</td>\n      <td>40.6943</td>\n      <td>-73.9249</td>\n      <td>United States</td>\n      <td>US</td>\n      <td>USA</td>\n      <td>New York</td>\n      <td>NaN</td>\n      <td>18713220.0</td>\n      <td>1840034016</td>\n    </tr>\n    <tr>\n      <th>16</th>\n      <td>Buenos Aires</td>\n      <td>Buenos Aires</td>\n      <td>-34.5997</td>\n      <td>-58.3819</td>\n      <td>Argentina</td>\n      <td>AR</td>\n      <td>ARG</td>\n      <td>Buenos Aires, Ciudad Autónoma de</td>\n      <td>primary</td>\n      <td>16157000.0</td>\n      <td>1032717330</td>\n    </tr>\n    <tr>\n      <th>27</th>\n      <td>Los Angeles</td>\n      <td>Los Angeles</td>\n      <td>34.1139</td>\n      <td>-118.4068</td>\n      <td>United States</td>\n      <td>US</td>\n      <td>USA</td>\n      <td>California</td>\n      <td>NaN</td>\n      <td>12750807.0</td>\n      <td>1840020491</td>\n    </tr>\n    <tr>\n      <th>...</th>\n      <td>...</td>\n      <td>...</td>\n      <td>...</td>\n      <td>...</td>\n      <td>...</td>\n      <td>...</td>\n      <td>...</td>\n      <td>...</td>\n      <td>...</td>\n      <td>...</td>\n      <td>...</td>\n    </tr>\n    <tr>\n      <th>26528</th>\n      <td>Puca Urco</td>\n      <td>Puca Urco</td>\n      <td>-2.3328</td>\n      <td>-71.9167</td>\n      <td>Peru</td>\n      <td>PE</td>\n      <td>PER</td>\n      <td>Loreto</td>\n      <td>NaN</td>\n      <td>10.0</td>\n      <td>1604085670</td>\n    </tr>\n    <tr>\n      <th>26532</th>\n      <td>Soldado Bartra</td>\n      <td>Soldado Bartra</td>\n      <td>-2.5161</td>\n      <td>-75.7666</td>\n      <td>Peru</td>\n      <td>PE</td>\n      <td>PER</td>\n      <td>Loreto</td>\n      <td>NaN</td>\n      <td>10.0</td>\n      <td>1604302193</td>\n    </tr>\n    <tr>\n      <th>26556</th>\n      <td>Zvëzdnyy</td>\n      <td>Zvezdnyy</td>\n      <td>70.9566</td>\n      <td>-179.5900</td>\n      <td>Russia</td>\n      <td>RU</td>\n      <td>RUS</td>\n      <td>Chukotskiy Avtonomnyy Okrug</td>\n      <td>NaN</td>\n      <td>10.0</td>\n      <td>1643877771</td>\n    </tr>\n    <tr>\n      <th>26563</th>\n      <td>Nord</td>\n      <td>Nord</td>\n      <td>81.7166</td>\n      <td>-17.8000</td>\n      <td>Greenland</td>\n      <td>GL</td>\n      <td>GRL</td>\n      <td>Sermersooq</td>\n      <td>NaN</td>\n      <td>10.0</td>\n      <td>1304217709</td>\n    </tr>\n    <tr>\n      <th>26564</th>\n      <td>Timmiarmiut</td>\n      <td>Timmiarmiut</td>\n      <td>62.5333</td>\n      <td>-42.2167</td>\n      <td>Greenland</td>\n      <td>GL</td>\n      <td>GRL</td>\n      <td>Kujalleq</td>\n      <td>NaN</td>\n      <td>10.0</td>\n      <td>1304206491</td>\n    </tr>\n  </tbody>\n</table>\n<p>13658 rows × 11 columns</p>\n</div>"
     },
     "execution_count": 64,
     "metadata": {},
     "output_type": "execute_result"
    }
   ],
   "source": [
    "east_cities = f[(f['lng'] < 0) & (abs(f['lat'] - f.loc[f['id'] == 1620619017, 'lat'].values[0]))]\n",
    "east_cities"
   ],
   "metadata": {
    "collapsed": false,
    "ExecuteTime": {
     "end_time": "2023-11-16T18:00:49.117269400Z",
     "start_time": "2023-11-16T18:00:49.053801100Z"
    }
   },
   "id": "f1f2cb16b1c8ded5"
  },
  {
   "cell_type": "code",
   "execution_count": 44,
   "id": "84817934fb0335bf",
   "metadata": {
    "ExecuteTime": {
     "end_time": "2023-11-04T22:32:50.610203Z",
     "start_time": "2023-11-04T22:32:50.308869100Z"
    }
   },
   "outputs": [],
   "source": [
    "a = f.loc[f['country'] == 'Portugal', 'id'].tolist()\n",
    "func.maps(a)"
   ]
  },
  {
   "cell_type": "code",
   "execution_count": 21,
   "id": "3b9b68bee878d4e4",
   "metadata": {
    "ExecuteTime": {
     "end_time": "2023-11-07T14:39:09.395683500Z",
     "start_time": "2023-11-07T14:39:07.912694200Z"
    }
   },
   "outputs": [],
   "source": [
    "data = []\n",
    "b = func.distance_between_two_cities(1380382862,1380724377,35)\n",
    "for city_id in b:\n",
    "    city_data = dataset[dataset['id'] == city_id]\n",
    "    if not city_data.empty:\n",
    "        lat = city_data['lat'].values[0]  # Accesso alla latitudine\n",
    "        lng = city_data['lng'].values[0]  # Accesso alla longitudine\n",
    "        coordinates = (lng, lat)  # Creazione di una tupla con le coordinate\n",
    "        data.append(coordinates)\n",
    "features = [geojson.Feature(geometry=geojson.Point(coord)) for coord in data]\n",
    "\n",
    "# Crea una FeatureCollection contenente le Feature\n",
    "#feature_collection = geojson.FeatureCollection(features)\n",
    "\n",
    "# Salva il GeoJSON in un file\n",
    "with open('output.geojson', 'w') as f:\n",
    "    geojson.dump(features, f)"
   ]
  },
  {
   "cell_type": "code",
   "execution_count": 24,
   "outputs": [
    {
     "data": {
      "text/plain": "[{\"geometry\": {\"coordinates\": [[12.4828, 41.8931]], \"type\": \"LineString\"}, \"properties\": {}, \"type\": \"Feature\"},\n {\"geometry\": {\"coordinates\": [[11.2542, 43.7714]], \"type\": \"LineString\"}, \"properties\": {}, \"type\": \"Feature\"},\n {\"geometry\": {\"coordinates\": [[9.7, 45.05]], \"type\": \"LineString\"}, \"properties\": {}, \"type\": \"Feature\"},\n {\"geometry\": {\"coordinates\": [[9.19, 45.4669]], \"type\": \"LineString\"}, \"properties\": {}, \"type\": \"Feature\"}]"
     },
     "execution_count": 24,
     "metadata": {},
     "output_type": "execute_result"
    }
   ],
   "source": [
    "features"
   ],
   "metadata": {
    "collapsed": false,
    "ExecuteTime": {
     "end_time": "2023-11-07T14:44:00.954100200Z",
     "start_time": "2023-11-07T14:44:00.938666400Z"
    }
   },
   "id": "cc77ae0942db808a"
  },
  {
   "cell_type": "code",
   "execution_count": 25,
   "outputs": [
    {
     "name": "stdout",
     "output_type": "stream",
     "text": [
      "Timestamp Unix corrente: 1699368460\n"
     ]
    }
   ],
   "source": [
    "from datetime import datetime\n",
    "\n",
    "def current_timestamp():\n",
    "    # Ottieni l'orario corrente\n",
    "    now = datetime.now()\n",
    "    \n",
    "    # Calcola il timestamp in formato Unix (secondi dal 1 gennaio 1970)\n",
    "    timestamp_unix = int(now.timestamp())\n",
    "    \n",
    "    return timestamp_unix\n",
    "\n",
    "# Utilizza la funzione per ottenere il timestamp corrente\n",
    "timestamp = current_timestamp()\n",
    "\n",
    "print(\"Timestamp Unix corrente:\", timestamp)\n"
   ],
   "metadata": {
    "collapsed": false,
    "ExecuteTime": {
     "end_time": "2023-11-07T14:47:40.833776100Z",
     "start_time": "2023-11-07T14:47:40.793905400Z"
    }
   },
   "id": "577a18b5ce5df1c3"
  },
  {
   "cell_type": "code",
   "execution_count": 30,
   "outputs": [],
   "source": [
    "import geojson\n",
    "\n",
    "# Supposing 'b' is a list of city IDs and 'dataset' contains city data\n",
    "line_strings = []\n",
    "\n",
    "for city_id in b:\n",
    "    city_data = dataset[dataset['id'] == city_id]\n",
    "        # Create a list of tuples with (longitude, latitude, altitude, timestamp)\n",
    "    coordinates = list(zip(\n",
    "        city_data['lng'], \n",
    "        city_data['lat'], \n",
    "        [0],  # Assuming altitude is 0 (you can change it as needed)\n",
    "         [current_timestamp()] # Replace 'timestamp' with the actual timestamp\n",
    "    ))\n",
    "\n",
    "    line_string = geojson.LineString(coordinates)\n",
    "    line_strings.append(line_string)\n",
    "\n",
    "# Create a Feature for each LineString\n",
    "features = [geojson.Feature(geometry=line) for line in line_strings]\n",
    "\n",
    "# Create a FeatureCollection containing the Features\n",
    "feature_collection = geojson.FeatureCollection(features)\n",
    "\n",
    "# Save the GeoJSON to a file\n",
    "with open('output.geojson', 'w') as f:\n",
    "    geojson.dump(feature_collection, f)\n"
   ],
   "metadata": {
    "collapsed": false,
    "ExecuteTime": {
     "end_time": "2023-11-07T14:50:55.640736800Z",
     "start_time": "2023-11-07T14:50:55.590451500Z"
    }
   },
   "id": "2f03bacad72950c8"
  },
  {
   "cell_type": "code",
   "execution_count": 12,
   "outputs": [
    {
     "data": {
      "text/plain": "lat    43.7714\nlng    11.2542\nName: 1664, dtype: float64"
     },
     "execution_count": 12,
     "metadata": {},
     "output_type": "execute_result"
    }
   ],
   "source": [
    "dataset[(dataset['id'] == b[1])][['lat', 'lng']].iloc[0]"
   ],
   "metadata": {
    "collapsed": false,
    "ExecuteTime": {
     "end_time": "2023-11-07T14:27:35.024434600Z",
     "start_time": "2023-11-07T14:27:34.959144300Z"
    }
   },
   "id": "35ab04eea0609479"
  },
  {
   "cell_type": "code",
   "execution_count": 33,
   "outputs": [
    {
     "name": "stderr",
     "output_type": "stream",
     "text": [
      "2023-11-09 10:56:29.934 \n",
      "  \u001B[33m\u001B[1mWarning:\u001B[0m to view this Streamlit app on a browser, run it with the following\n",
      "  command:\n",
      "\n",
      "    streamlit run C:\\Uni\\Coding\\python\\ENV_DIR\\Lib\\site-packages\\ipykernel_launcher.py [ARGUMENTS]\n"
     ]
    },
    {
     "data": {
      "text/plain": "DeltaGenerator()"
     },
     "execution_count": 33,
     "metadata": {},
     "output_type": "execute_result"
    }
   ],
   "source": [
    "import streamlit as st\n",
    "import plotly.graph_objects as go\n",
    "import pandas as pd\n",
    "\n",
    "# Create a Streamlit app\n",
    "st.title('3D Bar Chart on a Map with Streamlit')\n",
    "\n",
    "# Create a sample dataset (replace with your own data)\n",
    "data = {\n",
    "    'City': ['City A', 'City B', 'City C', 'City D'],\n",
    "    'Population': [1000000, 1500000, 800000, 1200000],\n",
    "    'Latitude': [40.7128, 34.0522, 41.8781, 29.7604],\n",
    "    'Longitude': [-74.0060, -118.2437, -87.6298, -95.3698]\n",
    "}\n",
    "\n",
    "df = pd.DataFrame(data)\n",
    "\n",
    "# Create a 3D bar chart using Plotly\n",
    "fig = go.Figure()\n",
    "\n",
    "for i, row in df.iterrows():\n",
    "    fig.add_trace(go.Scattergeo(\n",
    "        locationmode=\"USA-states\",\n",
    "        lat=[row[\"Latitude\"]],\n",
    "        lon=[row[\"Longitude\"]],\n",
    "        text=[row[\"City\"]],\n",
    "        name=row[\"City\"],\n",
    "        mode=\"markers\",\n",
    "        marker=dict(size=row[\"Population\"] / 100000, opacity=0.7)\n",
    "    ))\n",
    "\n",
    "fig.update_geos(\n",
    "    lataxis_range=[25, 55],\n",
    "    lonaxis_range=[-135, -60]\n",
    ")\n",
    "\n",
    "fig.update_layout(\n",
    "    geo=dict(\n",
    "        center={\"lat\": 38, \"lon\": -95},\n",
    "        projection_scale=7,\n",
    "    ),\n",
    "    title=\"3D Bar Chart on a Map\",\n",
    ")\n",
    "\n",
    "# Display the Plotly 3D chart in Streamlit\n",
    "st.plotly_chart(fig)\n"
   ],
   "metadata": {
    "collapsed": false,
    "ExecuteTime": {
     "end_time": "2023-11-09T09:56:30.367855400Z",
     "start_time": "2023-11-09T09:56:29.605078100Z"
    }
   },
   "id": "505f901392aa7ce6"
  },
  {
   "cell_type": "code",
   "execution_count": 6,
   "id": "b2745dcb06007943",
   "metadata": {
    "ExecuteTime": {
     "end_time": "2023-11-06T13:26:25.690003700Z",
     "start_time": "2023-11-06T13:26:25.642134800Z"
    }
   },
   "outputs": [
    {
     "data": {
      "text/html": [
       "<div>\n",
       "<style scoped>\n",
       "    .dataframe tbody tr th:only-of-type {\n",
       "        vertical-align: middle;\n",
       "    }\n",
       "\n",
       "    .dataframe tbody tr th {\n",
       "        vertical-align: top;\n",
       "    }\n",
       "\n",
       "    .dataframe thead th {\n",
       "        text-align: right;\n",
       "    }\n",
       "</style>\n",
       "<table border=\"1\" class=\"dataframe\">\n",
       "  <thead>\n",
       "    <tr style=\"text-align: right;\">\n",
       "      <th></th>\n",
       "      <th>city</th>\n",
       "      <th>city_ascii</th>\n",
       "      <th>lat</th>\n",
       "      <th>lng</th>\n",
       "      <th>country</th>\n",
       "      <th>iso2</th>\n",
       "      <th>iso3</th>\n",
       "      <th>admin_name</th>\n",
       "      <th>capital</th>\n",
       "      <th>population</th>\n",
       "      <th>id</th>\n",
       "    </tr>\n",
       "  </thead>\n",
       "  <tbody>\n",
       "    <tr>\n",
       "      <th>0</th>\n",
       "      <td>Tokyo</td>\n",
       "      <td>Tokyo</td>\n",
       "      <td>35.6897</td>\n",
       "      <td>139.6922</td>\n",
       "      <td>Japan</td>\n",
       "      <td>JP</td>\n",
       "      <td>JPN</td>\n",
       "      <td>Tōkyō</td>\n",
       "      <td>primary</td>\n",
       "      <td>37977000.0</td>\n",
       "      <td>1392685764</td>\n",
       "    </tr>\n",
       "    <tr>\n",
       "      <th>1</th>\n",
       "      <td>Jakarta</td>\n",
       "      <td>Jakarta</td>\n",
       "      <td>-6.2146</td>\n",
       "      <td>106.8451</td>\n",
       "      <td>Indonesia</td>\n",
       "      <td>ID</td>\n",
       "      <td>IDN</td>\n",
       "      <td>Jakarta</td>\n",
       "      <td>primary</td>\n",
       "      <td>34540000.0</td>\n",
       "      <td>1360771077</td>\n",
       "    </tr>\n",
       "    <tr>\n",
       "      <th>2</th>\n",
       "      <td>Delhi</td>\n",
       "      <td>Delhi</td>\n",
       "      <td>28.6600</td>\n",
       "      <td>77.2300</td>\n",
       "      <td>India</td>\n",
       "      <td>IN</td>\n",
       "      <td>IND</td>\n",
       "      <td>Delhi</td>\n",
       "      <td>admin</td>\n",
       "      <td>29617000.0</td>\n",
       "      <td>1356872604</td>\n",
       "    </tr>\n",
       "    <tr>\n",
       "      <th>3</th>\n",
       "      <td>Mumbai</td>\n",
       "      <td>Mumbai</td>\n",
       "      <td>18.9667</td>\n",
       "      <td>72.8333</td>\n",
       "      <td>India</td>\n",
       "      <td>IN</td>\n",
       "      <td>IND</td>\n",
       "      <td>Mahārāshtra</td>\n",
       "      <td>admin</td>\n",
       "      <td>23355000.0</td>\n",
       "      <td>1356226629</td>\n",
       "    </tr>\n",
       "    <tr>\n",
       "      <th>4</th>\n",
       "      <td>Manila</td>\n",
       "      <td>Manila</td>\n",
       "      <td>14.5958</td>\n",
       "      <td>120.9772</td>\n",
       "      <td>Philippines</td>\n",
       "      <td>PH</td>\n",
       "      <td>PHL</td>\n",
       "      <td>Manila</td>\n",
       "      <td>primary</td>\n",
       "      <td>23088000.0</td>\n",
       "      <td>1608618140</td>\n",
       "    </tr>\n",
       "    <tr>\n",
       "      <th>...</th>\n",
       "      <td>...</td>\n",
       "      <td>...</td>\n",
       "      <td>...</td>\n",
       "      <td>...</td>\n",
       "      <td>...</td>\n",
       "      <td>...</td>\n",
       "      <td>...</td>\n",
       "      <td>...</td>\n",
       "      <td>...</td>\n",
       "      <td>...</td>\n",
       "      <td>...</td>\n",
       "    </tr>\n",
       "    <tr>\n",
       "      <th>9469</th>\n",
       "      <td>Wé</td>\n",
       "      <td>We</td>\n",
       "      <td>-20.9000</td>\n",
       "      <td>167.2667</td>\n",
       "      <td>New Caledonia</td>\n",
       "      <td>NC</td>\n",
       "      <td>NCL</td>\n",
       "      <td>Province Îles</td>\n",
       "      <td>admin</td>\n",
       "      <td>NaN</td>\n",
       "      <td>1540672599</td>\n",
       "    </tr>\n",
       "    <tr>\n",
       "      <th>9470</th>\n",
       "      <td>Preševo</td>\n",
       "      <td>Presevo</td>\n",
       "      <td>42.3067</td>\n",
       "      <td>21.6500</td>\n",
       "      <td>Serbia</td>\n",
       "      <td>RS</td>\n",
       "      <td>SRB</td>\n",
       "      <td>Preševo</td>\n",
       "      <td>admin</td>\n",
       "      <td>NaN</td>\n",
       "      <td>1688970219</td>\n",
       "    </tr>\n",
       "    <tr>\n",
       "      <th>9471</th>\n",
       "      <td>Bujanovac</td>\n",
       "      <td>Bujanovac</td>\n",
       "      <td>42.4667</td>\n",
       "      <td>21.7667</td>\n",
       "      <td>Serbia</td>\n",
       "      <td>RS</td>\n",
       "      <td>SRB</td>\n",
       "      <td>Bujanovac</td>\n",
       "      <td>admin</td>\n",
       "      <td>NaN</td>\n",
       "      <td>1688743477</td>\n",
       "    </tr>\n",
       "    <tr>\n",
       "      <th>9472</th>\n",
       "      <td>Kitamilo</td>\n",
       "      <td>Kitamilo</td>\n",
       "      <td>0.2222</td>\n",
       "      <td>33.2061</td>\n",
       "      <td>Uganda</td>\n",
       "      <td>UG</td>\n",
       "      <td>UGA</td>\n",
       "      <td>Buvuma</td>\n",
       "      <td>admin</td>\n",
       "      <td>NaN</td>\n",
       "      <td>1800610172</td>\n",
       "    </tr>\n",
       "    <tr>\n",
       "      <th>9473</th>\n",
       "      <td>Tarrafal</td>\n",
       "      <td>Tarrafal</td>\n",
       "      <td>15.2833</td>\n",
       "      <td>-23.7667</td>\n",
       "      <td>Cabo Verde</td>\n",
       "      <td>CV</td>\n",
       "      <td>CPV</td>\n",
       "      <td>Tarrafal</td>\n",
       "      <td>admin</td>\n",
       "      <td>NaN</td>\n",
       "      <td>1132834308</td>\n",
       "    </tr>\n",
       "  </tbody>\n",
       "</table>\n",
       "<p>26569 rows × 11 columns</p>\n",
       "</div>"
      ],
      "text/plain": [
       "           city city_ascii      lat       lng        country iso2 iso3  \\\n",
       "0         Tokyo      Tokyo  35.6897  139.6922          Japan   JP  JPN   \n",
       "1       Jakarta    Jakarta  -6.2146  106.8451      Indonesia   ID  IDN   \n",
       "2         Delhi      Delhi  28.6600   77.2300          India   IN  IND   \n",
       "3        Mumbai     Mumbai  18.9667   72.8333          India   IN  IND   \n",
       "4        Manila     Manila  14.5958  120.9772    Philippines   PH  PHL   \n",
       "...         ...        ...      ...       ...            ...  ...  ...   \n",
       "9469         Wé         We -20.9000  167.2667  New Caledonia   NC  NCL   \n",
       "9470    Preševo    Presevo  42.3067   21.6500         Serbia   RS  SRB   \n",
       "9471  Bujanovac  Bujanovac  42.4667   21.7667         Serbia   RS  SRB   \n",
       "9472   Kitamilo   Kitamilo   0.2222   33.2061         Uganda   UG  UGA   \n",
       "9473   Tarrafal   Tarrafal  15.2833  -23.7667     Cabo Verde   CV  CPV   \n",
       "\n",
       "         admin_name  capital  population          id  \n",
       "0             Tōkyō  primary  37977000.0  1392685764  \n",
       "1           Jakarta  primary  34540000.0  1360771077  \n",
       "2             Delhi    admin  29617000.0  1356872604  \n",
       "3       Mahārāshtra    admin  23355000.0  1356226629  \n",
       "4            Manila  primary  23088000.0  1608618140  \n",
       "...             ...      ...         ...         ...  \n",
       "9469  Province Îles    admin         NaN  1540672599  \n",
       "9470        Preševo    admin         NaN  1688970219  \n",
       "9471      Bujanovac    admin         NaN  1688743477  \n",
       "9472         Buvuma    admin         NaN  1800610172  \n",
       "9473       Tarrafal    admin         NaN  1132834308  \n",
       "\n",
       "[26569 rows x 11 columns]"
      ]
     },
     "execution_count": 6,
     "metadata": {},
     "output_type": "execute_result"
    }
   ],
   "source": [
    "f.sort_values(by='population', ascending=False)"
   ]
  },
  {
   "cell_type": "code",
   "execution_count": 2,
   "id": "77dcddb89ff627e4",
   "metadata": {
    "ExecuteTime": {
     "end_time": "2023-10-28T09:30:58.147571900Z",
     "start_time": "2023-10-28T09:30:57.269063700Z"
    }
   },
   "outputs": [
    {
     "data": {
      "text/html": [
       "<div>\n",
       "<style scoped>\n",
       "    .dataframe tbody tr th:only-of-type {\n",
       "        vertical-align: middle;\n",
       "    }\n",
       "\n",
       "    .dataframe tbody tr th {\n",
       "        vertical-align: top;\n",
       "    }\n",
       "\n",
       "    .dataframe thead th {\n",
       "        text-align: right;\n",
       "    }\n",
       "</style>\n",
       "<table border=\"1\" class=\"dataframe\">\n",
       "  <thead>\n",
       "    <tr style=\"text-align: right;\">\n",
       "      <th></th>\n",
       "      <th>city</th>\n",
       "      <th>city_ascii</th>\n",
       "      <th>lat</th>\n",
       "      <th>lng</th>\n",
       "      <th>country</th>\n",
       "      <th>iso2</th>\n",
       "      <th>iso3</th>\n",
       "      <th>admin_name</th>\n",
       "      <th>capital</th>\n",
       "      <th>population</th>\n",
       "      <th>id</th>\n",
       "      <th>Distance from start</th>\n",
       "    </tr>\n",
       "  </thead>\n",
       "  <tbody>\n",
       "    <tr>\n",
       "      <th>2771</th>\n",
       "      <td>Parma</td>\n",
       "      <td>Parma</td>\n",
       "      <td>44.8015</td>\n",
       "      <td>10.3280</td>\n",
       "      <td>Italy</td>\n",
       "      <td>IT</td>\n",
       "      <td>ITA</td>\n",
       "      <td>Emilia-Romagna</td>\n",
       "      <td>minor</td>\n",
       "      <td>194417.0</td>\n",
       "      <td>1380655938</td>\n",
       "      <td>56.638928</td>\n",
       "    </tr>\n",
       "    <tr>\n",
       "      <th>536</th>\n",
       "      <td>Milan</td>\n",
       "      <td>Milan</td>\n",
       "      <td>45.4669</td>\n",
       "      <td>9.1900</td>\n",
       "      <td>Italy</td>\n",
       "      <td>IT</td>\n",
       "      <td>ITA</td>\n",
       "      <td>Lombardy</td>\n",
       "      <td>admin</td>\n",
       "      <td>1351562.0</td>\n",
       "      <td>1380724377</td>\n",
       "      <td>61.175452</td>\n",
       "    </tr>\n",
       "    <tr>\n",
       "      <th>2722</th>\n",
       "      <td>Brescia</td>\n",
       "      <td>Brescia</td>\n",
       "      <td>45.5389</td>\n",
       "      <td>10.2203</td>\n",
       "      <td>Italy</td>\n",
       "      <td>IT</td>\n",
       "      <td>ITA</td>\n",
       "      <td>Lombardy</td>\n",
       "      <td>minor</td>\n",
       "      <td>197008.0</td>\n",
       "      <td>1380432555</td>\n",
       "      <td>67.909551</td>\n",
       "    </tr>\n",
       "  </tbody>\n",
       "</table>\n",
       "</div>"
      ],
      "text/plain": [
       "         city city_ascii      lat      lng country iso2 iso3      admin_name  \\\n",
       "2771    Parma      Parma  44.8015  10.3280   Italy   IT  ITA  Emilia-Romagna   \n",
       "536     Milan      Milan  45.4669   9.1900   Italy   IT  ITA        Lombardy   \n",
       "2722  Brescia    Brescia  45.5389  10.2203   Italy   IT  ITA        Lombardy   \n",
       "\n",
       "     capital  population          id  Distance from start  \n",
       "2771   minor    194417.0  1380655938            56.638928  \n",
       "536    admin   1351562.0  1380724377            61.175452  \n",
       "2722   minor    197008.0  1380432555            67.909551  "
      ]
     },
     "execution_count": 2,
     "metadata": {},
     "output_type": "execute_result"
    }
   ],
   "source": [
    "func.three_close_city(1380821832)[:3]"
   ]
  },
  {
   "cell_type": "code",
   "execution_count": null,
   "id": "3f50f547244a29cf",
   "metadata": {},
   "outputs": [],
   "source": []
  },
  {
   "cell_type": "code",
   "execution_count": 42,
   "id": "88c33e5e1febbfdc",
   "metadata": {
    "ExecuteTime": {
     "end_time": "2023-11-03T12:41:29.321417500Z",
     "start_time": "2023-11-03T12:41:29.207048400Z"
    }
   },
   "outputs": [
    {
     "data": {
      "text/html": [
       "<div>\n",
       "<style scoped>\n",
       "    .dataframe tbody tr th:only-of-type {\n",
       "        vertical-align: middle;\n",
       "    }\n",
       "\n",
       "    .dataframe tbody tr th {\n",
       "        vertical-align: top;\n",
       "    }\n",
       "\n",
       "    .dataframe thead th {\n",
       "        text-align: right;\n",
       "    }\n",
       "</style>\n",
       "<table border=\"1\" class=\"dataframe\">\n",
       "  <thead>\n",
       "    <tr style=\"text-align: right;\">\n",
       "      <th></th>\n",
       "      <th>city</th>\n",
       "      <th>city_ascii</th>\n",
       "      <th>lat</th>\n",
       "      <th>lng</th>\n",
       "      <th>country</th>\n",
       "      <th>iso2</th>\n",
       "      <th>iso3</th>\n",
       "      <th>admin_name</th>\n",
       "      <th>capital</th>\n",
       "      <th>population</th>\n",
       "      <th>id</th>\n",
       "      <th>Distance from current</th>\n",
       "      <th>Valid</th>\n",
       "    </tr>\n",
       "  </thead>\n",
       "  <tbody>\n",
       "    <tr>\n",
       "      <th>13224</th>\n",
       "      <td>Labasa</td>\n",
       "      <td>Labasa</td>\n",
       "      <td>-16.4333</td>\n",
       "      <td>179.3667</td>\n",
       "      <td>Fiji</td>\n",
       "      <td>FJ</td>\n",
       "      <td>FJI</td>\n",
       "      <td>Macuata</td>\n",
       "      <td>NaN</td>\n",
       "      <td>27949.0</td>\n",
       "      <td>1242740801</td>\n",
       "      <td>0.0</td>\n",
       "      <td>False</td>\n",
       "    </tr>\n",
       "  </tbody>\n",
       "</table>\n",
       "</div>"
      ],
      "text/plain": [
       "         city city_ascii      lat       lng country iso2 iso3 admin_name  \\\n",
       "13224  Labasa     Labasa -16.4333  179.3667    Fiji   FJ  FJI    Macuata   \n",
       "\n",
       "      capital  population          id  Distance from current  Valid  \n",
       "13224     NaN     27949.0  1242740801                    0.0  False  "
      ]
     },
     "execution_count": 42,
     "metadata": {},
     "output_type": "execute_result"
    }
   ],
   "source": [
    "f[f['lng']==f['lng'].min()]"
   ]
  },
  {
   "cell_type": "code",
   "execution_count": 6,
   "id": "17a06b9fc40fb58a",
   "metadata": {
    "ExecuteTime": {
     "end_time": "2023-10-28T12:33:24.589836900Z",
     "start_time": "2023-10-28T12:31:19.023022300Z"
    }
   },
   "outputs": [
    {
     "name": "stdout",
     "output_type": "stream",
     "text": [
      "Campobasso\n",
      "Bari\n",
      "Budva\n",
      "Pukë\n",
      "Damjan\n",
      "Shtërpcë\n",
      "Čučer-Sandevo\n",
      "Kumanovo\n",
      "Kratovo\n",
      "Kyustendil\n",
      "Simitli\n",
      "Yakoruda\n",
      "Krichim\n",
      "Parvomay\n",
      "Harmanli\n",
      "Orestiáda\n",
      "Tekirdağ\n",
      "Yalova\n",
      "Düzce\n",
      "Karabük\n",
      "Bayat\n",
      "Pazar\n",
      "Divriği\n",
      "Bingöl\n",
      "Tatvan\n",
      "Hakkari\n",
      "Pīrānshahr\n",
      "Marīvān\n",
      "Kermānshāh\n",
      "Dorūd\n",
      "Dehaq\n",
      "Dastgerd\n",
      "Mobārakeh\n",
      "Ţālkhvoncheh\n",
      "Shahreẕā\n",
      "Semīrom\n",
      "Bahman\n",
      "Taft\n",
      "Zarand\n",
      "Zāhedān\n",
      "Chaman\n",
      "Dera Ghazi Khan\n",
      "Hasilpur\n",
      "Abohar\n",
      "Hisar\n",
      "Alwar\n",
      "Āgra\n",
      "Etāwah\n",
      "Fatehpur\n",
      "Vārānasi\n",
      "Rājgīr\n",
      "Jāmuria\n",
      "Baidyabāti\n",
      "Dam Dam\n",
      "Hābra\n",
      "Bangaon\n",
      "Basīrhat\n",
      "Kolkāta\n",
      "Jaynagar-Majilpur\n",
      "Bārāsat\n",
      "Haldia\n",
      "Madhyamgram\n",
      "Hāora\n",
      "Kāmārhāti\n",
      "Bāli\n",
      "Pānihāti\n",
      "Khardah\n",
      "Rishra\n",
      "Titāgarh\n",
      "Shrīrāmpur\n",
      "Champdani\n",
      "Bhātpāra\n",
      "Bhadreswar\n",
      "Naihāti\n",
      "Chandannagar\n",
      "Hugli\n",
      "Hālīsahar\n",
      "Kānchrāpāra\n",
      "Kalyani\n",
      "Bānsbāria\n",
      "Shāntipur\n",
      "Krishnanagar\n",
      "Jessore\n",
      "Khulna\n",
      "Barishal\n",
      "Chattogram\n",
      "Sittwe\n",
      "Hinthada\n",
      "Mudon\n",
      "Uthai Thani\n",
      "Kaeng Khoi\n",
      "Prachin Buri\n",
      "Sa Kaeo\n",
      "Pailin\n",
      "Koh Kong\n",
      "Krong Kep\n",
      "Cà Mau\n",
      "Bạc Liêu\n",
      "Vũng Tàu\n",
      "Phan Thiết\n",
      "Phan Rang-Tháp Chàm\n",
      "Cam Ranh\n",
      "Cam Ranh\n",
      "Nha Trang\n",
      "Đà Lạt\n",
      "Ấp Đa Lợi\n",
      "Biên Hòa\n",
      "Trà Vinh\n",
      "Sóc Trăng\n",
      "Bến Tre\n",
      "Mỹ Tho\n",
      "Tân An\n",
      "Cần Thơ\n",
      "Vị Thanh\n",
      "Ho Chi Minh City\n",
      "Vĩnh Long\n",
      "Thủ Dầu Một\n",
      "Sa Đéc\n",
      "Cao Lãnh\n",
      "Rạch Giá\n",
      "Long Xuyên\n",
      "Tây Ninh\n",
      "Đồng Xoài\n",
      "Gia Nghĩa\n",
      "Tuy Hòa\n",
      "Buôn Ma Thuột\n",
      "Quy Nhơn\n",
      "Sen Monorom\n",
      "Bình Long\n",
      "Svay Rieng\n",
      "Châu Đốc\n",
      "Phú Quốc\n",
      "Takeo\n",
      "Prey Veng\n",
      "Suong\n",
      "Ta Khmau\n",
      "Kampot\n",
      "Phnom Penh\n",
      "Kratie\n",
      "Kampong Cham\n",
      "Kampong Speu\n",
      "Sihanoukville\n",
      "Kampong Chhnang\n",
      "Stung Treng\n",
      "Lumphat\n",
      "Pleiku\n",
      "Kon Tum\n",
      "Quảng Ngãi\n",
      "Banlung\n",
      "Attapu\n",
      "Tam Kỳ\n",
      "Hội An\n",
      "Quảng Hà\n",
      "Đà Nẵng\n",
      "Xékong\n",
      "Champasak\n",
      "Tbeng Meanchey\n",
      "Kampong Thom\n",
      "Kampong Thum\n",
      "Pursat\n",
      "Siem Reap\n",
      "Trat\n",
      "Battambang\n",
      "Khlung\n",
      "Chanthaburi\n",
      "Tha Mai\n",
      "Aranyaprathet\n",
      "Sisophon\n",
      "Samraong\n",
      "Det Udom\n",
      "Pakxé\n",
      "Salavan\n",
      "Huế\n",
      "Sanya\n",
      "Wancheng\n",
      "Jiaji\n",
      "Wencheng\n",
      "Chongshan\n",
      "Quảng Trị\n",
      "Phibun Mangsahan\n",
      "Kantharalak\n",
      "Warin Chamrap\n",
      "Ubon Ratchathani\n",
      "Si Sa Ket\n",
      "Amnat Charoen\n",
      "Surin\n",
      "Yasothon\n",
      "Buri Ram\n",
      "Nang Rong\n",
      "Wang Nam Yen\n",
      "Rayong\n",
      "Ban Map Ta Phut\n",
      "Ban Chang\n",
      "Sattahip\n",
      "Ban Nong Prue\n",
      "Phatthaya\n",
      "Ban Laem Chabang\n",
      "Ban Bueng\n",
      "Si Racha\n",
      "Phanat Nikhom\n",
      "Ban Saen Suk\n",
      "Chon Buri\n",
      "Ban Suan\n",
      "Ban Ang Sila\n",
      "Chachoengsao\n",
      "Ban Bang Kaeo\n",
      "Samut Prakan\n",
      "Phra Pradaeng\n",
      "Bangkok\n",
      "Bang Kruai\n",
      "Ban Khlong Ton Madua\n",
      "Samut Sakhon\n",
      "Ban Sai Ma Tai\n",
      "Ban Lam Sam Kaeo\n",
      "Nonthaburi\n",
      "Ban Om Noi\n",
      "Krathum Baen\n",
      "Samut Songkhram\n",
      "Cha-am\n",
      "Prachuap Khiri Khan\n",
      "Chumphon\n",
      "Pak Phanang\n",
      "Sadao\n",
      "Narathiwat\n",
      "Kuala Terengganu\n",
      "Kuantan\n",
      "Singapore\n",
      "Jambi\n",
      "Pangkalpinang\n",
      "Bekasi\n",
      "Magelang\n",
      "Malang\n",
      "Kulat\n",
      "Raba\n",
      "Kupang\n",
      "Lospalos\n",
      "Howard Springs\n",
      "Katherine\n",
      "Camooweal\n",
      "Windorah\n",
      "Bourke\n",
      "Mudgee\n",
      "Penrith\n",
      "Sydney\n"
     ]
    }
   ],
   "source": [
    "a =  func.distance_between_two_cities()"
   ]
  },
  {
   "cell_type": "code",
   "execution_count": 42,
   "id": "4c8e5889ccd149f3",
   "metadata": {
    "ExecuteTime": {
     "end_time": "2023-10-28T13:00:55.235562700Z",
     "start_time": "2023-10-28T13:00:55.219673200Z"
    }
   },
   "outputs": [],
   "source": [
    "mappa = folium.Map(location=[45.5236, -122.6750], zoom_start=0)"
   ]
  },
  {
   "cell_type": "code",
   "execution_count": 43,
   "id": "2af4a09e5411f7c5",
   "metadata": {
    "ExecuteTime": {
     "end_time": "2023-10-28T13:00:59.836102300Z",
     "start_time": "2023-10-28T13:00:59.687687300Z"
    }
   },
   "outputs": [],
   "source": [
    "for i in range(len(a)): \n",
    "    s = f[(f['id'] == a[i])][['lat', 'lng']].values[0]\n",
    "    #[f[(f['id'] == a[i])][['lat']].values[i],[f[(f['id'] == a[i])][['lng']].values[i]]]\n",
    "    folium.Marker(s).add_to(mappa)"
   ]
  },
  {
   "cell_type": "code",
   "execution_count": 28,
   "id": "45c337cc75e6094e",
   "metadata": {
    "ExecuteTime": {
     "end_time": "2023-10-28T12:49:18.654192700Z",
     "start_time": "2023-10-28T12:49:18.638335600Z"
    }
   },
   "outputs": [
    {
     "name": "stdout",
     "output_type": "stream",
     "text": [
      "1380382862\n",
      "1380959273\n",
      "1380991126\n",
      "1499564238\n",
      "1008739218\n",
      "1901520545\n",
      "1901828239\n",
      "1807969277\n",
      "1807301219\n",
      "1807262234\n",
      "1100543134\n",
      "1100000742\n",
      "1100407647\n",
      "1100205448\n",
      "1100284082\n",
      "1100003361\n",
      "1300874812\n",
      "1792519395\n",
      "1792838138\n",
      "1792999306\n",
      "1792834766\n",
      "1792851737\n",
      "1792303628\n",
      "1792352411\n",
      "1792920183\n",
      "1792530559\n",
      "1792629133\n",
      "1364699746\n",
      "1364680490\n",
      "1364535690\n",
      "1364662084\n",
      "1364662944\n",
      "1364996387\n",
      "1364110841\n",
      "1364903302\n",
      "1364242660\n",
      "1364089259\n",
      "1364686179\n",
      "1364828948\n",
      "1364870175\n",
      "1364072353\n",
      "1586640695\n",
      "1586002238\n",
      "1586677874\n",
      "1356846795\n",
      "1356004790\n",
      "1356570855\n",
      "1356187395\n",
      "1356241312\n",
      "1356059135\n",
      "1356145782\n",
      "1356823690\n",
      "1356777057\n",
      "1356079081\n",
      "1356051452\n",
      "1356091822\n",
      "1356624441\n",
      "1356109985\n",
      "1356060520\n",
      "1356557030\n",
      "1356550583\n",
      "1356491171\n",
      "1356501701\n",
      "1356986516\n",
      "1356676559\n",
      "1356113138\n",
      "1356118632\n",
      "1356765227\n",
      "1356339732\n",
      "1356590173\n",
      "1356021505\n",
      "1356132208\n",
      "1356022456\n",
      "1356320019\n",
      "1356715598\n",
      "1356174802\n",
      "1356109548\n",
      "1356242644\n",
      "1356022687\n",
      "1356108133\n",
      "1356897672\n",
      "1356584320\n",
      "1356128689\n",
      "1050244487\n",
      "1050667339\n",
      "1050297281\n",
      "1050830722\n",
      "1104269305\n",
      "1104524588\n",
      "1104174785\n",
      "1764844835\n",
      "1764167813\n",
      "1764262472\n",
      "1764207048\n",
      "1116050327\n",
      "1116924669\n",
      "1116392544\n",
      "1704320474\n",
      "1704298745\n",
      "1704581438\n",
      "1704221456\n",
      "1704094609\n",
      "1704104189\n",
      "1704516746\n",
      "1704497901\n",
      "1704933464\n",
      "1704613422\n",
      "1704863046\n",
      "1704929966\n",
      "1704758756\n",
      "1704108909\n",
      "1704000376\n",
      "1704199290\n",
      "1704783472\n",
      "1704210026\n",
      "1704774326\n",
      "1704262419\n",
      "1704890399\n",
      "1704983576\n",
      "1704276832\n",
      "1704872008\n",
      "1704453892\n",
      "1704250951\n",
      "1704845487\n",
      "1704361005\n",
      "1704697424\n",
      "1704542086\n",
      "1704056461\n",
      "1116978997\n",
      "1704953411\n",
      "1116432743\n",
      "1704020910\n",
      "1704992616\n",
      "1116674518\n",
      "1116378797\n",
      "1116319433\n",
      "1116571704\n",
      "1116966757\n",
      "1116260534\n",
      "1116453792\n",
      "1116115849\n",
      "1116446492\n",
      "1116098692\n",
      "1116735270\n",
      "1116286673\n",
      "1116149070\n",
      "1704220080\n",
      "1704988146\n",
      "1704029499\n",
      "1116605438\n",
      "1418894454\n",
      "1704410655\n",
      "1704897050\n",
      "1704966442\n",
      "1704949870\n",
      "1418000082\n",
      "1418902447\n",
      "1116207762\n",
      "1116471297\n",
      "1116000326\n",
      "1116566865\n",
      "1116263015\n",
      "1764126822\n",
      "1116106237\n",
      "1764654331\n",
      "1764151688\n",
      "1764588619\n",
      "1764167237\n",
      "1116276411\n",
      "1116989175\n",
      "1764920064\n",
      "1418863956\n",
      "1418448631\n",
      "1704016023\n",
      "1156373900\n",
      "1156017483\n",
      "1156658217\n",
      "1156985313\n",
      "1156147494\n",
      "1704089491\n",
      "1764591980\n",
      "1764009547\n",
      "1764105770\n",
      "1764611048\n",
      "1764002764\n",
      "1764038011\n",
      "1764813179\n",
      "1764520637\n",
      "1764141031\n",
      "1764430858\n",
      "1764123627\n",
      "1764920057\n",
      "1764852224\n",
      "1764733644\n",
      "1764518101\n",
      "1764743967\n",
      "1764492695\n",
      "1764108164\n",
      "1764134032\n",
      "1764003327\n",
      "1764762615\n",
      "1764664241\n",
      "1764202077\n",
      "1764305340\n",
      "1764931523\n",
      "1764632382\n",
      "1764813354\n",
      "1764159228\n",
      "1764849819\n",
      "1764068610\n",
      "1764357378\n",
      "1764645463\n",
      "1764502057\n",
      "1764698508\n",
      "1764012428\n",
      "1764667935\n",
      "1764298817\n",
      "1764425264\n",
      "1764305010\n",
      "1764087780\n",
      "1764877766\n",
      "1764012939\n",
      "1764714642\n",
      "1764417199\n",
      "1764748532\n",
      "1458475563\n",
      "1458763489\n",
      "1702341327\n",
      "1360645580\n",
      "1360901919\n",
      "1360006015\n",
      "1360065728\n",
      "1360141408\n",
      "1360003468\n",
      "1360014952\n",
      "1360696757\n",
      "1626878399\n",
      "1036674070\n",
      "1036323110\n",
      "1036815011\n",
      "1036272226\n",
      "1036074667\n",
      "1036213564\n",
      "1036796452\n",
      "1036074917\n"
     ]
    }
   ],
   "source": [
    "for i in range(len(a)):\n",
    "    print(a[i])"
   ]
  },
  {
   "cell_type": "code",
   "execution_count": 34,
   "id": "4ba15f4f872bb6eb",
   "metadata": {
    "ExecuteTime": {
     "end_time": "2023-10-28T12:50:53.270764300Z",
     "start_time": "2023-10-28T12:50:53.267704500Z"
    }
   },
   "outputs": [
    {
     "data": {
      "text/plain": [
       "[         lat\n",
       " 280  41.8931]"
      ]
     },
     "execution_count": 34,
     "metadata": {},
     "output_type": "execute_result"
    }
   ],
   "source": [
    "[f[(f['id'] == a[i])][['lat']]]"
   ]
  },
  {
   "cell_type": "code",
   "execution_count": 44,
   "id": "4ef63e10e8f23ca0",
   "metadata": {
    "ExecuteTime": {
     "end_time": "2023-10-28T13:01:02.750799100Z",
     "start_time": "2023-10-28T13:01:02.603867100Z"
    }
   },
   "outputs": [
    {
     "data": {
      "text/html": [
       "<div style=\"width:100%;\"><div style=\"position:relative;width:100%;height:0;padding-bottom:60%;\"><span style=\"color:#565656\">Make this Notebook Trusted to load map: File -> Trust Notebook</span><iframe srcdoc=\"&lt;!DOCTYPE html&gt;\n",
       "&lt;html&gt;\n",
       "&lt;head&gt;\n",
       "    \n",
       "    &lt;meta http-equiv=&quot;content-type&quot; content=&quot;text/html; charset=UTF-8&quot; /&gt;\n",
       "    \n",
       "        &lt;script&gt;\n",
       "            L_NO_TOUCH = false;\n",
       "            L_DISABLE_3D = false;\n",
       "        &lt;/script&gt;\n",
       "    \n",
       "    &lt;style&gt;html, body {width: 100%;height: 100%;margin: 0;padding: 0;}&lt;/style&gt;\n",
       "    &lt;style&gt;#map {position:absolute;top:0;bottom:0;right:0;left:0;}&lt;/style&gt;\n",
       "    &lt;script src=&quot;https://cdn.jsdelivr.net/npm/leaflet@1.9.3/dist/leaflet.js&quot;&gt;&lt;/script&gt;\n",
       "    &lt;script src=&quot;https://code.jquery.com/jquery-1.12.4.min.js&quot;&gt;&lt;/script&gt;\n",
       "    &lt;script src=&quot;https://cdn.jsdelivr.net/npm/bootstrap@5.2.2/dist/js/bootstrap.bundle.min.js&quot;&gt;&lt;/script&gt;\n",
       "    &lt;script src=&quot;https://cdnjs.cloudflare.com/ajax/libs/Leaflet.awesome-markers/2.0.2/leaflet.awesome-markers.js&quot;&gt;&lt;/script&gt;\n",
       "    &lt;link rel=&quot;stylesheet&quot; href=&quot;https://cdn.jsdelivr.net/npm/leaflet@1.9.3/dist/leaflet.css&quot;/&gt;\n",
       "    &lt;link rel=&quot;stylesheet&quot; href=&quot;https://cdn.jsdelivr.net/npm/bootstrap@5.2.2/dist/css/bootstrap.min.css&quot;/&gt;\n",
       "    &lt;link rel=&quot;stylesheet&quot; href=&quot;https://netdna.bootstrapcdn.com/bootstrap/3.0.0/css/bootstrap.min.css&quot;/&gt;\n",
       "    &lt;link rel=&quot;stylesheet&quot; href=&quot;https://cdn.jsdelivr.net/npm/@fortawesome/fontawesome-free@6.2.0/css/all.min.css&quot;/&gt;\n",
       "    &lt;link rel=&quot;stylesheet&quot; href=&quot;https://cdnjs.cloudflare.com/ajax/libs/Leaflet.awesome-markers/2.0.2/leaflet.awesome-markers.css&quot;/&gt;\n",
       "    &lt;link rel=&quot;stylesheet&quot; href=&quot;https://cdn.jsdelivr.net/gh/python-visualization/folium/folium/templates/leaflet.awesome.rotate.min.css&quot;/&gt;\n",
       "    \n",
       "            &lt;meta name=&quot;viewport&quot; content=&quot;width=device-width,\n",
       "                initial-scale=1.0, maximum-scale=1.0, user-scalable=no&quot; /&gt;\n",
       "            &lt;style&gt;\n",
       "                #map_1f11d9b4e688f7eeba82eb6de73440fb {\n",
       "                    position: relative;\n",
       "                    width: 100.0%;\n",
       "                    height: 100.0%;\n",
       "                    left: 0.0%;\n",
       "                    top: 0.0%;\n",
       "                }\n",
       "                .leaflet-container { font-size: 1rem; }\n",
       "            &lt;/style&gt;\n",
       "        \n",
       "&lt;/head&gt;\n",
       "&lt;body&gt;\n",
       "    \n",
       "    \n",
       "            &lt;div class=&quot;folium-map&quot; id=&quot;map_1f11d9b4e688f7eeba82eb6de73440fb&quot; &gt;&lt;/div&gt;\n",
       "        \n",
       "&lt;/body&gt;\n",
       "&lt;script&gt;\n",
       "    \n",
       "    \n",
       "            var map_1f11d9b4e688f7eeba82eb6de73440fb = L.map(\n",
       "                &quot;map_1f11d9b4e688f7eeba82eb6de73440fb&quot;,\n",
       "                {\n",
       "                    center: [45.5236, -122.675],\n",
       "                    crs: L.CRS.EPSG3857,\n",
       "                    zoom: 0,\n",
       "                    zoomControl: true,\n",
       "                    preferCanvas: false,\n",
       "                }\n",
       "            );\n",
       "\n",
       "            \n",
       "\n",
       "        \n",
       "    \n",
       "            var tile_layer_ca7942cc65adcffb0340dbd1ba399a21 = L.tileLayer(\n",
       "                &quot;https://{s}.tile.openstreetmap.org/{z}/{x}/{y}.png&quot;,\n",
       "                {&quot;attribution&quot;: &quot;Data by \\u0026copy; \\u003ca target=\\&quot;_blank\\&quot; href=\\&quot;http://openstreetmap.org\\&quot;\\u003eOpenStreetMap\\u003c/a\\u003e, under \\u003ca target=\\&quot;_blank\\&quot; href=\\&quot;http://www.openstreetmap.org/copyright\\&quot;\\u003eODbL\\u003c/a\\u003e.&quot;, &quot;detectRetina&quot;: false, &quot;maxNativeZoom&quot;: 18, &quot;maxZoom&quot;: 18, &quot;minZoom&quot;: 0, &quot;noWrap&quot;: false, &quot;opacity&quot;: 1, &quot;subdomains&quot;: &quot;abc&quot;, &quot;tms&quot;: false}\n",
       "            ).addTo(map_1f11d9b4e688f7eeba82eb6de73440fb);\n",
       "        \n",
       "    \n",
       "            var marker_a941d55ebfa0573f013d16279747e780 = L.marker(\n",
       "                [41.8931, 12.4828],\n",
       "                {}\n",
       "            ).addTo(map_1f11d9b4e688f7eeba82eb6de73440fb);\n",
       "        \n",
       "    \n",
       "            var marker_5f2c7cff2de64e922cbb57649aee7abd = L.marker(\n",
       "                [41.563, 14.656],\n",
       "                {}\n",
       "            ).addTo(map_1f11d9b4e688f7eeba82eb6de73440fb);\n",
       "        \n",
       "    \n",
       "            var marker_05f7d033f5d4b6eeb72fa01e2ed4ba15 = L.marker(\n",
       "                [41.1253, 16.8667],\n",
       "                {}\n",
       "            ).addTo(map_1f11d9b4e688f7eeba82eb6de73440fb);\n",
       "        \n",
       "    \n",
       "            var marker_71a1e7925db5bc698556ef182af0669e = L.marker(\n",
       "                [42.2847, 18.8453],\n",
       "                {}\n",
       "            ).addTo(map_1f11d9b4e688f7eeba82eb6de73440fb);\n",
       "        \n",
       "    \n",
       "            var marker_55c789038ab508af75f39b978326afd3 = L.marker(\n",
       "                [42.05, 19.9],\n",
       "                {}\n",
       "            ).addTo(map_1f11d9b4e688f7eeba82eb6de73440fb);\n",
       "        \n",
       "    \n",
       "            var marker_b2b0e1a46ce94153aa65889c5191641a = L.marker(\n",
       "                [42.296, 20.5162],\n",
       "                {}\n",
       "            ).addTo(map_1f11d9b4e688f7eeba82eb6de73440fb);\n",
       "        \n",
       "    \n",
       "            var marker_f6c4f61d3b3113c87a86fbe65430053e = L.marker(\n",
       "                [42.2333, 21.0167],\n",
       "                {}\n",
       "            ).addTo(map_1f11d9b4e688f7eeba82eb6de73440fb);\n",
       "        \n",
       "    \n",
       "            var marker_5760af98978eceba05d2274895539dbb = L.marker(\n",
       "                [42.102, 21.3846],\n",
       "                {}\n",
       "            ).addTo(map_1f11d9b4e688f7eeba82eb6de73440fb);\n",
       "        \n",
       "    \n",
       "            var marker_9195df83b2a69d58bdea6d2ce433db4f = L.marker(\n",
       "                [42.1403, 21.7136],\n",
       "                {}\n",
       "            ).addTo(map_1f11d9b4e688f7eeba82eb6de73440fb);\n",
       "        \n",
       "    \n",
       "            var marker_3db5151ca5df6aac4e9b94c708b9a6dd = L.marker(\n",
       "                [42.0783, 22.175],\n",
       "                {}\n",
       "            ).addTo(map_1f11d9b4e688f7eeba82eb6de73440fb);\n",
       "        \n",
       "    \n",
       "            var marker_3bd2fc8a195b990fb5ec138bc8bff822 = L.marker(\n",
       "                [42.2811, 22.6889],\n",
       "                {}\n",
       "            ).addTo(map_1f11d9b4e688f7eeba82eb6de73440fb);\n",
       "        \n",
       "    \n",
       "            var marker_20f9fe2af23f0750d9cb1dad418e6fc8 = L.marker(\n",
       "                [41.8919, 23.1111],\n",
       "                {}\n",
       "            ).addTo(map_1f11d9b4e688f7eeba82eb6de73440fb);\n",
       "        \n",
       "    \n",
       "            var marker_4ba5871747a90cd5af50cfd464ffa30b = L.marker(\n",
       "                [42.0183, 23.6697],\n",
       "                {}\n",
       "            ).addTo(map_1f11d9b4e688f7eeba82eb6de73440fb);\n",
       "        \n",
       "    \n",
       "            var marker_0dd622f7e2be2f2a6621bfe69568022b = L.marker(\n",
       "                [42.0414, 24.47],\n",
       "                {}\n",
       "            ).addTo(map_1f11d9b4e688f7eeba82eb6de73440fb);\n",
       "        \n",
       "    \n",
       "            var marker_c515232c90b03cee68081d1884072a14 = L.marker(\n",
       "                [42.0994, 25.2242],\n",
       "                {}\n",
       "            ).addTo(map_1f11d9b4e688f7eeba82eb6de73440fb);\n",
       "        \n",
       "    \n",
       "            var marker_35951ca378301f2f56a76ca7f7c1f6d5 = L.marker(\n",
       "                [41.9297, 25.9019],\n",
       "                {}\n",
       "            ).addTo(map_1f11d9b4e688f7eeba82eb6de73440fb);\n",
       "        \n",
       "    \n",
       "            var marker_4c4f7cb21f84c4ed258d051aa086fbae = L.marker(\n",
       "                [41.5, 26.5333],\n",
       "                {}\n",
       "            ).addTo(map_1f11d9b4e688f7eeba82eb6de73440fb);\n",
       "        \n",
       "    \n",
       "            var marker_0c22c669bb229e2b3f17a3ab71fa49f4 = L.marker(\n",
       "                [40.9833, 27.5167],\n",
       "                {}\n",
       "            ).addTo(map_1f11d9b4e688f7eeba82eb6de73440fb);\n",
       "        \n",
       "    \n",
       "            var marker_499586a708b92715d2ec007ddc3f85d7 = L.marker(\n",
       "                [40.6556, 29.275],\n",
       "                {}\n",
       "            ).addTo(map_1f11d9b4e688f7eeba82eb6de73440fb);\n",
       "        \n",
       "    \n",
       "            var marker_e2c05b1717da1d2e7ce0b82aae54b4fd = L.marker(\n",
       "                [40.8417, 31.1583],\n",
       "                {}\n",
       "            ).addTo(map_1f11d9b4e688f7eeba82eb6de73440fb);\n",
       "        \n",
       "    \n",
       "            var marker_9e6c1c1edfc79cf6ed65670140b55569 = L.marker(\n",
       "                [41.2, 32.6333],\n",
       "                {}\n",
       "            ).addTo(map_1f11d9b4e688f7eeba82eb6de73440fb);\n",
       "        \n",
       "    \n",
       "            var marker_3dbc826cf2575b2bc33c8d77add99c68 = L.marker(\n",
       "                [40.646, 34.261],\n",
       "                {}\n",
       "            ).addTo(map_1f11d9b4e688f7eeba82eb6de73440fb);\n",
       "        \n",
       "    \n",
       "            var marker_3f83ff2d4e08961102b1cd2a6e349e61 = L.marker(\n",
       "                [40.2759, 36.2832],\n",
       "                {}\n",
       "            ).addTo(map_1f11d9b4e688f7eeba82eb6de73440fb);\n",
       "        \n",
       "    \n",
       "            var marker_e19c95f71a8cbf4a66e87e815b5f92e6 = L.marker(\n",
       "                [39.3667, 38.1167],\n",
       "                {}\n",
       "            ).addTo(map_1f11d9b4e688f7eeba82eb6de73440fb);\n",
       "        \n",
       "    \n",
       "            var marker_ae7405e956fb970c4641daef38011b98 = L.marker(\n",
       "                [38.8861, 40.5017],\n",
       "                {}\n",
       "            ).addTo(map_1f11d9b4e688f7eeba82eb6de73440fb);\n",
       "        \n",
       "    \n",
       "            var marker_80e8fd72bbaed15c56f58701fceda483 = L.marker(\n",
       "                [38.5066, 42.2816],\n",
       "                {}\n",
       "            ).addTo(map_1f11d9b4e688f7eeba82eb6de73440fb);\n",
       "        \n",
       "    \n",
       "            var marker_9a29d37ef1aedcec9688cc3734c9aeb4 = L.marker(\n",
       "                [37.5744, 43.7408],\n",
       "                {}\n",
       "            ).addTo(map_1f11d9b4e688f7eeba82eb6de73440fb);\n",
       "        \n",
       "    \n",
       "            var marker_9115cdf08d2a5489b5ee84fe598e4c96 = L.marker(\n",
       "                [36.6944, 45.1417],\n",
       "                {}\n",
       "            ).addTo(map_1f11d9b4e688f7eeba82eb6de73440fb);\n",
       "        \n",
       "    \n",
       "            var marker_49c08517a89822a1378609b917e8b76c = L.marker(\n",
       "                [35.5269, 46.1761],\n",
       "                {}\n",
       "            ).addTo(map_1f11d9b4e688f7eeba82eb6de73440fb);\n",
       "        \n",
       "    \n",
       "            var marker_e9ff487b668c6e7400a893bff3dd5c87 = L.marker(\n",
       "                [34.3167, 47.0686],\n",
       "                {}\n",
       "            ).addTo(map_1f11d9b4e688f7eeba82eb6de73440fb);\n",
       "        \n",
       "    \n",
       "            var marker_6f5b46189fb148f662f9157c12dd69c6 = L.marker(\n",
       "                [33.4933, 49.075],\n",
       "                {}\n",
       "            ).addTo(map_1f11d9b4e688f7eeba82eb6de73440fb);\n",
       "        \n",
       "    \n",
       "            var marker_4ee9c087bc44020f4a0fc86a07301547 = L.marker(\n",
       "                [33.1044, 50.9589],\n",
       "                {}\n",
       "            ).addTo(map_1f11d9b4e688f7eeba82eb6de73440fb);\n",
       "        \n",
       "    \n",
       "            var marker_7c14bbf588f21f7b71ea88c1eb374bfd = L.marker(\n",
       "                [32.8019, 51.6636],\n",
       "                {}\n",
       "            ).addTo(map_1f11d9b4e688f7eeba82eb6de73440fb);\n",
       "        \n",
       "    \n",
       "            var marker_112d143c0d8cb5d0f5aa3de3dec8c5ee = L.marker(\n",
       "                [32.3464, 51.5044],\n",
       "                {}\n",
       "            ).addTo(map_1f11d9b4e688f7eeba82eb6de73440fb);\n",
       "        \n",
       "    \n",
       "            var marker_73cf98e215f02ec4e933e1d6984f967d = L.marker(\n",
       "                [32.2628, 51.5622],\n",
       "                {}\n",
       "            ).addTo(map_1f11d9b4e688f7eeba82eb6de73440fb);\n",
       "        \n",
       "    \n",
       "            var marker_6513c67e39f99953d1d19684eb72f303 = L.marker(\n",
       "                [32.0089, 51.8667],\n",
       "                {}\n",
       "            ).addTo(map_1f11d9b4e688f7eeba82eb6de73440fb);\n",
       "        \n",
       "    \n",
       "            var marker_8ff20df26fce7a63c3c6f8f515c8987b = L.marker(\n",
       "                [31.4142, 51.5694],\n",
       "                {}\n",
       "            ).addTo(map_1f11d9b4e688f7eeba82eb6de73440fb);\n",
       "        \n",
       "    \n",
       "            var marker_4bc8bff2ba287c3a73e07ab68bccface = L.marker(\n",
       "                [31.1942, 52.4839],\n",
       "                {}\n",
       "            ).addTo(map_1f11d9b4e688f7eeba82eb6de73440fb);\n",
       "        \n",
       "    \n",
       "            var marker_d8aec27576e3e41b03decc692093f535 = L.marker(\n",
       "                [31.7475, 54.2042],\n",
       "                {}\n",
       "            ).addTo(map_1f11d9b4e688f7eeba82eb6de73440fb);\n",
       "        \n",
       "    \n",
       "            var marker_e5ecd8244cc8ced5357e2dc4f3013d6b = L.marker(\n",
       "                [30.8128, 56.5639],\n",
       "                {}\n",
       "            ).addTo(map_1f11d9b4e688f7eeba82eb6de73440fb);\n",
       "        \n",
       "    \n",
       "            var marker_7b5e0a643478fc268a5455efb5c674a4 = L.marker(\n",
       "                [29.4833, 60.8667],\n",
       "                {}\n",
       "            ).addTo(map_1f11d9b4e688f7eeba82eb6de73440fb);\n",
       "        \n",
       "    \n",
       "            var marker_e3f522f86a57a003518b6feed6430403 = L.marker(\n",
       "                [30.921, 66.4597],\n",
       "                {}\n",
       "            ).addTo(map_1f11d9b4e688f7eeba82eb6de73440fb);\n",
       "        \n",
       "    \n",
       "            var marker_7f3e620b693036e89e72e13de91ecf0a = L.marker(\n",
       "                [30.05, 70.6333],\n",
       "                {}\n",
       "            ).addTo(map_1f11d9b4e688f7eeba82eb6de73440fb);\n",
       "        \n",
       "    \n",
       "            var marker_41a2ae51b7c873fde1a86589addd9903 = L.marker(\n",
       "                [29.6967, 72.5542],\n",
       "                {}\n",
       "            ).addTo(map_1f11d9b4e688f7eeba82eb6de73440fb);\n",
       "        \n",
       "    \n",
       "            var marker_0d20c3f16edf616f796c71f080d74601 = L.marker(\n",
       "                [30.1204, 74.29],\n",
       "                {}\n",
       "            ).addTo(map_1f11d9b4e688f7eeba82eb6de73440fb);\n",
       "        \n",
       "    \n",
       "            var marker_966e35ad42b0ca534ce932304b916220 = L.marker(\n",
       "                [29.1489, 75.7367],\n",
       "                {}\n",
       "            ).addTo(map_1f11d9b4e688f7eeba82eb6de73440fb);\n",
       "        \n",
       "    \n",
       "            var marker_22938dcb2fdd8237ef0478d221394e92 = L.marker(\n",
       "                [27.5667, 76.6167],\n",
       "                {}\n",
       "            ).addTo(map_1f11d9b4e688f7eeba82eb6de73440fb);\n",
       "        \n",
       "    \n",
       "            var marker_0e64fb0d8fd93c1b7284c1cc0cd1b2ae = L.marker(\n",
       "                [27.18, 78.02],\n",
       "                {}\n",
       "            ).addTo(map_1f11d9b4e688f7eeba82eb6de73440fb);\n",
       "        \n",
       "    \n",
       "            var marker_ec9dd98f28ebf6e3b8894423f18c3d9f = L.marker(\n",
       "                [26.7855, 79.015],\n",
       "                {}\n",
       "            ).addTo(map_1f11d9b4e688f7eeba82eb6de73440fb);\n",
       "        \n",
       "    \n",
       "            var marker_4aacdf69d2e4cbb06132c6e38958c9af = L.marker(\n",
       "                [25.8804, 80.8],\n",
       "                {}\n",
       "            ).addTo(map_1f11d9b4e688f7eeba82eb6de73440fb);\n",
       "        \n",
       "    \n",
       "            var marker_31f5ab8e3ab3e2ea97e073f30cf6e46d = L.marker(\n",
       "                [25.3189, 83.0128],\n",
       "                {}\n",
       "            ).addTo(map_1f11d9b4e688f7eeba82eb6de73440fb);\n",
       "        \n",
       "    \n",
       "            var marker_760d9e324217686c34c1ec305f0a3f51 = L.marker(\n",
       "                [25.03, 85.42],\n",
       "                {}\n",
       "            ).addTo(map_1f11d9b4e688f7eeba82eb6de73440fb);\n",
       "        \n",
       "    \n",
       "            var marker_f8712acc133db3d04695a4f189657da3 = L.marker(\n",
       "                [23.7, 87.08],\n",
       "                {}\n",
       "            ).addTo(map_1f11d9b4e688f7eeba82eb6de73440fb);\n",
       "        \n",
       "    \n",
       "            var marker_e674112769290c70e909c51481832f74 = L.marker(\n",
       "                [22.79, 88.32],\n",
       "                {}\n",
       "            ).addTo(map_1f11d9b4e688f7eeba82eb6de73440fb);\n",
       "        \n",
       "    \n",
       "            var marker_565a91db2583562feae3e96d72863d30 = L.marker(\n",
       "                [22.62, 88.42],\n",
       "                {}\n",
       "            ).addTo(map_1f11d9b4e688f7eeba82eb6de73440fb);\n",
       "        \n",
       "    \n",
       "            var marker_7597b0426706772dde6b2900976ad365 = L.marker(\n",
       "                [22.83, 88.63],\n",
       "                {}\n",
       "            ).addTo(map_1f11d9b4e688f7eeba82eb6de73440fb);\n",
       "        \n",
       "    \n",
       "            var marker_c2ce3b83646ddb645ff311daf6d3a505 = L.marker(\n",
       "                [23.07, 88.82],\n",
       "                {}\n",
       "            ).addTo(map_1f11d9b4e688f7eeba82eb6de73440fb);\n",
       "        \n",
       "    \n",
       "            var marker_720691707bbd38bab5e1ca4eb629cae8 = L.marker(\n",
       "                [22.6572, 88.8942],\n",
       "                {}\n",
       "            ).addTo(map_1f11d9b4e688f7eeba82eb6de73440fb);\n",
       "        \n",
       "    \n",
       "            var marker_4fcf3ba4b93bce4e1ea8e025c826a0fc = L.marker(\n",
       "                [22.5411, 88.3378],\n",
       "                {}\n",
       "            ).addTo(map_1f11d9b4e688f7eeba82eb6de73440fb);\n",
       "        \n",
       "    \n",
       "            var marker_e5cddca377e729a8aa621995f619c156 = L.marker(\n",
       "                [22.1772, 88.4258],\n",
       "                {}\n",
       "            ).addTo(map_1f11d9b4e688f7eeba82eb6de73440fb);\n",
       "        \n",
       "    \n",
       "            var marker_bd8de5a687a23d364eb1d0e0e9785531 = L.marker(\n",
       "                [22.2333, 88.45],\n",
       "                {}\n",
       "            ).addTo(map_1f11d9b4e688f7eeba82eb6de73440fb);\n",
       "        \n",
       "    \n",
       "            var marker_badf313dbe4dc23d54ef73e001647ebe = L.marker(\n",
       "                [22.0257, 88.0583],\n",
       "                {}\n",
       "            ).addTo(map_1f11d9b4e688f7eeba82eb6de73440fb);\n",
       "        \n",
       "    \n",
       "            var marker_046c196c5a934980529f75d675c69f1d = L.marker(\n",
       "                [22.7, 88.45],\n",
       "                {}\n",
       "            ).addTo(map_1f11d9b4e688f7eeba82eb6de73440fb);\n",
       "        \n",
       "    \n",
       "            var marker_3a152a11dc70bc0d8532427615389644 = L.marker(\n",
       "                [22.59, 88.31],\n",
       "                {}\n",
       "            ).addTo(map_1f11d9b4e688f7eeba82eb6de73440fb);\n",
       "        \n",
       "    \n",
       "            var marker_bd6e1450f33954d570fa69a9768db9e4 = L.marker(\n",
       "                [22.67, 88.37],\n",
       "                {}\n",
       "            ).addTo(map_1f11d9b4e688f7eeba82eb6de73440fb);\n",
       "        \n",
       "    \n",
       "            var marker_5b0a58b6f8a4a27138bc6c0b62f51937 = L.marker(\n",
       "                [22.65, 88.34],\n",
       "                {}\n",
       "            ).addTo(map_1f11d9b4e688f7eeba82eb6de73440fb);\n",
       "        \n",
       "    \n",
       "            var marker_90fae591860765e1e4c226ff103ec648 = L.marker(\n",
       "                [22.69, 88.37],\n",
       "                {}\n",
       "            ).addTo(map_1f11d9b4e688f7eeba82eb6de73440fb);\n",
       "        \n",
       "    \n",
       "            var marker_9e6cca17f62c07831c2c3d6f90abf065 = L.marker(\n",
       "                [22.72, 88.38],\n",
       "                {}\n",
       "            ).addTo(map_1f11d9b4e688f7eeba82eb6de73440fb);\n",
       "        \n",
       "    \n",
       "            var marker_092bc010aa53f12e5716069c8f81a8f2 = L.marker(\n",
       "                [22.71, 88.35],\n",
       "                {}\n",
       "            ).addTo(map_1f11d9b4e688f7eeba82eb6de73440fb);\n",
       "        \n",
       "    \n",
       "            var marker_9e775aa6930e4e0508ffa490318fb19a = L.marker(\n",
       "                [22.74, 88.37],\n",
       "                {}\n",
       "            ).addTo(map_1f11d9b4e688f7eeba82eb6de73440fb);\n",
       "        \n",
       "    \n",
       "            var marker_db69144c01dab7194e57458c0c6fce5d = L.marker(\n",
       "                [22.75, 88.34],\n",
       "                {}\n",
       "            ).addTo(map_1f11d9b4e688f7eeba82eb6de73440fb);\n",
       "        \n",
       "    \n",
       "            var marker_a76bfeb0ca04f1449056d54726702354 = L.marker(\n",
       "                [22.8, 88.37],\n",
       "                {}\n",
       "            ).addTo(map_1f11d9b4e688f7eeba82eb6de73440fb);\n",
       "        \n",
       "    \n",
       "            var marker_4dea388cc8e5d2da87565a7e2868d1a7 = L.marker(\n",
       "                [22.8667, 88.4167],\n",
       "                {}\n",
       "            ).addTo(map_1f11d9b4e688f7eeba82eb6de73440fb);\n",
       "        \n",
       "    \n",
       "            var marker_d6ced29e6acd3fc1fa749710e7aef2e4 = L.marker(\n",
       "                [22.82, 88.35],\n",
       "                {}\n",
       "            ).addTo(map_1f11d9b4e688f7eeba82eb6de73440fb);\n",
       "        \n",
       "    \n",
       "            var marker_210f39e6f59fede60426d98c22a5a157 = L.marker(\n",
       "                [22.9, 88.42],\n",
       "                {}\n",
       "            ).addTo(map_1f11d9b4e688f7eeba82eb6de73440fb);\n",
       "        \n",
       "    \n",
       "            var marker_b12b356c8f80d3b20e4eedf7eaa30224 = L.marker(\n",
       "                [22.8667, 88.3833],\n",
       "                {}\n",
       "            ).addTo(map_1f11d9b4e688f7eeba82eb6de73440fb);\n",
       "        \n",
       "    \n",
       "            var marker_b78771a5465e1b6386f2c46c784d31de = L.marker(\n",
       "                [22.9, 88.39],\n",
       "                {}\n",
       "            ).addTo(map_1f11d9b4e688f7eeba82eb6de73440fb);\n",
       "        \n",
       "    \n",
       "            var marker_b9a392e87ece98c23f1380081635bdcb = L.marker(\n",
       "                [22.95, 88.42],\n",
       "                {}\n",
       "            ).addTo(map_1f11d9b4e688f7eeba82eb6de73440fb);\n",
       "        \n",
       "    \n",
       "            var marker_181b7922aab84fc5218ca5ab58b193ca = L.marker(\n",
       "                [22.97, 88.43],\n",
       "                {}\n",
       "            ).addTo(map_1f11d9b4e688f7eeba82eb6de73440fb);\n",
       "        \n",
       "    \n",
       "            var marker_b7be11d2b6b70b209a439ee46ba503ea = L.marker(\n",
       "                [22.975, 88.4344],\n",
       "                {}\n",
       "            ).addTo(map_1f11d9b4e688f7eeba82eb6de73440fb);\n",
       "        \n",
       "    \n",
       "            var marker_08b43e0ec0003c2916a3b319c22287e3 = L.marker(\n",
       "                [22.97, 88.4],\n",
       "                {}\n",
       "            ).addTo(map_1f11d9b4e688f7eeba82eb6de73440fb);\n",
       "        \n",
       "    \n",
       "            var marker_90fdf5677527140fd410141956d295c8 = L.marker(\n",
       "                [23.25, 88.43],\n",
       "                {}\n",
       "            ).addTo(map_1f11d9b4e688f7eeba82eb6de73440fb);\n",
       "        \n",
       "    \n",
       "            var marker_de0d20b229541812004b9bc432db274f = L.marker(\n",
       "                [23.4, 88.5],\n",
       "                {}\n",
       "            ).addTo(map_1f11d9b4e688f7eeba82eb6de73440fb);\n",
       "        \n",
       "    \n",
       "            var marker_a42c489cdbad3009487714b94f7a0b86 = L.marker(\n",
       "                [23.1704, 89.2],\n",
       "                {}\n",
       "            ).addTo(map_1f11d9b4e688f7eeba82eb6de73440fb);\n",
       "        \n",
       "    \n",
       "            var marker_6b37150d6fa188ee7a450f3bb47012b5 = L.marker(\n",
       "                [22.8167, 89.55],\n",
       "                {}\n",
       "            ).addTo(map_1f11d9b4e688f7eeba82eb6de73440fb);\n",
       "        \n",
       "    \n",
       "            var marker_fb22a01761c477476016f01952e641ed = L.marker(\n",
       "                [22.7, 90.3667],\n",
       "                {}\n",
       "            ).addTo(map_1f11d9b4e688f7eeba82eb6de73440fb);\n",
       "        \n",
       "    \n",
       "            var marker_7a3414973a8f42f5dc6a0bbd0965b4eb = L.marker(\n",
       "                [22.335, 91.8325],\n",
       "                {}\n",
       "            ).addTo(map_1f11d9b4e688f7eeba82eb6de73440fb);\n",
       "        \n",
       "    \n",
       "            var marker_19dc493ff3b25829878798912d690350 = L.marker(\n",
       "                [20.1444, 92.8969],\n",
       "                {}\n",
       "            ).addTo(map_1f11d9b4e688f7eeba82eb6de73440fb);\n",
       "        \n",
       "    \n",
       "            var marker_393fbe64adbec9932747adba38cf529b = L.marker(\n",
       "                [17.6483, 95.4679],\n",
       "                {}\n",
       "            ).addTo(map_1f11d9b4e688f7eeba82eb6de73440fb);\n",
       "        \n",
       "    \n",
       "            var marker_4a5de67a80fe92b0cee085d6c0144f46 = L.marker(\n",
       "                [16.2618, 97.7215],\n",
       "                {}\n",
       "            ).addTo(map_1f11d9b4e688f7eeba82eb6de73440fb);\n",
       "        \n",
       "    \n",
       "            var marker_1eab1409f22f60b7e187d4bd76b93370 = L.marker(\n",
       "                [15.38, 100.025],\n",
       "                {}\n",
       "            ).addTo(map_1f11d9b4e688f7eeba82eb6de73440fb);\n",
       "        \n",
       "    \n",
       "            var marker_265669e50c0d7b9c1fb7f09f27866997 = L.marker(\n",
       "                [14.5864, 100.9967],\n",
       "                {}\n",
       "            ).addTo(map_1f11d9b4e688f7eeba82eb6de73440fb);\n",
       "        \n",
       "    \n",
       "            var marker_3cad6a9d7958cf20f1a644b47bc8ba4f = L.marker(\n",
       "                [14.0567, 101.3739],\n",
       "                {}\n",
       "            ).addTo(map_1f11d9b4e688f7eeba82eb6de73440fb);\n",
       "        \n",
       "    \n",
       "            var marker_1d051abeef62b954a1db3a4d7736b402 = L.marker(\n",
       "                [13.8206, 102.0589],\n",
       "                {}\n",
       "            ).addTo(map_1f11d9b4e688f7eeba82eb6de73440fb);\n",
       "        \n",
       "    \n",
       "            var marker_9c972a681ae4e35d890226bb4297b6bf = L.marker(\n",
       "                [12.8489, 102.6093],\n",
       "                {}\n",
       "            ).addTo(map_1f11d9b4e688f7eeba82eb6de73440fb);\n",
       "        \n",
       "    \n",
       "            var marker_a6f80bd5e5559e34a9c7dda962eb9e5e = L.marker(\n",
       "                [11.6167, 102.9833],\n",
       "                {}\n",
       "            ).addTo(map_1f11d9b4e688f7eeba82eb6de73440fb);\n",
       "        \n",
       "    \n",
       "            var marker_3d44892ebfcc2e124b0e34e0fb4d613a = L.marker(\n",
       "                [10.4828, 104.3167],\n",
       "                {}\n",
       "            ).addTo(map_1f11d9b4e688f7eeba82eb6de73440fb);\n",
       "        \n",
       "    \n",
       "            var marker_3960de0ce1b237bed4d84c02c93f7ae3 = L.marker(\n",
       "                [9.1833, 105.15],\n",
       "                {}\n",
       "            ).addTo(map_1f11d9b4e688f7eeba82eb6de73440fb);\n",
       "        \n",
       "    \n",
       "            var marker_133e037e854b50b485daa2b0dd36f0e9 = L.marker(\n",
       "                [9.2833, 105.7167],\n",
       "                {}\n",
       "            ).addTo(map_1f11d9b4e688f7eeba82eb6de73440fb);\n",
       "        \n",
       "    \n",
       "            var marker_cb514507c788d9fbae76093cf504e2ae = L.marker(\n",
       "                [10.4042, 107.1417],\n",
       "                {}\n",
       "            ).addTo(map_1f11d9b4e688f7eeba82eb6de73440fb);\n",
       "        \n",
       "    \n",
       "            var marker_1154f85f92f6bc4480dcee24b996d449 = L.marker(\n",
       "                [10.9375, 108.1583],\n",
       "                {}\n",
       "            ).addTo(map_1f11d9b4e688f7eeba82eb6de73440fb);\n",
       "        \n",
       "    \n",
       "            var marker_5a6725a7cf25140187b65a713115ad63 = L.marker(\n",
       "                [11.5643, 108.9886],\n",
       "                {}\n",
       "            ).addTo(map_1f11d9b4e688f7eeba82eb6de73440fb);\n",
       "        \n",
       "    \n",
       "            var marker_486084050eac650841e05b36c4b7422f = L.marker(\n",
       "                [11.902, 109.2207],\n",
       "                {}\n",
       "            ).addTo(map_1f11d9b4e688f7eeba82eb6de73440fb);\n",
       "        \n",
       "    \n",
       "            var marker_2220d3869bec99cf8b4305ba3c02eba3 = L.marker(\n",
       "                [11.9136, 109.1369],\n",
       "                {}\n",
       "            ).addTo(map_1f11d9b4e688f7eeba82eb6de73440fb);\n",
       "        \n",
       "    \n",
       "            var marker_d2ec14b01aed7f557336916009fb5e66 = L.marker(\n",
       "                [12.25, 109.1833],\n",
       "                {}\n",
       "            ).addTo(map_1f11d9b4e688f7eeba82eb6de73440fb);\n",
       "        \n",
       "    \n",
       "            var marker_c75cff53ad39f9339814549532f4dcb9 = L.marker(\n",
       "                [11.9359, 108.4429],\n",
       "                {}\n",
       "            ).addTo(map_1f11d9b4e688f7eeba82eb6de73440fb);\n",
       "        \n",
       "    \n",
       "            var marker_e5517734332578f543cbaea1c7ff17c5 = L.marker(\n",
       "                [11.9304, 108.42],\n",
       "                {}\n",
       "            ).addTo(map_1f11d9b4e688f7eeba82eb6de73440fb);\n",
       "        \n",
       "    \n",
       "            var marker_5fe0675d24a054432c135caaec3b1ee3 = L.marker(\n",
       "                [10.9575, 106.8426],\n",
       "                {}\n",
       "            ).addTo(map_1f11d9b4e688f7eeba82eb6de73440fb);\n",
       "        \n",
       "    \n",
       "            var marker_9308cd6f21fef4a08bd614a9beecbb01 = L.marker(\n",
       "                [9.9369, 106.3411],\n",
       "                {}\n",
       "            ).addTo(map_1f11d9b4e688f7eeba82eb6de73440fb);\n",
       "        \n",
       "    \n",
       "            var marker_57a8c21ba76d22525e9484f4cb664eeb = L.marker(\n",
       "                [9.6, 105.9719],\n",
       "                {}\n",
       "            ).addTo(map_1f11d9b4e688f7eeba82eb6de73440fb);\n",
       "        \n",
       "    \n",
       "            var marker_b8cd6ca475290b52efdff0f316621529 = L.marker(\n",
       "                [10.2333, 106.3833],\n",
       "                {}\n",
       "            ).addTo(map_1f11d9b4e688f7eeba82eb6de73440fb);\n",
       "        \n",
       "    \n",
       "            var marker_6a6741456ab1df65b9073edce1c98066 = L.marker(\n",
       "                [10.35, 106.35],\n",
       "                {}\n",
       "            ).addTo(map_1f11d9b4e688f7eeba82eb6de73440fb);\n",
       "        \n",
       "    \n",
       "            var marker_9f476b43a7f8309235dc83493947594a = L.marker(\n",
       "                [10.5322, 106.4042],\n",
       "                {}\n",
       "            ).addTo(map_1f11d9b4e688f7eeba82eb6de73440fb);\n",
       "        \n",
       "    \n",
       "            var marker_d0cd8ab283d5662e763d792cd8a67d1f = L.marker(\n",
       "                [10.0333, 105.7833],\n",
       "                {}\n",
       "            ).addTo(map_1f11d9b4e688f7eeba82eb6de73440fb);\n",
       "        \n",
       "    \n",
       "            var marker_9a7be7ebee42edaf6c8d81d36bb0b399 = L.marker(\n",
       "                [9.7833, 105.4708],\n",
       "                {}\n",
       "            ).addTo(map_1f11d9b4e688f7eeba82eb6de73440fb);\n",
       "        \n",
       "    \n",
       "            var marker_7f07903c9c2ad374c8bb99a0dde716cd = L.marker(\n",
       "                [10.8167, 106.6333],\n",
       "                {}\n",
       "            ).addTo(map_1f11d9b4e688f7eeba82eb6de73440fb);\n",
       "        \n",
       "    \n",
       "            var marker_842d332e8b36b3a2c77077e8a92d1bcb = L.marker(\n",
       "                [10.255, 105.9753],\n",
       "                {}\n",
       "            ).addTo(map_1f11d9b4e688f7eeba82eb6de73440fb);\n",
       "        \n",
       "    \n",
       "            var marker_06714ca4d064fe8e05c10effb324398e = L.marker(\n",
       "                [11.0042, 106.6583],\n",
       "                {}\n",
       "            ).addTo(map_1f11d9b4e688f7eeba82eb6de73440fb);\n",
       "        \n",
       "    \n",
       "            var marker_66329f2443ef511963b80e477af7b720 = L.marker(\n",
       "                [10.3105, 105.7397],\n",
       "                {}\n",
       "            ).addTo(map_1f11d9b4e688f7eeba82eb6de73440fb);\n",
       "        \n",
       "    \n",
       "            var marker_dd125ab1a6df45f94608a95f8f58d461 = L.marker(\n",
       "                [10.4603, 105.6331],\n",
       "                {}\n",
       "            ).addTo(map_1f11d9b4e688f7eeba82eb6de73440fb);\n",
       "        \n",
       "    \n",
       "            var marker_3496e06e947d95c6233341febac4acce = L.marker(\n",
       "                [10.0125, 105.0808],\n",
       "                {}\n",
       "            ).addTo(map_1f11d9b4e688f7eeba82eb6de73440fb);\n",
       "        \n",
       "    \n",
       "            var marker_2b3cdf5ad67c8b89a303be7db83d01e3 = L.marker(\n",
       "                [10.3686, 105.4234],\n",
       "                {}\n",
       "            ).addTo(map_1f11d9b4e688f7eeba82eb6de73440fb);\n",
       "        \n",
       "    \n",
       "            var marker_1d078de376fadfb9fbc2c3a2f3adba8c = L.marker(\n",
       "                [11.3131, 106.0963],\n",
       "                {}\n",
       "            ).addTo(map_1f11d9b4e688f7eeba82eb6de73440fb);\n",
       "        \n",
       "    \n",
       "            var marker_e0373835af9167afcb2a900696bd7246 = L.marker(\n",
       "                [11.5349, 106.8832],\n",
       "                {}\n",
       "            ).addTo(map_1f11d9b4e688f7eeba82eb6de73440fb);\n",
       "        \n",
       "    \n",
       "            var marker_37ab8d53b9b48334a3d9c92aecb9c984 = L.marker(\n",
       "                [12.0042, 107.6907],\n",
       "                {}\n",
       "            ).addTo(map_1f11d9b4e688f7eeba82eb6de73440fb);\n",
       "        \n",
       "    \n",
       "            var marker_2e1717a22908d669d1fcfc0c92de8f58 = L.marker(\n",
       "                [13.0875, 109.3106],\n",
       "                {}\n",
       "            ).addTo(map_1f11d9b4e688f7eeba82eb6de73440fb);\n",
       "        \n",
       "    \n",
       "            var marker_8565a8394dd00fc18de4c2ec7ff3419f = L.marker(\n",
       "                [12.6667, 108.05],\n",
       "                {}\n",
       "            ).addTo(map_1f11d9b4e688f7eeba82eb6de73440fb);\n",
       "        \n",
       "    \n",
       "            var marker_0d0042aa92be4a39b709942c9b25cebc = L.marker(\n",
       "                [13.7765, 109.2237],\n",
       "                {}\n",
       "            ).addTo(map_1f11d9b4e688f7eeba82eb6de73440fb);\n",
       "        \n",
       "    \n",
       "            var marker_15649920eeb86ca077c813861aec24bd = L.marker(\n",
       "                [12.45, 107.2],\n",
       "                {}\n",
       "            ).addTo(map_1f11d9b4e688f7eeba82eb6de73440fb);\n",
       "        \n",
       "    \n",
       "            var marker_2bf26f483148a61c94f46d4c0917187e = L.marker(\n",
       "                [11.6504, 106.6],\n",
       "                {}\n",
       "            ).addTo(map_1f11d9b4e688f7eeba82eb6de73440fb);\n",
       "        \n",
       "    \n",
       "            var marker_be47bf3cd741c25e9c23fe511a8418ad = L.marker(\n",
       "                [11.0878, 105.7994],\n",
       "                {}\n",
       "            ).addTo(map_1f11d9b4e688f7eeba82eb6de73440fb);\n",
       "        \n",
       "    \n",
       "            var marker_725385aab99f93b333ba3d5b824824e3 = L.marker(\n",
       "                [10.7, 105.1167],\n",
       "                {}\n",
       "            ).addTo(map_1f11d9b4e688f7eeba82eb6de73440fb);\n",
       "        \n",
       "    \n",
       "            var marker_888588b9bac7385cf62ca3a07aad7f27 = L.marker(\n",
       "                [10.2289, 103.9572],\n",
       "                {}\n",
       "            ).addTo(map_1f11d9b4e688f7eeba82eb6de73440fb);\n",
       "        \n",
       "    \n",
       "            var marker_fc81306498726a03e26722aba8b94a16 = L.marker(\n",
       "                [10.9833, 104.7833],\n",
       "                {}\n",
       "            ).addTo(map_1f11d9b4e688f7eeba82eb6de73440fb);\n",
       "        \n",
       "    \n",
       "            var marker_7b1af39feb00d365e8933096a462831a = L.marker(\n",
       "                [11.484, 105.324],\n",
       "                {}\n",
       "            ).addTo(map_1f11d9b4e688f7eeba82eb6de73440fb);\n",
       "        \n",
       "    \n",
       "            var marker_c854e5a51aaad9d830304c2103442336 = L.marker(\n",
       "                [11.9167, 105.65],\n",
       "                {}\n",
       "            ).addTo(map_1f11d9b4e688f7eeba82eb6de73440fb);\n",
       "        \n",
       "    \n",
       "            var marker_087fcdf2fe5ce138f39acce48fbc1dc6 = L.marker(\n",
       "                [11.4833, 104.95],\n",
       "                {}\n",
       "            ).addTo(map_1f11d9b4e688f7eeba82eb6de73440fb);\n",
       "        \n",
       "    \n",
       "            var marker_3b2deb46dd9f3f5e60643fb4780ef47f = L.marker(\n",
       "                [10.6, 104.1667],\n",
       "                {}\n",
       "            ).addTo(map_1f11d9b4e688f7eeba82eb6de73440fb);\n",
       "        \n",
       "    \n",
       "            var marker_ba088559b6b86e2fe0898f8da014330a = L.marker(\n",
       "                [11.5696, 104.921],\n",
       "                {}\n",
       "            ).addTo(map_1f11d9b4e688f7eeba82eb6de73440fb);\n",
       "        \n",
       "    \n",
       "            var marker_cf038fb38895830313d7f539e3e84049 = L.marker(\n",
       "                [12.4881, 106.0188],\n",
       "                {}\n",
       "            ).addTo(map_1f11d9b4e688f7eeba82eb6de73440fb);\n",
       "        \n",
       "    \n",
       "            var marker_b1aca264f6c741045a41cfea52a0666a = L.marker(\n",
       "                [12.0, 105.45],\n",
       "                {}\n",
       "            ).addTo(map_1f11d9b4e688f7eeba82eb6de73440fb);\n",
       "        \n",
       "    \n",
       "            var marker_23f999f3f649a54fbd213b1dd9dd8070 = L.marker(\n",
       "                [11.45, 104.5333],\n",
       "                {}\n",
       "            ).addTo(map_1f11d9b4e688f7eeba82eb6de73440fb);\n",
       "        \n",
       "    \n",
       "            var marker_0e342e779f66dd5061541ac6139c9a14 = L.marker(\n",
       "                [10.6333, 103.5],\n",
       "                {}\n",
       "            ).addTo(map_1f11d9b4e688f7eeba82eb6de73440fb);\n",
       "        \n",
       "    \n",
       "            var marker_17bf4c849d7dbddfcd6fe1967270f55d = L.marker(\n",
       "                [12.25, 104.6667],\n",
       "                {}\n",
       "            ).addTo(map_1f11d9b4e688f7eeba82eb6de73440fb);\n",
       "        \n",
       "    \n",
       "            var marker_582788ba11ba892816bd582516dadaa4 = L.marker(\n",
       "                [13.5167, 105.9667],\n",
       "                {}\n",
       "            ).addTo(map_1f11d9b4e688f7eeba82eb6de73440fb);\n",
       "        \n",
       "    \n",
       "            var marker_d0aed7f80c4e78ed9faf5ec0f96c5cbe = L.marker(\n",
       "                [13.507, 106.981],\n",
       "                {}\n",
       "            ).addTo(map_1f11d9b4e688f7eeba82eb6de73440fb);\n",
       "        \n",
       "    \n",
       "            var marker_95973d80b5ed040f2d2ab2aa504d0c7b = L.marker(\n",
       "                [13.9833, 108.0],\n",
       "                {}\n",
       "            ).addTo(map_1f11d9b4e688f7eeba82eb6de73440fb);\n",
       "        \n",
       "    \n",
       "            var marker_f82bec651755ffcdc8c9a1b04287a530 = L.marker(\n",
       "                [14.3417, 107.9792],\n",
       "                {}\n",
       "            ).addTo(map_1f11d9b4e688f7eeba82eb6de73440fb);\n",
       "        \n",
       "    \n",
       "            var marker_2b31014e9b0062761cc4c7e15381eeef = L.marker(\n",
       "                [15.1206, 108.7922],\n",
       "                {}\n",
       "            ).addTo(map_1f11d9b4e688f7eeba82eb6de73440fb);\n",
       "        \n",
       "    \n",
       "            var marker_586b3fbc5c9b0597c64903fb1d9d3170 = L.marker(\n",
       "                [13.7394, 106.9873],\n",
       "                {}\n",
       "            ).addTo(map_1f11d9b4e688f7eeba82eb6de73440fb);\n",
       "        \n",
       "    \n",
       "            var marker_36faeb61b4532d1e0a010c8138e68658 = L.marker(\n",
       "                [14.8, 106.8333],\n",
       "                {}\n",
       "            ).addTo(map_1f11d9b4e688f7eeba82eb6de73440fb);\n",
       "        \n",
       "    \n",
       "            var marker_ae8a1f0df46f068437a28ca8e678b97f = L.marker(\n",
       "                [15.5667, 108.4833],\n",
       "                {}\n",
       "            ).addTo(map_1f11d9b4e688f7eeba82eb6de73440fb);\n",
       "        \n",
       "    \n",
       "            var marker_b43d4c1b3781ff9273b30948d42cd8e3 = L.marker(\n",
       "                [15.8733, 108.3327],\n",
       "                {}\n",
       "            ).addTo(map_1f11d9b4e688f7eeba82eb6de73440fb);\n",
       "        \n",
       "    \n",
       "            var marker_1871d8368ae53cd7f1dc8c105255c5e9 = L.marker(\n",
       "                [16.06, 108.25],\n",
       "                {}\n",
       "            ).addTo(map_1f11d9b4e688f7eeba82eb6de73440fb);\n",
       "        \n",
       "    \n",
       "            var marker_f08c9db7ea39ef47c5e249ca4872fced = L.marker(\n",
       "                [16.0748, 108.224],\n",
       "                {}\n",
       "            ).addTo(map_1f11d9b4e688f7eeba82eb6de73440fb);\n",
       "        \n",
       "    \n",
       "            var marker_94ccca976f772cbed308d38164c66409 = L.marker(\n",
       "                [15.3503, 106.7286],\n",
       "                {}\n",
       "            ).addTo(map_1f11d9b4e688f7eeba82eb6de73440fb);\n",
       "        \n",
       "    \n",
       "            var marker_fade73cffe657b2dd5db10951ee4fe75 = L.marker(\n",
       "                [14.8833, 105.8667],\n",
       "                {}\n",
       "            ).addTo(map_1f11d9b4e688f7eeba82eb6de73440fb);\n",
       "        \n",
       "    \n",
       "            var marker_060c9e6c756700bef8200f3243de55da = L.marker(\n",
       "                [13.8167, 104.9667],\n",
       "                {}\n",
       "            ).addTo(map_1f11d9b4e688f7eeba82eb6de73440fb);\n",
       "        \n",
       "    \n",
       "            var marker_f4f9561a2e84bd26a631510ed91e688e = L.marker(\n",
       "                [12.7111, 104.8886],\n",
       "                {}\n",
       "            ).addTo(map_1f11d9b4e688f7eeba82eb6de73440fb);\n",
       "        \n",
       "    \n",
       "            var marker_576eb5e3b7410f346aab96fa1d0c64a6 = L.marker(\n",
       "                [12.712, 104.889],\n",
       "                {}\n",
       "            ).addTo(map_1f11d9b4e688f7eeba82eb6de73440fb);\n",
       "        \n",
       "    \n",
       "            var marker_85bd8b165c2eda10b4c583611aafd3b5 = L.marker(\n",
       "                [12.5337, 103.9167],\n",
       "                {}\n",
       "            ).addTo(map_1f11d9b4e688f7eeba82eb6de73440fb);\n",
       "        \n",
       "    \n",
       "            var marker_1efd791fc7da5b6fa8e2057789922325 = L.marker(\n",
       "                [13.3622, 103.8597],\n",
       "                {}\n",
       "            ).addTo(map_1f11d9b4e688f7eeba82eb6de73440fb);\n",
       "        \n",
       "    \n",
       "            var marker_dd459c5b88a6f9cebf078c3130baead5 = L.marker(\n",
       "                [12.2417, 102.5125],\n",
       "                {}\n",
       "            ).addTo(map_1f11d9b4e688f7eeba82eb6de73440fb);\n",
       "        \n",
       "    \n",
       "            var marker_d2efe54dea7e5e1ed5fa9a56ebba6d9d = L.marker(\n",
       "                [13.1, 103.2],\n",
       "                {}\n",
       "            ).addTo(map_1f11d9b4e688f7eeba82eb6de73440fb);\n",
       "        \n",
       "    \n",
       "            var marker_5631e9e5d390761f95c255a560fbbe99 = L.marker(\n",
       "                [12.4547, 102.2214],\n",
       "                {}\n",
       "            ).addTo(map_1f11d9b4e688f7eeba82eb6de73440fb);\n",
       "        \n",
       "    \n",
       "            var marker_e5756d36266f765ead186c86a99c6359 = L.marker(\n",
       "                [12.6086, 102.1039],\n",
       "                {}\n",
       "            ).addTo(map_1f11d9b4e688f7eeba82eb6de73440fb);\n",
       "        \n",
       "    \n",
       "            var marker_3e8dc1322d78c46ee42474a97dc89cbf = L.marker(\n",
       "                [12.6196, 102.0112],\n",
       "                {}\n",
       "            ).addTo(map_1f11d9b4e688f7eeba82eb6de73440fb);\n",
       "        \n",
       "    \n",
       "            var marker_31eecaef21578b92c170e39f0fe08e81 = L.marker(\n",
       "                [13.6928, 102.5017],\n",
       "                {}\n",
       "            ).addTo(map_1f11d9b4e688f7eeba82eb6de73440fb);\n",
       "        \n",
       "    \n",
       "            var marker_d195ae2ebdab5c5ce0befec7cf3431e5 = L.marker(\n",
       "                [13.5833, 102.9833],\n",
       "                {}\n",
       "            ).addTo(map_1f11d9b4e688f7eeba82eb6de73440fb);\n",
       "        \n",
       "    \n",
       "            var marker_f059c7df3dc34d6cb4e37cce5e78a4e6 = L.marker(\n",
       "                [14.1817, 103.5176],\n",
       "                {}\n",
       "            ).addTo(map_1f11d9b4e688f7eeba82eb6de73440fb);\n",
       "        \n",
       "    \n",
       "            var marker_2e91767cc5fa9af0e6513481a27a4fa6 = L.marker(\n",
       "                [14.906, 105.0784],\n",
       "                {}\n",
       "            ).addTo(map_1f11d9b4e688f7eeba82eb6de73440fb);\n",
       "        \n",
       "    \n",
       "            var marker_508c61fa15aea835a1505e75d6548c10 = L.marker(\n",
       "                [15.1167, 105.7833],\n",
       "                {}\n",
       "            ).addTo(map_1f11d9b4e688f7eeba82eb6de73440fb);\n",
       "        \n",
       "    \n",
       "            var marker_2ee0936191244f6d1fedd5ffa6b54aa3 = L.marker(\n",
       "                [15.7167, 106.4167],\n",
       "                {}\n",
       "            ).addTo(map_1f11d9b4e688f7eeba82eb6de73440fb);\n",
       "        \n",
       "    \n",
       "            var marker_d0269121873a59a1fe30e324a666d0fa = L.marker(\n",
       "                [16.4667, 107.5833],\n",
       "                {}\n",
       "            ).addTo(map_1f11d9b4e688f7eeba82eb6de73440fb);\n",
       "        \n",
       "    \n",
       "            var marker_121248ba296a2d657f76c87611d5eee8 = L.marker(\n",
       "                [18.2536, 109.5019],\n",
       "                {}\n",
       "            ).addTo(map_1f11d9b4e688f7eeba82eb6de73440fb);\n",
       "        \n",
       "    \n",
       "            var marker_c22c6c208b0c7e9c33379709db824e15 = L.marker(\n",
       "                [18.8, 110.4],\n",
       "                {}\n",
       "            ).addTo(map_1f11d9b4e688f7eeba82eb6de73440fb);\n",
       "        \n",
       "    \n",
       "            var marker_daeca3f0d16555493a0054d107686b49 = L.marker(\n",
       "                [19.2431, 110.4642],\n",
       "                {}\n",
       "            ).addTo(map_1f11d9b4e688f7eeba82eb6de73440fb);\n",
       "        \n",
       "    \n",
       "            var marker_41cd8b5fc4ebd2a007e1edef2ab457dd = L.marker(\n",
       "                [19.6167, 110.75],\n",
       "                {}\n",
       "            ).addTo(map_1f11d9b4e688f7eeba82eb6de73440fb);\n",
       "        \n",
       "    \n",
       "            var marker_dd078174d5c8c9468ac62125ccfdb71b = L.marker(\n",
       "                [18.7787, 109.5117],\n",
       "                {}\n",
       "            ).addTo(map_1f11d9b4e688f7eeba82eb6de73440fb);\n",
       "        \n",
       "    \n",
       "            var marker_76ebf93ba58be5e8c813a5c3d93a4a80 = L.marker(\n",
       "                [16.7504, 107.2],\n",
       "                {}\n",
       "            ).addTo(map_1f11d9b4e688f7eeba82eb6de73440fb);\n",
       "        \n",
       "    \n",
       "            var marker_0cb6ec76a6648ede209d2f30b6a7595b = L.marker(\n",
       "                [15.2482, 105.2296],\n",
       "                {}\n",
       "            ).addTo(map_1f11d9b4e688f7eeba82eb6de73440fb);\n",
       "        \n",
       "    \n",
       "            var marker_c3a82e415be1c4debfc3fb105a6c06d3 = L.marker(\n",
       "                [14.6536, 104.6278],\n",
       "                {}\n",
       "            ).addTo(map_1f11d9b4e688f7eeba82eb6de73440fb);\n",
       "        \n",
       "    \n",
       "            var marker_1cca47c0977dbf64ede844f5d0f88950 = L.marker(\n",
       "                [15.2008, 104.8612],\n",
       "                {}\n",
       "            ).addTo(map_1f11d9b4e688f7eeba82eb6de73440fb);\n",
       "        \n",
       "    \n",
       "            var marker_26e4cfa9ed7c5b6a77f3cd100dc60016 = L.marker(\n",
       "                [15.2281, 104.8594],\n",
       "                {}\n",
       "            ).addTo(map_1f11d9b4e688f7eeba82eb6de73440fb);\n",
       "        \n",
       "    \n",
       "            var marker_5f310d7ca6a49a7a7b5cef690e160e9a = L.marker(\n",
       "                [15.1069, 104.3294],\n",
       "                {}\n",
       "            ).addTo(map_1f11d9b4e688f7eeba82eb6de73440fb);\n",
       "        \n",
       "    \n",
       "            var marker_bc2fef8990fba05eae7d243a66822408 = L.marker(\n",
       "                [15.85, 104.6333],\n",
       "                {}\n",
       "            ).addTo(map_1f11d9b4e688f7eeba82eb6de73440fb);\n",
       "        \n",
       "    \n",
       "            var marker_50b97bf1c62522885bf04bee401d1ec9 = L.marker(\n",
       "                [14.8833, 103.4931],\n",
       "                {}\n",
       "            ).addTo(map_1f11d9b4e688f7eeba82eb6de73440fb);\n",
       "        \n",
       "    \n",
       "            var marker_29985a1bfe0e8c23c8f34b7b6b501ae6 = L.marker(\n",
       "                [15.7883, 104.1506],\n",
       "                {}\n",
       "            ).addTo(map_1f11d9b4e688f7eeba82eb6de73440fb);\n",
       "        \n",
       "    \n",
       "            var marker_b4c0d7580e27a3a467cab0a860bc7393 = L.marker(\n",
       "                [14.9942, 103.1022],\n",
       "                {}\n",
       "            ).addTo(map_1f11d9b4e688f7eeba82eb6de73440fb);\n",
       "        \n",
       "    \n",
       "            var marker_9d15fe774fad61b4d72d84829bf1f8fe = L.marker(\n",
       "                [14.6363, 102.7746],\n",
       "                {}\n",
       "            ).addTo(map_1f11d9b4e688f7eeba82eb6de73440fb);\n",
       "        \n",
       "    \n",
       "            var marker_dd34eff1e4b0e25882d04187d12ac8da = L.marker(\n",
       "                [13.5004, 102.1806],\n",
       "                {}\n",
       "            ).addTo(map_1f11d9b4e688f7eeba82eb6de73440fb);\n",
       "        \n",
       "    \n",
       "            var marker_7ce171597a979d39d4a9ba9a02ca71d8 = L.marker(\n",
       "                [12.6742, 101.2789],\n",
       "                {}\n",
       "            ).addTo(map_1f11d9b4e688f7eeba82eb6de73440fb);\n",
       "        \n",
       "    \n",
       "            var marker_0d18e526b0a9e517b86ffa2edeb5f395 = L.marker(\n",
       "                [12.7258, 101.1722],\n",
       "                {}\n",
       "            ).addTo(map_1f11d9b4e688f7eeba82eb6de73440fb);\n",
       "        \n",
       "    \n",
       "            var marker_9ab3ff85f96b993ea2382c336e388f72 = L.marker(\n",
       "                [12.7209, 101.0669],\n",
       "                {}\n",
       "            ).addTo(map_1f11d9b4e688f7eeba82eb6de73440fb);\n",
       "        \n",
       "    \n",
       "            var marker_20b460bc68a242747ab4fc562f85ba39 = L.marker(\n",
       "                [12.6636, 100.9036],\n",
       "                {}\n",
       "            ).addTo(map_1f11d9b4e688f7eeba82eb6de73440fb);\n",
       "        \n",
       "    \n",
       "            var marker_1598e765437adbaae1b75a3dcf2b93bf = L.marker(\n",
       "                [12.9227, 100.9375],\n",
       "                {}\n",
       "            ).addTo(map_1f11d9b4e688f7eeba82eb6de73440fb);\n",
       "        \n",
       "    \n",
       "            var marker_56c953e9e2e670fabe56cd69a6b43703 = L.marker(\n",
       "                [12.9496, 100.893],\n",
       "                {}\n",
       "            ).addTo(map_1f11d9b4e688f7eeba82eb6de73440fb);\n",
       "        \n",
       "    \n",
       "            var marker_de0e4c99499c1617406bda8a06ec7036 = L.marker(\n",
       "                [13.086, 100.9247],\n",
       "                {}\n",
       "            ).addTo(map_1f11d9b4e688f7eeba82eb6de73440fb);\n",
       "        \n",
       "    \n",
       "            var marker_f173bc11a6c68cf5731db1cdce6cb237 = L.marker(\n",
       "                [13.314, 101.1114],\n",
       "                {}\n",
       "            ).addTo(map_1f11d9b4e688f7eeba82eb6de73440fb);\n",
       "        \n",
       "    \n",
       "            var marker_107c2717c045454b1cf1d37d834ebebf = L.marker(\n",
       "                [13.1744, 100.9306],\n",
       "                {}\n",
       "            ).addTo(map_1f11d9b4e688f7eeba82eb6de73440fb);\n",
       "        \n",
       "    \n",
       "            var marker_3c538160ee2b7aeb17d68d81a39c1e41 = L.marker(\n",
       "                [13.4458, 101.1844],\n",
       "                {}\n",
       "            ).addTo(map_1f11d9b4e688f7eeba82eb6de73440fb);\n",
       "        \n",
       "    \n",
       "            var marker_691c296544275f2abde2546e58f345d5 = L.marker(\n",
       "                [13.2882, 100.9144],\n",
       "                {}\n",
       "            ).addTo(map_1f11d9b4e688f7eeba82eb6de73440fb);\n",
       "        \n",
       "    \n",
       "            var marker_eaf67183944ccf5ea0cf124a656eb403 = L.marker(\n",
       "                [13.3611, 100.985],\n",
       "                {}\n",
       "            ).addTo(map_1f11d9b4e688f7eeba82eb6de73440fb);\n",
       "        \n",
       "    \n",
       "            var marker_1b2605cb1bb18762b2fd795397e4ceec = L.marker(\n",
       "                [13.3616, 100.9795],\n",
       "                {}\n",
       "            ).addTo(map_1f11d9b4e688f7eeba82eb6de73440fb);\n",
       "        \n",
       "    \n",
       "            var marker_d2555aeae1c4e217bfa8b23031edd1d9 = L.marker(\n",
       "                [13.3364, 100.9278],\n",
       "                {}\n",
       "            ).addTo(map_1f11d9b4e688f7eeba82eb6de73440fb);\n",
       "        \n",
       "    \n",
       "            var marker_116e5098eef8b2fadcd0a343b2aff0bc = L.marker(\n",
       "                [13.6903, 101.0703],\n",
       "                {}\n",
       "            ).addTo(map_1f11d9b4e688f7eeba82eb6de73440fb);\n",
       "        \n",
       "    \n",
       "            var marker_bf023b9306b75ac567dfc82f2f5cf2a9 = L.marker(\n",
       "                [13.6371, 100.6636],\n",
       "                {}\n",
       "            ).addTo(map_1f11d9b4e688f7eeba82eb6de73440fb);\n",
       "        \n",
       "    \n",
       "            var marker_22ec56abf1ee91526de9af5b71ccfac5 = L.marker(\n",
       "                [13.6004, 100.5964],\n",
       "                {}\n",
       "            ).addTo(map_1f11d9b4e688f7eeba82eb6de73440fb);\n",
       "        \n",
       "    \n",
       "            var marker_99b25b304e38bb285dcb23acaddad109 = L.marker(\n",
       "                [13.659, 100.5329],\n",
       "                {}\n",
       "            ).addTo(map_1f11d9b4e688f7eeba82eb6de73440fb);\n",
       "        \n",
       "    \n",
       "            var marker_db975f93caa533354cbf85e3f454111d = L.marker(\n",
       "                [13.75, 100.5167],\n",
       "                {}\n",
       "            ).addTo(map_1f11d9b4e688f7eeba82eb6de73440fb);\n",
       "        \n",
       "    \n",
       "            var marker_5308f1d24c96cf8956eefecf71a4e9bf = L.marker(\n",
       "                [13.8042, 100.4755],\n",
       "                {}\n",
       "            ).addTo(map_1f11d9b4e688f7eeba82eb6de73440fb);\n",
       "        \n",
       "    \n",
       "            var marker_708074db0597b85176d0d3c7266217b5 = L.marker(\n",
       "                [13.6372, 100.2967],\n",
       "                {}\n",
       "            ).addTo(map_1f11d9b4e688f7eeba82eb6de73440fb);\n",
       "        \n",
       "    \n",
       "            var marker_b0453e2240e1b2e80e4c5e673b9d60ab = L.marker(\n",
       "                [13.5486, 100.2775],\n",
       "                {}\n",
       "            ).addTo(map_1f11d9b4e688f7eeba82eb6de73440fb);\n",
       "        \n",
       "    \n",
       "            var marker_86fedc65a6d274b53674ada3e46a9e27 = L.marker(\n",
       "                [13.8444, 100.4829],\n",
       "                {}\n",
       "            ).addTo(map_1f11d9b4e688f7eeba82eb6de73440fb);\n",
       "        \n",
       "    \n",
       "            var marker_d96ff1ae9a5cab900758c6dd918e4d92 = L.marker(\n",
       "                [13.9726, 100.6506],\n",
       "                {}\n",
       "            ).addTo(map_1f11d9b4e688f7eeba82eb6de73440fb);\n",
       "        \n",
       "    \n",
       "            var marker_28521ff0473d9bae4e4e5c3a9be7e19c = L.marker(\n",
       "                [13.8667, 100.5167],\n",
       "                {}\n",
       "            ).addTo(map_1f11d9b4e688f7eeba82eb6de73440fb);\n",
       "        \n",
       "    \n",
       "            var marker_7ff3b6949db5e6cdf9d8c4aedccb457e = L.marker(\n",
       "                [13.7001, 100.3241],\n",
       "                {}\n",
       "            ).addTo(map_1f11d9b4e688f7eeba82eb6de73440fb);\n",
       "        \n",
       "    \n",
       "            var marker_d25bffe7829ad34937ee3a3ffe5ac0d9 = L.marker(\n",
       "                [13.6519, 100.2572],\n",
       "                {}\n",
       "            ).addTo(map_1f11d9b4e688f7eeba82eb6de73440fb);\n",
       "        \n",
       "    \n",
       "            var marker_d08f06385562902b8fe77c0cea91fd21 = L.marker(\n",
       "                [13.4097, 100.0017],\n",
       "                {}\n",
       "            ).addTo(map_1f11d9b4e688f7eeba82eb6de73440fb);\n",
       "        \n",
       "    \n",
       "            var marker_3249ece100cfdad05d965b44388dfa6d = L.marker(\n",
       "                [12.7997, 99.9669],\n",
       "                {}\n",
       "            ).addTo(map_1f11d9b4e688f7eeba82eb6de73440fb);\n",
       "        \n",
       "    \n",
       "            var marker_38596f25a4bef611bfbf91752c30d0f0 = L.marker(\n",
       "                [11.8067, 99.7956],\n",
       "                {}\n",
       "            ).addTo(map_1f11d9b4e688f7eeba82eb6de73440fb);\n",
       "        \n",
       "    \n",
       "            var marker_9ee60b9793348fdfbef7e87d6b2a0f56 = L.marker(\n",
       "                [10.4939, 99.18],\n",
       "                {}\n",
       "            ).addTo(map_1f11d9b4e688f7eeba82eb6de73440fb);\n",
       "        \n",
       "    \n",
       "            var marker_6e6daf9ffbb8f7f0cbb9c4106e754188 = L.marker(\n",
       "                [8.3511, 100.2019],\n",
       "                {}\n",
       "            ).addTo(map_1f11d9b4e688f7eeba82eb6de73440fb);\n",
       "        \n",
       "    \n",
       "            var marker_bee7a7058c4c65e475bc9053f9e78951 = L.marker(\n",
       "                [6.6386, 100.424],\n",
       "                {}\n",
       "            ).addTo(map_1f11d9b4e688f7eeba82eb6de73440fb);\n",
       "        \n",
       "    \n",
       "            var marker_41ce7ad447203cefd6b27f3177ed7952 = L.marker(\n",
       "                [6.4264, 101.8231],\n",
       "                {}\n",
       "            ).addTo(map_1f11d9b4e688f7eeba82eb6de73440fb);\n",
       "        \n",
       "    \n",
       "            var marker_e71f93046960eeeea6ced18be326fa0d = L.marker(\n",
       "                [5.3303, 103.1408],\n",
       "                {}\n",
       "            ).addTo(map_1f11d9b4e688f7eeba82eb6de73440fb);\n",
       "        \n",
       "    \n",
       "            var marker_1545b64607207eb373d509174cb44b14 = L.marker(\n",
       "                [3.8167, 103.3333],\n",
       "                {}\n",
       "            ).addTo(map_1f11d9b4e688f7eeba82eb6de73440fb);\n",
       "        \n",
       "    \n",
       "            var marker_5bc692d37188f9a6377ed96e011a5c96 = L.marker(\n",
       "                [1.3, 103.8],\n",
       "                {}\n",
       "            ).addTo(map_1f11d9b4e688f7eeba82eb6de73440fb);\n",
       "        \n",
       "    \n",
       "            var marker_9e08042af5b21475c48689ca6d22ce15 = L.marker(\n",
       "                [-1.59, 103.61],\n",
       "                {}\n",
       "            ).addTo(map_1f11d9b4e688f7eeba82eb6de73440fb);\n",
       "        \n",
       "    \n",
       "            var marker_6e875615d3852e0b37f9776718ae5312 = L.marker(\n",
       "                [-2.1, 106.1],\n",
       "                {}\n",
       "            ).addTo(map_1f11d9b4e688f7eeba82eb6de73440fb);\n",
       "        \n",
       "    \n",
       "            var marker_d84dac8ca48da0b0595de45af5b8c0fc = L.marker(\n",
       "                [-6.2333, 107.0],\n",
       "                {}\n",
       "            ).addTo(map_1f11d9b4e688f7eeba82eb6de73440fb);\n",
       "        \n",
       "    \n",
       "            var marker_a631b8c9d46fa36b1b6df80fd1882400 = L.marker(\n",
       "                [-7.4706, 110.2178],\n",
       "                {}\n",
       "            ).addTo(map_1f11d9b4e688f7eeba82eb6de73440fb);\n",
       "        \n",
       "    \n",
       "            var marker_2cd7557ee7d01a74fd11425c1cd1cff4 = L.marker(\n",
       "                [-7.98, 112.62],\n",
       "                {}\n",
       "            ).addTo(map_1f11d9b4e688f7eeba82eb6de73440fb);\n",
       "        \n",
       "    \n",
       "            var marker_745b90192c9d7332b8a766f55b1999b7 = L.marker(\n",
       "                [-8.7151, 115.1841],\n",
       "                {}\n",
       "            ).addTo(map_1f11d9b4e688f7eeba82eb6de73440fb);\n",
       "        \n",
       "    \n",
       "            var marker_f61899578bdf1ebfcc5d33eca3a0f015 = L.marker(\n",
       "                [-8.4614, 118.747],\n",
       "                {}\n",
       "            ).addTo(map_1f11d9b4e688f7eeba82eb6de73440fb);\n",
       "        \n",
       "    \n",
       "            var marker_c5346a0e565532126fb265ba582639cb = L.marker(\n",
       "                [-10.1633, 123.5778],\n",
       "                {}\n",
       "            ).addTo(map_1f11d9b4e688f7eeba82eb6de73440fb);\n",
       "        \n",
       "    \n",
       "            var marker_caa46a8cc60c9f6d0a5e1d69556c84ac = L.marker(\n",
       "                [-8.5167, 127.0333],\n",
       "                {}\n",
       "            ).addTo(map_1f11d9b4e688f7eeba82eb6de73440fb);\n",
       "        \n",
       "    \n",
       "            var marker_2277dd2406d828b9b5d54645faac07ec = L.marker(\n",
       "                [-12.4922, 131.053],\n",
       "                {}\n",
       "            ).addTo(map_1f11d9b4e688f7eeba82eb6de73440fb);\n",
       "        \n",
       "    \n",
       "            var marker_4b3c06c0e5ea42734e1de50ee6bf32d7 = L.marker(\n",
       "                [-14.4667, 132.2667],\n",
       "                {}\n",
       "            ).addTo(map_1f11d9b4e688f7eeba82eb6de73440fb);\n",
       "        \n",
       "    \n",
       "            var marker_68b5aba186465ead70e0148b7653bd23 = L.marker(\n",
       "                [-19.9167, 138.117],\n",
       "                {}\n",
       "            ).addTo(map_1f11d9b4e688f7eeba82eb6de73440fb);\n",
       "        \n",
       "    \n",
       "            var marker_728c317f683c2eaba430edbb3dd1ca6c = L.marker(\n",
       "                [-25.4206, 142.6547],\n",
       "                {}\n",
       "            ).addTo(map_1f11d9b4e688f7eeba82eb6de73440fb);\n",
       "        \n",
       "    \n",
       "            var marker_18abd3a353ffb9cb2a8cd668f44f61c8 = L.marker(\n",
       "                [-30.0817, 145.9511],\n",
       "                {}\n",
       "            ).addTo(map_1f11d9b4e688f7eeba82eb6de73440fb);\n",
       "        \n",
       "    \n",
       "            var marker_49936099d14c0fe08e3cabf4e22440e8 = L.marker(\n",
       "                [-32.6125, 149.5872],\n",
       "                {}\n",
       "            ).addTo(map_1f11d9b4e688f7eeba82eb6de73440fb);\n",
       "        \n",
       "    \n",
       "            var marker_3df9227b77a78e03f0c36ce7a653587f = L.marker(\n",
       "                [-33.7511, 150.6942],\n",
       "                {}\n",
       "            ).addTo(map_1f11d9b4e688f7eeba82eb6de73440fb);\n",
       "        \n",
       "    \n",
       "            var marker_65e908b9f09040cbb97ea9ba6b2756e2 = L.marker(\n",
       "                [-33.865, 151.2094],\n",
       "                {}\n",
       "            ).addTo(map_1f11d9b4e688f7eeba82eb6de73440fb);\n",
       "        \n",
       "&lt;/script&gt;\n",
       "&lt;/html&gt;\" style=\"position:absolute;width:100%;height:100%;left:0;top:0;border:none !important;\" allowfullscreen webkitallowfullscreen mozallowfullscreen></iframe></div></div>"
      ],
      "text/plain": [
       "<folium.folium.Map at 0x1f8ef0f2f50>"
      ]
     },
     "execution_count": 44,
     "metadata": {},
     "output_type": "execute_result"
    }
   ],
   "source": [
    "mappa"
   ]
  },
  {
   "cell_type": "code",
   "execution_count": null,
   "id": "551eb4c40c19c28c",
   "metadata": {},
   "outputs": [],
   "source": []
  },
  {
   "cell_type": "code",
   "execution_count": 3,
   "id": "ce0d4f3f36c50a03",
   "metadata": {
    "ExecuteTime": {
     "end_time": "2023-10-28T13:09:27.083887Z",
     "start_time": "2023-10-28T13:09:16.039147900Z"
    }
   },
   "outputs": [
    {
     "name": "stdout",
     "output_type": "stream",
     "text": [
      "Chiasso\n",
      "Lugano\n",
      "Locarno\n",
      "Bellinzona\n",
      "Mendrisio\n",
      "Varese\n",
      "Busto Arsizio\n",
      "Novara\n",
      "Biella\n",
      "Aosta\n",
      "Martigny\n",
      "Montreux\n",
      "Pully\n",
      "Crissier\n",
      "Bussy\n",
      "Morges\n",
      "Ecublens\n",
      "Renens\n",
      "Prilly\n",
      "Lausanne\n"
     ]
    },
    {
     "ename": "IndexError",
     "evalue": "single positional indexer is out-of-bounds",
     "output_type": "error",
     "traceback": [
      "\u001B[1;31m---------------------------------------------------------------------------\u001B[0m",
      "\u001B[1;31mIndexError\u001B[0m                                Traceback (most recent call last)",
      "Cell \u001B[1;32mIn[3], line 1\u001B[0m\n\u001B[1;32m----> 1\u001B[0m a \u001B[38;5;241m=\u001B[39m \u001B[43mfunc\u001B[49m\u001B[38;5;241;43m.\u001B[39;49m\u001B[43mdistance_between_two_cities\u001B[49m\u001B[43m(\u001B[49m\u001B[43m)\u001B[49m\n",
      "File \u001B[1;32mC:\\Uni\\Coding\\python\\exam_project\\exam_project\\self_made_functions.py:46\u001B[0m, in \u001B[0;36mdistance_between_two_cities\u001B[1;34m()\u001B[0m\n\u001B[0;32m     44\u001B[0m j \u001B[38;5;241m=\u001B[39m i\n\u001B[0;32m     45\u001B[0m \u001B[38;5;28;01mfor\u001B[39;00m x \u001B[38;5;129;01min\u001B[39;00m \u001B[38;5;28mrange\u001B[39m(i):\n\u001B[1;32m---> 46\u001B[0m     closest_city \u001B[38;5;241m=\u001B[39m \u001B[43mun_city\u001B[49m\u001B[38;5;241;43m.\u001B[39;49m\u001B[43msort_values\u001B[49m\u001B[43m(\u001B[49m\u001B[43mby\u001B[49m\u001B[38;5;241;43m=\u001B[39;49m\u001B[38;5;124;43m'\u001B[39;49m\u001B[38;5;124;43mDistance to destination\u001B[39;49m\u001B[38;5;124;43m'\u001B[39;49m\u001B[43m)\u001B[49m\u001B[38;5;241;43m.\u001B[39;49m\u001B[43miloc\u001B[49m\u001B[43m[\u001B[49m\u001B[43mx\u001B[49m\u001B[43m]\u001B[49m\n\u001B[0;32m     47\u001B[0m     \u001B[38;5;66;03m# print(\"CLOSEST: \",closest_city['city'])\u001B[39;00m\n\u001B[0;32m     48\u001B[0m     \u001B[38;5;28;01mif\u001B[39;00m closest_city[\u001B[38;5;124m'\u001B[39m\u001B[38;5;124mid\u001B[39m\u001B[38;5;124m'\u001B[39m] \u001B[38;5;129;01mnot\u001B[39;00m \u001B[38;5;129;01min\u001B[39;00m visited_cities:\n",
      "File \u001B[1;32mC:\\Uni\\Coding\\python\\ENV_DIR\\Lib\\site-packages\\pandas\\core\\indexing.py:1153\u001B[0m, in \u001B[0;36m_LocationIndexer.__getitem__\u001B[1;34m(self, key)\u001B[0m\n\u001B[0;32m   1150\u001B[0m axis \u001B[38;5;241m=\u001B[39m \u001B[38;5;28mself\u001B[39m\u001B[38;5;241m.\u001B[39maxis \u001B[38;5;129;01mor\u001B[39;00m \u001B[38;5;241m0\u001B[39m\n\u001B[0;32m   1152\u001B[0m maybe_callable \u001B[38;5;241m=\u001B[39m com\u001B[38;5;241m.\u001B[39mapply_if_callable(key, \u001B[38;5;28mself\u001B[39m\u001B[38;5;241m.\u001B[39mobj)\n\u001B[1;32m-> 1153\u001B[0m \u001B[38;5;28;01mreturn\u001B[39;00m \u001B[38;5;28;43mself\u001B[39;49m\u001B[38;5;241;43m.\u001B[39;49m\u001B[43m_getitem_axis\u001B[49m\u001B[43m(\u001B[49m\u001B[43mmaybe_callable\u001B[49m\u001B[43m,\u001B[49m\u001B[43m \u001B[49m\u001B[43maxis\u001B[49m\u001B[38;5;241;43m=\u001B[39;49m\u001B[43maxis\u001B[49m\u001B[43m)\u001B[49m\n",
      "File \u001B[1;32mC:\\Uni\\Coding\\python\\ENV_DIR\\Lib\\site-packages\\pandas\\core\\indexing.py:1714\u001B[0m, in \u001B[0;36m_iLocIndexer._getitem_axis\u001B[1;34m(self, key, axis)\u001B[0m\n\u001B[0;32m   1711\u001B[0m     \u001B[38;5;28;01mraise\u001B[39;00m \u001B[38;5;167;01mTypeError\u001B[39;00m(\u001B[38;5;124m\"\u001B[39m\u001B[38;5;124mCannot index by location index with a non-integer key\u001B[39m\u001B[38;5;124m\"\u001B[39m)\n\u001B[0;32m   1713\u001B[0m \u001B[38;5;66;03m# validate the location\u001B[39;00m\n\u001B[1;32m-> 1714\u001B[0m \u001B[38;5;28;43mself\u001B[39;49m\u001B[38;5;241;43m.\u001B[39;49m\u001B[43m_validate_integer\u001B[49m\u001B[43m(\u001B[49m\u001B[43mkey\u001B[49m\u001B[43m,\u001B[49m\u001B[43m \u001B[49m\u001B[43maxis\u001B[49m\u001B[43m)\u001B[49m\n\u001B[0;32m   1716\u001B[0m \u001B[38;5;28;01mreturn\u001B[39;00m \u001B[38;5;28mself\u001B[39m\u001B[38;5;241m.\u001B[39mobj\u001B[38;5;241m.\u001B[39m_ixs(key, axis\u001B[38;5;241m=\u001B[39maxis)\n",
      "File \u001B[1;32mC:\\Uni\\Coding\\python\\ENV_DIR\\Lib\\site-packages\\pandas\\core\\indexing.py:1647\u001B[0m, in \u001B[0;36m_iLocIndexer._validate_integer\u001B[1;34m(self, key, axis)\u001B[0m\n\u001B[0;32m   1645\u001B[0m len_axis \u001B[38;5;241m=\u001B[39m \u001B[38;5;28mlen\u001B[39m(\u001B[38;5;28mself\u001B[39m\u001B[38;5;241m.\u001B[39mobj\u001B[38;5;241m.\u001B[39m_get_axis(axis))\n\u001B[0;32m   1646\u001B[0m \u001B[38;5;28;01mif\u001B[39;00m key \u001B[38;5;241m>\u001B[39m\u001B[38;5;241m=\u001B[39m len_axis \u001B[38;5;129;01mor\u001B[39;00m key \u001B[38;5;241m<\u001B[39m \u001B[38;5;241m-\u001B[39mlen_axis:\n\u001B[1;32m-> 1647\u001B[0m     \u001B[38;5;28;01mraise\u001B[39;00m \u001B[38;5;167;01mIndexError\u001B[39;00m(\u001B[38;5;124m\"\u001B[39m\u001B[38;5;124msingle positional indexer is out-of-bounds\u001B[39m\u001B[38;5;124m\"\u001B[39m)\n",
      "\u001B[1;31mIndexError\u001B[0m: single positional indexer is out-of-bounds"
     ]
    }
   ],
   "source": [
    "a = func.distance_between_two_cities()\n"
   ]
  },
  {
   "cell_type": "code",
   "execution_count": 4,
   "id": "93c79ed964ff4e4f",
   "metadata": {
    "ExecuteTime": {
     "end_time": "2023-10-28T14:53:34.754808900Z",
     "start_time": "2023-10-28T14:53:34.747257700Z"
    }
   },
   "outputs": [
    {
     "name": "stdout",
     "output_type": "stream",
     "text": [
      "C:\\Uni\\Coding\\python\\exam_project\\tests\n"
     ]
    }
   ],
   "source": [
    "import os\n",
    "\n",
    "current_directory = os.getcwd()\n",
    "print(current_directory)\n"
   ]
  },
  {
   "cell_type": "code",
   "execution_count": null,
   "id": "8aa5dfb98f64a94a",
   "metadata": {},
   "outputs": [],
   "source": []
  },
  {
   "cell_type": "code",
   "execution_count": 1,
   "id": "dd9f9f0410ec67db",
   "metadata": {
    "ExecuteTime": {
     "end_time": "2023-10-29T09:57:57.269795400Z",
     "start_time": "2023-10-29T09:57:52.637981200Z"
    }
   },
   "outputs": [],
   "source": [
    "import pandas as pd\n",
    "df = pd.read_excel(r\"C:\\Uni\\Coding\\python\\worldcities.xlsx\")"
   ]
  },
  {
   "cell_type": "code",
   "execution_count": 2,
   "id": "b1c8660dd77f7ede",
   "metadata": {
    "ExecuteTime": {
     "end_time": "2023-10-29T09:58:05.072474500Z",
     "start_time": "2023-10-29T09:58:04.553270800Z"
    }
   },
   "outputs": [
    {
     "name": "stdout",
     "output_type": "stream",
     "text": [
      "0.14.0\n"
     ]
    }
   ],
   "source": [
    "import folium\n",
    "print(folium.__version__)\n"
   ]
  },
  {
   "cell_type": "code",
   "execution_count": 13,
   "id": "7728f06841e68a80",
   "metadata": {
    "ExecuteTime": {
     "end_time": "2023-10-29T10:24:27.925258300Z",
     "start_time": "2023-10-29T10:24:25.562421800Z"
    }
   },
   "outputs": [],
   "source": [
    "lat=[]\n",
    "lng=[]\n",
    "for column_name, item in df.iterrows():\n",
    "        lat.append(df[\"lat\"].iloc[int(column_name)])\n",
    "\n",
    "for column_name, item in df.iterrows():\n",
    "        lng.append(df[\"lng\"].iloc[int(column_name)])\n"
   ]
  },
  {
   "cell_type": "code",
   "execution_count": 14,
   "id": "1f90942c89d12375",
   "metadata": {
    "ExecuteTime": {
     "end_time": "2023-10-29T10:24:52.398811Z",
     "start_time": "2023-10-29T10:24:29.386018600Z"
    }
   },
   "outputs": [],
   "source": [
    "for i in range(len(df)):\n",
    "    map=func.Mappa(lat[i] , lng[i] ,df[\"city\"].iloc[i])\n",
    "#map= folium.Map( location =[30,10], zoom_start=2)\n",
    "map.save(\"Città.html\")"
   ]
  },
  {
   "cell_type": "code",
   "execution_count": null,
   "id": "91376549454e308d",
   "metadata": {},
   "outputs": [],
   "source": []
  },
  {
   "cell_type": "code",
   "execution_count": 8,
   "id": "34a7adc1bc694145",
   "metadata": {
    "ExecuteTime": {
     "end_time": "2023-11-01T14:40:14.085509900Z",
     "start_time": "2023-11-01T14:40:13.432591100Z"
    }
   },
   "outputs": [
    {
     "data": {
      "text/html": [
       "<div>\n",
       "<style scoped>\n",
       "    .dataframe tbody tr th:only-of-type {\n",
       "        vertical-align: middle;\n",
       "    }\n",
       "\n",
       "    .dataframe tbody tr th {\n",
       "        vertical-align: top;\n",
       "    }\n",
       "\n",
       "    .dataframe thead th {\n",
       "        text-align: right;\n",
       "    }\n",
       "</style>\n",
       "<table border=\"1\" class=\"dataframe\">\n",
       "  <thead>\n",
       "    <tr style=\"text-align: right;\">\n",
       "      <th></th>\n",
       "      <th>city</th>\n",
       "      <th>city_ascii</th>\n",
       "      <th>lat</th>\n",
       "      <th>lng</th>\n",
       "      <th>country</th>\n",
       "      <th>iso2</th>\n",
       "      <th>iso3</th>\n",
       "      <th>admin_name</th>\n",
       "      <th>capital</th>\n",
       "      <th>population</th>\n",
       "      <th>id</th>\n",
       "      <th>Distance from start</th>\n",
       "      <th>Low lng</th>\n",
       "    </tr>\n",
       "  </thead>\n",
       "  <tbody>\n",
       "    <tr>\n",
       "      <th>3855</th>\n",
       "      <td>Monza</td>\n",
       "      <td>Monza</td>\n",
       "      <td>45.5836</td>\n",
       "      <td>9.2736</td>\n",
       "      <td>Italy</td>\n",
       "      <td>IT</td>\n",
       "      <td>ITA</td>\n",
       "      <td>Lombardy</td>\n",
       "      <td>minor</td>\n",
       "      <td>122728.0</td>\n",
       "      <td>1380622727</td>\n",
       "      <td>14.519071</td>\n",
       "      <td>8.8518</td>\n",
       "    </tr>\n",
       "    <tr>\n",
       "      <th>4765</th>\n",
       "      <td>Busto Arsizio</td>\n",
       "      <td>Busto Arsizio</td>\n",
       "      <td>45.6120</td>\n",
       "      <td>8.8518</td>\n",
       "      <td>Italy</td>\n",
       "      <td>IT</td>\n",
       "      <td>ITA</td>\n",
       "      <td>Lombardy</td>\n",
       "      <td>NaN</td>\n",
       "      <td>83314.0</td>\n",
       "      <td>1380033378</td>\n",
       "      <td>30.888743</td>\n",
       "      <td>8.8518</td>\n",
       "    </tr>\n",
       "    <tr>\n",
       "      <th>4750</th>\n",
       "      <td>Como</td>\n",
       "      <td>Como</td>\n",
       "      <td>45.8103</td>\n",
       "      <td>9.0861</td>\n",
       "      <td>Italy</td>\n",
       "      <td>IT</td>\n",
       "      <td>ITA</td>\n",
       "      <td>Lombardy</td>\n",
       "      <td>minor</td>\n",
       "      <td>84378.0</td>\n",
       "      <td>1380994905</td>\n",
       "      <td>39.029441</td>\n",
       "      <td>8.8518</td>\n",
       "    </tr>\n",
       "  </tbody>\n",
       "</table>\n",
       "</div>"
      ],
      "text/plain": [
       "               city     city_ascii      lat     lng country iso2 iso3  \\\n",
       "3855          Monza          Monza  45.5836  9.2736   Italy   IT  ITA   \n",
       "4765  Busto Arsizio  Busto Arsizio  45.6120  8.8518   Italy   IT  ITA   \n",
       "4750           Como           Como  45.8103  9.0861   Italy   IT  ITA   \n",
       "\n",
       "     admin_name capital  population          id  Distance from start  Low lng  \n",
       "3855   Lombardy   minor    122728.0  1380622727            14.519071   8.8518  \n",
       "4765   Lombardy     NaN     83314.0  1380033378            30.888743   8.8518  \n",
       "4750   Lombardy   minor     84378.0  1380994905            39.029441   8.8518  "
      ]
     },
     "execution_count": 8,
     "metadata": {},
     "output_type": "execute_result"
    }
   ],
   "source": [
    "\n",
    "s = f[f['id'] == 1826645935]\n",
    "start_city = int(s['id'].iloc[0])\n",
    "cl_cit = func.three_close_city(start_city)[:3]\n",
    "cl_cit['Low lng'] = min(cl_cit['lng'])\n",
    "cl_cit['Low lng']\n",
    "cl_cit"
   ]
  },
  {
   "cell_type": "code",
   "execution_count": 11,
   "id": "8aae31244d050bb3",
   "metadata": {
    "ExecuteTime": {
     "end_time": "2023-11-01T15:06:10.676829Z",
     "start_time": "2023-11-01T15:06:05.555406500Z"
    }
   },
   "outputs": [],
   "source": [
    "dataset= pd.read_excel(r'http://island.ricerca.di.unimi.it/~alfio/shared/worldcities.xlsx')\n"
   ]
  },
  {
   "cell_type": "code",
   "execution_count": 19,
   "id": "7f8fe2823b628db7",
   "metadata": {
    "ExecuteTime": {
     "end_time": "2023-11-01T15:11:00.676098400Z",
     "start_time": "2023-11-01T15:10:57.343846900Z"
    }
   },
   "outputs": [
    {
     "name": "stdout",
     "output_type": "stream",
     "text": [
      "[1826645935, 1826499077, 1826642497, 1826465421, 1826369701, 1826843295, 1826413202, 1826645935]\n"
     ]
    }
   ],
   "source": [
    "visited_cities = []\n",
    "start_city_id = dataset[dataset['city'] == 'London']['id'].values[0]\n",
    "visited_cities.append(start_city_id)\n",
    "\n",
    "while True:\n",
    "    closest_cities = func.three_close_city(start_city_id)[:3]\n",
    "    next_city = None\n",
    "    \n",
    "    # Trova la città più ad est tra le città più vicine\n",
    "    for idx, row in closest_cities.iterrows():\n",
    "        if row['id'] not in visited_cities:\n",
    "            if next_city is None or row['lng'] > dataset[dataset['id'] == next_city]['lng'].values[0]:\n",
    "                next_city = row['id']\n",
    "    \n",
    "    if next_city is not None:\n",
    "        visited_cities.append(next_city)\n",
    "        start_city_id = next_city\n",
    "    \n",
    "# Torna a Londra\n",
    "visited_cities.append(visited_cities[0])\n",
    "\n",
    "print(visited_cities)\n",
    "\n",
    "#mappa = folium.Map(location = zoom, zoom_start = 6)\n",
    "mappa = folium.Map(location=[45.5236, -122.6750], zoom_start=0)\n",
    "for i in range(len(visited_cities)):\n",
    "    s = dataset[(dataset['id'] == visited_cities[i])][['lat', 'lng']].values[0]\n",
    "    #if i > 0 and i < (len (visit) - 1):\n",
    "        #s2 = dataset[(dataset['id'] == visit[i + 1])][['lat', 'lng']].values[0]\n",
    "    folium.Marker(s,popup = dataset[(dataset['id'] == visited_cities[i])][['city']].values[0] ).add_to(mappa)\n",
    "locations = [(dataset.loc[dataset['id'] == visited_cities[j], ['lat', 'lng']].values[0]) for j in range(len(visited_cities))]\n",
    "line = folium.PolyLine(locations=locations,\n",
    "                       color='blue',  # Colore della linea\n",
    "                       weight=5,  # Spessore della linea\n",
    "                       opacity=0.7  # Opacità della linea\n",
    "                       )\n",
    "line.add_to(mappa)\n",
    "mappa.save('mappa.html')"
   ]
  },
  {
   "cell_type": "code",
   "execution_count": 22,
   "id": "4a254dd4fafe789a",
   "metadata": {
    "ExecuteTime": {
     "end_time": "2023-11-03T12:20:47.121983300Z",
     "start_time": "2023-11-03T12:20:43.835084500Z"
    }
   },
   "outputs": [],
   "source": [
    "dataset = pd.read_excel('C:/Uni/Coding/python/worldcities.xlsx')\n"
   ]
  },
  {
   "cell_type": "code",
   "execution_count": 20,
   "id": "4af30e29bfee9f30",
   "metadata": {
    "ExecuteTime": {
     "end_time": "2023-11-01T15:24:31.301860300Z",
     "start_time": "2023-11-01T15:24:24.418741600Z"
    }
   },
   "outputs": [
    {
     "name": "stdout",
     "output_type": "stream",
     "text": [
      "[1826645935, 1826657058, 1826499077, 1826642497, 1826413202, 1826465421, 1826369701, 1826843295, 1826645935]\n"
     ]
    }
   ],
   "source": [
    "import pandas as pd\n",
    "from geopy.distance import great_circle as gc\n",
    "\n",
    "dataset = pd.read_excel('C:/Uni/Coding/python/worldcities.xlsx')\n",
    "\n",
    "def three_close_city(input_city_id):\n",
    "    city = dataset[dataset['id'] == input_city_id]\n",
    "    id_city = int(city['id'].iloc[0])\n",
    "    city_coords = (dataset.loc[dataset['id'] == id_city, 'lat'].values[0], dataset.loc[dataset['id'] == id_city, 'lng'].values[0])\n",
    "\n",
    "    dataset['Distance from start'] = dataset.apply(lambda row: gc(city_coords, (row['lat'], row['lng'])).kilometers, axis=1)\n",
    "\n",
    "    sorted_dataset = dataset.sort_values(by='Distance from start')\n",
    "    closest_cities = sorted_dataset.iloc[1:4]  # Prendi le tre città più vicine, escludendo Londra\n",
    "    return closest_cities\n",
    "\n",
    "def distance_between_two_cities():\n",
    "    visited_cities = []\n",
    "    start_city_id = dataset[dataset['city'] == 'London']['id'].values[0]\n",
    "    visited_cities.append(start_city_id)\n",
    "    \n",
    "    while True:\n",
    "        closest_cities = three_close_city(start_city_id)\n",
    "        next_city = None\n",
    "        \n",
    "        for idx, row in closest_cities.iterrows():\n",
    "            if row['id'] not in visited_cities:\n",
    "                next_city = row['id']\n",
    "                break\n",
    "        \n",
    "        if next_city is not None:\n",
    "            visited_cities.append(next_city)\n",
    "            start_city_id = next_city\n",
    "        else:\n",
    "            # Nessuna città ad est non visitata rimasta, torna a Londra\n",
    "            visited_cities.append(visited_cities[0])\n",
    "            break\n",
    "\n",
    "    return visited_cities\n",
    "\n",
    "visited_cities = distance_between_two_cities()\n",
    "print(visited_cities)\n"
   ]
  },
  {
   "cell_type": "code",
   "execution_count": null,
   "id": "870029513a5f24f4",
   "metadata": {},
   "outputs": [],
   "source": []
  },
  {
   "cell_type": "code",
   "execution_count": 24,
   "id": "d92b6d36c7fd331a",
   "metadata": {
    "ExecuteTime": {
     "end_time": "2023-11-03T12:20:57.382890200Z",
     "start_time": "2023-11-03T12:20:53.504587900Z"
    }
   },
   "outputs": [
    {
     "name": "stdout",
     "output_type": "stream",
     "text": [
      "15550    Ba\n",
      "Name: city, dtype: object\n",
      "15550    Ba\n",
      "Name: city, dtype: object\n",
      "15550    Ba\n",
      "Name: city, dtype: object\n",
      "15550    Ba\n",
      "Name: city, dtype: object\n",
      "15550    Ba\n",
      "Name: city, dtype: object\n",
      "15550    Ba\n",
      "Name: city, dtype: object\n",
      "15550    Ba\n",
      "Name: city, dtype: object\n"
     ]
    },
    {
     "ename": "KeyboardInterrupt",
     "evalue": "",
     "output_type": "error",
     "traceback": [
      "\u001B[1;31m---------------------------------------------------------------------------\u001B[0m",
      "\u001B[1;31mKeyboardInterrupt\u001B[0m                         Traceback (most recent call last)",
      "Cell \u001B[1;32mIn[24], line 1\u001B[0m\n\u001B[1;32m----> 1\u001B[0m b \u001B[38;5;241m=\u001B[39m \u001B[43meast\u001B[49m\u001B[43m(\u001B[49m\u001B[38;5;241;43m1242193764\u001B[39;49m\u001B[43m)\u001B[49m\n\u001B[0;32m      2\u001B[0m func\u001B[38;5;241m.\u001B[39mmaps(b)\n",
      "Cell \u001B[1;32mIn[23], line 9\u001B[0m, in \u001B[0;36meast\u001B[1;34m(input_city_id)\u001B[0m\n\u001B[0;32m      4\u001B[0m city_coords \u001B[38;5;241m=\u001B[39m (dataset\u001B[38;5;241m.\u001B[39mloc[dataset[\u001B[38;5;124m'\u001B[39m\u001B[38;5;124mid\u001B[39m\u001B[38;5;124m'\u001B[39m] \u001B[38;5;241m==\u001B[39m input_city_id, \u001B[38;5;124m'\u001B[39m\u001B[38;5;124mlat\u001B[39m\u001B[38;5;124m'\u001B[39m]\u001B[38;5;241m.\u001B[39mvalues[\u001B[38;5;241m0\u001B[39m],\n\u001B[0;32m      5\u001B[0m                dataset\u001B[38;5;241m.\u001B[39mloc[dataset[\u001B[38;5;124m'\u001B[39m\u001B[38;5;124mid\u001B[39m\u001B[38;5;124m'\u001B[39m] \u001B[38;5;241m==\u001B[39m input_city_id, \u001B[38;5;124m'\u001B[39m\u001B[38;5;124mlng\u001B[39m\u001B[38;5;124m'\u001B[39m]\u001B[38;5;241m.\u001B[39mvalues[\u001B[38;5;241m0\u001B[39m])\n\u001B[0;32m      7\u001B[0m \u001B[38;5;28;01mwhile\u001B[39;00m \u001B[38;5;28;01mTrue\u001B[39;00m:\n\u001B[0;32m      8\u001B[0m     \u001B[38;5;66;03m# Calculate distances from the current city to all cities in the dataset\u001B[39;00m\n\u001B[1;32m----> 9\u001B[0m     dataset[\u001B[38;5;124m'\u001B[39m\u001B[38;5;124mDistance from start\u001B[39m\u001B[38;5;124m'\u001B[39m] \u001B[38;5;241m=\u001B[39m \u001B[43mdataset\u001B[49m\u001B[38;5;241;43m.\u001B[39;49m\u001B[43mapply\u001B[49m\u001B[43m(\u001B[49m\n\u001B[0;32m     10\u001B[0m \u001B[43m        \u001B[49m\u001B[38;5;28;43;01mlambda\u001B[39;49;00m\u001B[43m \u001B[49m\u001B[43mrow\u001B[49m\u001B[43m:\u001B[49m\u001B[43m \u001B[49m\u001B[43mgc\u001B[49m\u001B[43m(\u001B[49m\u001B[43mcity_coords\u001B[49m\u001B[43m,\u001B[49m\u001B[43m \u001B[49m\u001B[43m(\u001B[49m\u001B[43mrow\u001B[49m\u001B[43m[\u001B[49m\u001B[38;5;124;43m'\u001B[39;49m\u001B[38;5;124;43mlat\u001B[39;49m\u001B[38;5;124;43m'\u001B[39;49m\u001B[43m]\u001B[49m\u001B[43m,\u001B[49m\u001B[43m \u001B[49m\u001B[43mrow\u001B[49m\u001B[43m[\u001B[49m\u001B[38;5;124;43m'\u001B[39;49m\u001B[38;5;124;43mlng\u001B[39;49m\u001B[38;5;124;43m'\u001B[39;49m\u001B[43m]\u001B[49m\u001B[43m)\u001B[49m\u001B[43m)\u001B[49m\u001B[38;5;241;43m.\u001B[39;49m\u001B[43mkilometers\u001B[49m\u001B[43m,\u001B[49m\n\u001B[0;32m     11\u001B[0m \u001B[43m        \u001B[49m\u001B[43maxis\u001B[49m\u001B[38;5;241;43m=\u001B[39;49m\u001B[38;5;241;43m1\u001B[39;49m\n\u001B[0;32m     12\u001B[0m \u001B[43m    \u001B[49m\u001B[43m)\u001B[49m\n\u001B[0;32m     14\u001B[0m     east_cities \u001B[38;5;241m=\u001B[39m dataset[dataset[\u001B[38;5;124m'\u001B[39m\u001B[38;5;124mlng\u001B[39m\u001B[38;5;124m'\u001B[39m] \u001B[38;5;241m>\u001B[39m city_coords[\u001B[38;5;241m1\u001B[39m] \u001B[38;5;241m-\u001B[39m \u001B[38;5;241m180\u001B[39m]  \u001B[38;5;66;03m# Filter cities to the east\u001B[39;00m\n\u001B[0;32m     16\u001B[0m     \u001B[38;5;28;01mif\u001B[39;00m east_cities\u001B[38;5;241m.\u001B[39mempty:\n\u001B[0;32m     17\u001B[0m         \u001B[38;5;66;03m# No more cities to the east; let's wrap around to the westernmost city\u001B[39;00m\n",
      "File \u001B[1;32mC:\\Uni\\Coding\\python\\ENV_DIR\\Lib\\site-packages\\pandas\\core\\frame.py:10037\u001B[0m, in \u001B[0;36mDataFrame.apply\u001B[1;34m(self, func, axis, raw, result_type, args, by_row, **kwargs)\u001B[0m\n\u001B[0;32m  10025\u001B[0m \u001B[38;5;28;01mfrom\u001B[39;00m \u001B[38;5;21;01mpandas\u001B[39;00m\u001B[38;5;21;01m.\u001B[39;00m\u001B[38;5;21;01mcore\u001B[39;00m\u001B[38;5;21;01m.\u001B[39;00m\u001B[38;5;21;01mapply\u001B[39;00m \u001B[38;5;28;01mimport\u001B[39;00m frame_apply\n\u001B[0;32m  10027\u001B[0m op \u001B[38;5;241m=\u001B[39m frame_apply(\n\u001B[0;32m  10028\u001B[0m     \u001B[38;5;28mself\u001B[39m,\n\u001B[0;32m  10029\u001B[0m     func\u001B[38;5;241m=\u001B[39mfunc,\n\u001B[1;32m   (...)\u001B[0m\n\u001B[0;32m  10035\u001B[0m     kwargs\u001B[38;5;241m=\u001B[39mkwargs,\n\u001B[0;32m  10036\u001B[0m )\n\u001B[1;32m> 10037\u001B[0m \u001B[38;5;28;01mreturn\u001B[39;00m \u001B[43mop\u001B[49m\u001B[38;5;241;43m.\u001B[39;49m\u001B[43mapply\u001B[49m\u001B[43m(\u001B[49m\u001B[43m)\u001B[49m\u001B[38;5;241m.\u001B[39m__finalize__(\u001B[38;5;28mself\u001B[39m, method\u001B[38;5;241m=\u001B[39m\u001B[38;5;124m\"\u001B[39m\u001B[38;5;124mapply\u001B[39m\u001B[38;5;124m\"\u001B[39m)\n",
      "File \u001B[1;32mC:\\Uni\\Coding\\python\\ENV_DIR\\Lib\\site-packages\\pandas\\core\\apply.py:837\u001B[0m, in \u001B[0;36mFrameApply.apply\u001B[1;34m(self)\u001B[0m\n\u001B[0;32m    834\u001B[0m \u001B[38;5;28;01melif\u001B[39;00m \u001B[38;5;28mself\u001B[39m\u001B[38;5;241m.\u001B[39mraw:\n\u001B[0;32m    835\u001B[0m     \u001B[38;5;28;01mreturn\u001B[39;00m \u001B[38;5;28mself\u001B[39m\u001B[38;5;241m.\u001B[39mapply_raw()\n\u001B[1;32m--> 837\u001B[0m \u001B[38;5;28;01mreturn\u001B[39;00m \u001B[38;5;28;43mself\u001B[39;49m\u001B[38;5;241;43m.\u001B[39;49m\u001B[43mapply_standard\u001B[49m\u001B[43m(\u001B[49m\u001B[43m)\u001B[49m\n",
      "File \u001B[1;32mC:\\Uni\\Coding\\python\\ENV_DIR\\Lib\\site-packages\\pandas\\core\\apply.py:963\u001B[0m, in \u001B[0;36mFrameApply.apply_standard\u001B[1;34m(self)\u001B[0m\n\u001B[0;32m    962\u001B[0m \u001B[38;5;28;01mdef\u001B[39;00m \u001B[38;5;21mapply_standard\u001B[39m(\u001B[38;5;28mself\u001B[39m):\n\u001B[1;32m--> 963\u001B[0m     results, res_index \u001B[38;5;241m=\u001B[39m \u001B[38;5;28;43mself\u001B[39;49m\u001B[38;5;241;43m.\u001B[39;49m\u001B[43mapply_series_generator\u001B[49m\u001B[43m(\u001B[49m\u001B[43m)\u001B[49m\n\u001B[0;32m    965\u001B[0m     \u001B[38;5;66;03m# wrap results\u001B[39;00m\n\u001B[0;32m    966\u001B[0m     \u001B[38;5;28;01mreturn\u001B[39;00m \u001B[38;5;28mself\u001B[39m\u001B[38;5;241m.\u001B[39mwrap_results(results, res_index)\n",
      "File \u001B[1;32mC:\\Uni\\Coding\\python\\ENV_DIR\\Lib\\site-packages\\pandas\\core\\apply.py:979\u001B[0m, in \u001B[0;36mFrameApply.apply_series_generator\u001B[1;34m(self)\u001B[0m\n\u001B[0;32m    976\u001B[0m \u001B[38;5;28;01mwith\u001B[39;00m option_context(\u001B[38;5;124m\"\u001B[39m\u001B[38;5;124mmode.chained_assignment\u001B[39m\u001B[38;5;124m\"\u001B[39m, \u001B[38;5;28;01mNone\u001B[39;00m):\n\u001B[0;32m    977\u001B[0m     \u001B[38;5;28;01mfor\u001B[39;00m i, v \u001B[38;5;129;01min\u001B[39;00m \u001B[38;5;28menumerate\u001B[39m(series_gen):\n\u001B[0;32m    978\u001B[0m         \u001B[38;5;66;03m# ignore SettingWithCopy here in case the user mutates\u001B[39;00m\n\u001B[1;32m--> 979\u001B[0m         results[i] \u001B[38;5;241m=\u001B[39m \u001B[38;5;28;43mself\u001B[39;49m\u001B[38;5;241;43m.\u001B[39;49m\u001B[43mfunc\u001B[49m\u001B[43m(\u001B[49m\u001B[43mv\u001B[49m\u001B[43m,\u001B[49m\u001B[43m \u001B[49m\u001B[38;5;241;43m*\u001B[39;49m\u001B[38;5;28;43mself\u001B[39;49m\u001B[38;5;241;43m.\u001B[39;49m\u001B[43margs\u001B[49m\u001B[43m,\u001B[49m\u001B[43m \u001B[49m\u001B[38;5;241;43m*\u001B[39;49m\u001B[38;5;241;43m*\u001B[39;49m\u001B[38;5;28;43mself\u001B[39;49m\u001B[38;5;241;43m.\u001B[39;49m\u001B[43mkwargs\u001B[49m\u001B[43m)\u001B[49m\n\u001B[0;32m    980\u001B[0m         \u001B[38;5;28;01mif\u001B[39;00m \u001B[38;5;28misinstance\u001B[39m(results[i], ABCSeries):\n\u001B[0;32m    981\u001B[0m             \u001B[38;5;66;03m# If we have a view on v, we need to make a copy because\u001B[39;00m\n\u001B[0;32m    982\u001B[0m             \u001B[38;5;66;03m#  series_generator will swap out the underlying data\u001B[39;00m\n\u001B[0;32m    983\u001B[0m             results[i] \u001B[38;5;241m=\u001B[39m results[i]\u001B[38;5;241m.\u001B[39mcopy(deep\u001B[38;5;241m=\u001B[39m\u001B[38;5;28;01mFalse\u001B[39;00m)\n",
      "Cell \u001B[1;32mIn[23], line 10\u001B[0m, in \u001B[0;36meast.<locals>.<lambda>\u001B[1;34m(row)\u001B[0m\n\u001B[0;32m      4\u001B[0m city_coords \u001B[38;5;241m=\u001B[39m (dataset\u001B[38;5;241m.\u001B[39mloc[dataset[\u001B[38;5;124m'\u001B[39m\u001B[38;5;124mid\u001B[39m\u001B[38;5;124m'\u001B[39m] \u001B[38;5;241m==\u001B[39m input_city_id, \u001B[38;5;124m'\u001B[39m\u001B[38;5;124mlat\u001B[39m\u001B[38;5;124m'\u001B[39m]\u001B[38;5;241m.\u001B[39mvalues[\u001B[38;5;241m0\u001B[39m],\n\u001B[0;32m      5\u001B[0m                dataset\u001B[38;5;241m.\u001B[39mloc[dataset[\u001B[38;5;124m'\u001B[39m\u001B[38;5;124mid\u001B[39m\u001B[38;5;124m'\u001B[39m] \u001B[38;5;241m==\u001B[39m input_city_id, \u001B[38;5;124m'\u001B[39m\u001B[38;5;124mlng\u001B[39m\u001B[38;5;124m'\u001B[39m]\u001B[38;5;241m.\u001B[39mvalues[\u001B[38;5;241m0\u001B[39m])\n\u001B[0;32m      7\u001B[0m \u001B[38;5;28;01mwhile\u001B[39;00m \u001B[38;5;28;01mTrue\u001B[39;00m:\n\u001B[0;32m      8\u001B[0m     \u001B[38;5;66;03m# Calculate distances from the current city to all cities in the dataset\u001B[39;00m\n\u001B[0;32m      9\u001B[0m     dataset[\u001B[38;5;124m'\u001B[39m\u001B[38;5;124mDistance from start\u001B[39m\u001B[38;5;124m'\u001B[39m] \u001B[38;5;241m=\u001B[39m dataset\u001B[38;5;241m.\u001B[39mapply(\n\u001B[1;32m---> 10\u001B[0m         \u001B[38;5;28;01mlambda\u001B[39;00m row: \u001B[43mgc\u001B[49m\u001B[43m(\u001B[49m\u001B[43mcity_coords\u001B[49m\u001B[43m,\u001B[49m\u001B[43m \u001B[49m\u001B[43m(\u001B[49m\u001B[43mrow\u001B[49m\u001B[43m[\u001B[49m\u001B[38;5;124;43m'\u001B[39;49m\u001B[38;5;124;43mlat\u001B[39;49m\u001B[38;5;124;43m'\u001B[39;49m\u001B[43m]\u001B[49m\u001B[43m,\u001B[49m\u001B[43m \u001B[49m\u001B[43mrow\u001B[49m\u001B[43m[\u001B[49m\u001B[38;5;124;43m'\u001B[39;49m\u001B[38;5;124;43mlng\u001B[39;49m\u001B[38;5;124;43m'\u001B[39;49m\u001B[43m]\u001B[49m\u001B[43m)\u001B[49m\u001B[43m)\u001B[49m\u001B[38;5;241m.\u001B[39mkilometers,\n\u001B[0;32m     11\u001B[0m         axis\u001B[38;5;241m=\u001B[39m\u001B[38;5;241m1\u001B[39m\n\u001B[0;32m     12\u001B[0m     )\n\u001B[0;32m     14\u001B[0m     east_cities \u001B[38;5;241m=\u001B[39m dataset[dataset[\u001B[38;5;124m'\u001B[39m\u001B[38;5;124mlng\u001B[39m\u001B[38;5;124m'\u001B[39m] \u001B[38;5;241m>\u001B[39m city_coords[\u001B[38;5;241m1\u001B[39m] \u001B[38;5;241m-\u001B[39m \u001B[38;5;241m180\u001B[39m]  \u001B[38;5;66;03m# Filter cities to the east\u001B[39;00m\n\u001B[0;32m     16\u001B[0m     \u001B[38;5;28;01mif\u001B[39;00m east_cities\u001B[38;5;241m.\u001B[39mempty:\n\u001B[0;32m     17\u001B[0m         \u001B[38;5;66;03m# No more cities to the east; let's wrap around to the westernmost city\u001B[39;00m\n",
      "File \u001B[1;32mC:\\Uni\\Coding\\python\\ENV_DIR\\Lib\\site-packages\\geopy\\distance.py:461\u001B[0m, in \u001B[0;36mgreat_circle.__init__\u001B[1;34m(self, *args, **kwargs)\u001B[0m\n\u001B[0;32m    459\u001B[0m \u001B[38;5;28;01mdef\u001B[39;00m \u001B[38;5;21m__init__\u001B[39m(\u001B[38;5;28mself\u001B[39m, \u001B[38;5;241m*\u001B[39margs, \u001B[38;5;241m*\u001B[39m\u001B[38;5;241m*\u001B[39mkwargs):\n\u001B[0;32m    460\u001B[0m     \u001B[38;5;28mself\u001B[39m\u001B[38;5;241m.\u001B[39mRADIUS \u001B[38;5;241m=\u001B[39m kwargs\u001B[38;5;241m.\u001B[39mpop(\u001B[38;5;124m'\u001B[39m\u001B[38;5;124mradius\u001B[39m\u001B[38;5;124m'\u001B[39m, EARTH_RADIUS)\n\u001B[1;32m--> 461\u001B[0m     \u001B[38;5;28;43msuper\u001B[39;49m\u001B[43m(\u001B[49m\u001B[43m)\u001B[49m\u001B[38;5;241;43m.\u001B[39;49m\u001B[38;5;21;43m__init__\u001B[39;49m\u001B[43m(\u001B[49m\u001B[38;5;241;43m*\u001B[39;49m\u001B[43margs\u001B[49m\u001B[43m,\u001B[49m\u001B[43m \u001B[49m\u001B[38;5;241;43m*\u001B[39;49m\u001B[38;5;241;43m*\u001B[39;49m\u001B[43mkwargs\u001B[49m\u001B[43m)\u001B[49m\n",
      "File \u001B[1;32mC:\\Uni\\Coding\\python\\ENV_DIR\\Lib\\site-packages\\geopy\\distance.py:276\u001B[0m, in \u001B[0;36mDistance.__init__\u001B[1;34m(self, *args, **kwargs)\u001B[0m\n\u001B[0;32m    274\u001B[0m \u001B[38;5;28;01melif\u001B[39;00m \u001B[38;5;28mlen\u001B[39m(args) \u001B[38;5;241m>\u001B[39m \u001B[38;5;241m1\u001B[39m:\n\u001B[0;32m    275\u001B[0m     \u001B[38;5;28;01mfor\u001B[39;00m a, b \u001B[38;5;129;01min\u001B[39;00m util\u001B[38;5;241m.\u001B[39mpairwise(args):\n\u001B[1;32m--> 276\u001B[0m         kilometers \u001B[38;5;241m+\u001B[39m\u001B[38;5;241m=\u001B[39m \u001B[38;5;28;43mself\u001B[39;49m\u001B[38;5;241;43m.\u001B[39;49m\u001B[43mmeasure\u001B[49m\u001B[43m(\u001B[49m\u001B[43ma\u001B[49m\u001B[43m,\u001B[49m\u001B[43m \u001B[49m\u001B[43mb\u001B[49m\u001B[43m)\u001B[49m\n\u001B[0;32m    278\u001B[0m kilometers \u001B[38;5;241m+\u001B[39m\u001B[38;5;241m=\u001B[39m units\u001B[38;5;241m.\u001B[39mkilometers(\u001B[38;5;241m*\u001B[39m\u001B[38;5;241m*\u001B[39mkwargs)\n\u001B[0;32m    279\u001B[0m \u001B[38;5;28mself\u001B[39m\u001B[38;5;241m.\u001B[39m__kilometers \u001B[38;5;241m=\u001B[39m kilometers\n",
      "File \u001B[1;32mC:\\Uni\\Coding\\python\\ENV_DIR\\Lib\\site-packages\\geopy\\distance.py:464\u001B[0m, in \u001B[0;36mgreat_circle.measure\u001B[1;34m(self, a, b)\u001B[0m\n\u001B[0;32m    463\u001B[0m \u001B[38;5;28;01mdef\u001B[39;00m \u001B[38;5;21mmeasure\u001B[39m(\u001B[38;5;28mself\u001B[39m, a, b):\n\u001B[1;32m--> 464\u001B[0m     a, b \u001B[38;5;241m=\u001B[39m Point(a), \u001B[43mPoint\u001B[49m\u001B[43m(\u001B[49m\u001B[43mb\u001B[49m\u001B[43m)\u001B[49m\n\u001B[0;32m    465\u001B[0m     _ensure_same_altitude(a, b)\n\u001B[0;32m    467\u001B[0m     lat1, lng1 \u001B[38;5;241m=\u001B[39m radians(degrees\u001B[38;5;241m=\u001B[39ma\u001B[38;5;241m.\u001B[39mlatitude), radians(degrees\u001B[38;5;241m=\u001B[39ma\u001B[38;5;241m.\u001B[39mlongitude)\n",
      "\u001B[1;31mKeyboardInterrupt\u001B[0m: "
     ]
    }
   ],
   "source": [
    "b = east(1242193764)\n",
    "func.maps(b)"
   ]
  },
  {
   "cell_type": "code",
   "execution_count": null,
   "id": "96cb4cdf73abcdb1",
   "metadata": {},
   "outputs": [],
   "source": []
  }
 ],
 "metadata": {
  "kernelspec": {
   "display_name": "Python 3 (ipykernel)",
   "language": "python",
   "name": "python3"
  },
  "language_info": {
   "codemirror_mode": {
    "name": "ipython",
    "version": 3
   },
   "file_extension": ".py",
   "mimetype": "text/x-python",
   "name": "python",
   "nbconvert_exporter": "python",
   "pygments_lexer": "ipython3",
   "version": "3.11.3"
  }
 },
 "nbformat": 4,
 "nbformat_minor": 5
}
