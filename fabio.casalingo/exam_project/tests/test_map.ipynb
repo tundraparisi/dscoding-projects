{
 "cells": [
  {
   "cell_type": "code",
   "execution_count": 1,
   "id": "initial_id",
   "metadata": {
    "collapsed": true,
    "ExecuteTime": {
     "end_time": "2023-11-05T11:44:45.698358500Z",
     "start_time": "2023-11-05T11:44:38.763609900Z"
    }
   },
   "outputs": [],
   "source": [
    "import numpy as np\n",
    "import pandas as pd\n",
    "from geopy.distance import great_circle as gc\n",
    "import exam_project.self_made_functions as func\n",
    "import folium"
   ]
  },
  {
   "cell_type": "code",
   "execution_count": 40,
   "outputs": [],
   "source": [
    "from IPython.display import display"
   ],
   "metadata": {
    "collapsed": false,
    "ExecuteTime": {
     "end_time": "2023-11-05T12:36:42.206449900Z",
     "start_time": "2023-11-05T12:36:42.143842900Z"
    }
   },
   "id": "2744c8590d4d28c1"
  },
  {
   "cell_type": "code",
   "execution_count": 19,
   "outputs": [],
   "source": [
    "f = dataset = pd.read_excel('C:/Uni/Coding/python/worldcities.xlsx')"
   ],
   "metadata": {
    "collapsed": false,
    "ExecuteTime": {
     "end_time": "2023-11-05T12:23:12.846306700Z",
     "start_time": "2023-11-05T12:23:09.366132400Z"
    }
   },
   "id": "ee306368717d7ce7"
  },
  {
   "cell_type": "code",
   "execution_count": 49,
   "outputs": [],
   "source": [
    "def prova(input_city_id):\n",
    "    visited_cities = [input_city_id]  # Initialize a list to track visited cities\n",
    "    starting_city = input_city_id\n",
    "    city_coords = (dataset.loc[dataset['id'] == input_city_id, 'lat'].values[0],\n",
    "                   dataset.loc[dataset['id'] == input_city_id, 'lng'].values[0])\n",
    "    start_coords = city_coords\n",
    "    next_city_id= 0\n",
    "    x = 0\n",
    "    path_coordinates = []\n",
    "    m = folium.Map(location=[city_coords[0], city_coords[1]], zoom_start=12)\n",
    "    display(m)\n",
    "    while next_city_id != starting_city:\n",
    "        # Calculate distances from the current city to all cities in the dataset\n",
    "        dataset['Distance from prev'] = dataset.apply(lambda row: gc(city_coords, (row['lat'], row['lng'])).kilometers,\n",
    "                                                       axis=1)\n",
    "        dataset['Distance from start'] = dataset.apply(lambda row: gc(start_coords, (row['lat'], row['lng'])).kilometers,\n",
    "                                                     axis=1)\n",
    "        dataset['Diff_lat'] = abs(dataset['lat'] - dataset.loc[dataset['id'] == input_city_id, 'lat'].values[0])\n",
    "\n",
    "        if city_coords[1] > 0:\n",
    "            if gc(city_coords, start_coords).kilometers < 150 and len(visited_cities) > 60 :\n",
    "                visited_cities.append(starting_city)\n",
    "                break\n",
    "            east_cities = dataset[(dataset['lng'] > city_coords[1])]#[:2000] #20\n",
    "\n",
    "            east_cities =  east_cities.sort_values(by='Distance from prev')[:5] #NEW\n",
    "            if east_cities.empty:\n",
    "                # far partire una divesa logica\n",
    "                westernmost_city = dataset[dataset['lng'] == dataset['lng'].min()]\n",
    "                closest_city = westernmost_city.iloc[0]\n",
    "            else:\n",
    "                # Sort the east cities by distance\n",
    "                if (east_cities['lat'].iloc[0], east_cities['lng'].iloc[0]) != start_coords:\n",
    "                    east_cities = east_cities.sort_values(by='Diff_lat')\n",
    "                # Get the closest city to the east\n",
    "                closest_city = east_cities.iloc[0]\n",
    "        else:\n",
    "            east_cities = dataset[(dataset['lng'] > city_coords[1]) & (dataset['lng'] < 0)]#[:2000]\n",
    "            #east_cities = dataset.iloc[abs(dataset['lat'] - city_coords[0]).argsort()][:50] #NEW\n",
    "\n",
    "            east_cities = east_cities.sort_values(by='Distance from prev')[:5] #NEW\n",
    "\n",
    "            if east_cities.empty:\n",
    "                east_cities = dataset[(dataset['lng'] > city_coords[1])]  # 20\n",
    "                east_cities = east_cities.sort_values(by='Distance from prev')[:5]  # NEW\n",
    "                # Sort the east cities by distance\n",
    "            if(east_cities['lat'].iloc[0], east_cities['lng'].iloc[0]) != start_coords:\n",
    "                east_cities = east_cities.sort_values(by='Distance from start')[:5]\n",
    "                # Get the closest city to the east\n",
    "            closest_city = east_cities.iloc[0]\n",
    "\n",
    "        next_city_id = closest_city['id']\n",
    "        print(closest_city['city'])\n",
    "        if(closest_city['city']=='Labasa'):\n",
    "            x+=1\n",
    "        if x == 2:\n",
    "            print('Male male')\n",
    "            break\n",
    "        #print(closest_city['city'],closest_city['lng'])\n",
    "        visited_cities.append(next_city_id)\n",
    "        if -17.4572 <= start_coords[1] <= 1.484 and start_coords[0] < 49.6504 and -60.4467 <= closest_city['lng'] <= -52.7333:\n",
    "            city_coords = (dataset.loc[dataset['id'] == 1620177495, 'lat'].values[0],\n",
    "                           dataset.loc[dataset['id'] == 1620177495, 'lng'].values[0])\n",
    "        elif -9.6962 <= start_coords[1] <= -1.9025 and start_coords[0] > 49.6504 and -60.4467 <= closest_city['lng'] <= -52.7333:\n",
    "            city_coords = (dataset.loc[dataset['id'] == 1372403494, 'lat'].values[0],\n",
    "                           dataset.loc[dataset['id'] == 1372403494, 'lng'].values[0])\n",
    "        elif 16.5033 <= start_coords[1] <= 49.18 and start_coords[0] < 12.0 and -60.4467 <= closest_city['lng'] <= -52.7333:\n",
    "            visited_cities.append(1076697777)\n",
    "            city_coords = (dataset.loc[dataset['id'] == 1024669127, 'lat'].values[0],\n",
    "                           dataset.loc[dataset['id'] == 1024669127, 'lng'].values[0])\n",
    "        elif 92.75 <= start_coords[1] <= 133.6667 and -12.6167 < start_coords[0] < 9.2833 and 79.826 <= closest_city['lng'] <= 81.7:\n",
    "            city_coords = (dataset.loc[dataset['id'] == 1360353144, 'lat'].values[0],\n",
    "                           dataset.loc[dataset['id'] == 1360353144, 'lng'].values[0])\n",
    "        elif 92.75 <= start_coords[1] <= 133.6667 and start_coords[0] < -12.6167 and 79.826 <= closest_city['lng'] <= 81.7:\n",
    "            city_coords = (dataset.loc[dataset['id'] == 1036561011, 'lat'].values[0],\n",
    "                           dataset.loc[dataset['id'] == 1036561011, 'lng'].values[0])\n",
    "        else:\n",
    "            city_coords = (closest_city['lat'], closest_city['lng'])\n",
    "        for b in visited_cities:\n",
    "            path_coordinates = (dataset.loc[dataset['id'] == visited_cities[b], 'lat'].values[0],dataset.loc[dataset['id'] == visited_cities[b], 'lng'].values[0])\n",
    "        for coord in path_coordinates:\n",
    "            # Aggiungi un marcatore alla nuova posizione\n",
    "            folium.Marker(location=coord).add_to(m)\n",
    "    \n",
    "            # Centra la mappa sulla nuova posizione\n",
    "            m.location = coord\n",
    "            \n",
    "            # Aggiorna la mappa nella visualizzazione\n",
    "            display(m)\n",
    "    return visited_cities"
   ],
   "metadata": {
    "collapsed": false,
    "ExecuteTime": {
     "end_time": "2023-11-05T12:45:50.447921100Z",
     "start_time": "2023-11-05T12:45:50.399972400Z"
    }
   },
   "id": "7a01146e57a692dd"
  },
  {
   "cell_type": "code",
   "execution_count": 50,
   "outputs": [
    {
     "data": {
      "text/plain": "<folium.folium.Map at 0x112db89c210>",
      "text/html": "<div style=\"width:100%;\"><div style=\"position:relative;width:100%;height:0;padding-bottom:60%;\"><span style=\"color:#565656\">Make this Notebook Trusted to load map: File -> Trust Notebook</span><iframe srcdoc=\"&lt;!DOCTYPE html&gt;\n&lt;html&gt;\n&lt;head&gt;\n    \n    &lt;meta http-equiv=&quot;content-type&quot; content=&quot;text/html; charset=UTF-8&quot; /&gt;\n    \n        &lt;script&gt;\n            L_NO_TOUCH = false;\n            L_DISABLE_3D = false;\n        &lt;/script&gt;\n    \n    &lt;style&gt;html, body {width: 100%;height: 100%;margin: 0;padding: 0;}&lt;/style&gt;\n    &lt;style&gt;#map {position:absolute;top:0;bottom:0;right:0;left:0;}&lt;/style&gt;\n    &lt;script src=&quot;https://cdn.jsdelivr.net/npm/leaflet@1.9.3/dist/leaflet.js&quot;&gt;&lt;/script&gt;\n    &lt;script src=&quot;https://code.jquery.com/jquery-1.12.4.min.js&quot;&gt;&lt;/script&gt;\n    &lt;script src=&quot;https://cdn.jsdelivr.net/npm/bootstrap@5.2.2/dist/js/bootstrap.bundle.min.js&quot;&gt;&lt;/script&gt;\n    &lt;script src=&quot;https://cdnjs.cloudflare.com/ajax/libs/Leaflet.awesome-markers/2.0.2/leaflet.awesome-markers.js&quot;&gt;&lt;/script&gt;\n    &lt;link rel=&quot;stylesheet&quot; href=&quot;https://cdn.jsdelivr.net/npm/leaflet@1.9.3/dist/leaflet.css&quot;/&gt;\n    &lt;link rel=&quot;stylesheet&quot; href=&quot;https://cdn.jsdelivr.net/npm/bootstrap@5.2.2/dist/css/bootstrap.min.css&quot;/&gt;\n    &lt;link rel=&quot;stylesheet&quot; href=&quot;https://netdna.bootstrapcdn.com/bootstrap/3.0.0/css/bootstrap.min.css&quot;/&gt;\n    &lt;link rel=&quot;stylesheet&quot; href=&quot;https://cdn.jsdelivr.net/npm/@fortawesome/fontawesome-free@6.2.0/css/all.min.css&quot;/&gt;\n    &lt;link rel=&quot;stylesheet&quot; href=&quot;https://cdnjs.cloudflare.com/ajax/libs/Leaflet.awesome-markers/2.0.2/leaflet.awesome-markers.css&quot;/&gt;\n    &lt;link rel=&quot;stylesheet&quot; href=&quot;https://cdn.jsdelivr.net/gh/python-visualization/folium/folium/templates/leaflet.awesome.rotate.min.css&quot;/&gt;\n    \n            &lt;meta name=&quot;viewport&quot; content=&quot;width=device-width,\n                initial-scale=1.0, maximum-scale=1.0, user-scalable=no&quot; /&gt;\n            &lt;style&gt;\n                #map_53472ade7a397358abf3cda7287d2764 {\n                    position: relative;\n                    width: 100.0%;\n                    height: 100.0%;\n                    left: 0.0%;\n                    top: 0.0%;\n                }\n                .leaflet-container { font-size: 1rem; }\n            &lt;/style&gt;\n        \n&lt;/head&gt;\n&lt;body&gt;\n    \n    \n            &lt;div class=&quot;folium-map&quot; id=&quot;map_53472ade7a397358abf3cda7287d2764&quot; &gt;&lt;/div&gt;\n        \n&lt;/body&gt;\n&lt;script&gt;\n    \n    \n            var map_53472ade7a397358abf3cda7287d2764 = L.map(\n                &quot;map_53472ade7a397358abf3cda7287d2764&quot;,\n                {\n                    center: [9.5221, 45.5336],\n                    crs: L.CRS.EPSG3857,\n                    zoom: 12,\n                    zoomControl: true,\n                    preferCanvas: false,\n                }\n            );\n\n            \n\n        \n    \n            var tile_layer_c538ed4e53a6ff37d41b8966499311dd = L.tileLayer(\n                &quot;https://{s}.tile.openstreetmap.org/{z}/{x}/{y}.png&quot;,\n                {&quot;attribution&quot;: &quot;Data by \\u0026copy; \\u003ca target=\\&quot;_blank\\&quot; href=\\&quot;http://openstreetmap.org\\&quot;\\u003eOpenStreetMap\\u003c/a\\u003e, under \\u003ca target=\\&quot;_blank\\&quot; href=\\&quot;http://www.openstreetmap.org/copyright\\&quot;\\u003eODbL\\u003c/a\\u003e.&quot;, &quot;detectRetina&quot;: false, &quot;maxNativeZoom&quot;: 18, &quot;maxZoom&quot;: 18, &quot;minZoom&quot;: 0, &quot;noWrap&quot;: false, &quot;opacity&quot;: 1, &quot;subdomains&quot;: &quot;abc&quot;, &quot;tms&quot;: false}\n            ).addTo(map_53472ade7a397358abf3cda7287d2764);\n        \n&lt;/script&gt;\n&lt;/html&gt;\" style=\"position:absolute;width:100%;height:100%;left:0;top:0;border:none !important;\" allowfullscreen webkitallowfullscreen mozallowfullscreen></iframe></div></div>"
     },
     "metadata": {},
     "output_type": "display_data"
    },
    {
     "name": "stdout",
     "output_type": "stream",
     "text": [
      "Qardho\n"
     ]
    },
    {
     "ename": "IndexError",
     "evalue": "list index out of range",
     "output_type": "error",
     "traceback": [
      "\u001B[1;31m---------------------------------------------------------------------------\u001B[0m",
      "\u001B[1;31mIndexError\u001B[0m                                Traceback (most recent call last)",
      "Cell \u001B[1;32mIn[50], line 1\u001B[0m\n\u001B[1;32m----> 1\u001B[0m \u001B[43mprova\u001B[49m\u001B[43m(\u001B[49m\u001B[38;5;241;43m1706322754\u001B[39;49m\u001B[43m)\u001B[49m\n",
      "Cell \u001B[1;32mIn[49], line 80\u001B[0m, in \u001B[0;36mprova\u001B[1;34m(input_city_id)\u001B[0m\n\u001B[0;32m     78\u001B[0m     city_coords \u001B[38;5;241m=\u001B[39m (closest_city[\u001B[38;5;124m'\u001B[39m\u001B[38;5;124mlat\u001B[39m\u001B[38;5;124m'\u001B[39m], closest_city[\u001B[38;5;124m'\u001B[39m\u001B[38;5;124mlng\u001B[39m\u001B[38;5;124m'\u001B[39m])\n\u001B[0;32m     79\u001B[0m \u001B[38;5;28;01mfor\u001B[39;00m b \u001B[38;5;129;01min\u001B[39;00m visited_cities:\n\u001B[1;32m---> 80\u001B[0m     path_coordinates \u001B[38;5;241m=\u001B[39m (dataset\u001B[38;5;241m.\u001B[39mloc[dataset[\u001B[38;5;124m'\u001B[39m\u001B[38;5;124mid\u001B[39m\u001B[38;5;124m'\u001B[39m] \u001B[38;5;241m==\u001B[39m \u001B[43mvisited_cities\u001B[49m\u001B[43m[\u001B[49m\u001B[43mb\u001B[49m\u001B[38;5;241;43m-\u001B[39;49m\u001B[38;5;241;43m1\u001B[39;49m\u001B[43m]\u001B[49m, \u001B[38;5;124m'\u001B[39m\u001B[38;5;124mlat\u001B[39m\u001B[38;5;124m'\u001B[39m]\u001B[38;5;241m.\u001B[39mvalues[\u001B[38;5;241m0\u001B[39m],dataset\u001B[38;5;241m.\u001B[39mloc[dataset[\u001B[38;5;124m'\u001B[39m\u001B[38;5;124mid\u001B[39m\u001B[38;5;124m'\u001B[39m] \u001B[38;5;241m==\u001B[39m visited_cities[b\u001B[38;5;241m-\u001B[39m\u001B[38;5;241m1\u001B[39m], \u001B[38;5;124m'\u001B[39m\u001B[38;5;124mlng\u001B[39m\u001B[38;5;124m'\u001B[39m]\u001B[38;5;241m.\u001B[39mvalues[\u001B[38;5;241m0\u001B[39m])\n\u001B[0;32m     81\u001B[0m \u001B[38;5;28;01mfor\u001B[39;00m coord \u001B[38;5;129;01min\u001B[39;00m path_coordinates:\n\u001B[0;32m     82\u001B[0m     \u001B[38;5;66;03m# Aggiungi un marcatore alla nuova posizione\u001B[39;00m\n\u001B[0;32m     83\u001B[0m     folium\u001B[38;5;241m.\u001B[39mMarker(location\u001B[38;5;241m=\u001B[39mcoord)\u001B[38;5;241m.\u001B[39madd_to(m)\n",
      "\u001B[1;31mIndexError\u001B[0m: list index out of range"
     ]
    }
   ],
   "source": [
    "prova(1706322754)"
   ],
   "metadata": {
    "collapsed": false,
    "ExecuteTime": {
     "end_time": "2023-11-05T12:45:54.558853400Z",
     "start_time": "2023-11-05T12:45:53.279726500Z"
    }
   },
   "id": "9ab458facbe75a78"
  },
  {
   "cell_type": "code",
   "execution_count": null,
   "outputs": [],
   "source": [],
   "metadata": {
    "collapsed": false
   },
   "id": "850849cb05778c66"
  },
  {
   "cell_type": "code",
   "execution_count": null,
   "outputs": [],
   "source": [],
   "metadata": {
    "collapsed": false
   },
   "id": "5270eea2e4cb8aba"
  }
 ],
 "metadata": {
  "kernelspec": {
   "display_name": "Python 3",
   "language": "python",
   "name": "python3"
  },
  "language_info": {
   "codemirror_mode": {
    "name": "ipython",
    "version": 2
   },
   "file_extension": ".py",
   "mimetype": "text/x-python",
   "name": "python",
   "nbconvert_exporter": "python",
   "pygments_lexer": "ipython2",
   "version": "2.7.6"
  }
 },
 "nbformat": 4,
 "nbformat_minor": 5
}
