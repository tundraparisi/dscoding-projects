{
 "cells": [
  {
   "cell_type": "code",
   "execution_count": 32,
   "metadata": {
    "pycharm": {
     "is_executing": true
    }
   },
   "outputs": [],
   "source": [
    "import numpy as np\n",
    "import pandas as pd\n",
    "import matplotlib.pyplot as plt\n",
    "\n",
    "from city import City"
   ]
  },
  {
   "cell_type": "code",
   "execution_count": 24,
   "metadata": {},
   "outputs": [
    {
     "data": {
      "text/html": [
       "<div>\n",
       "<style scoped>\n",
       "    .dataframe tbody tr th:only-of-type {\n",
       "        vertical-align: middle;\n",
       "    }\n",
       "\n",
       "    .dataframe tbody tr th {\n",
       "        vertical-align: top;\n",
       "    }\n",
       "\n",
       "    .dataframe thead th {\n",
       "        text-align: right;\n",
       "    }\n",
       "</style>\n",
       "<table border=\"1\" class=\"dataframe\">\n",
       "  <thead>\n",
       "    <tr style=\"text-align: right;\">\n",
       "      <th></th>\n",
       "      <th>city</th>\n",
       "      <th>city_ascii</th>\n",
       "      <th>lat</th>\n",
       "      <th>lng</th>\n",
       "      <th>country</th>\n",
       "      <th>iso2</th>\n",
       "      <th>iso3</th>\n",
       "      <th>admin_name</th>\n",
       "      <th>capital</th>\n",
       "      <th>population</th>\n",
       "      <th>id</th>\n",
       "    </tr>\n",
       "  </thead>\n",
       "  <tbody>\n",
       "    <tr>\n",
       "      <th>0</th>\n",
       "      <td>Tokyo</td>\n",
       "      <td>Tokyo</td>\n",
       "      <td>35.6897</td>\n",
       "      <td>139.6922</td>\n",
       "      <td>Japan</td>\n",
       "      <td>JP</td>\n",
       "      <td>JPN</td>\n",
       "      <td>Tōkyō</td>\n",
       "      <td>primary</td>\n",
       "      <td>37977000.0</td>\n",
       "      <td>1392685764</td>\n",
       "    </tr>\n",
       "    <tr>\n",
       "      <th>1</th>\n",
       "      <td>Jakarta</td>\n",
       "      <td>Jakarta</td>\n",
       "      <td>-6.2146</td>\n",
       "      <td>106.8451</td>\n",
       "      <td>Indonesia</td>\n",
       "      <td>ID</td>\n",
       "      <td>IDN</td>\n",
       "      <td>Jakarta</td>\n",
       "      <td>primary</td>\n",
       "      <td>34540000.0</td>\n",
       "      <td>1360771077</td>\n",
       "    </tr>\n",
       "    <tr>\n",
       "      <th>2</th>\n",
       "      <td>Delhi</td>\n",
       "      <td>Delhi</td>\n",
       "      <td>28.6600</td>\n",
       "      <td>77.2300</td>\n",
       "      <td>India</td>\n",
       "      <td>IN</td>\n",
       "      <td>IND</td>\n",
       "      <td>Delhi</td>\n",
       "      <td>admin</td>\n",
       "      <td>29617000.0</td>\n",
       "      <td>1356872604</td>\n",
       "    </tr>\n",
       "    <tr>\n",
       "      <th>3</th>\n",
       "      <td>Mumbai</td>\n",
       "      <td>Mumbai</td>\n",
       "      <td>18.9667</td>\n",
       "      <td>72.8333</td>\n",
       "      <td>India</td>\n",
       "      <td>IN</td>\n",
       "      <td>IND</td>\n",
       "      <td>Mahārāshtra</td>\n",
       "      <td>admin</td>\n",
       "      <td>23355000.0</td>\n",
       "      <td>1356226629</td>\n",
       "    </tr>\n",
       "    <tr>\n",
       "      <th>4</th>\n",
       "      <td>Manila</td>\n",
       "      <td>Manila</td>\n",
       "      <td>14.5958</td>\n",
       "      <td>120.9772</td>\n",
       "      <td>Philippines</td>\n",
       "      <td>PH</td>\n",
       "      <td>PHL</td>\n",
       "      <td>Manila</td>\n",
       "      <td>primary</td>\n",
       "      <td>23088000.0</td>\n",
       "      <td>1608618140</td>\n",
       "    </tr>\n",
       "  </tbody>\n",
       "</table>\n",
       "</div>"
      ],
      "text/plain": [
       "      city city_ascii      lat       lng      country iso2 iso3   admin_name  \\\n",
       "0    Tokyo      Tokyo  35.6897  139.6922        Japan   JP  JPN        Tōkyō   \n",
       "1  Jakarta    Jakarta  -6.2146  106.8451    Indonesia   ID  IDN      Jakarta   \n",
       "2    Delhi      Delhi  28.6600   77.2300        India   IN  IND        Delhi   \n",
       "3   Mumbai     Mumbai  18.9667   72.8333        India   IN  IND  Mahārāshtra   \n",
       "4   Manila     Manila  14.5958  120.9772  Philippines   PH  PHL       Manila   \n",
       "\n",
       "   capital  population          id  \n",
       "0  primary  37977000.0  1392685764  \n",
       "1  primary  34540000.0  1360771077  \n",
       "2    admin  29617000.0  1356872604  \n",
       "3    admin  23355000.0  1356226629  \n",
       "4  primary  23088000.0  1608618140  "
      ]
     },
     "execution_count": 24,
     "metadata": {},
     "output_type": "execute_result"
    }
   ],
   "source": [
    "data = pd.read_excel('worldcities.xlsx', engine='openpyxl')\n",
    "data.head()"
   ]
  },
  {
   "cell_type": "code",
   "execution_count": 25,
   "metadata": {},
   "outputs": [
    {
     "data": {
      "text/plain": [
       "city          26569\n",
       "city_ascii    26569\n",
       "lat           26569\n",
       "lng           26569\n",
       "country       26569\n",
       "iso2          26538\n",
       "iso3          26569\n",
       "admin_name    26493\n",
       "capital        7626\n",
       "population    25596\n",
       "id            26569\n",
       "dtype: int64"
      ]
     },
     "execution_count": 25,
     "metadata": {},
     "output_type": "execute_result"
    }
   ],
   "source": [
    "data.count()"
   ]
  },
  {
   "cell_type": "code",
   "execution_count": 26,
   "metadata": {},
   "outputs": [
    {
     "data": {
      "text/plain": [
       "224"
      ]
     },
     "execution_count": 26,
     "metadata": {},
     "output_type": "execute_result"
    }
   ],
   "source": [
    "data['country'].unique().size"
   ]
  },
  {
   "cell_type": "code",
   "execution_count": 27,
   "metadata": {},
   "outputs": [
    {
     "data": {
      "text/html": [
       "<div>\n",
       "<style scoped>\n",
       "    .dataframe tbody tr th:only-of-type {\n",
       "        vertical-align: middle;\n",
       "    }\n",
       "\n",
       "    .dataframe tbody tr th {\n",
       "        vertical-align: top;\n",
       "    }\n",
       "\n",
       "    .dataframe thead th {\n",
       "        text-align: right;\n",
       "    }\n",
       "</style>\n",
       "<table border=\"1\" class=\"dataframe\">\n",
       "  <thead>\n",
       "    <tr style=\"text-align: right;\">\n",
       "      <th></th>\n",
       "      <th>city</th>\n",
       "      <th>city_ascii</th>\n",
       "      <th>lat</th>\n",
       "      <th>lng</th>\n",
       "      <th>country</th>\n",
       "      <th>iso2</th>\n",
       "      <th>iso3</th>\n",
       "      <th>admin_name</th>\n",
       "      <th>capital</th>\n",
       "      <th>population</th>\n",
       "      <th>id</th>\n",
       "    </tr>\n",
       "  </thead>\n",
       "  <tbody>\n",
       "    <tr>\n",
       "      <th>796</th>\n",
       "      <td>Suva</td>\n",
       "      <td>Suva</td>\n",
       "      <td>-18.1333</td>\n",
       "      <td>178.4333</td>\n",
       "      <td>Fiji</td>\n",
       "      <td>FJ</td>\n",
       "      <td>FJI</td>\n",
       "      <td>Rewa</td>\n",
       "      <td>primary</td>\n",
       "      <td>88271.0</td>\n",
       "      <td>1242615095</td>\n",
       "    </tr>\n",
       "    <tr>\n",
       "      <th>5581</th>\n",
       "      <td>Nausori</td>\n",
       "      <td>Nausori</td>\n",
       "      <td>-18.0244</td>\n",
       "      <td>178.5454</td>\n",
       "      <td>Fiji</td>\n",
       "      <td>FJ</td>\n",
       "      <td>FJI</td>\n",
       "      <td>Tailevu</td>\n",
       "      <td>NaN</td>\n",
       "      <td>47604.0</td>\n",
       "      <td>1242640119</td>\n",
       "    </tr>\n",
       "    <tr>\n",
       "      <th>820</th>\n",
       "      <td>Funafuti</td>\n",
       "      <td>Funafuti</td>\n",
       "      <td>-8.5167</td>\n",
       "      <td>179.2167</td>\n",
       "      <td>Tuvalu</td>\n",
       "      <td>TV</td>\n",
       "      <td>TUV</td>\n",
       "      <td>Funafuti</td>\n",
       "      <td>primary</td>\n",
       "      <td>6025.0</td>\n",
       "      <td>1798251391</td>\n",
       "    </tr>\n",
       "    <tr>\n",
       "      <th>26390</th>\n",
       "      <td>Beringovskiy</td>\n",
       "      <td>Beringovskiy</td>\n",
       "      <td>63.0655</td>\n",
       "      <td>179.3067</td>\n",
       "      <td>Russia</td>\n",
       "      <td>RU</td>\n",
       "      <td>RUS</td>\n",
       "      <td>Chukotskiy Avtonomnyy Okrug</td>\n",
       "      <td>NaN</td>\n",
       "      <td>1861.0</td>\n",
       "      <td>1643017874</td>\n",
       "    </tr>\n",
       "    <tr>\n",
       "      <th>13224</th>\n",
       "      <td>Labasa</td>\n",
       "      <td>Labasa</td>\n",
       "      <td>-16.4333</td>\n",
       "      <td>179.3667</td>\n",
       "      <td>Fiji</td>\n",
       "      <td>FJ</td>\n",
       "      <td>FJI</td>\n",
       "      <td>Macuata</td>\n",
       "      <td>NaN</td>\n",
       "      <td>27949.0</td>\n",
       "      <td>1242740801</td>\n",
       "    </tr>\n",
       "  </tbody>\n",
       "</table>\n",
       "</div>"
      ],
      "text/plain": [
       "               city    city_ascii      lat       lng country iso2 iso3  \\\n",
       "796            Suva          Suva -18.1333  178.4333    Fiji   FJ  FJI   \n",
       "5581        Nausori       Nausori -18.0244  178.5454    Fiji   FJ  FJI   \n",
       "820        Funafuti      Funafuti  -8.5167  179.2167  Tuvalu   TV  TUV   \n",
       "26390  Beringovskiy  Beringovskiy  63.0655  179.3067  Russia   RU  RUS   \n",
       "13224        Labasa        Labasa -16.4333  179.3667    Fiji   FJ  FJI   \n",
       "\n",
       "                        admin_name  capital  population          id  \n",
       "796                           Rewa  primary     88271.0  1242615095  \n",
       "5581                       Tailevu      NaN     47604.0  1242640119  \n",
       "820                       Funafuti  primary      6025.0  1798251391  \n",
       "26390  Chukotskiy Avtonomnyy Okrug      NaN      1861.0  1643017874  \n",
       "13224                      Macuata      NaN     27949.0  1242740801  "
      ]
     },
     "execution_count": 27,
     "metadata": {},
     "output_type": "execute_result"
    }
   ],
   "source": [
    "sorted_data = data.sort_values(by='lng')\n",
    "sorted_data.tail()"
   ]
  },
  {
   "cell_type": "code",
   "execution_count": 44,
   "metadata": {},
   "outputs": [
    {
     "data": {
      "text/plain": [
       "53.243800924614696"
      ]
     },
     "execution_count": 44,
     "metadata": {},
     "output_type": "execute_result"
    }
   ],
   "source": [
    "# Tokyo\n",
    "source_city_row = data[data['id']==1392685764]\n",
    "cource_city = City(source_city_row['city_ascii'].iloc[0], source_city_row['lat'].iloc[0],\n",
    "                   source_city_row['lng'].iloc[0], source_city_row['country'].iloc[0],\n",
    "                   source_city_row['population'].iloc[0], source_city_row['id'].iloc[0])\n",
    "\n",
    "# Jakarta\n",
    "dest_city_row = data[data['id']==1360771077]\n",
    "dest_city = City(dest_city_row['city_ascii'].iloc[0], dest_city_row['lat'].iloc[0],\n",
    "                 dest_city_row['lng'].iloc[0], dest_city_row['country'].iloc[0],\n",
    "                 dest_city_row['population'].iloc[0], dest_city_row['id'].iloc[0])\n",
    "\n",
    "cource_city.calculate_distance(dest_city)"
   ]
  },
  {
   "cell_type": "code",
   "execution_count": 29,
   "metadata": {},
   "outputs": [
    {
     "data": {
      "text/plain": [
       "53.243800924614696"
      ]
     },
     "execution_count": 29,
     "metadata": {},
     "output_type": "execute_result"
    }
   ],
   "source": [
    "# def calc_distance(dest_city_id, source_city_id, df=data):\n",
    "#     '''\n",
    "#     dest_city_id: int, \n",
    "#     source_city_id: int\n",
    "#     Calculates Euclidian distance between two cities\n",
    "#     '''\n",
    "#     # TODO think about distance between [-150, 150] by longitude\n",
    "#     # TODO calculate by id, not city name\n",
    "#     source_city_row = df[df['id']==source_city_id]\n",
    "#     x1, y1 = source_city_row['lat'].iloc[0], source_city_row['lng'].iloc[0]\n",
    "#     dest_city_row = df[df['id']==dest_city_id]\n",
    "#     x2, y2 = dest_city_row['lat'].iloc[0], dest_city_row['lng'].iloc[0]\n",
    "\n",
    "#     return np.sqrt((x2-x1) ** 2 + (y2-y1) ** 2)\n",
    "    \n",
    "# calc_distance(1392685764, 1360771077)"
   ]
  },
  {
   "cell_type": "code",
   "execution_count": 18,
   "metadata": {},
   "outputs": [],
   "source": [
    "def find_three_closest(cur_city, df=data, only_east=False):\n",
    "    '''\n",
    "    Returns three closest cities to the chosen one.\n",
    "    if only_east is true, returns only three closest cities to the east from given\n",
    "    '''\n",
    "    # TODO only_east\n",
    "    if only_east:\n",
    "#         df[df['lng'] > ]\n",
    "        pass\n",
    "    else:\n",
    "        df['Distances'] = df['id'].apply(lambda dest: calc_distance(dest, cur_city))\n",
    "    return df.sort_values(by='Distances').iloc[1:4]\n",
    "    \n",
    "# my_df = find_three_closest('Lviv')"
   ]
  },
  {
   "cell_type": "code",
   "execution_count": 19,
   "metadata": {},
   "outputs": [
    {
     "data": {
      "text/html": [
       "<div>\n",
       "<style scoped>\n",
       "    .dataframe tbody tr th:only-of-type {\n",
       "        vertical-align: middle;\n",
       "    }\n",
       "\n",
       "    .dataframe tbody tr th {\n",
       "        vertical-align: top;\n",
       "    }\n",
       "\n",
       "    .dataframe thead th {\n",
       "        text-align: right;\n",
       "    }\n",
       "</style>\n",
       "<table border=\"1\" class=\"dataframe\">\n",
       "  <thead>\n",
       "    <tr style=\"text-align: right;\">\n",
       "      <th></th>\n",
       "      <th>city</th>\n",
       "      <th>city_ascii</th>\n",
       "      <th>lat</th>\n",
       "      <th>lng</th>\n",
       "      <th>country</th>\n",
       "      <th>iso2</th>\n",
       "      <th>iso3</th>\n",
       "      <th>admin_name</th>\n",
       "      <th>capital</th>\n",
       "      <th>population</th>\n",
       "      <th>id</th>\n",
       "      <th>Distances</th>\n",
       "    </tr>\n",
       "  </thead>\n",
       "  <tbody>\n",
       "    <tr>\n",
       "      <th>6681</th>\n",
       "      <td>Holborn</td>\n",
       "      <td>Holborn</td>\n",
       "      <td>51.5172</td>\n",
       "      <td>-0.1182</td>\n",
       "      <td>United Kingdom</td>\n",
       "      <td>GB</td>\n",
       "      <td>GBR</td>\n",
       "      <td>Camden</td>\n",
       "      <td>NaN</td>\n",
       "      <td>13023.0</td>\n",
       "      <td>1826657058</td>\n",
       "      <td>0.013656</td>\n",
       "    </tr>\n",
       "    <tr>\n",
       "      <th>7432</th>\n",
       "      <td>Lambeth</td>\n",
       "      <td>Lambeth</td>\n",
       "      <td>51.4903</td>\n",
       "      <td>-0.1193</td>\n",
       "      <td>United Kingdom</td>\n",
       "      <td>GB</td>\n",
       "      <td>GBR</td>\n",
       "      <td>Lambeth</td>\n",
       "      <td>NaN</td>\n",
       "      <td>9675.0</td>\n",
       "      <td>1826545364</td>\n",
       "      <td>0.018784</td>\n",
       "    </tr>\n",
       "    <tr>\n",
       "      <th>2535</th>\n",
       "      <td>Islington</td>\n",
       "      <td>Islington</td>\n",
       "      <td>51.5440</td>\n",
       "      <td>-0.1027</td>\n",
       "      <td>United Kingdom</td>\n",
       "      <td>GB</td>\n",
       "      <td>GBR</td>\n",
       "      <td>Islington</td>\n",
       "      <td>NaN</td>\n",
       "      <td>206125.0</td>\n",
       "      <td>1826267810</td>\n",
       "      <td>0.044377</td>\n",
       "    </tr>\n",
       "  </tbody>\n",
       "</table>\n",
       "</div>"
      ],
      "text/plain": [
       "           city city_ascii      lat     lng         country iso2 iso3  \\\n",
       "6681    Holborn    Holborn  51.5172 -0.1182  United Kingdom   GB  GBR   \n",
       "7432    Lambeth    Lambeth  51.4903 -0.1193  United Kingdom   GB  GBR   \n",
       "2535  Islington  Islington  51.5440 -0.1027  United Kingdom   GB  GBR   \n",
       "\n",
       "     admin_name capital  population          id  Distances  \n",
       "6681     Camden     NaN     13023.0  1826657058   0.013656  \n",
       "7432    Lambeth     NaN      9675.0  1826545364   0.018784  \n",
       "2535  Islington     NaN    206125.0  1826267810   0.044377  "
      ]
     },
     "execution_count": 19,
     "metadata": {},
     "output_type": "execute_result"
    }
   ],
   "source": [
    "# London\n",
    "my_df = find_three_closest(1826645935)\n",
    "my_df"
   ]
  },
  {
   "cell_type": "code",
   "execution_count": 20,
   "metadata": {},
   "outputs": [
    {
     "data": {
      "text/plain": [
       "'United Kingdom'"
      ]
     },
     "execution_count": 20,
     "metadata": {},
     "output_type": "execute_result"
    }
   ],
   "source": [
    "data[data['id']==1826657058]['country'].iloc[0]"
   ]
  },
  {
   "cell_type": "code",
   "execution_count": 21,
   "metadata": {},
   "outputs": [
    {
     "data": {
      "text/plain": [
       "2"
      ]
     },
     "execution_count": 21,
     "metadata": {},
     "output_type": "execute_result"
    }
   ],
   "source": [
    "def calc_travel_time(dest_city_id, source_city_id, n_closest=1, df=data):\n",
    "    '''\n",
    "    n_closest: int, 1 is the closest city, 2 - second closest, etc.\n",
    "    Returns travel time between the cities\n",
    "    '''\n",
    "    result_time = 2 ** n_closest\n",
    "    if df[df['id']==source_city_id]['country'].iloc[0] != df[df['id']==dest_city_id]['country'].iloc[0]:\n",
    "        result_time += 2\n",
    "    if df[df['id']==dest_city_id]['population'].iloc[0] > 200000:\n",
    "        result_time +=2\n",
    "    return result_time\n",
    "\n",
    "calc_travel_time(1826657058, 1826645935, 1)"
   ]
  },
  {
   "cell_type": "code",
   "execution_count": 22,
   "metadata": {},
   "outputs": [
    {
     "name": "stdout",
     "output_type": "stream",
     "text": [
      "2\n",
      "4\n",
      "10\n"
     ]
    }
   ],
   "source": [
    "print(calc_travel_time(1826657058, 1826645935, 1))\n",
    "print(calc_travel_time(1826545364, 1826645935, 2))\n",
    "print(calc_travel_time(1826267810, 1826645935, 3))"
   ]
  },
  {
   "cell_type": "code",
   "execution_count": null,
   "metadata": {},
   "outputs": [],
   "source": []
  },
  {
   "cell_type": "code",
   "execution_count": null,
   "metadata": {},
   "outputs": [],
   "source": []
  },
  {
   "cell_type": "code",
   "execution_count": null,
   "metadata": {},
   "outputs": [],
   "source": []
  },
  {
   "cell_type": "code",
   "execution_count": null,
   "metadata": {},
   "outputs": [],
   "source": []
  },
  {
   "cell_type": "code",
   "execution_count": null,
   "metadata": {},
   "outputs": [],
   "source": []
  },
  {
   "cell_type": "code",
   "execution_count": null,
   "metadata": {},
   "outputs": [],
   "source": []
  },
  {
   "cell_type": "code",
   "execution_count": null,
   "metadata": {},
   "outputs": [],
   "source": []
  },
  {
   "cell_type": "code",
   "execution_count": null,
   "metadata": {},
   "outputs": [],
   "source": []
  },
  {
   "cell_type": "code",
   "execution_count": null,
   "metadata": {},
   "outputs": [],
   "source": []
  },
  {
   "cell_type": "code",
   "execution_count": null,
   "metadata": {},
   "outputs": [],
   "source": []
  },
  {
   "cell_type": "code",
   "execution_count": null,
   "metadata": {},
   "outputs": [],
   "source": []
  }
 ],
 "metadata": {
  "kernelspec": {
   "display_name": "Python 3 (ipykernel)",
   "language": "python",
   "name": "python3"
  },
  "language_info": {
   "codemirror_mode": {
    "name": "ipython",
    "version": 3
   },
   "file_extension": ".py",
   "mimetype": "text/x-python",
   "name": "python",
   "nbconvert_exporter": "python",
   "pygments_lexer": "ipython3",
   "version": "3.7.0"
  }
 },
 "nbformat": 4,
 "nbformat_minor": 1
}
