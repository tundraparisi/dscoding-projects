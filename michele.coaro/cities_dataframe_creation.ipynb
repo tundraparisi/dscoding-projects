{
 "cells": [
  {
   "cell_type": "code",
   "execution_count": 3,
   "id": "initial_id",
   "metadata": {
    "collapsed": true,
    "ExecuteTime": {
     "end_time": "2023-10-28T10:02:30.617307900Z",
     "start_time": "2023-10-28T10:02:28.014193800Z"
    }
   },
   "outputs": [],
   "source": [
    "import pandas as pd\n",
    "from geopy.geocoders import Nominatim"
   ]
  },
  {
   "cell_type": "code",
   "execution_count": 4,
   "outputs": [],
   "source": [
    "InitialDF = pd.read_csv(r\"C:\\Users\\miche\\programs\\ProgWeather\\progetTempo\\data\\GlobalLandTemperaturesByMajorCity.csv\")\n",
    "InitialDF['dt'] = pd.to_datetime(InitialDF['dt'])\n",
    "\n",
    "geo = Nominatim(user_agent='MapApp')"
   ],
   "metadata": {
    "collapsed": false,
    "ExecuteTime": {
     "end_time": "2023-10-28T10:02:33.089446100Z",
     "start_time": "2023-10-28T10:02:32.413122100Z"
    }
   },
   "id": "6dd62c7b6758ac5b"
  },
  {
   "cell_type": "code",
   "execution_count": 5,
   "outputs": [],
   "source": [
    "def latitude(x):\n",
    "    if (x[len(x) - 1] == 'N'):\n",
    "        i = float(x[:len(x) - 1])\n",
    "    else:\n",
    "        i = -float(x[:len(x) - 1])\n",
    "    return i\n",
    "\n",
    "\n",
    "def longitude(x):\n",
    "    if (x[len(x) - 1] == 'E'):\n",
    "        i = float(x[:len(x) - 1])\n",
    "    else:\n",
    "        i = -float(x[:len(x) - 1])\n",
    "    return i"
   ],
   "metadata": {
    "collapsed": false,
    "ExecuteTime": {
     "end_time": "2023-10-28T10:02:34.855268100Z",
     "start_time": "2023-10-28T10:02:34.823782800Z"
    }
   },
   "id": "57b37128bf6aa085"
  },
  {
   "cell_type": "code",
   "execution_count": 20,
   "outputs": [],
   "source": [
    "def coordinates(city):\n",
    "    return [latitude(city['Latitude']), longitude(city['Longitude'])]\n",
    "\n",
    "citiesLonLat = {}\n",
    "\n",
    "for i in range(len(InitialDF)):\n",
    "    try:\n",
    "        if InitialDF['City'][i] in citiesLonLat:\n",
    "            continue\n",
    "        info = geo.geocode(InitialDF['City'][i] + \" \" + InitialDF['Country'][i])\n",
    "        citiesLonLat[InitialDF['City'][i]] = [info.latitude, info.longitude] \n",
    "    except:\n",
    "        pass\n",
    "for i in range(len(InitialDF)):\n",
    "    if not InitialDF['City'][i] in citiesLonLat:\n",
    "        citiesLonLat[InitialDF['City'][i]] = coordinates(cities.iloc[i])\n",
    "np.save(\"coordinates_correct\", citiesLonLat)\n"
   ],
   "metadata": {
    "collapsed": false,
    "ExecuteTime": {
     "end_time": "2023-10-28T10:46:54.911595200Z",
     "start_time": "2023-10-28T10:46:03.222580100Z"
    }
   },
   "id": "f232f16fdfc94530"
  },
  {
   "cell_type": "code",
   "execution_count": 25,
   "outputs": [
    {
     "data": {
      "text/plain": "           City        Lat         Lon\n0       Abidjan   5.320357   -4.016107\n1   Addis Abeba   9.035829   38.752413\n2     Ahmadabad  23.021624   72.579707\n3        Aleppo  36.199240   37.163725\n4    Alexandria  31.199181   29.895172\n..          ...        ...         ...\n95        Tokyo  35.684057  139.774491\n96      Toronto  43.653482  -79.383935\n97   Umm Durman  15.644554   32.477731\n98        Wuhan  30.595105  114.299935\n99         Xian  38.190493  116.119102\n\n[100 rows x 3 columns]",
      "text/html": "<div>\n<style scoped>\n    .dataframe tbody tr th:only-of-type {\n        vertical-align: middle;\n    }\n\n    .dataframe tbody tr th {\n        vertical-align: top;\n    }\n\n    .dataframe thead th {\n        text-align: right;\n    }\n</style>\n<table border=\"1\" class=\"dataframe\">\n  <thead>\n    <tr style=\"text-align: right;\">\n      <th></th>\n      <th>City</th>\n      <th>Lat</th>\n      <th>Lon</th>\n    </tr>\n  </thead>\n  <tbody>\n    <tr>\n      <th>0</th>\n      <td>Abidjan</td>\n      <td>5.320357</td>\n      <td>-4.016107</td>\n    </tr>\n    <tr>\n      <th>1</th>\n      <td>Addis Abeba</td>\n      <td>9.035829</td>\n      <td>38.752413</td>\n    </tr>\n    <tr>\n      <th>2</th>\n      <td>Ahmadabad</td>\n      <td>23.021624</td>\n      <td>72.579707</td>\n    </tr>\n    <tr>\n      <th>3</th>\n      <td>Aleppo</td>\n      <td>36.199240</td>\n      <td>37.163725</td>\n    </tr>\n    <tr>\n      <th>4</th>\n      <td>Alexandria</td>\n      <td>31.199181</td>\n      <td>29.895172</td>\n    </tr>\n    <tr>\n      <th>...</th>\n      <td>...</td>\n      <td>...</td>\n      <td>...</td>\n    </tr>\n    <tr>\n      <th>95</th>\n      <td>Tokyo</td>\n      <td>35.684057</td>\n      <td>139.774491</td>\n    </tr>\n    <tr>\n      <th>96</th>\n      <td>Toronto</td>\n      <td>43.653482</td>\n      <td>-79.383935</td>\n    </tr>\n    <tr>\n      <th>97</th>\n      <td>Umm Durman</td>\n      <td>15.644554</td>\n      <td>32.477731</td>\n    </tr>\n    <tr>\n      <th>98</th>\n      <td>Wuhan</td>\n      <td>30.595105</td>\n      <td>114.299935</td>\n    </tr>\n    <tr>\n      <th>99</th>\n      <td>Xian</td>\n      <td>38.190493</td>\n      <td>116.119102</td>\n    </tr>\n  </tbody>\n</table>\n<p>100 rows × 3 columns</p>\n</div>"
     },
     "execution_count": 25,
     "metadata": {},
     "output_type": "execute_result"
    }
   ],
   "source": [
    "corr_coord = np.load(\"coordinates_correct.npy\", allow_pickle=True).item()\n",
    "\n",
    "data_list = [{'City': city, 'Lat': corr_coord[0], 'Lon': corr_coord[1]} for city, corr_coord in corr_coord.items()]\n",
    "\n",
    "unique_cities = pd.DataFrame(data_list)\n",
    "unique_cities"
   ],
   "metadata": {
    "collapsed": false,
    "ExecuteTime": {
     "end_time": "2023-10-28T10:55:53.961630400Z",
     "start_time": "2023-10-28T10:55:53.892642800Z"
    }
   },
   "id": "e4147fed3ab4958f"
  },
  {
   "cell_type": "code",
   "execution_count": 10,
   "outputs": [
    {
     "data": {
      "text/plain": "          City  Latitude  Longitude\n0      Abidjan      5.63      -3.23\n1  Addis Abeba      8.84      38.11\n2    Ahmadabad     23.31      72.52\n3       Aleppo     36.17      37.79\n4   Alexandria     31.35      30.16",
      "text/html": "<div>\n<style scoped>\n    .dataframe tbody tr th:only-of-type {\n        vertical-align: middle;\n    }\n\n    .dataframe tbody tr th {\n        vertical-align: top;\n    }\n\n    .dataframe thead th {\n        text-align: right;\n    }\n</style>\n<table border=\"1\" class=\"dataframe\">\n  <thead>\n    <tr style=\"text-align: right;\">\n      <th></th>\n      <th>City</th>\n      <th>Latitude</th>\n      <th>Longitude</th>\n    </tr>\n  </thead>\n  <tbody>\n    <tr>\n      <th>0</th>\n      <td>Abidjan</td>\n      <td>5.63</td>\n      <td>-3.23</td>\n    </tr>\n    <tr>\n      <th>1</th>\n      <td>Addis Abeba</td>\n      <td>8.84</td>\n      <td>38.11</td>\n    </tr>\n    <tr>\n      <th>2</th>\n      <td>Ahmadabad</td>\n      <td>23.31</td>\n      <td>72.52</td>\n    </tr>\n    <tr>\n      <th>3</th>\n      <td>Aleppo</td>\n      <td>36.17</td>\n      <td>37.79</td>\n    </tr>\n    <tr>\n      <th>4</th>\n      <td>Alexandria</td>\n      <td>31.35</td>\n      <td>30.16</td>\n    </tr>\n  </tbody>\n</table>\n</div>"
     },
     "execution_count": 10,
     "metadata": {},
     "output_type": "execute_result"
    }
   ],
   "source": [
    "unique_cities = InitialDF['City'].unique().tolist()\n",
    "\n",
    "cities = []\n",
    "latitudes = []\n",
    "longitudes = []\n",
    "\n",
    "for city in unique_cities:\n",
    "    cities.append(city)\n",
    "    row=InitialDF[InitialDF['City']==city].iloc[0]\n",
    "    latitudes.append(latitude(row['Latitude']))\n",
    "    longitudes.append(longitude(row['Longitude'])) \n",
    "    \n",
    "coordinates_df = pd.DataFrame({\n",
    "    'City': cities,\n",
    "    'Latitude': latitudes,\n",
    "    'Longitude': longitudes\n",
    "})\n",
    "\n",
    "# Print the resulting DataFrame\n",
    "coordinates_df.head()"
   ],
   "metadata": {
    "collapsed": false,
    "ExecuteTime": {
     "end_time": "2023-10-28T10:03:29.910503300Z",
     "start_time": "2023-10-28T10:03:28.358917100Z"
    }
   },
   "id": "41b522d46aaf6163"
  },
  {
   "cell_type": "markdown",
   "source": [
    "#### Manually modyfing the coordinates of three cities because for some reason the wrong coordinates were provided\n"
   ],
   "metadata": {
    "collapsed": false
   },
   "id": "9cd26082753ad317"
  },
  {
   "cell_type": "code",
   "execution_count": 29,
   "outputs": [
    {
     "data": {
      "text/plain": "          City        Lat        Lon\n0      Abidjan   5.320357  -4.016107\n1  Addis Abeba   9.035829  38.752413\n2    Ahmadabad  23.021624  72.579707\n3       Aleppo  36.199240  37.163725\n4   Alexandria  31.199181  29.895172",
      "text/html": "<div>\n<style scoped>\n    .dataframe tbody tr th:only-of-type {\n        vertical-align: middle;\n    }\n\n    .dataframe tbody tr th {\n        vertical-align: top;\n    }\n\n    .dataframe thead th {\n        text-align: right;\n    }\n</style>\n<table border=\"1\" class=\"dataframe\">\n  <thead>\n    <tr style=\"text-align: right;\">\n      <th></th>\n      <th>City</th>\n      <th>Lat</th>\n      <th>Lon</th>\n    </tr>\n  </thead>\n  <tbody>\n    <tr>\n      <th>0</th>\n      <td>Abidjan</td>\n      <td>5.320357</td>\n      <td>-4.016107</td>\n    </tr>\n    <tr>\n      <th>1</th>\n      <td>Addis Abeba</td>\n      <td>9.035829</td>\n      <td>38.752413</td>\n    </tr>\n    <tr>\n      <th>2</th>\n      <td>Ahmadabad</td>\n      <td>23.021624</td>\n      <td>72.579707</td>\n    </tr>\n    <tr>\n      <th>3</th>\n      <td>Aleppo</td>\n      <td>36.199240</td>\n      <td>37.163725</td>\n    </tr>\n    <tr>\n      <th>4</th>\n      <td>Alexandria</td>\n      <td>31.199181</td>\n      <td>29.895172</td>\n    </tr>\n  </tbody>\n</table>\n</div>"
     },
     "execution_count": 29,
     "metadata": {},
     "output_type": "execute_result"
    }
   ],
   "source": [
    "\n",
    "unique_cities[unique_cities[\"City\"]== \"Brasília\"]  = [\"Brasília\", -15.7942287, -47.8821658]\n",
    "unique_cities[unique_cities[\"City\"]== \"Kinshasa\"] = ['Kinshasa', -4.325, 15.322222]\n",
    "unique_cities[unique_cities[\"City\"]== \"Izmir\"] = ['Izmir', 38.423733, 27.142826]\n",
    "unique_cities.to_csv(\"Unique_cities_coordinates.csv\")\n",
    "unique_cities.head()"
   ],
   "metadata": {
    "collapsed": false,
    "ExecuteTime": {
     "end_time": "2023-10-28T10:58:58.785106500Z",
     "start_time": "2023-10-28T10:58:58.753334600Z"
    }
   },
   "id": "8b45f1b1926e4032"
  },
  {
   "cell_type": "code",
   "execution_count": null,
   "outputs": [],
   "source": [
    "#### Obtaining a final Dataframe with the desired columns, and saving it to a csv for more convenient access"
   ],
   "metadata": {
    "collapsed": false
   },
   "id": "39031afd96792c1c"
  },
  {
   "cell_type": "code",
   "execution_count": 30,
   "outputs": [],
   "source": [
    "finalDFONE = pd.merge( unique_cities,InitialDF, on='City', how='inner')\n",
    "finalDFONE = finalDFONE[['City','Lat', 'Lon','AverageTemperature','dt']]\n",
    "final = pd.DataFrame(finalDFONE)\n",
    "final.rename(columns = {'Lat':'Latitude', 'Lon':'Longitude'}, inplace = True)\n",
    "final[\"dt\"] = pd.to_datetime(final[\"dt\"])\n",
    "final.head()\n",
    "final.to_csv(\"DFtoImport.csv\")"
   ],
   "metadata": {
    "collapsed": false,
    "ExecuteTime": {
     "end_time": "2023-10-28T10:59:19.819513600Z",
     "start_time": "2023-10-28T10:59:18.040101400Z"
    }
   },
   "id": "573f08d78518151d"
  },
  {
   "cell_type": "code",
   "execution_count": null,
   "outputs": [],
   "source": [],
   "metadata": {
    "collapsed": false
   },
   "id": "3c5d2bbbe2d638e9"
  }
 ],
 "metadata": {
  "kernelspec": {
   "name": "virtualone",
   "language": "python",
   "display_name": "virtualOne"
  },
  "language_info": {
   "codemirror_mode": {
    "name": "ipython",
    "version": 2
   },
   "file_extension": ".py",
   "mimetype": "text/x-python",
   "name": "python",
   "nbconvert_exporter": "python",
   "pygments_lexer": "ipython2",
   "version": "2.7.6"
  }
 },
 "nbformat": 4,
 "nbformat_minor": 5
}
