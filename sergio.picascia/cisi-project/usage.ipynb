{
 "cells": [
  {
   "cell_type": "code",
   "execution_count": 1,
   "metadata": {},
   "outputs": [],
   "source": [
    "from cisi.data import CISIData\n",
    "from cisi.methods import RandomRetrieval, TermFrequencyRetrieval"
   ]
  },
  {
   "cell_type": "markdown",
   "metadata": {},
   "source": [
    "## Data Import"
   ]
  },
  {
   "cell_type": "code",
   "execution_count": 2,
   "metadata": {},
   "outputs": [],
   "source": [
    "path = '/Users/sergiopicascia/Downloads/archive'\n",
    "data = CISIData(path)"
   ]
  },
  {
   "cell_type": "markdown",
   "metadata": {},
   "source": [
    "## EDA"
   ]
  },
  {
   "cell_type": "code",
   "execution_count": 3,
   "metadata": {},
   "outputs": [
    {
     "data": {
      "text/html": [
       "<div>\n",
       "<style scoped>\n",
       "    .dataframe tbody tr th:only-of-type {\n",
       "        vertical-align: middle;\n",
       "    }\n",
       "\n",
       "    .dataframe tbody tr th {\n",
       "        vertical-align: top;\n",
       "    }\n",
       "\n",
       "    .dataframe thead th {\n",
       "        text-align: right;\n",
       "    }\n",
       "</style>\n",
       "<table border=\"1\" class=\"dataframe\">\n",
       "  <thead>\n",
       "    <tr style=\"text-align: right;\">\n",
       "      <th></th>\n",
       "      <th>id</th>\n",
       "      <th>title</th>\n",
       "      <th>author</th>\n",
       "      <th>text</th>\n",
       "      <th>related_texts</th>\n",
       "    </tr>\n",
       "  </thead>\n",
       "  <tbody>\n",
       "    <tr>\n",
       "      <th>0</th>\n",
       "      <td>1</td>\n",
       "      <td>18 Editions of the Dewey Decimal Classifications</td>\n",
       "      <td>Comaromi, J.P.</td>\n",
       "      <td>The present study is a history of the DEWEY De...</td>\n",
       "      <td>[(1, 5, 192, 1, 1262, 1, 1556, 1, 11004, 1, 11...</td>\n",
       "    </tr>\n",
       "    <tr>\n",
       "      <th>1</th>\n",
       "      <td>2</td>\n",
       "      <td>Use Made of Technical Libraries</td>\n",
       "      <td>Slater, M.</td>\n",
       "      <td>This report is an analysis of 6300 acts of use...</td>\n",
       "      <td>[(2, 5, 232, 1, 276, 1, 2132, 1, 2137, 1, 2139...</td>\n",
       "    </tr>\n",
       "    <tr>\n",
       "      <th>2</th>\n",
       "      <td>3</td>\n",
       "      <td>Two Kinds of PowerAn Essay on Bibliographic Co...</td>\n",
       "      <td>Wilson, P.</td>\n",
       "      <td>The relationships between the organization and...</td>\n",
       "      <td>[(3, 7, 342, 1, 3172, 1, 3268, 1, 3292, 1, 332...</td>\n",
       "    </tr>\n",
       "    <tr>\n",
       "      <th>3</th>\n",
       "      <td>4</td>\n",
       "      <td>Systems Analysis of a University Library; fina...</td>\n",
       "      <td>Buckland, M.K.</td>\n",
       "      <td>The establishment of nine new universities in ...</td>\n",
       "      <td>[(4, 10, 45, 2, 49, 1, 432, 1, 465, 1, 496, 1,...</td>\n",
       "    </tr>\n",
       "    <tr>\n",
       "      <th>4</th>\n",
       "      <td>5</td>\n",
       "      <td>A Library Management Game:a report on a resear...</td>\n",
       "      <td>Brophy, P.</td>\n",
       "      <td>Although the use of games in professional educ...</td>\n",
       "      <td>[(4, 2, 55, 6, 590, 1, 591, 1, 5115, 1, 5158, ...</td>\n",
       "    </tr>\n",
       "  </tbody>\n",
       "</table>\n",
       "</div>"
      ],
      "text/plain": [
       "   id                                              title          author  \\\n",
       "0   1   18 Editions of the Dewey Decimal Classifications  Comaromi, J.P.   \n",
       "1   2                    Use Made of Technical Libraries      Slater, M.   \n",
       "2   3  Two Kinds of PowerAn Essay on Bibliographic Co...      Wilson, P.   \n",
       "3   4  Systems Analysis of a University Library; fina...  Buckland, M.K.   \n",
       "4   5  A Library Management Game:a report on a resear...      Brophy, P.   \n",
       "\n",
       "                                                text  \\\n",
       "0  The present study is a history of the DEWEY De...   \n",
       "1  This report is an analysis of 6300 acts of use...   \n",
       "2  The relationships between the organization and...   \n",
       "3  The establishment of nine new universities in ...   \n",
       "4  Although the use of games in professional educ...   \n",
       "\n",
       "                                       related_texts  \n",
       "0  [(1, 5, 192, 1, 1262, 1, 1556, 1, 11004, 1, 11...  \n",
       "1  [(2, 5, 232, 1, 276, 1, 2132, 1, 2137, 1, 2139...  \n",
       "2  [(3, 7, 342, 1, 3172, 1, 3268, 1, 3292, 1, 332...  \n",
       "3  [(4, 10, 45, 2, 49, 1, 432, 1, 465, 1, 496, 1,...  \n",
       "4  [(4, 2, 55, 6, 590, 1, 591, 1, 5115, 1, 5158, ...  "
      ]
     },
     "execution_count": 3,
     "metadata": {},
     "output_type": "execute_result"
    }
   ],
   "source": [
    "# Data about texts\n",
    "data.documents.head()"
   ]
  },
  {
   "cell_type": "code",
   "execution_count": 4,
   "metadata": {},
   "outputs": [
    {
     "data": {
      "text/plain": [
       "author\n",
       "Lancaster, F.W.                          8\n",
       "Salton, G.                               7\n",
       "Line, M.B.                               6\n",
       "Brookes, B. C.                           6\n",
       "Kilgour, F.G.                            5\n",
       "                                        ..\n",
       "Tell, Bjorn V.                           1\n",
       "Thiel, L. H.Heaps, H. S.                 1\n",
       "Williams, Martha E.                      1\n",
       "Garvey, William D.Griffith, Belver C.    1\n",
       "Poluskin, V.A.                           1\n",
       "Name: count, Length: 1231, dtype: int64"
      ]
     },
     "execution_count": 4,
     "metadata": {},
     "output_type": "execute_result"
    }
   ],
   "source": [
    "# Occurrences of each author\n",
    "data.documents['author'].value_counts()"
   ]
  },
  {
   "cell_type": "code",
   "execution_count": 5,
   "metadata": {},
   "outputs": [
    {
     "data": {
      "text/html": [
       "<div>\n",
       "<style scoped>\n",
       "    .dataframe tbody tr th:only-of-type {\n",
       "        vertical-align: middle;\n",
       "    }\n",
       "\n",
       "    .dataframe tbody tr th {\n",
       "        vertical-align: top;\n",
       "    }\n",
       "\n",
       "    .dataframe thead th {\n",
       "        text-align: right;\n",
       "    }\n",
       "</style>\n",
       "<table border=\"1\" class=\"dataframe\">\n",
       "  <thead>\n",
       "    <tr style=\"text-align: right;\">\n",
       "      <th></th>\n",
       "      <th>id</th>\n",
       "      <th>title</th>\n",
       "      <th>author</th>\n",
       "      <th>text</th>\n",
       "      <th>related_texts</th>\n",
       "    </tr>\n",
       "  </thead>\n",
       "  <tbody>\n",
       "    <tr>\n",
       "      <th>74</th>\n",
       "      <td>75</td>\n",
       "      <td>MEDLARS: Report on the Evaluation of Its Opera...</td>\n",
       "      <td>Lancaster, F.W.</td>\n",
       "      <td>A comprehensive program to evaluate the perfor...</td>\n",
       "      <td>[(24, 3, 7530, 1, 7538, 1, 7543, 1, 7547, 1, 7...</td>\n",
       "    </tr>\n",
       "    <tr>\n",
       "      <th>193</th>\n",
       "      <td>194</td>\n",
       "      <td>The Evaluation of Published Indexes and Abstra...</td>\n",
       "      <td>Lancaster, F.W.</td>\n",
       "      <td>This paper describes possible criteria by whic...</td>\n",
       "      <td>[(86, 1, 194114, 1, 194154, 1, 194172, 1, 1941...</td>\n",
       "    </tr>\n",
       "    <tr>\n",
       "      <th>450</th>\n",
       "      <td>451</td>\n",
       "      <td>Interaction Between Requesters and a Large Mec...</td>\n",
       "      <td>Lancaster, F.W.</td>\n",
       "      <td>In a large mechanized retrieval system, a cert...</td>\n",
       "      <td>[(29, 2, 45158, 3, 45166, 1, 451124, 1, 451127...</td>\n",
       "    </tr>\n",
       "    <tr>\n",
       "      <th>457</th>\n",
       "      <td>458</td>\n",
       "      <td>Information Retrieval Systems</td>\n",
       "      <td>Lancaster, F.W.</td>\n",
       "      <td>This book is concerned primarily with those \"i...</td>\n",
       "      <td>[(29, 1, 45839, 1, 45851, 1, 45857, 1, 45861, ...</td>\n",
       "    </tr>\n",
       "    <tr>\n",
       "      <th>458</th>\n",
       "      <td>459</td>\n",
       "      <td>Information Retrieval On-Line</td>\n",
       "      <td>Lancaster, F.W.</td>\n",
       "      <td>This book deals with on-line systems for bibli...</td>\n",
       "      <td>[(10, 1, 45918, 3, 45961, 1, 459114, 1, 459120...</td>\n",
       "    </tr>\n",
       "    <tr>\n",
       "      <th>590</th>\n",
       "      <td>591</td>\n",
       "      <td>The Cost-Effectiveness Analysis of Information...</td>\n",
       "      <td>Lancaster, F.W.</td>\n",
       "      <td>A distinction is made between cost-effectivene...</td>\n",
       "      <td>[(18, 1, 59127, 1, 59134, 1, 59149, 1, 59153, ...</td>\n",
       "    </tr>\n",
       "    <tr>\n",
       "      <th>827</th>\n",
       "      <td>828</td>\n",
       "      <td>A Study of Current Awareness Publications in t...</td>\n",
       "      <td>Lancaster, F.W.</td>\n",
       "      <td>Mailed questionnaires were used to study the u...</td>\n",
       "      <td>[(10, 1, 82818, 1, 82834, 1, 82849, 1, 82853, ...</td>\n",
       "    </tr>\n",
       "    <tr>\n",
       "      <th>1447</th>\n",
       "      <td>1448</td>\n",
       "      <td>Vocabulary Control for Information Retrieval</td>\n",
       "      <td>Lancaster, F.W.</td>\n",
       "      <td>This book deals with properties of vocabularie...</td>\n",
       "      <td>[(30, 1, 144834, 1, 144838, 1, 144873, 1, 1448...</td>\n",
       "    </tr>\n",
       "  </tbody>\n",
       "</table>\n",
       "</div>"
      ],
      "text/plain": [
       "        id                                              title  \\\n",
       "74      75  MEDLARS: Report on the Evaluation of Its Opera...   \n",
       "193    194  The Evaluation of Published Indexes and Abstra...   \n",
       "450    451  Interaction Between Requesters and a Large Mec...   \n",
       "457    458                      Information Retrieval Systems   \n",
       "458    459                      Information Retrieval On-Line   \n",
       "590    591  The Cost-Effectiveness Analysis of Information...   \n",
       "827    828  A Study of Current Awareness Publications in t...   \n",
       "1447  1448       Vocabulary Control for Information Retrieval   \n",
       "\n",
       "               author                                               text  \\\n",
       "74    Lancaster, F.W.  A comprehensive program to evaluate the perfor...   \n",
       "193   Lancaster, F.W.  This paper describes possible criteria by whic...   \n",
       "450   Lancaster, F.W.  In a large mechanized retrieval system, a cert...   \n",
       "457   Lancaster, F.W.  This book is concerned primarily with those \"i...   \n",
       "458   Lancaster, F.W.  This book deals with on-line systems for bibli...   \n",
       "590   Lancaster, F.W.  A distinction is made between cost-effectivene...   \n",
       "827   Lancaster, F.W.  Mailed questionnaires were used to study the u...   \n",
       "1447  Lancaster, F.W.  This book deals with properties of vocabularie...   \n",
       "\n",
       "                                          related_texts  \n",
       "74    [(24, 3, 7530, 1, 7538, 1, 7543, 1, 7547, 1, 7...  \n",
       "193   [(86, 1, 194114, 1, 194154, 1, 194172, 1, 1941...  \n",
       "450   [(29, 2, 45158, 3, 45166, 1, 451124, 1, 451127...  \n",
       "457   [(29, 1, 45839, 1, 45851, 1, 45857, 1, 45861, ...  \n",
       "458   [(10, 1, 45918, 3, 45961, 1, 459114, 1, 459120...  \n",
       "590   [(18, 1, 59127, 1, 59134, 1, 59149, 1, 59153, ...  \n",
       "827   [(10, 1, 82818, 1, 82834, 1, 82849, 1, 82853, ...  \n",
       "1447  [(30, 1, 144834, 1, 144838, 1, 144873, 1, 1448...  "
      ]
     },
     "execution_count": 5,
     "metadata": {},
     "output_type": "execute_result"
    }
   ],
   "source": [
    "# Texts of the most frequen author\n",
    "data.documents.loc[data.documents['author'] == 'Lancaster, F.W.']"
   ]
  },
  {
   "cell_type": "code",
   "execution_count": 6,
   "metadata": {},
   "outputs": [
    {
     "data": {
      "text/html": [
       "<div>\n",
       "<style scoped>\n",
       "    .dataframe tbody tr th:only-of-type {\n",
       "        vertical-align: middle;\n",
       "    }\n",
       "\n",
       "    .dataframe tbody tr th {\n",
       "        vertical-align: top;\n",
       "    }\n",
       "\n",
       "    .dataframe thead th {\n",
       "        text-align: right;\n",
       "    }\n",
       "</style>\n",
       "<table border=\"1\" class=\"dataframe\">\n",
       "  <thead>\n",
       "    <tr style=\"text-align: right;\">\n",
       "      <th></th>\n",
       "      <th>id</th>\n",
       "      <th>title</th>\n",
       "      <th>author</th>\n",
       "      <th>text</th>\n",
       "      <th>book</th>\n",
       "    </tr>\n",
       "  </thead>\n",
       "  <tbody>\n",
       "    <tr>\n",
       "      <th>0</th>\n",
       "      <td>1</td>\n",
       "      <td>&lt;NA&gt;</td>\n",
       "      <td>&lt;NA&gt;</td>\n",
       "      <td>What problems and concerns are there in making...</td>\n",
       "      <td>&lt;NA&gt;</td>\n",
       "    </tr>\n",
       "    <tr>\n",
       "      <th>1</th>\n",
       "      <td>2</td>\n",
       "      <td>&lt;NA&gt;</td>\n",
       "      <td>&lt;NA&gt;</td>\n",
       "      <td>How can actually pertinent data, as opposed to...</td>\n",
       "      <td>&lt;NA&gt;</td>\n",
       "    </tr>\n",
       "    <tr>\n",
       "      <th>2</th>\n",
       "      <td>3</td>\n",
       "      <td>&lt;NA&gt;</td>\n",
       "      <td>&lt;NA&gt;</td>\n",
       "      <td>What is information science?  Give definitions...</td>\n",
       "      <td>&lt;NA&gt;</td>\n",
       "    </tr>\n",
       "    <tr>\n",
       "      <th>3</th>\n",
       "      <td>4</td>\n",
       "      <td>&lt;NA&gt;</td>\n",
       "      <td>&lt;NA&gt;</td>\n",
       "      <td>Image recognition and any other methods of aut...</td>\n",
       "      <td>&lt;NA&gt;</td>\n",
       "    </tr>\n",
       "    <tr>\n",
       "      <th>4</th>\n",
       "      <td>5</td>\n",
       "      <td>&lt;NA&gt;</td>\n",
       "      <td>&lt;NA&gt;</td>\n",
       "      <td>What special training will ordinary researcher...</td>\n",
       "      <td>&lt;NA&gt;</td>\n",
       "    </tr>\n",
       "  </tbody>\n",
       "</table>\n",
       "</div>"
      ],
      "text/plain": [
       "   id title author                                               text  book\n",
       "0   1  <NA>   <NA>  What problems and concerns are there in making...  <NA>\n",
       "1   2  <NA>   <NA>  How can actually pertinent data, as opposed to...  <NA>\n",
       "2   3  <NA>   <NA>  What is information science?  Give definitions...  <NA>\n",
       "3   4  <NA>   <NA>  Image recognition and any other methods of aut...  <NA>\n",
       "4   5  <NA>   <NA>  What special training will ordinary researcher...  <NA>"
      ]
     },
     "execution_count": 6,
     "metadata": {},
     "output_type": "execute_result"
    }
   ],
   "source": [
    "# Data about queries\n",
    "data.queries.head()"
   ]
  },
  {
   "cell_type": "code",
   "execution_count": 7,
   "metadata": {},
   "outputs": [
    {
     "data": {
      "text/html": [
       "<div>\n",
       "<style scoped>\n",
       "    .dataframe tbody tr th:only-of-type {\n",
       "        vertical-align: middle;\n",
       "    }\n",
       "\n",
       "    .dataframe tbody tr th {\n",
       "        vertical-align: top;\n",
       "    }\n",
       "\n",
       "    .dataframe thead th {\n",
       "        text-align: right;\n",
       "    }\n",
       "</style>\n",
       "<table border=\"1\" class=\"dataframe\">\n",
       "  <thead>\n",
       "    <tr style=\"text-align: right;\">\n",
       "      <th></th>\n",
       "      <th>id</th>\n",
       "      <th>title</th>\n",
       "      <th>author</th>\n",
       "      <th>text</th>\n",
       "      <th>book</th>\n",
       "    </tr>\n",
       "  </thead>\n",
       "  <tbody>\n",
       "    <tr>\n",
       "      <th>57</th>\n",
       "      <td>58</td>\n",
       "      <td>Directions in Library Networking</td>\n",
       "      <td>Avram, H.D. McCallum, S.H.</td>\n",
       "      <td>Bibliographic control before and after MARC is...</td>\n",
       "      <td>(JASIS, Vol. 31, No. 6, November 1980, pp. 438...</td>\n",
       "    </tr>\n",
       "    <tr>\n",
       "      <th>58</th>\n",
       "      <td>59</td>\n",
       "      <td>Performance Testing of a Book and Its Index as...</td>\n",
       "      <td>Bennion, B.C.</td>\n",
       "      <td>The retrieval performance of book indexes can ...</td>\n",
       "      <td>(JASIS, Vol. 31, No. 4, July 1980, pp. 264-270)</td>\n",
       "    </tr>\n",
       "    <tr>\n",
       "      <th>59</th>\n",
       "      <td>60</td>\n",
       "      <td>The Combined Use of Bibliographic Coupling and...</td>\n",
       "      <td>Bichteler, J. Eaton, E.A. III</td>\n",
       "      <td>A linkage similarity measure which takes into ...</td>\n",
       "      <td>(JASIS, Vol. 31, No. 4, July 1980, pp. 278-282)</td>\n",
       "    </tr>\n",
       "    <tr>\n",
       "      <th>60</th>\n",
       "      <td>61</td>\n",
       "      <td>Searching Biases in Large Interactive Document...</td>\n",
       "      <td>Blair, D.C.</td>\n",
       "      <td>The way that individuals construct and modify ...</td>\n",
       "      <td>(JASIS, Vol. 31, No. 4, July 1980, pp. 271-277)</td>\n",
       "    </tr>\n",
       "    <tr>\n",
       "      <th>61</th>\n",
       "      <td>62</td>\n",
       "      <td>Fuzzy Requests:  An Approach to Weighted Boole...</td>\n",
       "      <td>Bookstein, A.</td>\n",
       "      <td>This article concerns the problem of how to pe...</td>\n",
       "      <td>(JASIS, Vol. 31, No. 4, July 1980, pp. 240-247)</td>\n",
       "    </tr>\n",
       "    <tr>\n",
       "      <th>62</th>\n",
       "      <td>63</td>\n",
       "      <td>Feature Comparison of an In-House Information ...</td>\n",
       "      <td>Boyle, S.O. Miller, A.P.</td>\n",
       "      <td>A commercially available online search was use...</td>\n",
       "      <td>(JASIS, Vol. 31, No. 5, September 1980, pp. 30...</td>\n",
       "    </tr>\n",
       "    <tr>\n",
       "      <th>63</th>\n",
       "      <td>64</td>\n",
       "      <td>Measurement in Information Science:  Objective...</td>\n",
       "      <td>Brookes, B.C.</td>\n",
       "      <td>It is argued that in information science we ha...</td>\n",
       "      <td>(JASIS, Vol. 31, No. 4, July 1980, pp. 248-255)</td>\n",
       "    </tr>\n",
       "    <tr>\n",
       "      <th>64</th>\n",
       "      <td>65</td>\n",
       "      <td>A Model of Cluster Searching Based on Classifi...</td>\n",
       "      <td>Croft, W.B.</td>\n",
       "      <td>The use of document clusters has been suggeste...</td>\n",
       "      <td>(Inform. Systems, Vol. 5, No. 3, 1980, pp. 189...</td>\n",
       "    </tr>\n",
       "    <tr>\n",
       "      <th>65</th>\n",
       "      <td>66</td>\n",
       "      <td>The Technology of Library and Information Netw...</td>\n",
       "      <td>Epstein, H.</td>\n",
       "      <td>Current online library network technology is d...</td>\n",
       "      <td>(JASIS, Vol. 31, No. 6, November 1980, pp. 425...</td>\n",
       "    </tr>\n",
       "    <tr>\n",
       "      <th>66</th>\n",
       "      <td>67</td>\n",
       "      <td>The Use of Titles for Automatic Document Class...</td>\n",
       "      <td>Hamill, K.A. Zamora, A.</td>\n",
       "      <td>An experimental computer program has been deve...</td>\n",
       "      <td>(JASIS, Vol. 31, No. 6, November 1980, pp. 396...</td>\n",
       "    </tr>\n",
       "  </tbody>\n",
       "</table>\n",
       "</div>"
      ],
      "text/plain": [
       "    id                                              title  \\\n",
       "57  58                   Directions in Library Networking   \n",
       "58  59  Performance Testing of a Book and Its Index as...   \n",
       "59  60  The Combined Use of Bibliographic Coupling and...   \n",
       "60  61  Searching Biases in Large Interactive Document...   \n",
       "61  62  Fuzzy Requests:  An Approach to Weighted Boole...   \n",
       "62  63  Feature Comparison of an In-House Information ...   \n",
       "63  64  Measurement in Information Science:  Objective...   \n",
       "64  65  A Model of Cluster Searching Based on Classifi...   \n",
       "65  66  The Technology of Library and Information Netw...   \n",
       "66  67  The Use of Titles for Automatic Document Class...   \n",
       "\n",
       "                           author  \\\n",
       "57     Avram, H.D. McCallum, S.H.   \n",
       "58                  Bennion, B.C.   \n",
       "59  Bichteler, J. Eaton, E.A. III   \n",
       "60                    Blair, D.C.   \n",
       "61                  Bookstein, A.   \n",
       "62       Boyle, S.O. Miller, A.P.   \n",
       "63                  Brookes, B.C.   \n",
       "64                    Croft, W.B.   \n",
       "65                    Epstein, H.   \n",
       "66        Hamill, K.A. Zamora, A.   \n",
       "\n",
       "                                                 text  \\\n",
       "57  Bibliographic control before and after MARC is...   \n",
       "58  The retrieval performance of book indexes can ...   \n",
       "59  A linkage similarity measure which takes into ...   \n",
       "60  The way that individuals construct and modify ...   \n",
       "61  This article concerns the problem of how to pe...   \n",
       "62  A commercially available online search was use...   \n",
       "63  It is argued that in information science we ha...   \n",
       "64  The use of document clusters has been suggeste...   \n",
       "65  Current online library network technology is d...   \n",
       "66  An experimental computer program has been deve...   \n",
       "\n",
       "                                                 book  \n",
       "57  (JASIS, Vol. 31, No. 6, November 1980, pp. 438...  \n",
       "58    (JASIS, Vol. 31, No. 4, July 1980, pp. 264-270)  \n",
       "59    (JASIS, Vol. 31, No. 4, July 1980, pp. 278-282)  \n",
       "60    (JASIS, Vol. 31, No. 4, July 1980, pp. 271-277)  \n",
       "61    (JASIS, Vol. 31, No. 4, July 1980, pp. 240-247)  \n",
       "62  (JASIS, Vol. 31, No. 5, September 1980, pp. 30...  \n",
       "63    (JASIS, Vol. 31, No. 4, July 1980, pp. 248-255)  \n",
       "64  (Inform. Systems, Vol. 5, No. 3, 1980, pp. 189...  \n",
       "65  (JASIS, Vol. 31, No. 6, November 1980, pp. 425...  \n",
       "66  (JASIS, Vol. 31, No. 6, November 1980, pp. 396...  "
      ]
     },
     "execution_count": 7,
     "metadata": {},
     "output_type": "execute_result"
    }
   ],
   "source": [
    "# First 10 queries with known author\n",
    "data.queries.loc[data.queries['author'].notna()].head(10)"
   ]
  },
  {
   "cell_type": "code",
   "execution_count": 8,
   "metadata": {},
   "outputs": [
    {
     "data": {
      "text/html": [
       "<div>\n",
       "<style scoped>\n",
       "    .dataframe tbody tr th:only-of-type {\n",
       "        vertical-align: middle;\n",
       "    }\n",
       "\n",
       "    .dataframe tbody tr th {\n",
       "        vertical-align: top;\n",
       "    }\n",
       "\n",
       "    .dataframe thead th {\n",
       "        text-align: right;\n",
       "    }\n",
       "</style>\n",
       "<table border=\"1\" class=\"dataframe\">\n",
       "  <thead>\n",
       "    <tr style=\"text-align: right;\">\n",
       "      <th></th>\n",
       "      <th>query</th>\n",
       "      <th>document</th>\n",
       "    </tr>\n",
       "  </thead>\n",
       "  <tbody>\n",
       "    <tr>\n",
       "      <th>0</th>\n",
       "      <td>1</td>\n",
       "      <td>28</td>\n",
       "    </tr>\n",
       "    <tr>\n",
       "      <th>1</th>\n",
       "      <td>1</td>\n",
       "      <td>35</td>\n",
       "    </tr>\n",
       "    <tr>\n",
       "      <th>2</th>\n",
       "      <td>1</td>\n",
       "      <td>38</td>\n",
       "    </tr>\n",
       "    <tr>\n",
       "      <th>3</th>\n",
       "      <td>1</td>\n",
       "      <td>42</td>\n",
       "    </tr>\n",
       "    <tr>\n",
       "      <th>4</th>\n",
       "      <td>1</td>\n",
       "      <td>43</td>\n",
       "    </tr>\n",
       "    <tr>\n",
       "      <th>...</th>\n",
       "      <td>...</td>\n",
       "      <td>...</td>\n",
       "    </tr>\n",
       "    <tr>\n",
       "      <th>3109</th>\n",
       "      <td>111</td>\n",
       "      <td>422</td>\n",
       "    </tr>\n",
       "    <tr>\n",
       "      <th>3110</th>\n",
       "      <td>111</td>\n",
       "      <td>448</td>\n",
       "    </tr>\n",
       "    <tr>\n",
       "      <th>3111</th>\n",
       "      <td>111</td>\n",
       "      <td>485</td>\n",
       "    </tr>\n",
       "    <tr>\n",
       "      <th>3112</th>\n",
       "      <td>111</td>\n",
       "      <td>503</td>\n",
       "    </tr>\n",
       "    <tr>\n",
       "      <th>3113</th>\n",
       "      <td>111</td>\n",
       "      <td>509</td>\n",
       "    </tr>\n",
       "  </tbody>\n",
       "</table>\n",
       "<p>3114 rows × 2 columns</p>\n",
       "</div>"
      ],
      "text/plain": [
       "      query  document\n",
       "0         1        28\n",
       "1         1        35\n",
       "2         1        38\n",
       "3         1        42\n",
       "4         1        43\n",
       "...     ...       ...\n",
       "3109    111       422\n",
       "3110    111       448\n",
       "3111    111       485\n",
       "3112    111       503\n",
       "3113    111       509\n",
       "\n",
       "[3114 rows x 2 columns]"
      ]
     },
     "execution_count": 8,
     "metadata": {},
     "output_type": "execute_result"
    }
   ],
   "source": [
    "# Data about relations\n",
    "data.relations"
   ]
  },
  {
   "cell_type": "code",
   "execution_count": 9,
   "metadata": {},
   "outputs": [
    {
     "data": {
      "text/html": [
       "<div>\n",
       "<style scoped>\n",
       "    .dataframe tbody tr th:only-of-type {\n",
       "        vertical-align: middle;\n",
       "    }\n",
       "\n",
       "    .dataframe tbody tr th {\n",
       "        vertical-align: top;\n",
       "    }\n",
       "\n",
       "    .dataframe thead th {\n",
       "        text-align: right;\n",
       "    }\n",
       "</style>\n",
       "<table border=\"1\" class=\"dataframe\">\n",
       "  <thead>\n",
       "    <tr style=\"text-align: right;\">\n",
       "      <th></th>\n",
       "      <th>document</th>\n",
       "    </tr>\n",
       "    <tr>\n",
       "      <th>query</th>\n",
       "      <th></th>\n",
       "    </tr>\n",
       "  </thead>\n",
       "  <tbody>\n",
       "    <tr>\n",
       "      <th>1</th>\n",
       "      <td>46</td>\n",
       "    </tr>\n",
       "    <tr>\n",
       "      <th>2</th>\n",
       "      <td>26</td>\n",
       "    </tr>\n",
       "    <tr>\n",
       "      <th>3</th>\n",
       "      <td>44</td>\n",
       "    </tr>\n",
       "    <tr>\n",
       "      <th>4</th>\n",
       "      <td>8</td>\n",
       "    </tr>\n",
       "    <tr>\n",
       "      <th>5</th>\n",
       "      <td>24</td>\n",
       "    </tr>\n",
       "    <tr>\n",
       "      <th>...</th>\n",
       "      <td>...</td>\n",
       "    </tr>\n",
       "    <tr>\n",
       "      <th>101</th>\n",
       "      <td>1</td>\n",
       "    </tr>\n",
       "    <tr>\n",
       "      <th>102</th>\n",
       "      <td>24</td>\n",
       "    </tr>\n",
       "    <tr>\n",
       "      <th>104</th>\n",
       "      <td>11</td>\n",
       "    </tr>\n",
       "    <tr>\n",
       "      <th>109</th>\n",
       "      <td>71</td>\n",
       "    </tr>\n",
       "    <tr>\n",
       "      <th>111</th>\n",
       "      <td>6</td>\n",
       "    </tr>\n",
       "  </tbody>\n",
       "</table>\n",
       "<p>76 rows × 1 columns</p>\n",
       "</div>"
      ],
      "text/plain": [
       "       document\n",
       "query          \n",
       "1            46\n",
       "2            26\n",
       "3            44\n",
       "4             8\n",
       "5            24\n",
       "...         ...\n",
       "101           1\n",
       "102          24\n",
       "104          11\n",
       "109          71\n",
       "111           6\n",
       "\n",
       "[76 rows x 1 columns]"
      ]
     },
     "execution_count": 9,
     "metadata": {},
     "output_type": "execute_result"
    }
   ],
   "source": [
    "# Count of documents assigned to each query\n",
    "data.relations.groupby('query').count()"
   ]
  },
  {
   "cell_type": "code",
   "execution_count": 10,
   "metadata": {},
   "outputs": [
    {
     "data": {
      "text/plain": [
       "document    40.973684\n",
       "dtype: float64"
      ]
     },
     "execution_count": 10,
     "metadata": {},
     "output_type": "execute_result"
    }
   ],
   "source": [
    "# Average number of documents per query\n",
    "data.relations.groupby('query').count().mean()"
   ]
  },
  {
   "cell_type": "code",
   "execution_count": 11,
   "metadata": {},
   "outputs": [
    {
     "data": {
      "text/html": [
       "<div>\n",
       "<style scoped>\n",
       "    .dataframe tbody tr th:only-of-type {\n",
       "        vertical-align: middle;\n",
       "    }\n",
       "\n",
       "    .dataframe tbody tr th {\n",
       "        vertical-align: top;\n",
       "    }\n",
       "\n",
       "    .dataframe thead th {\n",
       "        text-align: right;\n",
       "    }\n",
       "</style>\n",
       "<table border=\"1\" class=\"dataframe\">\n",
       "  <thead>\n",
       "    <tr style=\"text-align: right;\">\n",
       "      <th></th>\n",
       "      <th>query</th>\n",
       "      <th>document</th>\n",
       "    </tr>\n",
       "  </thead>\n",
       "  <tbody>\n",
       "    <tr>\n",
       "      <th>0</th>\n",
       "      <td>1</td>\n",
       "      <td>28</td>\n",
       "    </tr>\n",
       "    <tr>\n",
       "      <th>1</th>\n",
       "      <td>1</td>\n",
       "      <td>35</td>\n",
       "    </tr>\n",
       "    <tr>\n",
       "      <th>2</th>\n",
       "      <td>1</td>\n",
       "      <td>38</td>\n",
       "    </tr>\n",
       "    <tr>\n",
       "      <th>3</th>\n",
       "      <td>1</td>\n",
       "      <td>42</td>\n",
       "    </tr>\n",
       "    <tr>\n",
       "      <th>4</th>\n",
       "      <td>1</td>\n",
       "      <td>43</td>\n",
       "    </tr>\n",
       "    <tr>\n",
       "      <th>...</th>\n",
       "      <td>...</td>\n",
       "      <td>...</td>\n",
       "    </tr>\n",
       "    <tr>\n",
       "      <th>3109</th>\n",
       "      <td>111</td>\n",
       "      <td>422</td>\n",
       "    </tr>\n",
       "    <tr>\n",
       "      <th>3110</th>\n",
       "      <td>111</td>\n",
       "      <td>448</td>\n",
       "    </tr>\n",
       "    <tr>\n",
       "      <th>3111</th>\n",
       "      <td>111</td>\n",
       "      <td>485</td>\n",
       "    </tr>\n",
       "    <tr>\n",
       "      <th>3112</th>\n",
       "      <td>111</td>\n",
       "      <td>503</td>\n",
       "    </tr>\n",
       "    <tr>\n",
       "      <th>3113</th>\n",
       "      <td>111</td>\n",
       "      <td>509</td>\n",
       "    </tr>\n",
       "  </tbody>\n",
       "</table>\n",
       "<p>3114 rows × 2 columns</p>\n",
       "</div>"
      ],
      "text/plain": [
       "      query  document\n",
       "0         1        28\n",
       "1         1        35\n",
       "2         1        38\n",
       "3         1        42\n",
       "4         1        43\n",
       "...     ...       ...\n",
       "3109    111       422\n",
       "3110    111       448\n",
       "3111    111       485\n",
       "3112    111       503\n",
       "3113    111       509\n",
       "\n",
       "[3114 rows x 2 columns]"
      ]
     },
     "execution_count": 11,
     "metadata": {},
     "output_type": "execute_result"
    }
   ],
   "source": [
    "data.relations"
   ]
  },
  {
   "cell_type": "markdown",
   "metadata": {},
   "source": [
    "## Analysis"
   ]
  },
  {
   "cell_type": "markdown",
   "metadata": {},
   "source": [
    "### Random Retrieval"
   ]
  },
  {
   "cell_type": "code",
   "execution_count": 12,
   "metadata": {},
   "outputs": [],
   "source": [
    "randretr = RandomRetrieval(n=41, random_state=42)"
   ]
  },
  {
   "cell_type": "code",
   "execution_count": 13,
   "metadata": {},
   "outputs": [],
   "source": [
    "y_pred = randretr.predict(data.documents['text'], data.queries['text'])\n",
    "y_true = [data.relations.loc[data.relations['query'] == iq]['document'].values for iq in data.queries['id'].unique()]"
   ]
  },
  {
   "cell_type": "code",
   "execution_count": 14,
   "metadata": {},
   "outputs": [
    {
     "data": {
      "text/plain": [
       "0.0078125"
      ]
     },
     "execution_count": 14,
     "metadata": {},
     "output_type": "execute_result"
    }
   ],
   "source": [
    "randretr.score(y_true, y_pred)"
   ]
  },
  {
   "cell_type": "markdown",
   "metadata": {},
   "source": [
    "### Term Frequency"
   ]
  },
  {
   "cell_type": "code",
   "execution_count": 25,
   "metadata": {},
   "outputs": [
    {
     "data": {
      "text/plain": [
       "0.012675382653061226"
      ]
     },
     "execution_count": 25,
     "metadata": {},
     "output_type": "execute_result"
    }
   ],
   "source": [
    "tfretr = TermFrequencyRetrieval(method='topn', n=41)\n",
    "tfretr.fit(data.documents['text'])\n",
    "y_pred = tfretr.predict(data.queries['text'])\n",
    "tfretr.score(y_true, y_pred)"
   ]
  },
  {
   "cell_type": "code",
   "execution_count": 23,
   "metadata": {},
   "outputs": [
    {
     "data": {
      "text/plain": [
       "0.17131696428571433"
      ]
     },
     "execution_count": 23,
     "metadata": {},
     "output_type": "execute_result"
    }
   ],
   "source": [
    "tfretr = TermFrequencyRetrieval(method='threshold', threshold=0.1)\n",
    "tfretr.fit(data.documents['text'])\n",
    "y_pred = tfretr.predict(data.queries['text'])\n",
    "tfretr.score(y_true, y_pred)"
   ]
  },
  {
   "cell_type": "markdown",
   "metadata": {},
   "source": [
    "## Visualization"
   ]
  },
  {
   "cell_type": "code",
   "execution_count": 31,
   "metadata": {},
   "outputs": [],
   "source": [
    "import matplotlib.pyplot as plt"
   ]
  },
  {
   "cell_type": "code",
   "execution_count": 34,
   "metadata": {},
   "outputs": [
    {
     "data": {
      "image/png": "[encoded data removed]",
      "text/plain": [
       "<Figure size 640x480 with 1 Axes>"
      ]
     },
     "metadata": {},
     "output_type": "display_data"
    }
   ],
   "source": [
    "fig, ax = plt.subplots()\n",
    "ax.hist(scores)\n",
    "plt.show()"
   ]
  },
  {
   "cell_type": "code",
   "execution_count": 35,
   "metadata": {},
   "outputs": [
    {
     "data": {
      "image/png": "[encoded data removed]",
      "text/plain": [
       "<Figure size 640x480 with 1 Axes>"
      ]
     },
     "metadata": {},
     "output_type": "display_data"
    }
   ],
   "source": [
    "fig, ax = plt.subplots()\n",
    "ax.hist(scores)\n",
    "\n",
    "plt.xlabel('scores')\n",
    "plt.ylabel('frequency')\n",
    "plt.title('Distribution of Scores')\n",
    "\n",
    "plt.show()"
   ]
  },
  {
   "cell_type": "code",
   "execution_count": 36,
   "metadata": {},
   "outputs": [
    {
     "data": {
      "image/png": "[encoded data removed]",
      "text/plain": [
       "<Figure size 640x480 with 1 Axes>"
      ]
     },
     "metadata": {},
     "output_type": "display_data"
    }
   ],
   "source": [
    "fig, ax = plt.subplots()\n",
    "ax.plot(['random', 'tf', 'tf+threshold'], [0.0174, 0.0346, 0.0528])\n",
    "plt.xlabel('approaches')\n",
    "plt.ylabel('scores')\n",
    "plt.show()"
   ]
  },
  {
   "cell_type": "code",
   "execution_count": 61,
   "metadata": {},
   "outputs": [
    {
     "data": {
      "image/png": "[encoded data removed]",
      "text/plain": [
       "<Figure size 640x480 with 1 Axes>"
      ]
     },
     "metadata": {},
     "output_type": "display_data"
    }
   ],
   "source": [
    "fig, ax = plt.subplots()\n",
    "ax.plot(['random', 'tf', 'tf+threshold'], [0.0174, 0.0346, 0.0528])\n",
    "plt.xlabel('approaches')\n",
    "plt.ylabel('scores')\n",
    "plt.ylim(0, 1)\n",
    "plt.show()"
   ]
  },
  {
   "cell_type": "code",
   "execution_count": 91,
   "metadata": {},
   "outputs": [
    {
     "data": {
      "image/png": "[encoded data removed]",
      "text/plain": [
       "<Figure size 640x480 with 1 Axes>"
      ]
     },
     "metadata": {},
     "output_type": "display_data"
    }
   ],
   "source": [
    "from matplotlib.ticker import StrMethodFormatter\n",
    "\n",
    "fig, ax = plt.subplots()\n",
    "ax.plot(\n",
    "    ['random', 'tf', 'tf+threshold'], \n",
    "    [0.0174, 0.0346, 0.0528],\n",
    "    'D:',\n",
    "    markersize=4,\n",
    "    linewidth=1,\n",
    "    color='red'\n",
    "    )\n",
    "plt.xlabel('approaches')\n",
    "plt.ylabel('scores')\n",
    "plt.yscale('log')\n",
    "plt.show()"
   ]
  },
  {
   "cell_type": "code",
   "execution_count": null,
   "metadata": {},
   "outputs": [],
   "source": []
  }
 ],
 "metadata": {
  "kernelspec": {
   "display_name": "Python 3 (ipykernel)",
   "language": "python",
   "name": "python3"
  },
  "language_info": {
   "codemirror_mode": {
    "name": "ipython",
    "version": 3
   },
   "file_extension": ".py",
   "mimetype": "text/x-python",
   "name": "python",
   "nbconvert_exporter": "python",
   "pygments_lexer": "ipython3",
   "version": "3.11.5"
  }
 },
 "nbformat": 4,
 "nbformat_minor": 2
}
