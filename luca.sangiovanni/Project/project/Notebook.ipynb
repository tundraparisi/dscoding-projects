{
 "cells": [
  {
   "cell_type": "markdown",
   "id": "6fcb6e2a0c22f23",
   "metadata": {
    "collapsed": false
   },
   "source": [
    "# Weather data project - Luca Sangiovanni"
   ]
  },
  {
   "cell_type": "markdown",
   "id": "5d34a8a381ba897d",
   "metadata": {
    "collapsed": false
   },
   "source": []
  },
  {
   "cell_type": "markdown",
   "id": "72aac5d7a208e0d9",
   "metadata": {
    "collapsed": false
   },
   "source": [
    "### Importing packages and datasets"
   ]
  },
  {
   "cell_type": "markdown",
   "id": "40952ecb6635f54a",
   "metadata": {
    "collapsed": false
   },
   "source": [
    "Regarding the packages imported, more infos can be retrieved on the readme.md file.\n",
    "Passing on to the datasets imported, I imported \"tempByCity\" and \"tempByMajorCity\" from the csv files provided on GitHub. Then, I created \"majorCities\", which contains the list of 100 major cities, whose coordinates are transformed in a format that can be interpreted more easily when creating maps. To do so, I created the function \"conversion\" (located in utils.py), which contains an API that downloads the coordinates of all the major cities an puts them in the dataframe. I decided to save the dataframe in a new csv file, called \"majorCities\", located in a local folder on my PC, so that the API is started only once, and not every time the program is debugged. \n",
    "I did the same with the \"tempByCity\" csv: I used the same API to download the coordinates of all the cities, and saved the informations on a csv, called \"cities\", that I loaded. "
   ]
  },
  {
   "cell_type": "code",
   "execution_count": null,
   "id": "initial_id",
   "metadata": {
    "collapsed": false
   },
   "outputs": [],
   "source": [
    "import numpy as np\n",
    "import pandas as pd\n",
    "import geopandas as gpd\n",
    "import matplotlib.pyplot as plt\n",
    "import plotly.express as px\n",
    "import streamlit as st\n",
    "import requests\n",
    "from PIL import Image\n",
    "from countryinfo import CountryInfo\n",
    "from opencage.geocoder import OpenCageGeocode\n",
    "from project.visualization import CityCountry, BigCities, Temperatures\n",
    "from project.utils import Data"
   ]
  },
  {
   "cell_type": "markdown",
   "id": "11f1a15938205278",
   "metadata": {
    "collapsed": false
   },
   "source": []
  },
  {
   "cell_type": "markdown",
   "id": "3bcb1111c36e51e8",
   "metadata": {
    "collapsed": false
   },
   "source": [
    "### List of most represented countries in the dataset"
   ]
  },
  {
   "cell_type": "markdown",
   "id": "cca0db407c9b5d47",
   "metadata": {
    "collapsed": false
   },
   "source": [
    "I analyzed which are the most represented countries in my dataset, and plotted the result in a bar plot, showing the 15 countries with the most cities in the dataset. As we would expect, the most populated countries are the ones that have most cities represented."
   ]
  },
  {
   "cell_type": "code",
   "execution_count": null,
   "id": "de29dde692853cd6",
   "metadata": {
    "collapsed": false
   },
   "outputs": [],
   "source": [
    "CityCountry.byCountry_List(any)"
   ]
  },
  {
   "cell_type": "code",
   "execution_count": null,
   "id": "d06972707894d3ea",
   "metadata": {
    "collapsed": false
   },
   "outputs": [],
   "source": [
    "CityCountry.byCountry_Plot(any)"
   ]
  },
  {
   "cell_type": "markdown",
   "id": "db57add0327262b1",
   "metadata": {
    "collapsed": false
   },
   "source": []
  },
  {
   "cell_type": "markdown",
   "source": [
    "### Location of major cities in the dataset"
   ],
   "metadata": {
    "collapsed": false
   },
   "id": "ee2c7dcc5386da3"
  },
  {
   "cell_type": "markdown",
   "source": [
    "Below we can see a map showing the 100 main cities of the dataset."
   ],
   "metadata": {
    "collapsed": false
   },
   "id": "907cb8d5e67989ff"
  },
  {
   "cell_type": "code",
   "execution_count": null,
   "outputs": [],
   "source": [
    "BigCities.majorCitiesMap(any)"
   ],
   "metadata": {
    "collapsed": false
   },
   "id": "4b2b19e1e4965ce9"
  },
  {
   "cell_type": "markdown",
   "source": [],
   "metadata": {
    "collapsed": false
   },
   "id": "fb1f621c3f31a228"
  },
  {
   "cell_type": "markdown",
   "source": [
    "### Country informations"
   ],
   "metadata": {
    "collapsed": false
   },
   "id": "8a143b0769512745"
  },
  {
   "cell_type": "markdown",
   "source": [
    "In this page you can see some informations about the countries present in the dataset. In addition, you will be able to see the map of the country, with its cities.\n",
    "Here beloew we can see some stats about random countries around the globe. Every time we run the code, a random country will be displayed."
   ],
   "metadata": {
    "collapsed": false
   },
   "id": "8eec1081e7cffee6"
  },
  {
   "cell_type": "code",
   "execution_count": null,
   "outputs": [],
   "source": [
    "nation = np.random.choice(Data.cities.Country.unique())\n",
    "Temperatures.countryStats(any, nation)"
   ],
   "metadata": {
    "collapsed": false
   },
   "id": "e813631ddf602fed"
  },
  {
   "cell_type": "markdown",
   "source": [],
   "metadata": {
    "collapsed": false
   },
   "id": "21ae3b08ab24c210"
  },
  {
   "cell_type": "markdown",
   "source": [
    "\n",
    "Again, every time we run the function below, we can see a map showing all the cities of a random country of the dataset. If we want to choose a specific country, we can write the name of the country instead of the np.random.choice function. It is also possible to zoom in or out of the map, and see the coordinates of every city by moving the cursor on the city."
   ],
   "metadata": {
    "collapsed": false
   },
   "id": "3968c56e58d4b08e"
  },
  {
   "cell_type": "code",
   "execution_count": null,
   "outputs": [],
   "source": [
    "nation = np.random.choice(Data.cities[\"Country\"].unique())\n",
    "CityCountry.byCountry_Map(any, nation)"
   ],
   "metadata": {
    "collapsed": false
   },
   "id": "4eca4cbe32bf5fc8"
  },
  {
   "cell_type": "markdown",
   "source": [],
   "metadata": {
    "collapsed": false
   },
   "id": "cbca6bd128c80bfe"
  },
  {
   "cell_type": "markdown",
   "source": [
    "### Temperatures charts and map "
   ],
   "metadata": {
    "collapsed": false
   },
   "id": "eafba98dbb4b20c"
  },
  {
   "cell_type": "markdown",
   "source": [
    "Now we want to see how a certain city's temperature has changed during the years. In the graphs below we can see the data of any city we want, in both January and August (I chose these two months as representative of winter and summer). If we want to see random cities' temperatures, we just run the function, and it will show a different city each time."
   ],
   "metadata": {
    "collapsed": false
   },
   "id": "70dcb6bd234aa9ce"
  },
  {
   "cell_type": "code",
   "execution_count": null,
   "outputs": [],
   "source": [
    "Temperatures.tempJanAug(any, np.random.choice(Data.cities[\"City\"]))"
   ],
   "metadata": {
    "collapsed": false
   },
   "id": "a1fba5d835d9ebb6"
  },
  {
   "cell_type": "markdown",
   "source": [
    "Here below instead we can see how the temperatures during the year of a random city have changed in 2012, compared to 1900."
   ],
   "metadata": {
    "collapsed": false
   },
   "id": "ea86825ecf33219f"
  },
  {
   "cell_type": "code",
   "execution_count": null,
   "outputs": [],
   "source": [
    "Temperatures.tempMonths(any, np.random.choice(Data.cities[\"City\"].unique()))   "
   ],
   "metadata": {
    "collapsed": false
   },
   "id": "dc78c829cf97a198"
  },
  {
   "cell_type": "markdown",
   "source": [],
   "metadata": {
    "collapsed": false
   },
   "id": "dc00be3f6898c1fb"
  },
  {
   "cell_type": "markdown",
   "source": [
    "### Temperatures from around the world"
   ],
   "metadata": {
    "collapsed": false
   },
   "id": "9f3b0008248740e9"
  },
  {
   "cell_type": "markdown",
   "source": [
    "Another useful thing to do is viewing the difference of temperatures between cities around the world in the same time period. Below, you can run the code and see the temperatures in a random year and month. The color of the bubble represents the temperature.\n",
    "\n",
    "Keep in mind that the location of the following cities is wrongly displayed on the map below, although the coordinates in the dataset are correct:\n",
    "- São Paulo (Brasil) -> shown in Russia\n",
    "- Saint Petersburg (Russia) -> shown in Brasil\n",
    "- Salvador (Brasil) -> shown in Chile\n",
    "- Sydney (Australia) -> shown in Brasil\n",
    "- Surat (India) -> shown in Australia\n",
    "- Santo Domingo (Dominican Republic) -> shown in South Korea\n",
    "- Surabaya (Indonesia) -> shown in India\n",
    "- Shenyang (China) -> shown in Indonesia"
   ],
   "metadata": {
    "collapsed": false
   },
   "id": "7c8447ac3c2240cd"
  },
  {
   "cell_type": "code",
   "execution_count": null,
   "outputs": [],
   "source": [
    "chosen_year = str(np.random.randint(1891, 2013))\n",
    "chosen_month = str(np.random.choice([\"01\", \"02\", \"03\", \"04\", \"05\", \"06\", \"07\", \"08\", \"09\", \"10\", \"11\", \"12\"]))\n",
    "chosen_date = str(chosen_year + \"-\" + chosen_month)\n",
    "Temperatures.bubbleMap(any, chosen_date)"
   ],
   "metadata": {
    "collapsed": false
   },
   "id": "fa12756ec84768e1"
  },
  {
   "cell_type": "markdown",
   "source": [],
   "metadata": {
    "collapsed": false
   },
   "id": "ebcaf9756fc90d55"
  },
  {
   "cell_type": "markdown",
   "source": [
    "### Temperatures shock"
   ],
   "metadata": {
    "collapsed": false
   },
   "id": "c0b0d7b903a1696e"
  },
  {
   "cell_type": "markdown",
   "source": [
    "A good way of analyzing the weather is through the analysis of how often and how much temperatures change in time. A big temperature difference in a short time may not be a good sign for the climate. In the charts below you can see a list of cities that had the biggest temperatures shock in a given year, and the number of cities that had a big temperature shock in the last decades. For instance, I defined the temperature shock to be very significant in the case in which the difference between the maximum monthly temperature registered in a year and the minimum temperature registered in a year is greater than 49°C.\n",
    "Below, you can select a year or choose a random year, then click the button to show the charts."
   ],
   "metadata": {
    "collapsed": false
   },
   "id": "a76124f37eeb2302"
  },
  {
   "cell_type": "code",
   "execution_count": null,
   "outputs": [],
   "source": [
    "Temperatures.tempShock(any, \"2013\")"
   ],
   "metadata": {
    "collapsed": false
   },
   "id": "6496695db5bdec00"
  },
  {
   "cell_type": "code",
   "execution_count": null,
   "outputs": [],
   "source": [
    "Temperatures.shockByYear(any)"
   ],
   "metadata": {
    "collapsed": false
   },
   "id": "639e41e96241ce9b"
  }
 ],
 "metadata": {
  "kernelspec": {
   "display_name": "Python 3 (ipykernel)",
   "language": "python",
   "name": "python3"
  },
  "language_info": {
   "codemirror_mode": {
    "name": "ipython",
    "version": 3
   },
   "file_extension": ".py",
   "mimetype": "text/x-python",
   "name": "python",
   "nbconvert_exporter": "python",
   "pygments_lexer": "ipython3",
   "version": "3.11.6"
  }
 },
 "nbformat": 4,
 "nbformat_minor": 5
}
