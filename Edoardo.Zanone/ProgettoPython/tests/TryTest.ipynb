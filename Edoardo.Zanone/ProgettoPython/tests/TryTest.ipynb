{
 "cells": [
  {
   "cell_type": "code",
   "execution_count": 1,
   "metadata": {},
   "outputs": [],
   "source": [
    "\n",
    "import pandas as pd\n",
    "df = pd.read_excel(\"/Users/Gulli/Downloads/worldcities.xlsx\")\n"
   ]
  },
  {
   "cell_type": "code",
   "execution_count": 18,
   "metadata": {},
   "outputs": [
    {
     "data": {
      "text/html": [
       "<div>\n",
       "<style scoped>\n",
       "    .dataframe tbody tr th:only-of-type {\n",
       "        vertical-align: middle;\n",
       "    }\n",
       "\n",
       "    .dataframe tbody tr th {\n",
       "        vertical-align: top;\n",
       "    }\n",
       "\n",
       "    .dataframe thead th {\n",
       "        text-align: right;\n",
       "    }\n",
       "</style>\n",
       "<table border=\"1\" class=\"dataframe\">\n",
       "  <thead>\n",
       "    <tr style=\"text-align: right;\">\n",
       "      <th></th>\n",
       "      <th>city</th>\n",
       "      <th>city_ascii</th>\n",
       "      <th>lat</th>\n",
       "      <th>lng</th>\n",
       "      <th>country</th>\n",
       "      <th>iso2</th>\n",
       "      <th>iso3</th>\n",
       "      <th>admin_name</th>\n",
       "      <th>capital</th>\n",
       "      <th>population</th>\n",
       "      <th>id</th>\n",
       "    </tr>\n",
       "  </thead>\n",
       "  <tbody>\n",
       "    <tr>\n",
       "      <th>0</th>\n",
       "      <td>Tokyo</td>\n",
       "      <td>Tokyo</td>\n",
       "      <td>35.6897</td>\n",
       "      <td>139.6922</td>\n",
       "      <td>Japan</td>\n",
       "      <td>JP</td>\n",
       "      <td>JPN</td>\n",
       "      <td>Tōkyō</td>\n",
       "      <td>primary</td>\n",
       "      <td>37977000.0</td>\n",
       "      <td>1392685764</td>\n",
       "    </tr>\n",
       "    <tr>\n",
       "      <th>1</th>\n",
       "      <td>Jakarta</td>\n",
       "      <td>Jakarta</td>\n",
       "      <td>-6.2146</td>\n",
       "      <td>106.8451</td>\n",
       "      <td>Indonesia</td>\n",
       "      <td>ID</td>\n",
       "      <td>IDN</td>\n",
       "      <td>Jakarta</td>\n",
       "      <td>primary</td>\n",
       "      <td>34540000.0</td>\n",
       "      <td>1360771077</td>\n",
       "    </tr>\n",
       "    <tr>\n",
       "      <th>2</th>\n",
       "      <td>Delhi</td>\n",
       "      <td>Delhi</td>\n",
       "      <td>28.6600</td>\n",
       "      <td>77.2300</td>\n",
       "      <td>India</td>\n",
       "      <td>IN</td>\n",
       "      <td>IND</td>\n",
       "      <td>Delhi</td>\n",
       "      <td>admin</td>\n",
       "      <td>29617000.0</td>\n",
       "      <td>1356872604</td>\n",
       "    </tr>\n",
       "    <tr>\n",
       "      <th>3</th>\n",
       "      <td>Mumbai</td>\n",
       "      <td>Mumbai</td>\n",
       "      <td>18.9667</td>\n",
       "      <td>72.8333</td>\n",
       "      <td>India</td>\n",
       "      <td>IN</td>\n",
       "      <td>IND</td>\n",
       "      <td>Mahārāshtra</td>\n",
       "      <td>admin</td>\n",
       "      <td>23355000.0</td>\n",
       "      <td>1356226629</td>\n",
       "    </tr>\n",
       "    <tr>\n",
       "      <th>4</th>\n",
       "      <td>Manila</td>\n",
       "      <td>Manila</td>\n",
       "      <td>14.5958</td>\n",
       "      <td>120.9772</td>\n",
       "      <td>Philippines</td>\n",
       "      <td>PH</td>\n",
       "      <td>PHL</td>\n",
       "      <td>Manila</td>\n",
       "      <td>primary</td>\n",
       "      <td>23088000.0</td>\n",
       "      <td>1608618140</td>\n",
       "    </tr>\n",
       "    <tr>\n",
       "      <th>...</th>\n",
       "      <td>...</td>\n",
       "      <td>...</td>\n",
       "      <td>...</td>\n",
       "      <td>...</td>\n",
       "      <td>...</td>\n",
       "      <td>...</td>\n",
       "      <td>...</td>\n",
       "      <td>...</td>\n",
       "      <td>...</td>\n",
       "      <td>...</td>\n",
       "      <td>...</td>\n",
       "    </tr>\n",
       "    <tr>\n",
       "      <th>26564</th>\n",
       "      <td>Nord</td>\n",
       "      <td>Nord</td>\n",
       "      <td>81.7166</td>\n",
       "      <td>-17.8000</td>\n",
       "      <td>Greenland</td>\n",
       "      <td>GL</td>\n",
       "      <td>GRL</td>\n",
       "      <td>Sermersooq</td>\n",
       "      <td>NaN</td>\n",
       "      <td>10.0</td>\n",
       "      <td>1304217709</td>\n",
       "    </tr>\n",
       "    <tr>\n",
       "      <th>26565</th>\n",
       "      <td>Timmiarmiut</td>\n",
       "      <td>Timmiarmiut</td>\n",
       "      <td>62.5333</td>\n",
       "      <td>-42.2167</td>\n",
       "      <td>Greenland</td>\n",
       "      <td>GL</td>\n",
       "      <td>GRL</td>\n",
       "      <td>Kujalleq</td>\n",
       "      <td>NaN</td>\n",
       "      <td>10.0</td>\n",
       "      <td>1304206491</td>\n",
       "    </tr>\n",
       "    <tr>\n",
       "      <th>26566</th>\n",
       "      <td>Cheremoshna</td>\n",
       "      <td>Cheremoshna</td>\n",
       "      <td>51.3894</td>\n",
       "      <td>30.0989</td>\n",
       "      <td>Ukraine</td>\n",
       "      <td>UA</td>\n",
       "      <td>UKR</td>\n",
       "      <td>Kyyivs’ka Oblast’</td>\n",
       "      <td>NaN</td>\n",
       "      <td>0.0</td>\n",
       "      <td>1804043438</td>\n",
       "    </tr>\n",
       "    <tr>\n",
       "      <th>26567</th>\n",
       "      <td>Ambarchik</td>\n",
       "      <td>Ambarchik</td>\n",
       "      <td>69.6510</td>\n",
       "      <td>162.3336</td>\n",
       "      <td>Russia</td>\n",
       "      <td>RU</td>\n",
       "      <td>RUS</td>\n",
       "      <td>Sakha (Yakutiya)</td>\n",
       "      <td>NaN</td>\n",
       "      <td>0.0</td>\n",
       "      <td>1643739159</td>\n",
       "    </tr>\n",
       "    <tr>\n",
       "      <th>26568</th>\n",
       "      <td>Nordvik</td>\n",
       "      <td>Nordvik</td>\n",
       "      <td>74.0165</td>\n",
       "      <td>111.5100</td>\n",
       "      <td>Russia</td>\n",
       "      <td>RU</td>\n",
       "      <td>RUS</td>\n",
       "      <td>Krasnoyarskiy Kray</td>\n",
       "      <td>NaN</td>\n",
       "      <td>0.0</td>\n",
       "      <td>1643587468</td>\n",
       "    </tr>\n",
       "  </tbody>\n",
       "</table>\n",
       "<p>26569 rows × 11 columns</p>\n",
       "</div>"
      ],
      "text/plain": [
       "              city   city_ascii      lat       lng      country iso2 iso3  \\\n",
       "0            Tokyo        Tokyo  35.6897  139.6922        Japan   JP  JPN   \n",
       "1          Jakarta      Jakarta  -6.2146  106.8451    Indonesia   ID  IDN   \n",
       "2            Delhi        Delhi  28.6600   77.2300        India   IN  IND   \n",
       "3           Mumbai       Mumbai  18.9667   72.8333        India   IN  IND   \n",
       "4           Manila       Manila  14.5958  120.9772  Philippines   PH  PHL   \n",
       "...            ...          ...      ...       ...          ...  ...  ...   \n",
       "26564         Nord         Nord  81.7166  -17.8000    Greenland   GL  GRL   \n",
       "26565  Timmiarmiut  Timmiarmiut  62.5333  -42.2167    Greenland   GL  GRL   \n",
       "26566  Cheremoshna  Cheremoshna  51.3894   30.0989      Ukraine   UA  UKR   \n",
       "26567    Ambarchik    Ambarchik  69.6510  162.3336       Russia   RU  RUS   \n",
       "26568      Nordvik      Nordvik  74.0165  111.5100       Russia   RU  RUS   \n",
       "\n",
       "               admin_name  capital  population          id  \n",
       "0                   Tōkyō  primary  37977000.0  1392685764  \n",
       "1                 Jakarta  primary  34540000.0  1360771077  \n",
       "2                   Delhi    admin  29617000.0  1356872604  \n",
       "3             Mahārāshtra    admin  23355000.0  1356226629  \n",
       "4                  Manila  primary  23088000.0  1608618140  \n",
       "...                   ...      ...         ...         ...  \n",
       "26564          Sermersooq      NaN        10.0  1304217709  \n",
       "26565            Kujalleq      NaN        10.0  1304206491  \n",
       "26566   Kyyivs’ka Oblast’      NaN         0.0  1804043438  \n",
       "26567    Sakha (Yakutiya)      NaN         0.0  1643739159  \n",
       "26568  Krasnoyarskiy Kray      NaN         0.0  1643587468  \n",
       "\n",
       "[26569 rows x 11 columns]"
      ]
     },
     "execution_count": 18,
     "metadata": {},
     "output_type": "execute_result"
    }
   ],
   "source": [
    "df"
   ]
  },
  {
   "cell_type": "code",
   "execution_count": null,
   "metadata": {},
   "outputs": [],
   "source": [
    "lat=df[\"lat\"].values\n",
    "lng = df[\"lng\"].values"
   ]
  },
  {
   "cell_type": "code",
   "execution_count": null,
   "metadata": {},
   "outputs": [],
   "source": [
    "import folium\n",
    "print(folium.__version__)\n"
   ]
  },
  {
   "cell_type": "code",
   "execution_count": null,
   "metadata": {},
   "outputs": [],
   "source": [
    "'''lat=[]\n",
    "lng=[]\n",
    "for column_name, item in df.iterrows():\n",
    "        lat.append(df[\"lat\"].iloc[int(column_name)])\n",
    "\n",
    "for column_name, item in df.iterrows():\n",
    "        lng.append(df[\"lng\"].iloc[int(column_name)])''' "
   ]
  },
  {
   "cell_type": "code",
   "execution_count": null,
   "metadata": {},
   "outputs": [],
   "source": [
    "lat"
   ]
  },
  {
   "cell_type": "code",
   "execution_count": null,
   "metadata": {},
   "outputs": [],
   "source": [
    "df.loc[[(df['city']=='London')&(df['country']=='United Kingdom')],['id','country']]"
   ]
  },
  {
   "cell_type": "code",
   "execution_count": null,
   "metadata": {},
   "outputs": [],
   "source": [
    "df[(df['city']=='London')&(df['country']=='United Kingdom')][['id']].values[0]"
   ]
  },
  {
   "cell_type": "code",
   "execution_count": null,
   "metadata": {},
   "outputs": [],
   "source": [
    "id=df.loc[df['city']=='London',['id','country']].iloc[0]['id']\n",
    "type(id)"
   ]
  },
  {
   "cell_type": "code",
   "execution_count": null,
   "metadata": {},
   "outputs": [],
   "source": [
    "latLon=df.loc[(df['city']=='London')&(df['country']=='United Kingdom'), 'lat'].values[0]\n",
    "lngLon=df.loc[(df['city']=='London')&(df['country']=='United Kingdom'), 'lng'].values[0]"
   ]
  },
  {
   "cell_type": "code",
   "execution_count": null,
   "metadata": {},
   "outputs": [],
   "source": [
    "latLon"
   ]
  },
  {
   "cell_type": "code",
   "execution_count": null,
   "metadata": {},
   "outputs": [],
   "source": [
    "from ubication import distfrom\n",
    "dist=distfrom([latLon,lngLon],lat,lng)"
   ]
  },
  {
   "cell_type": "code",
   "execution_count": null,
   "metadata": {},
   "outputs": [],
   "source": [
    "type(lat[0])"
   ]
  },
  {
   "cell_type": "code",
   "execution_count": null,
   "metadata": {},
   "outputs": [],
   "source": [
    "len(lat)"
   ]
  },
  {
   "cell_type": "code",
   "execution_count": null,
   "metadata": {},
   "outputs": [],
   "source": [
    "import create_map #range(len(lat))\n",
    "for i in range(5):\n",
    "    map=create_map.Mappa(lat[i] , lng[i] ,df[\"city\"].iloc[i])\n",
    "#map= folium.Map( location =[30,10], zoom_start=2)\n",
    "#map.save(\"Città.html\")\n"
   ]
  },
  {
   "cell_type": "code",
   "execution_count": null,
   "metadata": {},
   "outputs": [],
   "source": [
    "distance = great_circle(point1, point2)\n",
    "\n",
    "# Print the distance in various units\n",
    "#print(f\"Distance: {distance.kilometers} kilometers\")\n",
    "#print(f\"Distance: {distance.miles} miles\")\n",
    "#print(f\"Distance: {distance.nautical} nautical miles\")\n",
    "#print(f\"Distance: {distance.meters} meters\")\n"
   ]
  },
  {
   "cell_type": "code",
   "execution_count": null,
   "metadata": {},
   "outputs": [],
   "source": [
    "df.loc[df['city']=='London',['id','country']]"
   ]
  },
  {
   "cell_type": "code",
   "execution_count": null,
   "metadata": {},
   "outputs": [],
   "source": [
    "df[df[\"city\"]==\"London\"][[\"id\",\"city\",\"country\"]]"
   ]
  },
  {
   "cell_type": "code",
   "execution_count": null,
   "metadata": {},
   "outputs": [],
   "source": [
    "df.iloc[3, 0]\n"
   ]
  },
  {
   "cell_type": "code",
   "execution_count": 2,
   "metadata": {},
   "outputs": [
    {
     "data": {
      "text/plain": [
       "34    1826645935\n",
       "Name: id, dtype: int64"
      ]
     },
     "execution_count": 2,
     "metadata": {},
     "output_type": "execute_result"
    }
   ],
   "source": [
    "df[df[\"id\"]==1826645935][\"id\"]"
   ]
  },
  {
   "cell_type": "code",
   "execution_count": null,
   "metadata": {},
   "outputs": [],
   "source": [
    "#for inex, row in df.iterrows():\n",
    " #   folium.Marker(location=[df[\"lat\"].iloc[index],df[\"lng\"].iloc[index]],popup=df[\"city\"].iloc[index]).add_to(map)\n",
    " #map\n",
    "folium.Marker(location=[df[\"lat\"].iloc[0],df[\"lng\"].iloc[0]],popup=df[\"city\"].iloc[0]).add_to(map)\n",
    "map"
   ]
  },
  {
   "cell_type": "code",
   "execution_count": null,
   "metadata": {},
   "outputs": [],
   "source": [
    "if dist [i]==0 :\n",
    "    pass\n",
    "elif min<dist[i]:\n",
    "    min=dist[i]"
   ]
  },
  {
   "cell_type": "code",
   "execution_count": null,
   "metadata": {},
   "outputs": [],
   "source": [
    "i=df.index[(df['lat']==latLon)&(df['lng']==lngLon)]"
   ]
  },
  {
   "cell_type": "code",
   "execution_count": null,
   "metadata": {},
   "outputs": [],
   "source": [
    "dist.remove((0.0,i))"
   ]
  },
  {
   "cell_type": "code",
   "execution_count": null,
   "metadata": {},
   "outputs": [],
   "source": [
    "dist.sort()"
   ]
  },
  {
   "cell_type": "code",
   "execution_count": null,
   "metadata": {},
   "outputs": [],
   "source": [
    "dist"
   ]
  },
  {
   "cell_type": "code",
   "execution_count": null,
   "metadata": {},
   "outputs": [],
   "source": [
    "visited=[]\n",
    "visited.append(df.iloc[i]['id'].values[0])"
   ]
  },
  {
   "cell_type": "code",
   "execution_count": null,
   "metadata": {},
   "outputs": [],
   "source": [
    "visited"
   ]
  },
  {
   "cell_type": "code",
   "execution_count": null,
   "metadata": {},
   "outputs": [],
   "source": [
    "def nminime (distance,lng,index,n):\n",
    "    nmin=[]\n",
    "    for i in range(len(distance)):\n",
    "        if len(nmin)==n:\n",
    "            break\n",
    "        if lng[distance[i][1]]>lng[index]:\n",
    "            nmin.append([distance[i][0],distance[i][1]])\n",
    "    return nmin\n"
   ]
  },
  {
   "cell_type": "code",
   "execution_count": null,
   "metadata": {},
   "outputs": [],
   "source": [
    "#better this one\n",
    "def nminime2 (distance,lng,index,n):\n",
    "    nmin=[]\n",
    "    i=0\n",
    "    while len(nmin)!=n:\n",
    "        if lng[distance[i][1]]>lng[index]:\n",
    "            nmin.append((distance[i][0],distance[i][1]))\n",
    "        i+=1\n",
    "    return nmin"
   ]
  },
  {
   "cell_type": "code",
   "execution_count": null,
   "metadata": {},
   "outputs": [],
   "source": [
    "tenmin=nminime(dist,lng,df.index[(df['lat']==latLon)&(df['lng']==lngLon)],10)\n",
    "tenmin"
   ]
  },
  {
   "cell_type": "code",
   "execution_count": null,
   "metadata": {},
   "outputs": [],
   "source": [
    "tenmin=nminime2(dist,lng,df.index[(df['lat']==latLon)&(df['lng']==lngLon)],10)\n",
    "tenmin"
   ]
  },
  {
   "cell_type": "code",
   "execution_count": 19,
   "metadata": {},
   "outputs": [
    {
     "data": {
      "text/html": [
       "<div>\n",
       "<style scoped>\n",
       "    .dataframe tbody tr th:only-of-type {\n",
       "        vertical-align: middle;\n",
       "    }\n",
       "\n",
       "    .dataframe tbody tr th {\n",
       "        vertical-align: top;\n",
       "    }\n",
       "\n",
       "    .dataframe thead th {\n",
       "        text-align: right;\n",
       "    }\n",
       "</style>\n",
       "<table border=\"1\" class=\"dataframe\">\n",
       "  <thead>\n",
       "    <tr style=\"text-align: right;\">\n",
       "      <th></th>\n",
       "      <th>city</th>\n",
       "      <th>city_ascii</th>\n",
       "      <th>lat</th>\n",
       "      <th>lng</th>\n",
       "      <th>country</th>\n",
       "      <th>iso2</th>\n",
       "      <th>iso3</th>\n",
       "      <th>admin_name</th>\n",
       "      <th>capital</th>\n",
       "      <th>population</th>\n",
       "      <th>id</th>\n",
       "    </tr>\n",
       "  </thead>\n",
       "  <tbody>\n",
       "    <tr>\n",
       "      <th>537</th>\n",
       "      <td>Sofia</td>\n",
       "      <td>Sofia</td>\n",
       "      <td>42.6975</td>\n",
       "      <td>23.3241</td>\n",
       "      <td>Bulgaria</td>\n",
       "      <td>BG</td>\n",
       "      <td>BGR</td>\n",
       "      <td>Sofia-Grad</td>\n",
       "      <td>primary</td>\n",
       "      <td>1355142.0</td>\n",
       "      <td>1100762037</td>\n",
       "    </tr>\n",
       "  </tbody>\n",
       "</table>\n",
       "</div>"
      ],
      "text/plain": [
       "      city city_ascii      lat      lng   country iso2 iso3  admin_name  \\\n",
       "537  Sofia      Sofia  42.6975  23.3241  Bulgaria   BG  BGR  Sofia-Grad   \n",
       "\n",
       "     capital  population          id  \n",
       "537  primary   1355142.0  1100762037  "
      ]
     },
     "execution_count": 19,
     "metadata": {},
     "output_type": "execute_result"
    }
   ],
   "source": [
    "df[df['city']=='Sofia']"
   ]
  },
  {
   "cell_type": "code",
   "execution_count": null,
   "metadata": {},
   "outputs": [],
   "source": [
    "indexes=[]\n",
    "for i in range(len(tenmin)):\n",
    "    indexes.append(tenmin[i][1])\n",
    "df.iloc[indexes]"
   ]
  },
  {
   "cell_type": "code",
   "execution_count": 3,
   "metadata": {},
   "outputs": [],
   "source": [
    "lat=df[\"lat\"].values\n",
    "lng=df[\"lng\"].values\n",
    "id=df[\"id\"].values\n",
    "city=df[\"city\"].values\n",
    "country=df[\"country\"].values"
   ]
  },
  {
   "cell_type": "code",
   "execution_count": 4,
   "metadata": {},
   "outputs": [],
   "source": [
    "import ubication"
   ]
  },
  {
   "cell_type": "code",
   "execution_count": 6,
   "metadata": {},
   "outputs": [],
   "source": [
    "#tipo albero, ma incompleto, prova a chiedere al prof!! hai situa su gpt\n",
    "def trova_percorso(lat,lng,city,id,country,index0,index1,n,distcurr):\n",
    "    if index0==index1:\n",
    "        return 0\n",
    "    d=[]\n",
    "    cy=[]\n",
    "    dist=ubication.distfrom([lat[index0],lng[index0]],lat,lng)\n",
    "    dist.sort\n",
    "    tenmin=ubication.nminime2(dist,lng,index0,10) #posso metterle insieme e via pem pem\n",
    "    for i in range(n):\n",
    "        d.append(distcurr+ tenmin[i][0] +trova_percorso(lat,lng,city,id,country,dist[i][1],index1,n,distcurr))\n",
    "        cy.append(city[tenmin[i][1]])\n",
    "    print(cy[d.index(min(d))])\n",
    "    return min(d) \n",
    "   "
   ]
  },
  {
   "cell_type": "code",
   "execution_count": 35,
   "metadata": {},
   "outputs": [],
   "source": [
    "def trova_percorso_lista(lat,lng,city,id,country,index0,index1,n,distcurr):\n",
    "    if (index0==index1) & (distcurr!=0):\n",
    "        return 0\n",
    "    latmax=[]\n",
    "    j=0\n",
    "    dist=ubication.distfrom([lat[index0],lng[index0]],lat,lng)\n",
    "    dist.sort(key=lambda x: x[0])\n",
    "    tenmin=ubication.nminime2(dist,lng,index0,n) #posso metterle insieme e via pem pem\n",
    "    for i in range(n):\n",
    "        latmax.append((abs(lat[tenmin[i][1]]-lat[index1]),tenmin[i][1]))\n",
    "        #lngmax.appen((lng[tenmin[i][1]],tenmin[i][1]))\n",
    "    latmax.sort(key=lambda x: x[0])\n",
    "    #lngmax.sort(reverse=true)  \n",
    "    for i in range(n):\n",
    "        if latmax[0][1] == tenmin[i][1]:\n",
    "            j=i\n",
    "    print(city[latmax[0][1]], latmax[0][1],lng[latmax[0][1]],latmax[0][0])\n",
    "    return distcurr + trova_percorso_lista(lat,lng,city,id,country,latmax[0][1],index1, n,tenmin[j][0]) "
   ]
  },
  {
   "cell_type": "code",
   "execution_count": 29,
   "metadata": {},
   "outputs": [
    {
     "data": {
      "text/html": [
       "<div>\n",
       "<style scoped>\n",
       "    .dataframe tbody tr th:only-of-type {\n",
       "        vertical-align: middle;\n",
       "    }\n",
       "\n",
       "    .dataframe tbody tr th {\n",
       "        vertical-align: top;\n",
       "    }\n",
       "\n",
       "    .dataframe thead th {\n",
       "        text-align: right;\n",
       "    }\n",
       "</style>\n",
       "<table border=\"1\" class=\"dataframe\">\n",
       "  <thead>\n",
       "    <tr style=\"text-align: right;\">\n",
       "      <th></th>\n",
       "      <th>city</th>\n",
       "      <th>city_ascii</th>\n",
       "      <th>lat</th>\n",
       "      <th>lng</th>\n",
       "      <th>country</th>\n",
       "      <th>iso2</th>\n",
       "      <th>iso3</th>\n",
       "      <th>admin_name</th>\n",
       "      <th>capital</th>\n",
       "      <th>population</th>\n",
       "      <th>id</th>\n",
       "    </tr>\n",
       "  </thead>\n",
       "  <tbody>\n",
       "    <tr>\n",
       "      <th>34</th>\n",
       "      <td>London</td>\n",
       "      <td>London</td>\n",
       "      <td>51.5072</td>\n",
       "      <td>-0.1275</td>\n",
       "      <td>United Kingdom</td>\n",
       "      <td>GB</td>\n",
       "      <td>GBR</td>\n",
       "      <td>London, City of</td>\n",
       "      <td>primary</td>\n",
       "      <td>10979000.0</td>\n",
       "      <td>1826645935</td>\n",
       "    </tr>\n",
       "    <tr>\n",
       "      <th>1669</th>\n",
       "      <td>London</td>\n",
       "      <td>London</td>\n",
       "      <td>42.9836</td>\n",
       "      <td>-81.2497</td>\n",
       "      <td>Canada</td>\n",
       "      <td>CA</td>\n",
       "      <td>CAN</td>\n",
       "      <td>Ontario</td>\n",
       "      <td>NaN</td>\n",
       "      <td>383822.0</td>\n",
       "      <td>1124469960</td>\n",
       "    </tr>\n",
       "    <tr>\n",
       "      <th>12232</th>\n",
       "      <td>London</td>\n",
       "      <td>London</td>\n",
       "      <td>37.1175</td>\n",
       "      <td>-84.0767</td>\n",
       "      <td>United States</td>\n",
       "      <td>US</td>\n",
       "      <td>USA</td>\n",
       "      <td>Kentucky</td>\n",
       "      <td>NaN</td>\n",
       "      <td>37714.0</td>\n",
       "      <td>1840015258</td>\n",
       "    </tr>\n",
       "    <tr>\n",
       "      <th>17408</th>\n",
       "      <td>London</td>\n",
       "      <td>London</td>\n",
       "      <td>39.8936</td>\n",
       "      <td>-83.4376</td>\n",
       "      <td>United States</td>\n",
       "      <td>US</td>\n",
       "      <td>USA</td>\n",
       "      <td>Ohio</td>\n",
       "      <td>NaN</td>\n",
       "      <td>14870.0</td>\n",
       "      <td>1840000674</td>\n",
       "    </tr>\n",
       "  </tbody>\n",
       "</table>\n",
       "</div>"
      ],
      "text/plain": [
       "         city city_ascii      lat      lng         country iso2 iso3  \\\n",
       "34     London     London  51.5072  -0.1275  United Kingdom   GB  GBR   \n",
       "1669   London     London  42.9836 -81.2497          Canada   CA  CAN   \n",
       "12232  London     London  37.1175 -84.0767   United States   US  USA   \n",
       "17408  London     London  39.8936 -83.4376   United States   US  USA   \n",
       "\n",
       "            admin_name  capital  population          id  \n",
       "34     London, City of  primary  10979000.0  1826645935  \n",
       "1669           Ontario      NaN    383822.0  1124469960  \n",
       "12232         Kentucky      NaN     37714.0  1840015258  \n",
       "17408             Ohio      NaN     14870.0  1840000674  "
      ]
     },
     "execution_count": 29,
     "metadata": {},
     "output_type": "execute_result"
    }
   ],
   "source": [
    "df[df['city']=='London']"
   ]
  },
  {
   "cell_type": "code",
   "execution_count": 36,
   "metadata": {},
   "outputs": [
    {
     "name": "stdout",
     "output_type": "stream",
     "text": [
      "Stepney 6407 -0.0462 0.008000000000002672\n",
      "Plumstead 6748 0.09 0.01719999999999544\n",
      "Orsett 26214 0.37 0.00280000000000058\n",
      "Stanford le Hope 13376 0.4244 0.006800000000005468\n",
      "Shoeburyness 7512 0.7978 0.024399999999999977\n",
      "Great Wakering 8057 0.8165 0.044400000000003104\n",
      "Cliftonville 17610 1.4046 0.11909999999999599\n",
      "Saint Peters 7741 1.4191 0.14209999999999923\n",
      "Broadstairs 13985 1.4394 0.148299999999999\n",
      "Bruges 4024 3.2242 0.29829999999999757\n",
      "Middelburg 5661 3.61 0.005199999999994986\n",
      "Essen 15652 4.47 0.039400000000000546\n",
      "Eindhoven 1622 5.5 0.07719999999999771\n",
      "Kamp-Lintfort 12204 6.5333 0.007199999999997431\n",
      "Gelsenkirchen 2208 7.1 0.009500000000002728\n",
      "Dortmund 1210 7.4653 0.006700000000002149\n",
      "Unna 10689 7.6889 0.02750000000000341\n",
      "Rüthen 19648 8.4333 0.01389999999999958\n",
      "Wünnenberg 18794 8.7 0.009500000000002728\n",
      "Hofgeismar 17163 9.3872 0.011199999999995214\n",
      "Duderstadt 15275 10.2597 0.0053000000000054115\n",
      "Nordhausen 11793 10.7911 0.0021999999999948727\n",
      "Sangerhausen 13844 11.3 0.04049999999999443\n",
      "Landsberg 17277 12.1596 0.01740000000000208\n",
      "Delitzsch 14126 12.3425 0.01920000000000499\n",
      "Eilenburg 16952 12.6358 0.04639999999999844\n",
      "Bad Liebenwerda 20931 13.4 0.009500000000002728\n",
      "Lauchhammer 17446 13.8 0.007199999999997431\n",
      "Weißwasser 16774 14.6331 0.007199999999997431\n",
      "Żary 12142 15.1333 0.126100000000001\n",
      "Brzeg Dolny 18359 16.7081 0.2341999999999942\n",
      "Sieradz 11725 18.75 0.09280000000000399\n",
      "Piotrków Trybunalski 10017 19.6833 0.10719999999999885\n",
      "Dęblin 15494 21.8614 0.059499999999999886\n",
      "Lubartów 14454 22.6 0.04049999999999443\n",
      "Kamin’-Kashyrs’kyy 18635 24.9606 0.11700000000000443\n",
      "Dubrovytsya 20768 26.5667 0.059499999999999886\n",
      "Ovruch 17010 28.8081 0.1828000000000003\n",
      "Chernihiv 2024 31.3 0.007199999999997431\n",
      "Mena 19157 32.2167 0.009500000000002728\n",
      "Rylsk 16857 34.6833 0.059499999999999886\n",
      "Lgov 15756 35.2667 0.1595000000000013\n",
      "Kurchatov 12103 35.65 0.1595000000000013\n",
      "Semiluki 13772 39.0333 0.17610000000000525\n",
      "Borisoglebsk 10513 42.0833 0.14049999999999585\n",
      "Kalininsk 16997 44.45 0.007199999999997431\n",
      "Saratov 932 46.0 0.026099999999999568\n",
      "Engels 2493 46.1167 0.04049999999999443\n",
      "Yershov 15639 48.2833 0.157199999999996\n",
      "Oral 2153 51.3667 0.2738999999999976\n",
      "Kuvandyk 14441 57.35 0.02389999999999759\n",
      "Gay 11789 58.4543 0.03249999999999886\n",
      "Orsk 2452 58.5441 0.2926999999999964\n",
      "Yasnyy 17014 59.8667 0.47390000000000043\n",
      "Derzhavīnsk 16991 66.3075 0.40509999999999735\n",
      "Ereymentaū 14130 73.1049 0.12310000000000088\n",
      "Rubtsovsk 3449 81.2 0.009500000000002728\n",
      "Zmeinogorsk 19968 82.1874 0.3491999999999962\n",
      "Gorno-Altaysk 5186 85.96 0.4528000000000034\n",
      "Shagonar 19668 92.9 0.026099999999999568\n",
      "Baykalsk 18546 104.1561 0.010000000000005116\n",
      "Khilok 19933 110.45 0.157199999999996\n",
      "Baley 19553 116.6333 0.07610000000000383\n",
      "Shimanovsk 15821 127.6667 0.49280000000000257\n",
      "Svobodnyy 10980 128.1333 0.12389999999999901\n",
      "Chegdomyn 17413 133.0241 0.38939999999999486\n",
      "De-Kastri 26338 140.7833 0.04059999999999775\n",
      "Nogliki 20307 143.1667 0.32610000000000383\n",
      "Severo-Kuril’sk 25945 156.1167 0.8238999999999947\n",
      "Bol’sheretsk 26535 156.3594 0.9318000000000026\n",
      "Vilyuchinsk 14900 158.4 1.4261000000000053\n",
      "Petropavlovsk-Kamchatskiy 2922 158.65 1.5095000000000027\n",
      "Ust’-Kamchatsk 26308 162.435 4.706300000000006\n",
      "Il’pyrskiy 26547 164.172 8.4602\n",
      "Korf 26469 165.8183 8.8249\n",
      "Pakhachi 26543 169.05 9.074400000000004\n",
      "Beringovskiy 26390 179.3067 11.558300000000003\n"
     ]
    },
    {
     "ename": "IndexError",
     "evalue": "list index out of range",
     "output_type": "error",
     "traceback": [
      "\u001b[1;31m---------------------------------------------------------------------------\u001b[0m",
      "\u001b[1;31mIndexError\u001b[0m                                Traceback (most recent call last)",
      "\u001b[1;32mc:\\Users\\Gulli\\Desktop\\Uni\\Magi\\DATA\\ProgettoPython\\tests\\TryTest.ipynb Cell 40\u001b[0m line \u001b[0;36m1\n\u001b[1;32m----> <a href='vscode-notebook-cell:/c%3A/Users/Gulli/Desktop/Uni/Magi/DATA/ProgettoPython/tests/TryTest.ipynb#Y106sZmlsZQ%3D%3D?line=0'>1</a>\u001b[0m trova_percorso_lista(lat,lng,city,\u001b[39mid\u001b[39;49m,country,\u001b[39m34\u001b[39;49m,\u001b[39m34\u001b[39;49m,\u001b[39m30\u001b[39;49m,\u001b[39m0\u001b[39;49m)\n",
      "\u001b[1;32mc:\\Users\\Gulli\\Desktop\\Uni\\Magi\\DATA\\ProgettoPython\\tests\\TryTest.ipynb Cell 40\u001b[0m line \u001b[0;36m1\n\u001b[0;32m     <a href='vscode-notebook-cell:/c%3A/Users/Gulli/Desktop/Uni/Magi/DATA/ProgettoPython/tests/TryTest.ipynb#Y106sZmlsZQ%3D%3D?line=15'>16</a>\u001b[0m         j\u001b[39m=\u001b[39mi\n\u001b[0;32m     <a href='vscode-notebook-cell:/c%3A/Users/Gulli/Desktop/Uni/Magi/DATA/ProgettoPython/tests/TryTest.ipynb#Y106sZmlsZQ%3D%3D?line=16'>17</a>\u001b[0m \u001b[39mprint\u001b[39m(city[latmax[\u001b[39m0\u001b[39m][\u001b[39m1\u001b[39m]], latmax[\u001b[39m0\u001b[39m][\u001b[39m1\u001b[39m],lng[latmax[\u001b[39m0\u001b[39m][\u001b[39m1\u001b[39m]],latmax[\u001b[39m0\u001b[39m][\u001b[39m0\u001b[39m])\n\u001b[1;32m---> <a href='vscode-notebook-cell:/c%3A/Users/Gulli/Desktop/Uni/Magi/DATA/ProgettoPython/tests/TryTest.ipynb#Y106sZmlsZQ%3D%3D?line=17'>18</a>\u001b[0m \u001b[39mreturn\u001b[39;00m distcurr \u001b[39m+\u001b[39m trova_percorso_lista(lat,lng,city,\u001b[39mid\u001b[39;49m,country,latmax[\u001b[39m0\u001b[39;49m][\u001b[39m1\u001b[39;49m],index1, n,tenmin[j][\u001b[39m0\u001b[39;49m])\n",
      "\u001b[1;32mc:\\Users\\Gulli\\Desktop\\Uni\\Magi\\DATA\\ProgettoPython\\tests\\TryTest.ipynb Cell 40\u001b[0m line \u001b[0;36m1\n\u001b[0;32m     <a href='vscode-notebook-cell:/c%3A/Users/Gulli/Desktop/Uni/Magi/DATA/ProgettoPython/tests/TryTest.ipynb#Y106sZmlsZQ%3D%3D?line=15'>16</a>\u001b[0m         j\u001b[39m=\u001b[39mi\n\u001b[0;32m     <a href='vscode-notebook-cell:/c%3A/Users/Gulli/Desktop/Uni/Magi/DATA/ProgettoPython/tests/TryTest.ipynb#Y106sZmlsZQ%3D%3D?line=16'>17</a>\u001b[0m \u001b[39mprint\u001b[39m(city[latmax[\u001b[39m0\u001b[39m][\u001b[39m1\u001b[39m]], latmax[\u001b[39m0\u001b[39m][\u001b[39m1\u001b[39m],lng[latmax[\u001b[39m0\u001b[39m][\u001b[39m1\u001b[39m]],latmax[\u001b[39m0\u001b[39m][\u001b[39m0\u001b[39m])\n\u001b[1;32m---> <a href='vscode-notebook-cell:/c%3A/Users/Gulli/Desktop/Uni/Magi/DATA/ProgettoPython/tests/TryTest.ipynb#Y106sZmlsZQ%3D%3D?line=17'>18</a>\u001b[0m \u001b[39mreturn\u001b[39;00m distcurr \u001b[39m+\u001b[39m trova_percorso_lista(lat,lng,city,\u001b[39mid\u001b[39;49m,country,latmax[\u001b[39m0\u001b[39;49m][\u001b[39m1\u001b[39;49m],index1, n,tenmin[j][\u001b[39m0\u001b[39;49m])\n",
      "    \u001b[1;31m[... skipping similar frames: trova_percorso_lista at line 18 (74 times)]\u001b[0m\n",
      "\u001b[1;32mc:\\Users\\Gulli\\Desktop\\Uni\\Magi\\DATA\\ProgettoPython\\tests\\TryTest.ipynb Cell 40\u001b[0m line \u001b[0;36m1\n\u001b[0;32m     <a href='vscode-notebook-cell:/c%3A/Users/Gulli/Desktop/Uni/Magi/DATA/ProgettoPython/tests/TryTest.ipynb#Y106sZmlsZQ%3D%3D?line=15'>16</a>\u001b[0m         j\u001b[39m=\u001b[39mi\n\u001b[0;32m     <a href='vscode-notebook-cell:/c%3A/Users/Gulli/Desktop/Uni/Magi/DATA/ProgettoPython/tests/TryTest.ipynb#Y106sZmlsZQ%3D%3D?line=16'>17</a>\u001b[0m \u001b[39mprint\u001b[39m(city[latmax[\u001b[39m0\u001b[39m][\u001b[39m1\u001b[39m]], latmax[\u001b[39m0\u001b[39m][\u001b[39m1\u001b[39m],lng[latmax[\u001b[39m0\u001b[39m][\u001b[39m1\u001b[39m]],latmax[\u001b[39m0\u001b[39m][\u001b[39m0\u001b[39m])\n\u001b[1;32m---> <a href='vscode-notebook-cell:/c%3A/Users/Gulli/Desktop/Uni/Magi/DATA/ProgettoPython/tests/TryTest.ipynb#Y106sZmlsZQ%3D%3D?line=17'>18</a>\u001b[0m \u001b[39mreturn\u001b[39;00m distcurr \u001b[39m+\u001b[39m trova_percorso_lista(lat,lng,city,\u001b[39mid\u001b[39;49m,country,latmax[\u001b[39m0\u001b[39;49m][\u001b[39m1\u001b[39;49m],index1, n,tenmin[j][\u001b[39m0\u001b[39;49m])\n",
      "\u001b[1;32mc:\\Users\\Gulli\\Desktop\\Uni\\Magi\\DATA\\ProgettoPython\\tests\\TryTest.ipynb Cell 40\u001b[0m line \u001b[0;36m8\n\u001b[0;32m      <a href='vscode-notebook-cell:/c%3A/Users/Gulli/Desktop/Uni/Magi/DATA/ProgettoPython/tests/TryTest.ipynb#Y106sZmlsZQ%3D%3D?line=5'>6</a>\u001b[0m dist\u001b[39m=\u001b[39mubication\u001b[39m.\u001b[39mdistfrom([lat[index0],lng[index0]],lat,lng)\n\u001b[0;32m      <a href='vscode-notebook-cell:/c%3A/Users/Gulli/Desktop/Uni/Magi/DATA/ProgettoPython/tests/TryTest.ipynb#Y106sZmlsZQ%3D%3D?line=6'>7</a>\u001b[0m dist\u001b[39m.\u001b[39msort(key\u001b[39m=\u001b[39m\u001b[39mlambda\u001b[39;00m x: x[\u001b[39m0\u001b[39m])\n\u001b[1;32m----> <a href='vscode-notebook-cell:/c%3A/Users/Gulli/Desktop/Uni/Magi/DATA/ProgettoPython/tests/TryTest.ipynb#Y106sZmlsZQ%3D%3D?line=7'>8</a>\u001b[0m tenmin\u001b[39m=\u001b[39mubication\u001b[39m.\u001b[39;49mnminime2(dist,lng,index0,n) \u001b[39m#posso metterle insieme e via pem pem\u001b[39;00m\n\u001b[0;32m      <a href='vscode-notebook-cell:/c%3A/Users/Gulli/Desktop/Uni/Magi/DATA/ProgettoPython/tests/TryTest.ipynb#Y106sZmlsZQ%3D%3D?line=8'>9</a>\u001b[0m \u001b[39mfor\u001b[39;00m i \u001b[39min\u001b[39;00m \u001b[39mrange\u001b[39m(n):\n\u001b[0;32m     <a href='vscode-notebook-cell:/c%3A/Users/Gulli/Desktop/Uni/Magi/DATA/ProgettoPython/tests/TryTest.ipynb#Y106sZmlsZQ%3D%3D?line=9'>10</a>\u001b[0m     latmax\u001b[39m.\u001b[39mappend((\u001b[39mabs\u001b[39m(lat[tenmin[i][\u001b[39m1\u001b[39m]]\u001b[39m-\u001b[39mlat[index1]),tenmin[i][\u001b[39m1\u001b[39m]))\n",
      "File \u001b[1;32mc:\\Users\\Gulli\\Desktop\\Uni\\Magi\\DATA\\ProgettoPython\\tests\\ubication.py:32\u001b[0m, in \u001b[0;36mnminime2\u001b[1;34m(distance, lng, index, n)\u001b[0m\n\u001b[0;32m     30\u001b[0m i\u001b[39m=\u001b[39m\u001b[39m0\u001b[39m\n\u001b[0;32m     31\u001b[0m \u001b[39mwhile\u001b[39;00m \u001b[39mlen\u001b[39m(nmin)\u001b[39m!=\u001b[39mn \u001b[39mor\u001b[39;00m i\u001b[39m==\u001b[39m\u001b[39mlen\u001b[39m(distance):\n\u001b[1;32m---> 32\u001b[0m     \u001b[39mif\u001b[39;00m (lng[index]\u001b[39m<\u001b[39m\u001b[39m0\u001b[39m) \u001b[39m&\u001b[39m (lng[distance[i][\u001b[39m1\u001b[39m]]\u001b[39m>\u001b[39m\u001b[39m100\u001b[39m):\n\u001b[0;32m     33\u001b[0m         \u001b[39mpass\u001b[39;00m\n\u001b[0;32m     34\u001b[0m     \u001b[39melif\u001b[39;00m lng[distance[i][\u001b[39m1\u001b[39m]]\u001b[39m>\u001b[39mlng[index]:\n",
      "\u001b[1;31mIndexError\u001b[0m: list index out of range"
     ]
    }
   ],
   "source": [
    "trova_percorso_lista(lat,lng,city,id,country,34,34,30,0)"
   ]
  }
 ],
 "metadata": {
  "kernelspec": {
   "display_name": "DATA",
   "language": "python",
   "name": "python3"
  },
  "language_info": {
   "codemirror_mode": {
    "name": "ipython",
    "version": 3
   },
   "file_extension": ".py",
   "mimetype": "text/x-python",
   "name": "python",
   "nbconvert_exporter": "python",
   "pygments_lexer": "ipython3",
   "version": "3.12.0"
  }
 },
 "nbformat": 4,
 "nbformat_minor": 2
}
