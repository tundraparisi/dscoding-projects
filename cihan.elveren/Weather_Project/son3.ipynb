{
 "cells": [
  {
   "cell_type": "code",
   "execution_count": 1,
   "metadata": {},
   "outputs": [
    {
     "name": "stdout",
     "output_type": "stream",
     "text": [
      "      City        Country  Latitude  Longitude  Year  AverageTemperature\n",
      "0  Abidjan  Côte D'Ivoire      5.63      -3.23  1920           26.324167\n",
      "1  Abidjan  Côte D'Ivoire      5.63      -3.23  1921           26.420250\n",
      "2  Abidjan  Côte D'Ivoire      5.63      -3.23  1922           26.229167\n",
      "3  Abidjan  Côte D'Ivoire      5.63      -3.23  1923           25.962167\n",
      "4  Abidjan  Côte D'Ivoire      5.63      -3.23  1924           26.092167\n"
     ]
    }
   ],
   "source": [
    "import pandas as pd\n",
    "\n",
    "# CSV dosyasının yolunu tanımla\n",
    "file_path = 'MajorCities.csv'  # 'path_to_your_file' kısmını dosyanızın konumuyla değiştirin\n",
    "\n",
    "# Dosyayı oku\n",
    "cities_df = pd.read_csv(file_path)\n",
    "\n",
    "# 'dt' sütunundan yılı çıkar ve yeni bir 'Year' sütunu oluştur\n",
    "cities_df['Year'] = pd.to_datetime(cities_df['dt']).dt.year\n",
    "\n",
    "# 1920 ve 1970 yılları arasındaki verileri filtrele\n",
    "filtered_cities_df = cities_df[(cities_df['Year'] >= 1920) & (cities_df['Year'] <= 1970)]\n",
    "\n",
    "# Her bir şehir için yıllık ortalama sıcaklığı hesapla\n",
    "yearly_avg_temps = (\n",
    "    filtered_cities_df.groupby(['City', 'Country', 'Latitude', 'Longitude', 'Year'])['AverageTemperature']\n",
    "    .mean()\n",
    "    .reset_index()\n",
    ")\n",
    "\n",
    "# Sonucun ilk beş satırını görüntüle\n",
    "print(yearly_avg_temps.head())\n"
   ]
  },
  {
   "cell_type": "code",
   "execution_count": 2,
   "metadata": {},
   "outputs": [
    {
     "data": {
      "text/plain": [
       "(Latitude      39.38\n",
       " Longitude    116.53\n",
       " Name: 3723, dtype: float64,\n",
       " Latitude      34.56\n",
       " Longitude   -118.70\n",
       " Name: 2805, dtype: float64)"
      ]
     },
     "execution_count": 2,
     "metadata": {},
     "output_type": "execute_result"
    }
   ],
   "source": [
    "# \"Peking\" ve \"Los Angeles\" şehirlerinin koordinatlarını bulalım\n",
    "peking_coords = yearly_avg_temps[yearly_avg_temps['City'] == 'Peking'][['Latitude', 'Longitude']].iloc[0]\n",
    "los_angeles_coords = yearly_avg_temps[yearly_avg_temps['City'] == 'Los Angeles'][['Latitude', 'Longitude']].iloc[0]\n",
    "\n",
    "peking_coords, los_angeles_coords"
   ]
  },
  {
   "cell_type": "code",
   "execution_count": 3,
   "metadata": {},
   "outputs": [
    {
     "name": "stdout",
     "output_type": "stream",
     "text": [
      "        City Country  Latitude  Longitude  AverageTemperature\n",
      "73    Peking   China     39.38     116.53           11.915804\n",
      "93  Tangshan   China     37.78     113.90           11.728559\n",
      "24    Dalian   China     39.38     120.69           10.246918\n"
     ]
    }
   ],
   "source": [
    "from math import radians, cos, sin, asin, sqrt\n",
    "\n",
    "# Haversine formülü kullanarak iki koordinat arasındaki mesafeyi hesaplayan fonksiyon\n",
    "def haversine(lon1, lat1, lon2, lat2):\n",
    "    # Radyan cinsinden koordinatları dönüştür\n",
    "    lon1, lat1, lon2, lat2 = map(radians, [lon1, lat1, lon2, lat2])\n",
    "\n",
    "    # Boylam ve enlem farkları\n",
    "    dlon = lon2 - lon1\n",
    "    dlat = lat2 - lat1\n",
    "\n",
    "    # Haversine formülü\n",
    "    a = sin(dlat/2)**2 + cos(lat1) * cos(lat2) * sin(dlon/2)**2\n",
    "    c = 2 * asin(sqrt(a))\n",
    "    r = 6371  # Dünya'nın yarıçapı (km cinsinden)\n",
    "    return c * r\n",
    "\n",
    "# Mevcut konumun koordinatlarından en yakın şehirlerin listesini döndüren fonksiyon\n",
    "def find_nearest_cities(current_coords, cities_data, n=3):\n",
    "    # Haversine formülü ile mesafeleri hesapla\n",
    "    distances = cities_data.apply(\n",
    "        lambda row: haversine(current_coords['Longitude'], current_coords['Latitude'], row['Longitude'], row['Latitude']),\n",
    "        axis=1\n",
    "    )\n",
    "    \n",
    "    # En yakın şehirleri döndürürken, mevcut konumu (0 mesafede) hariç tut\n",
    "    nearest_cities = cities_data.loc[distances.nlargest(len(distances) - 1).nsmallest(n).index]\n",
    "    return nearest_cities\n",
    "\n",
    "# Her şehir için yıllık ortalama sıcaklıkların genel ortalamasını hesaplayalım\n",
    "city_avg_temps = yearly_avg_temps.groupby(['City', 'Country', 'Latitude', 'Longitude'])['AverageTemperature'].mean().reset_index()\n",
    "\n",
    "# Artık her şehir için sadece bir kayıt içeren yeni veri setini kullanarak Pekin'e en yakın şehirleri bulalım\n",
    "nearest_to_peking = find_nearest_cities(peking_coords, city_avg_temps)\n",
    "print(nearest_to_peking)\n"
   ]
  },
  {
   "cell_type": "code",
   "execution_count": 5,
   "metadata": {},
   "outputs": [
    {
     "name": "stdout",
     "output_type": "stream",
     "text": [
      "['Peking', 'Jinan', 'Tianjin', 'Dalian', 'Tangshan', 'Wuhan', 'Guangzhou', 'Taipei', 'Manila', 'Chongqing', 'Nanjing', 'Xian', 'Shanghai', 'Taiyuan', 'Seoul', 'Nagoya', 'Shenyang', 'Tokyo', 'Ho Chi Minh City', 'Rangoon', 'Madras', 'Hyderabad', 'Bombay', 'Ahmadabad', 'Karachi', 'Jaipur', 'Delhi', 'Kanpur', 'Calcutta', 'Nagpur', 'New Delhi', 'Surat', 'Lakhnau', 'Dhaka', 'Bangalore', 'Bangkok', 'Surabaya', 'Singapore', 'Pune', 'Faisalabad', 'Baghdad', 'Riyadh', 'Cairo', 'Alexandria', 'Aleppo', 'Gizeh', 'Jiddah', 'Izmir', 'Rome', 'Istanbul', 'Berlin', 'London', 'Madrid', 'Paris', 'Kiev', 'Mashhad', 'Lahore', 'Chengdu', 'Jakarta', 'Sydney', 'Durban', 'Dar Es Salaam', 'Mogadishu', 'Umm Durman', 'Kano', 'Lagos', 'Abidjan', 'Dakar', 'Fortaleza', 'Rio De Janeiro', 'Salvador', 'Brasília', 'São Paulo', 'Bogotá', 'Santo Domingo', 'New York', 'Mexico', 'Cali', 'Belo Horizonte', 'Ibadan', 'Luanda', 'Harare', 'Kinshasa', 'Addis Abeba', 'Cape Town', 'Casablanca', 'Montreal', 'Los Angeles']\n"
     ]
    }
   ],
   "source": [
    "# suggest_route fonksiyonunun güncellenmiş hali\n",
    "def suggest_route(start_record, end_record, cities_data):\n",
    "    # Start with the initial city\n",
    "    route = [start_record['City']]\n",
    "    current_record = start_record\n",
    "    visited_cities = set(route)\n",
    "\n",
    "    # Loop until the current city is the destination city\n",
    "    while current_record['City'] != end_record['City']:\n",
    "        # Exclude visited cities and the current city from the search\n",
    "        unvisited_cities = cities_data[~cities_data['City'].isin(visited_cities)]\n",
    "\n",
    "        # Find the nearest cities that have not been visited\n",
    "        nearest_cities = find_nearest_cities(current_record, unvisited_cities, n=3)\n",
    "\n",
    "        # If there are no unvisited cities left, break the loop (to avoid an infinite loop)\n",
    "        if nearest_cities.empty:\n",
    "            print(\"No more unvisited cities to go to. Ending route search.\")\n",
    "            break\n",
    "\n",
    "        # Select the nearest city with the highest average temperature\n",
    "        next_city_record = nearest_cities.loc[nearest_cities['AverageTemperature'].idxmax()]\n",
    "\n",
    "        # If the destination city is the next city, add it to the route and break the loop\n",
    "        if next_city_record['City'] == end_record['City']:\n",
    "            route.append(next_city_record['City'])\n",
    "            break\n",
    "\n",
    "        # Add the selected city to the route and mark it as visited\n",
    "        route.append(next_city_record['City'])\n",
    "        visited_cities.add(next_city_record['City'])\n",
    "        \n",
    "        # Update the current city record\n",
    "        current_record = next_city_record\n",
    "\n",
    "    return route\n",
    "\n",
    "# Rota önerisini al\n",
    "route = suggest_route(peking_record, los_angeles_record, city_avg_temps)\n",
    "\n",
    "# Rota çıktısını yazdır\n",
    "print(route)\n"
   ]
  },
  {
   "cell_type": "code",
   "execution_count": 6,
   "metadata": {},
   "outputs": [
    {
     "data": {
      "text/plain": [
       "['Peking',\n",
       " 'Tianjin',\n",
       " 'Izmir',\n",
       " 'Tangshan',\n",
       " 'Seoul',\n",
       " 'Ankara',\n",
       " 'Dalian',\n",
       " 'Istanbul',\n",
       " 'Madrid',\n",
       " 'Rome',\n",
       " 'Chicago',\n",
       " 'New York',\n",
       " 'Taiyuan',\n",
       " 'Aleppo',\n",
       " 'Jinan',\n",
       " 'Tokyo',\n",
       " 'Nagoya',\n",
       " 'Los Angeles']"
      ]
     },
     "execution_count": 6,
     "metadata": {},
     "output_type": "execute_result"
    }
   ],
   "source": [
    "# Basitleştirilmiş bir rota önerisi algoritması\n",
    "def simple_suggest_route(start_record, end_record, cities_data):\n",
    "    route = [start_record['City']]\n",
    "    current_record = start_record\n",
    "    visited_cities = set(route)\n",
    "    \n",
    "    while current_record['City'] != end_record['City']:\n",
    "        # Exclude visited cities and the current city from the search\n",
    "        unvisited_cities = cities_data[~cities_data['City'].isin(visited_cities)]\n",
    "        \n",
    "        # Instead of finding the nearest cities based on actual distance,\n",
    "        # we'll select cities with the closest coordinates\n",
    "        closest_cities = unvisited_cities.iloc[\n",
    "            (unvisited_cities['Latitude'] - current_record['Latitude']).abs().argsort()[:3]\n",
    "        ]\n",
    "\n",
    "        # If there are no unvisited cities left, break the loop (to avoid an infinite loop)\n",
    "        if closest_cities.empty:\n",
    "            print(\"No more unvisited cities to go to. Ending route search.\")\n",
    "            break\n",
    "\n",
    "        # Select the city with the highest average temperature from the closest cities\n",
    "        next_city_record = closest_cities.loc[closest_cities['AverageTemperature'].idxmax()]\n",
    "\n",
    "        # If the destination city is the next city, add it to the route and break the loop\n",
    "        if next_city_record['City'] == end_record['City']:\n",
    "            route.append(next_city_record['City'])\n",
    "            break\n",
    "\n",
    "        # Add the selected city to the route and mark it as visited\n",
    "        route.append(next_city_record['City'])\n",
    "        visited_cities.add(next_city_record['City'])\n",
    "        \n",
    "        # Update the current city record\n",
    "        current_record = next_city_record\n",
    "\n",
    "    return route\n",
    "\n",
    "# Let's try the simple_suggest_route function and compare the result with the previous one.\n",
    "simple_route = simple_suggest_route(peking_record, los_angeles_record, city_avg_temps)\n",
    "simple_route\n"
   ]
  },
  {
   "cell_type": "code",
   "execution_count": null,
   "metadata": {},
   "outputs": [],
   "source": []
  }
 ],
 "metadata": {
  "kernelspec": {
   "display_name": "base",
   "language": "python",
   "name": "python3"
  },
  "language_info": {
   "codemirror_mode": {
    "name": "ipython",
    "version": 3
   },
   "file_extension": ".py",
   "mimetype": "text/x-python",
   "name": "python",
   "nbconvert_exporter": "python",
   "pygments_lexer": "ipython3",
   "version": "3.11.5"
  }
 },
 "nbformat": 4,
 "nbformat_minor": 2
}
