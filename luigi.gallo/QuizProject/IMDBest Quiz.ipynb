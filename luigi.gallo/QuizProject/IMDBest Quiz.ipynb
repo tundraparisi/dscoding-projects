{
 "cells": [
  {
   "cell_type": "code",
   "execution_count": 12,
   "metadata": {},
   "outputs": [],
   "source": [
    "# Import dataset in Pandas\n",
    "from numpy import random\n",
    "import pandas as pd\n",
    "import time"
   ]
  },
  {
   "cell_type": "code",
   "execution_count": 13,
   "metadata": {},
   "outputs": [],
   "source": [
    "# Read the IMDB .CSV dataset file\n",
    "df = pd.read_csv(r'C:/Users/Asus/Desktop/QuizProject/imdb_top_1000.csv')"
   ]
  },
  {
   "cell_type": "code",
   "execution_count": 14,
   "metadata": {},
   "outputs": [],
   "source": [
    "#Let the player decide the difficulty\n",
    "\n",
    "def choose_difficulty():\n",
    "   print(\"Choose your difficulty level:\")\n",
    "   print(\"1. Easy\")\n",
    "   print(\"2. Medium\")\n",
    "   print(\"3. Hard\")\n",
    "   print(\"4. Extreme\")\n",
    "   while True:\n",
    "       try:\n",
    "           difficulty = int(input(\"Enter a number between 1 and 4: \"))\n",
    "           if 1 <= difficulty <= 4:\n",
    "               return difficulty\n",
    "           else:\n",
    "               print(\"Invalid choice. Please choose a number between 1 and 4.\")\n",
    "       except ValueError:\n",
    "           print(\"Invalid choice. Please enter a number.\")\n"
   ]
  },
  {
   "cell_type": "code",
   "execution_count": 15,
   "metadata": {},
   "outputs": [],
   "source": [
    "difficulty_points = {\n",
    "   1: 1, # Easy\n",
    "   2: 2, # Medium\n",
    "   3: 3, # Hard\n",
    "   4: 5  # Extreme\n",
    "}"
   ]
  },
  {
   "cell_type": "code",
   "execution_count": 16,
   "metadata": {},
   "outputs": [],
   "source": [
    "def create_quiz(df, difficulty):\n",
    "    \n",
    "    # Replace non-standard missing values with NaN\n",
    "    df = df.replace(\"\", \"NaN\")\n",
    "    \n",
    "    # Drop rows with NaN values\n",
    "    df = df.dropna()\n",
    "\n",
    "    random_row = df.sample(1)\n",
    "\n",
    "    actor = random_row['Star1'].values[0]\n",
    "    actor2 = random_row['Star2'].values[0]\n",
    "    director = random_row['Director'].values[0]\n",
    "    runtime = random_row['Runtime'].values[0]\n",
    "    genre = random_row['Genre'].values[0].split(',')[0]  # Split the genres and select the first one\n",
    "    year = random_row['Released_Year'].values[0]\n",
    "    film = random_row['Series_Title'].values[0]\n",
    "\n",
    "    # Adjust the amount of information based on the difficulty level\n",
    "    if difficulty == 1:  # Easy\n",
    "        question = f\"What is the {genre} film directed by {director} starring {actor} and {actor2} released in {year} with a runtime of {runtime}?\"\n",
    "    elif difficulty == 2:  # Medium\n",
    "        question = f\"What is the {genre} film directed by {director} starring {actor} and {actor2} released in {year}?\"\n",
    "    elif difficulty == 3:  # Hard\n",
    "        question = f\"What is the {genre} film directed by {director} starring {actor} released in {year}?\"\n",
    "    elif difficulty == 4: # Extreme\n",
    "        question = f\"What is the {genre} film directed by {director} starring {actor}\"\n",
    "\n",
    "    choices = [film]\n",
    "    while len(choices) < 4:\n",
    "        random_film = df['Series_Title'].sample(1).values[0]\n",
    "        if random_film not in choices:\n",
    "            choices.append(random_film)\n",
    "\n",
    "    random.shuffle(choices)\n",
    "\n",
    "    return question, choices, film"
   ]
  },
  {
   "cell_type": "code",
   "execution_count": 17,
   "metadata": {},
   "outputs": [],
   "source": [
    "def play_quiz(df):\n",
    "    score = 0\n",
    "    num_questions = 5\n",
    "    difficulty = choose_difficulty()\n",
    "    points = difficulty_points[difficulty]\n",
    "    penalty = points // 2 # Half of the points for the difficulty level\n",
    "    for i in range(num_questions):\n",
    "        question, choices, correct_answer = create_quiz(df, difficulty)\n",
    "        print(question)\n",
    "        for j, choice in enumerate(choices, start=1):\n",
    "            print(f\"{j}. {choice}\")\n",
    "        time.sleep(1) # Add a small delay\n",
    "        \n",
    "        # Get player's choice\n",
    "        while True:\n",
    "            answer = int(input(\"Enter the number of your answer (1-4): \"))\n",
    "            if 1 <= answer <= 4:\n",
    "                break\n",
    "            else:\n",
    "                print(\"Invalid choice. Please choose a number between 1 and 4.\") \n",
    "        if choices[answer - 1] == correct_answer:\n",
    "            print(\"Correct!\")\n",
    "            score += points\n",
    "        else:\n",
    "            print(\"Incorrect. The correct answer was\", correct_answer)\n",
    "            score -= penalty\n",
    "        if i < num_questions - 2: # If it's not the last question\n",
    "            print(f\"Your current score is {score}\")\n",
    "    if score == 5:\n",
    "      print(f\"Your final score is {score}. Congratulations you got a perfect score!\")\n",
    "    else:\n",
    "        print(f\"Your final score is {score}\")"
   ]
  },
  {
   "cell_type": "code",
   "execution_count": 19,
   "metadata": {},
   "outputs": [
    {
     "name": "stdout",
     "output_type": "stream",
     "text": [
      "Choose your difficulty level:\n",
      "1. Easy\n",
      "2. Medium\n",
      "3. Hard\n",
      "4. Extreme\n",
      "What is the Animation film directed by Pete Docter starring Ronnie Del Carmen released in 2015?\n",
      "1. Loving Vincent\n",
      "2. La vita è bella\n",
      "3. Inside Out\n",
      "4. Secrets & Lies\n",
      "Correct!\n",
      "Your current score is 3\n",
      "What is the Biography film directed by Clint Eastwood starring Angelina Jolie released in 2008?\n",
      "1. Changeling\n",
      "2. Guardians of the Galaxy Vol. 2\n",
      "3. Rogue One\n",
      "4. Kai po che!\n",
      "Correct!\n",
      "Your current score is 6\n",
      "What is the Drama film directed by Lenny Abrahamson starring Brie Larson released in 2015?\n",
      "1. Singin' in the Rain\n",
      "2. Papillon\n",
      "3. Room\n",
      "4. Joyeux Noël\n",
      "Correct!\n",
      "Your current score is 9\n",
      "What is the Action film directed by Peter Jackson starring Elijah Wood released in 2003?\n",
      "1. The Lord of the Rings: The Return of the King\n",
      "2. Planes, Trains & Automobiles\n",
      "3. A Few Good Men\n",
      "4. Cabaret\n",
      "Correct!\n",
      "What is the Action film directed by Matthew Vaughn starring Aaron Taylor-Johnson released in 2010?\n",
      "1. Kick-Ass\n",
      "2. Adaptation.\n",
      "3. Get Out\n",
      "4. Hacksaw Ridge\n",
      "Correct!\n",
      "Your final score is 15\n"
     ]
    }
   ],
   "source": [
    "play_quiz(df)"
   ]
  },
  {
   "cell_type": "code",
   "execution_count": null,
   "metadata": {},
   "outputs": [],
   "source": []
  }
 ],
 "metadata": {
  "kernelspec": {
   "display_name": "Pythonproject",
   "language": "python",
   "name": "python3"
  },
  "language_info": {
   "codemirror_mode": {
    "name": "ipython",
    "version": 3
   },
   "file_extension": ".py",
   "mimetype": "text/x-python",
   "name": "python",
   "nbconvert_exporter": "python",
   "pygments_lexer": "ipython3",
   "version": "3.11.5"
  }
 },
 "nbformat": 4,
 "nbformat_minor": 2
}
