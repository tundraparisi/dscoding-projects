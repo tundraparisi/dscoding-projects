{
 "cells": [
  {
   "cell_type": "code",
   "execution_count": 1,
   "id": "initial_id",
   "metadata": {
    "collapsed": true,
    "ExecuteTime": {
     "end_time": "2023-10-26T12:12:10.830337Z",
     "start_time": "2023-10-26T12:12:10.824504400Z"
    }
   },
   "outputs": [],
   "source": [
    "import pandas as pd\n",
    "import numpy as np\n",
    "import matplotlib as mpl\n",
    "import seaborn as sbr"
   ]
  },
  {
   "cell_type": "code",
   "execution_count": 4,
   "outputs": [],
   "source": [
    "guests_db = pd.read_excel('Project/Datasets/guests.xlsx')\n",
    "hotels_db = pd.read_excel('Project/Datasets/hotels.xlsx')\n",
    "pref_db = pd.read_excel('Project/Datasets/preferences.xlsx')"
   ],
   "metadata": {
    "collapsed": false,
    "ExecuteTime": {
     "end_time": "2023-10-26T12:15:10.380034Z",
     "start_time": "2023-10-26T12:15:05.373940Z"
    }
   },
   "id": "4f3b8aa12bafc2e5"
  },
  {
   "cell_type": "code",
   "execution_count": 7,
   "outputs": [
    {
     "data": {
      "text/plain": "      Unnamed: 0       guest  discount\n0              0     guest_1      0.09\n1              1     guest_2      0.00\n2              2     guest_3      0.07\n3              3     guest_4      0.00\n4              4     guest_5      0.10\n...          ...         ...       ...\n3995        3995  guest_3996      0.00\n3996        3996  guest_3997      0.15\n3997        3997  guest_3998      0.07\n3998        3998  guest_3999      0.08\n3999        3999  guest_4000      0.07\n\n[4000 rows x 3 columns]",
      "text/html": "<div>\n<style scoped>\n    .dataframe tbody tr th:only-of-type {\n        vertical-align: middle;\n    }\n\n    .dataframe tbody tr th {\n        vertical-align: top;\n    }\n\n    .dataframe thead th {\n        text-align: right;\n    }\n</style>\n<table border=\"1\" class=\"dataframe\">\n  <thead>\n    <tr style=\"text-align: right;\">\n      <th></th>\n      <th>Unnamed: 0</th>\n      <th>guest</th>\n      <th>discount</th>\n    </tr>\n  </thead>\n  <tbody>\n    <tr>\n      <th>0</th>\n      <td>0</td>\n      <td>guest_1</td>\n      <td>0.09</td>\n    </tr>\n    <tr>\n      <th>1</th>\n      <td>1</td>\n      <td>guest_2</td>\n      <td>0.00</td>\n    </tr>\n    <tr>\n      <th>2</th>\n      <td>2</td>\n      <td>guest_3</td>\n      <td>0.07</td>\n    </tr>\n    <tr>\n      <th>3</th>\n      <td>3</td>\n      <td>guest_4</td>\n      <td>0.00</td>\n    </tr>\n    <tr>\n      <th>4</th>\n      <td>4</td>\n      <td>guest_5</td>\n      <td>0.10</td>\n    </tr>\n    <tr>\n      <th>...</th>\n      <td>...</td>\n      <td>...</td>\n      <td>...</td>\n    </tr>\n    <tr>\n      <th>3995</th>\n      <td>3995</td>\n      <td>guest_3996</td>\n      <td>0.00</td>\n    </tr>\n    <tr>\n      <th>3996</th>\n      <td>3996</td>\n      <td>guest_3997</td>\n      <td>0.15</td>\n    </tr>\n    <tr>\n      <th>3997</th>\n      <td>3997</td>\n      <td>guest_3998</td>\n      <td>0.07</td>\n    </tr>\n    <tr>\n      <th>3998</th>\n      <td>3998</td>\n      <td>guest_3999</td>\n      <td>0.08</td>\n    </tr>\n    <tr>\n      <th>3999</th>\n      <td>3999</td>\n      <td>guest_4000</td>\n      <td>0.07</td>\n    </tr>\n  </tbody>\n</table>\n<p>4000 rows × 3 columns</p>\n</div>"
     },
     "execution_count": 7,
     "metadata": {},
     "output_type": "execute_result"
    }
   ],
   "source": [
    "guests_db"
   ],
   "metadata": {
    "collapsed": false,
    "ExecuteTime": {
     "end_time": "2023-10-26T12:17:11.129282600Z",
     "start_time": "2023-10-26T12:17:11.101514900Z"
    }
   },
   "id": "871da7c85ff53a9"
  },
  {
   "cell_type": "code",
   "execution_count": 10,
   "outputs": [
    {
     "data": {
      "text/plain": "<bound method DataFrame.info of       Unnamed: 0       guest  discount\n0              0     guest_1      0.09\n1              1     guest_2      0.00\n2              2     guest_3      0.07\n3              3     guest_4      0.00\n4              4     guest_5      0.10\n...          ...         ...       ...\n3995        3995  guest_3996      0.00\n3996        3996  guest_3997      0.15\n3997        3997  guest_3998      0.07\n3998        3998  guest_3999      0.08\n3999        3999  guest_4000      0.07\n\n[4000 rows x 3 columns]>"
     },
     "execution_count": 10,
     "metadata": {},
     "output_type": "execute_result"
    }
   ],
   "source": [
    "guests_db.info"
   ],
   "metadata": {
    "collapsed": false,
    "ExecuteTime": {
     "end_time": "2023-10-26T12:17:59.957373500Z",
     "start_time": "2023-10-26T12:17:59.895507900Z"
    }
   },
   "id": "b5552ac9b823cee4"
  },
  {
   "cell_type": "code",
   "execution_count": 8,
   "outputs": [
    {
     "data": {
      "text/plain": "     Unnamed: 0      hotel  rooms  price\n0             0    hotel_1     13    273\n1             1    hotel_2     18     92\n2             2    hotel_3     12    141\n3             3    hotel_4     18    157\n4             4    hotel_5      7    298\n..          ...        ...    ...    ...\n395         395  hotel_396      5    212\n396         396  hotel_397     12     68\n397         397  hotel_398     14    102\n398         398  hotel_399     16    284\n399         399  hotel_400     14    145\n\n[400 rows x 4 columns]",
      "text/html": "<div>\n<style scoped>\n    .dataframe tbody tr th:only-of-type {\n        vertical-align: middle;\n    }\n\n    .dataframe tbody tr th {\n        vertical-align: top;\n    }\n\n    .dataframe thead th {\n        text-align: right;\n    }\n</style>\n<table border=\"1\" class=\"dataframe\">\n  <thead>\n    <tr style=\"text-align: right;\">\n      <th></th>\n      <th>Unnamed: 0</th>\n      <th>hotel</th>\n      <th>rooms</th>\n      <th>price</th>\n    </tr>\n  </thead>\n  <tbody>\n    <tr>\n      <th>0</th>\n      <td>0</td>\n      <td>hotel_1</td>\n      <td>13</td>\n      <td>273</td>\n    </tr>\n    <tr>\n      <th>1</th>\n      <td>1</td>\n      <td>hotel_2</td>\n      <td>18</td>\n      <td>92</td>\n    </tr>\n    <tr>\n      <th>2</th>\n      <td>2</td>\n      <td>hotel_3</td>\n      <td>12</td>\n      <td>141</td>\n    </tr>\n    <tr>\n      <th>3</th>\n      <td>3</td>\n      <td>hotel_4</td>\n      <td>18</td>\n      <td>157</td>\n    </tr>\n    <tr>\n      <th>4</th>\n      <td>4</td>\n      <td>hotel_5</td>\n      <td>7</td>\n      <td>298</td>\n    </tr>\n    <tr>\n      <th>...</th>\n      <td>...</td>\n      <td>...</td>\n      <td>...</td>\n      <td>...</td>\n    </tr>\n    <tr>\n      <th>395</th>\n      <td>395</td>\n      <td>hotel_396</td>\n      <td>5</td>\n      <td>212</td>\n    </tr>\n    <tr>\n      <th>396</th>\n      <td>396</td>\n      <td>hotel_397</td>\n      <td>12</td>\n      <td>68</td>\n    </tr>\n    <tr>\n      <th>397</th>\n      <td>397</td>\n      <td>hotel_398</td>\n      <td>14</td>\n      <td>102</td>\n    </tr>\n    <tr>\n      <th>398</th>\n      <td>398</td>\n      <td>hotel_399</td>\n      <td>16</td>\n      <td>284</td>\n    </tr>\n    <tr>\n      <th>399</th>\n      <td>399</td>\n      <td>hotel_400</td>\n      <td>14</td>\n      <td>145</td>\n    </tr>\n  </tbody>\n</table>\n<p>400 rows × 4 columns</p>\n</div>"
     },
     "execution_count": 8,
     "metadata": {},
     "output_type": "execute_result"
    }
   ],
   "source": [
    "hotels_db"
   ],
   "metadata": {
    "collapsed": false,
    "ExecuteTime": {
     "end_time": "2023-10-26T12:17:20.404112200Z",
     "start_time": "2023-10-26T12:17:20.381767200Z"
    }
   },
   "id": "17223912a2f53736"
  },
  {
   "cell_type": "code",
   "execution_count": 12,
   "outputs": [
    {
     "data": {
      "text/plain": "<bound method DataFrame.info of      Unnamed: 0      hotel  rooms  price\n0             0    hotel_1     13    273\n1             1    hotel_2     18     92\n2             2    hotel_3     12    141\n3             3    hotel_4     18    157\n4             4    hotel_5      7    298\n..          ...        ...    ...    ...\n395         395  hotel_396      5    212\n396         396  hotel_397     12     68\n397         397  hotel_398     14    102\n398         398  hotel_399     16    284\n399         399  hotel_400     14    145\n\n[400 rows x 4 columns]>"
     },
     "execution_count": 12,
     "metadata": {},
     "output_type": "execute_result"
    }
   ],
   "source": [
    "hotels_db.info"
   ],
   "metadata": {
    "collapsed": false,
    "ExecuteTime": {
     "end_time": "2023-10-26T12:20:13.875335500Z",
     "start_time": "2023-10-26T12:20:13.861988600Z"
    }
   },
   "id": "f2bb0e078cb8a92a"
  },
  {
   "cell_type": "code",
   "execution_count": 9,
   "outputs": [
    {
     "data": {
      "text/plain": "       Unnamed: 0       guest      hotel  priority\n0               0     guest_1  hotel_168         1\n1               1     guest_1  hotel_207         2\n2               2     guest_1  hotel_222         3\n3               3     guest_1  hotel_124         4\n4               4     guest_1  hotel_223         5\n...           ...         ...        ...       ...\n99528       99528  guest_4000  hotel_123        28\n99529       99529  guest_4000  hotel_396        29\n99530       99530  guest_4000  hotel_161        30\n99531       99531  guest_4000  hotel_330        31\n99532       99532  guest_4000  hotel_290        32\n\n[99533 rows x 4 columns]",
      "text/html": "<div>\n<style scoped>\n    .dataframe tbody tr th:only-of-type {\n        vertical-align: middle;\n    }\n\n    .dataframe tbody tr th {\n        vertical-align: top;\n    }\n\n    .dataframe thead th {\n        text-align: right;\n    }\n</style>\n<table border=\"1\" class=\"dataframe\">\n  <thead>\n    <tr style=\"text-align: right;\">\n      <th></th>\n      <th>Unnamed: 0</th>\n      <th>guest</th>\n      <th>hotel</th>\n      <th>priority</th>\n    </tr>\n  </thead>\n  <tbody>\n    <tr>\n      <th>0</th>\n      <td>0</td>\n      <td>guest_1</td>\n      <td>hotel_168</td>\n      <td>1</td>\n    </tr>\n    <tr>\n      <th>1</th>\n      <td>1</td>\n      <td>guest_1</td>\n      <td>hotel_207</td>\n      <td>2</td>\n    </tr>\n    <tr>\n      <th>2</th>\n      <td>2</td>\n      <td>guest_1</td>\n      <td>hotel_222</td>\n      <td>3</td>\n    </tr>\n    <tr>\n      <th>3</th>\n      <td>3</td>\n      <td>guest_1</td>\n      <td>hotel_124</td>\n      <td>4</td>\n    </tr>\n    <tr>\n      <th>4</th>\n      <td>4</td>\n      <td>guest_1</td>\n      <td>hotel_223</td>\n      <td>5</td>\n    </tr>\n    <tr>\n      <th>...</th>\n      <td>...</td>\n      <td>...</td>\n      <td>...</td>\n      <td>...</td>\n    </tr>\n    <tr>\n      <th>99528</th>\n      <td>99528</td>\n      <td>guest_4000</td>\n      <td>hotel_123</td>\n      <td>28</td>\n    </tr>\n    <tr>\n      <th>99529</th>\n      <td>99529</td>\n      <td>guest_4000</td>\n      <td>hotel_396</td>\n      <td>29</td>\n    </tr>\n    <tr>\n      <th>99530</th>\n      <td>99530</td>\n      <td>guest_4000</td>\n      <td>hotel_161</td>\n      <td>30</td>\n    </tr>\n    <tr>\n      <th>99531</th>\n      <td>99531</td>\n      <td>guest_4000</td>\n      <td>hotel_330</td>\n      <td>31</td>\n    </tr>\n    <tr>\n      <th>99532</th>\n      <td>99532</td>\n      <td>guest_4000</td>\n      <td>hotel_290</td>\n      <td>32</td>\n    </tr>\n  </tbody>\n</table>\n<p>99533 rows × 4 columns</p>\n</div>"
     },
     "execution_count": 9,
     "metadata": {},
     "output_type": "execute_result"
    }
   ],
   "source": [
    "pref_db"
   ],
   "metadata": {
    "collapsed": false,
    "ExecuteTime": {
     "end_time": "2023-10-26T12:17:26.600501600Z",
     "start_time": "2023-10-26T12:17:26.581565300Z"
    }
   },
   "id": "d14b8e78f986263"
  },
  {
   "cell_type": "code",
   "execution_count": 13,
   "outputs": [
    {
     "data": {
      "text/plain": "<bound method DataFrame.info of        Unnamed: 0       guest      hotel  priority\n0               0     guest_1  hotel_168         1\n1               1     guest_1  hotel_207         2\n2               2     guest_1  hotel_222         3\n3               3     guest_1  hotel_124         4\n4               4     guest_1  hotel_223         5\n...           ...         ...        ...       ...\n99528       99528  guest_4000  hotel_123        28\n99529       99529  guest_4000  hotel_396        29\n99530       99530  guest_4000  hotel_161        30\n99531       99531  guest_4000  hotel_330        31\n99532       99532  guest_4000  hotel_290        32\n\n[99533 rows x 4 columns]>"
     },
     "execution_count": 13,
     "metadata": {},
     "output_type": "execute_result"
    }
   ],
   "source": [
    "pref_db.info"
   ],
   "metadata": {
    "collapsed": false,
    "ExecuteTime": {
     "end_time": "2023-10-26T12:20:55.257567100Z",
     "start_time": "2023-10-26T12:20:55.241497200Z"
    }
   },
   "id": "ff50d3482f7af3b2"
  },
  {
   "cell_type": "code",
   "execution_count": null,
   "outputs": [],
   "source": [],
   "metadata": {
    "collapsed": false
   },
   "id": "57f822d92586125a"
  }
 ],
 "metadata": {
  "kernelspec": {
   "display_name": "Python 3",
   "language": "python",
   "name": "python3"
  },
  "language_info": {
   "codemirror_mode": {
    "name": "ipython",
    "version": 2
   },
   "file_extension": ".py",
   "mimetype": "text/x-python",
   "name": "python",
   "nbconvert_exporter": "python",
   "pygments_lexer": "ipython2",
   "version": "2.7.6"
  }
 },
 "nbformat": 4,
 "nbformat_minor": 5
}
