{
 "cells": [
  {
   "cell_type": "markdown",
   "metadata": {},
   "source": [
    "## Database Connection\n",
    "\n",
    "Connecting to the Database:"
   ]
  },
  {
   "cell_type": "code",
   "execution_count": null,
   "metadata": {},
   "outputs": [],
   "source": [
    "from data_manager import DataManager\n",
    "\n",
    "imdb_data = DataManager(\n",
    "    dbname='imdb',\n",
    "    user='samaher',\n",
    "    password=\"CodingIsFun++\",\n",
    "    host='localhost',\n",
    "    port='5432'\n",
    ")"
   ]
  },
  {
   "cell_type": "markdown",
   "metadata": {},
   "source": [
    "## Loading the Dataframe\n",
    "\n",
    "I've extracted the data I need into 1 dataframe:\n",
    "1. movie_data"
   ]
  },
  {
   "cell_type": "code",
   "execution_count": null,
   "metadata": {},
   "outputs": [],
   "source": [
    "# Get the movie data from the database\n",
    "movie_data = imdb_data.get_movie()"
   ]
  },
  {
   "cell_type": "markdown",
   "metadata": {},
   "source": [
    "## Libraries\n",
    "Libraries being used:"
   ]
  },
  {
   "cell_type": "code",
   "execution_count": null,
   "metadata": {},
   "outputs": [],
   "source": [
    "import pandas as pd\n",
    "import numpy as np\n",
    "import random\n",
    "import matplotlib.pyplot as plt\n"
   ]
  },
  {
   "cell_type": "markdown",
   "metadata": {},
   "source": [
    "## Difficulty Level \n",
    "\n",
    "The logic of determining the difficulty level of the quiz is built upon 2 elements:\n",
    "- Recency: The more recent the movie, the easier it is to recognize it. This is determined based on the release date 'year'.\n",
    "- Popularity: The more popular the movie, the easier it is to recognize it. This is determined based on the number of votes that are assigned to the movie on IMDb\n",
    "\n",
    "To make the algorithm more accurate, I added to the 'easy' category, all movies that have more than 1 MILLION votes on IMDb. Those popular movies, in my opinion, should be categorized as 'easy'."
   ]
  },
  {
   "cell_type": "code",
   "execution_count": null,
   "metadata": {},
   "outputs": [],
   "source": [
    "# function for the difficulty level\n",
    "\n",
    "def determine_difficulty_level(year, votes):\n",
    "    if (year >= 2010 and votes >= 500000) or (year < 2010 and votes >= 1000000):\n",
    "        return 'easy'\n",
    "    elif 1990 <= year < 2010 and 100000 <= votes < 500000:\n",
    "        return 'medium'\n",
    "    elif year < 1990 and votes < 100000:\n",
    "        return 'hard'\n",
    "    else:\n",
    "        return 'unknown'"
   ]
  },
  {
   "cell_type": "markdown",
   "metadata": {},
   "source": [
    "## Score\n",
    "\n",
    "The score is calculated this way: \n",
    "\n",
    "1. wrong answer: 0 points\n",
    "2. correct answer:\n",
    "    - 1 point if EASY\n",
    "    - 2 points if MEDIUM\n",
    "    - 3 points if HARD\n",
    "    "
   ]
  },
  {
   "cell_type": "code",
   "execution_count": null,
   "metadata": {},
   "outputs": [],
   "source": [
    "# function calculating the score\n",
    "\n",
    "def calculate_score(difficulty_level, is_correct): # is_correct is a boolean variable that represents if the anser given by the user is TRUE or FALSE\n",
    "    if is_correct:\n",
    "        if difficulty_level == 'easy':\n",
    "            return 1\n",
    "        elif difficulty_level == 'medium':\n",
    "            return 2\n",
    "        elif difficulty_level == 'hard':\n",
    "            return 3\n",
    "    else:\n",
    "        return 0\n"
   ]
  },
  {
   "cell_type": "markdown",
   "metadata": {},
   "source": [
    "## Highest Score\n",
    "\n",
    "This function returns the movie that has the highest score on IMDb"
   ]
  },
  {
   "cell_type": "code",
   "execution_count": null,
   "metadata": {},
   "outputs": [],
   "source": [
    "def find_highest_score_movie(subset_df):\n",
    "\n",
    "    # Converting 'score' column to numeric (since it's decimal)\n",
    "    subset_df.loc[:, 'score'] = pd.to_numeric(subset_df['score'])\n",
    "\n",
    "    # Getting the index of the row with the highest score\n",
    "    max_score_index = np.argmax(subset_df['score'].values)\n",
    "    \n",
    "    # Retrieve the 'official_title' of the movie with the highest score\n",
    "    highest_score_movie = subset_df.loc[max_score_index, 'official_title']\n",
    "    \n",
    "    return highest_score_movie\n"
   ]
  },
  {
   "cell_type": "markdown",
   "metadata": {},
   "source": [
    "## Generating Questions + Options"
   ]
  },
  {
   "cell_type": "code",
   "execution_count": null,
   "metadata": {},
   "outputs": [],
   "source": [
    "def generate_question(row, desired_difficulty, question_type, correct_answer_column):\n",
    "    official_title = row['official_title']\n",
    "    correct_answer = row[correct_answer_column]\n",
    "\n",
    "    # Determining difficulty level \n",
    "    year = int(row['year']) \n",
    "    votes = int(row['votes'])\n",
    "    difficulty_level = determine_difficulty_level(year, votes)\n",
    "\n",
    "    # Checking if the difficulty level matches the desired difficulty\n",
    "    if difficulty_level == desired_difficulty:\n",
    "        \n",
    "        # Constructing the question dictionary differently for the IMDb score question type\n",
    "        if question_type == 'Which one of these movies has the highest score on IMDb?':\n",
    "            # Get the movie with the highest score\n",
    "            highest_score_movie = find_highest_score_movie(movie_data)\n",
    "            # Exclude the current movie to avoid it being the correct answer\n",
    "            all_answers = list(set(movie_data['official_title'].unique()))\n",
    "            all_answers.remove(official_title)\n",
    "            # Selecting 3 random incorrect options from all movies except the highest scoring movie\n",
    "            other_options = [highest_score_movie] + random.sample(all_answers, 3)\n",
    "            # Shuffling the options\n",
    "            random.shuffle(other_options)\n",
    "            # Mapping options to letters\n",
    "            options_mapping = {chr(ord('A') + i): option for i, option in enumerate(other_options)}\n",
    "            # Constructing the question dictionary\n",
    "            question_dict = {\n",
    "                'question': f'{question_type}',\n",
    "                'options': options_mapping,\n",
    "                'correct_answer': chr(ord('A') + other_options.index(highest_score_movie)),\n",
    "                'difficulty_level': difficulty_level\n",
    "            }\n",
    "            return question_dict\n",
    "        else:\n",
    "\n",
    "            # Getting unique values excluding the correct answer\n",
    "            all_answers = list(set(movie_data[correct_answer_column].unique()))\n",
    "            all_answers.remove(correct_answer)  # Removing the correct answer\n",
    "\n",
    "            # Selecting 3 more random incorrect options\n",
    "            other_options = [correct_answer] + random.sample(all_answers, 3)\n",
    "\n",
    "            # Filtering the data frame to get a subset for all 4 options\n",
    "            subset_df = movie_data[movie_data['official_title'].isin(all_answers)]\n",
    "\n",
    "            # Shuffling the options to randomize their order\n",
    "            random.shuffle(other_options)\n",
    "\n",
    "            # Mapping options to letters (A, B, C, D)\n",
    "            options_mapping = {chr(ord('A') + i): option for i, option in enumerate(other_options)}\n",
    "\n",
    "            # Constructing the question dictionary\n",
    "            question_dict = {\n",
    "                'question': f'{question_type} || {official_title} ||',\n",
    "                'options': options_mapping,\n",
    "                'correct_answer': chr(ord('A') + other_options.index(correct_answer)),\n",
    "                'difficulty_level': difficulty_level\n",
    "            }\n",
    "\n",
    "            return question_dict\n"
   ]
  },
  {
   "cell_type": "markdown",
   "metadata": {},
   "source": [
    "## THE Quiz\n",
    "\n",
    "Well, basically, the quiz is composed of:\n",
    "- 10 Questions that go by one by one\n",
    "- For each question, you have 4 options including only ONE correct answer\n",
    "\n",
    "P.S. before starting the quiz you have to pick the desired difficulty level. "
   ]
  },
  {
   "cell_type": "code",
   "execution_count": null,
   "metadata": {},
   "outputs": [],
   "source": [
    "def quiz_game(data_frame=None):\n",
    "    if data_frame is None:\n",
    "        # If no dataframe is provided, we'll movie_data as default\n",
    "        data_frame = movie_data\n",
    "\n",
    "    difficulty_levels = ['easy', 'medium', 'hard']\n",
    "    total_score = 0\n",
    "    used_questions = []\n",
    "\n",
    "    # Getting user input for difficulty level\n",
    "    user_difficulty = input(\"Choosing a difficulty level (easy, medium, hard): \").lower()\n",
    "\n",
    "    # Validating user input\n",
    "    while user_difficulty not in difficulty_levels:\n",
    "        print(\"Invalid difficulty level. Please choose from: easy, medium, hard\")\n",
    "        user_difficulty = input(\"Choosing a difficulty level (easy, medium, hard): \").lower()\n",
    "\n",
    "    # List of question generators with parameters for different question types\n",
    "    question_generators = [\n",
    "        {'generator': generate_question, 'params': ('When was this movie released? ==> ', 'year')},\n",
    "        {'generator': generate_question, 'params': ('Where was this movie produced? ==> ', 'country')},\n",
    "        {'generator': generate_question, 'params': ('Which one of these movies has the highest score on IMDb?', 'score')}\n",
    "    ]\n",
    "\n",
    "    # Playing 10 questions, randomly choosing from different types of questions\n",
    "    for i in range(10):\n",
    "        while True:\n",
    "            # Randomly select a question generator with its respective parameters\n",
    "            question_info = None\n",
    "            generator_info = random.choice(question_generators)\n",
    "            question_type, correct_answer_column = generator_info['params']\n",
    "\n",
    "            row_index = random.randint(0, len(data_frame) - 1)\n",
    "            row = data_frame.iloc[row_index]\n",
    "\n",
    "            # Generating the question with the desired difficulty level using the selected generator\n",
    "            question_info = generator_info['generator'](row, user_difficulty, question_type, correct_answer_column)\n",
    "\n",
    "            # Making sure used questions do not appear again in the same quiz\n",
    "            if question_info is not None and question_info['question'] not in used_questions:\n",
    "                used_questions.append(question_info['question'])\n",
    "                break\n",
    "\n",
    "        # Printing the question information\n",
    "        print(question_info['question'])\n",
    "\n",
    "        # Printing options with letters (A, B, C, D)\n",
    "        for letter, option in question_info['options'].items():\n",
    "            print(f\"{letter}. {option}\")\n",
    "\n",
    "        # Getting user's choice with validation\n",
    "        user_choice = None\n",
    "        while user_choice not in ['A', 'B', 'C', 'D']:\n",
    "            user_choice = input(\"Entering your choice (A, B, C, D): \").upper()\n",
    "\n",
    "            if user_choice not in ['A', 'B', 'C', 'D']:\n",
    "                print(\"You typed a wrong letter. Please type again.\")\n",
    "\n",
    "        # Checking if the user's choice is correct\n",
    "        is_correct = user_choice == question_info['correct_answer']\n",
    "\n",
    "        # Calculating and displaying the score\n",
    "        score = calculate_score(question_info['difficulty_level'], is_correct)\n",
    "        total_score += score\n",
    "\n",
    "        # Providing feedback on the answer\n",
    "        if is_correct:\n",
    "            print(\"Correct!\")\n",
    "        else:\n",
    "            print(f\"Wrong! The correct answer is: {question_info['correct_answer']}\")\n",
    "\n",
    "        print(f\"Your score for this question: {score}\")\n",
    "        print(\"----------------------------\")\n",
    "\n",
    "    print(f\"Total score: {total_score}\")\n"
   ]
  },
  {
   "cell_type": "markdown",
   "metadata": {},
   "source": [
    "## Leveraging Game Score for Viz"
   ]
  },
  {
   "cell_type": "code",
   "execution_count": null,
   "metadata": {},
   "outputs": [],
   "source": [
    "        def display_histogram(self, player_name):\n",
    "            # Extracting scores from game_scores\n",
    "            scores = [score for name, score in self.game_scores]\n",
    "            \n",
    "            # Player's score\n",
    "            player_score = next((score for name, score in self.game_scores if name == player_name), None)\n",
    "\n",
    "            # Plotting the histogram\n",
    "            plt.figure(figsize=(8, 6))\n",
    "            plt.hist(scores, bins=10, alpha=0.7, color='blue', edgecolor='black')\n",
    "\n",
    "            # Adding player's score to the plot\n",
    "            if player_score:\n",
    "                plt.axvline(x=player_score, color='red', linestyle='dashed', linewidth=2, label=f'{player_name}\\'s score')\n",
    "\n",
    "            plt.xlabel('Scores')\n",
    "            plt.ylabel('Frequency')\n",
    "            plt.title('Score Distribution')\n",
    "            plt.legend()\n",
    "            plt.grid(True)\n",
    "            plt.show()"
   ]
  },
  {
   "cell_type": "code",
   "execution_count": null,
   "metadata": {},
   "outputs": [],
   "source": [
    "    def display_histogram(self, player_name):\n",
    "        player_scores = {name: score for name, score in self.game_scores}\n",
    "        plt.figure(figsize=(10, 6))\n",
    "\n",
    "        # Extract player names and scores\n",
    "        names = list(player_scores.keys())\n",
    "        scores = list(player_scores.values())\n",
    "\n",
    "        # Plotting player scores\n",
    "        bars = plt.bar(names, scores, color='blue')\n",
    "\n",
    "        # Highlight the current player's score in a different color\n",
    "        if player_name in player_scores:\n",
    "            index = names.index(player_name)\n",
    "            bars[index].set_color('red')\n",
    "\n",
    "        plt.xlabel('Players')\n",
    "        plt.ylabel('Scores')\n",
    "        plt.title('Players\\' Scores Distribution')\n",
    "        plt.xticks(rotation=45)  # Rotate x-axis labels for readability\n",
    "        plt.grid(axis='y')  # Show grid lines only for y-axis\n",
    "        plt.tight_layout()\n",
    "        plt.show()"
   ]
  },
  {
   "cell_type": "markdown",
   "metadata": {},
   "source": [
    "## Checking the Quiz"
   ]
  },
  {
   "cell_type": "code",
   "execution_count": null,
   "metadata": {},
   "outputs": [],
   "source": [
    "quiz_game()"
   ]
  },
  {
   "cell_type": "markdown",
   "metadata": {},
   "source": [
    "## Closing the Connection "
   ]
  },
  {
   "cell_type": "code",
   "execution_count": null,
   "metadata": {},
   "outputs": [],
   "source": [
    "imdb_data.close_connection()"
   ]
  }
 ],
 "metadata": {
  "kernelspec": {
   "display_name": ".venv",
   "language": "python",
   "name": "python3"
  },
  "language_info": {
   "codemirror_mode": {
    "name": "ipython",
    "version": 3
   },
   "file_extension": ".py",
   "mimetype": "text/x-python",
   "name": "python",
   "nbconvert_exporter": "python",
   "pygments_lexer": "ipython3",
   "version": "3.12.0"
  }
 },
 "nbformat": 4,
 "nbformat_minor": 2
}
