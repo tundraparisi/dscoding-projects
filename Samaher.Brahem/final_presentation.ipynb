{
 "cells": [
  {
   "cell_type": "markdown",
   "metadata": {},
   "source": [
    "# ✨ The Quiz ✨ Project Presentation\n"
   ]
  },
  {
   "cell_type": "markdown",
   "metadata": {},
   "source": [
    "## Introduction"
   ]
  },
  {
   "cell_type": "markdown",
   "metadata": {},
   "source": [
    "Hello! ✨ The Quiz ✨ project is a simple project powered by IMDb movie data. The goal is very simple: Besides getting the best possible grade 👀, the goal is to create a quiz of 10 movie-related questions. With each correct answer, players earn points according to the difficiulty level they chose. Throughout this notebook, I'll explain how I made that possible. \n",
    "\n",
    "Project by: Samaher Brahem"
   ]
  },
  {
   "cell_type": "markdown",
   "metadata": {},
   "source": [
    "## Code Overview"
   ]
  },
  {
   "cell_type": "markdown",
   "metadata": {},
   "source": [
    "### `main.py`"
   ]
  },
  {
   "cell_type": "markdown",
   "metadata": {},
   "source": [
    "In the `main.py` file, the code establishes a connection to the IMDb database using the `DataManager` class to retrieve movie data. It then uses this data to create a `Quiz` class instance, setting the stage for the execution of a quiz game. This file serves as the entry point, handling the database connection, data retrieval, and launching the quiz."
   ]
  },
  {
   "cell_type": "code",
   "execution_count": null,
   "metadata": {},
   "outputs": [],
   "source": [
    "from data_manager import DataManager\n",
    "from quiz import Quiz\n",
    "\n",
    "try:\n",
    "    # Establishing connection to the IMDb database\n",
    "    imdb_data = DataManager(\n",
    "        dbname='imdb',\n",
    "        user='samaher',\n",
    "        password=\"CodingIsFun++\",\n",
    "        host='localhost',\n",
    "        port='5432'\n",
    "    )\n",
    "\n",
    "    # Getting the movie data from the database\n",
    "    movie_data = imdb_data.get_movie()\n",
    "\n",
    "    # Creating a Quiz instance with the retrieved movie data\n",
    "    quiz = Quiz(movie_data)\n",
    "\n",
    "    # Running the quiz game\n",
    "    quiz.quiz_game()\n",
    "\n",
    "finally:\n",
    "    # Ensuring the database connection is closed\n",
    "    if 'imdb_data' in locals():\n",
    "        imdb_data.close_connection()"
   ]
  },
  {
   "cell_type": "markdown",
   "metadata": {},
   "source": [
    "### `data_manager.py`"
   ]
  },
  {
   "cell_type": "markdown",
   "metadata": {},
   "source": [
    "The `data_manager.py` file contains the `DataManager` class responsible for managing the IMDb database connection and data operations. \n",
    "\n",
    "This class handles:\n",
    "\n",
    "- __Database Connection__: Establishes a connection to the IMDb database using provided credentials.\n",
    "\n",
    "- __Query Execution__: Executes SQL queries and fetches data from the database.\n",
    "\n",
    "- __Data Retrieval__: Specifically designed to retrieve movie-related data from the IMDb database, formatting it into a Pandas DataFrame for further processing.\n",
    "\n",
    "- __Connection Closure__: Ensures proper closure of the database connection after operations are completed.\n",
    "\n",
    "Libraries used: `Pandas` + `psycopg2`"
   ]
  },
  {
   "cell_type": "code",
   "execution_count": 1,
   "metadata": {},
   "outputs": [],
   "source": [
    "import psycopg2\n",
    "import pandas as pd\n",
    "\n",
    "class DataManager:\n",
    "    def __init__(self, dbname, user, password, host, port):\n",
    "        try:\n",
    "            self.conn = psycopg2.connect(\n",
    "                dbname=dbname,\n",
    "                user=user,\n",
    "                password=password,\n",
    "                host=host,\n",
    "                port=port\n",
    "            )\n",
    "            self.cursor = self.conn.cursor()\n",
    "        except psycopg2.Error as e:\n",
    "            print(f\"Error: Could not connect to the database. {e}\")\n",
    "\n",
    "    def execute_query(self, query):\n",
    "        try:\n",
    "            self.cursor.execute(query)\n",
    "            return self.cursor.fetchall()\n",
    "        except psycopg2.Error as e:\n",
    "            print(f\"Error executing query: {query}. {e}\")\n",
    "            return []\n",
    "\n",
    "    def close_connection(self):\n",
    "        try:\n",
    "            self.cursor.close()\n",
    "            self.conn.close()\n",
    "        except psycopg2.Error as e:\n",
    "            print(f\"Error while closing connection. {e}\")\n",
    "\n",
    "    def get_movie(self):\n",
    "        query = \"SELECT movie.official_title, produced.country, movie.year, rating.votes, rating.score FROM imdb.produced LEFT JOIN imdb.movie ON produced.movie = movie.id LEFT JOIN imdb.rating ON produced.movie = rating.movie WHERE rating.votes >0 AND movie.year IS NOT NULL;\"\n",
    "        return pd.DataFrame(self.execute_query(query), columns=['official_title', 'country', 'year', 'votes','score'])\n"
   ]
  },
  {
   "cell_type": "markdown",
   "metadata": {},
   "source": [
    "### `quiz.py`"
   ]
  },
  {
   "cell_type": "markdown",
   "metadata": {},
   "source": [
    "This file is __central__ to the quiz game, handling the game flow, question generation, and score computation. We'll see the functions included in the `Quiz` class in details in the following section."
   ]
  },
  {
   "cell_type": "markdown",
   "metadata": {},
   "source": [
    "But before we move forward, let's take a look at the structure of the data frame 'movie_data', so you can follow along in the following sections."
   ]
  },
  {
   "cell_type": "code",
   "execution_count": 2,
   "metadata": {},
   "outputs": [
    {
     "name": "stdout",
     "output_type": "stream",
     "text": [
      "                 official_title country  year   votes score\n",
      "0                   Family Plot     USA  1976   16864   6.8\n",
      "1                  Torn Curtain     USA  1966   20400   6.7\n",
      "2                        Marnie     USA  1964   36896   7.2\n",
      "3     The Alfred Hitchcock Hour     USA  1962    2920   8.6\n",
      "4                     The Birds     USA  1963  141405   7.7\n",
      "...                         ...     ...   ...     ...   ...\n",
      "1244               Gente del Po     ITA  1947     570   7.0\n",
      "1245             Caccia tragica     ITA  1947     108   7.0\n",
      "1246          Un pilota ritorna     ITA  1942     135   5.8\n",
      "1247                     Frenzy     GBR  1972   33769   7.5\n",
      "1248                     Frenzy     USA  1972   33769   7.5\n",
      "\n",
      "[1249 rows x 5 columns]\n"
     ]
    }
   ],
   "source": [
    "from data_manager import DataManager\n",
    "\n",
    "# Connecting to the database\n",
    "imdb_data = DataManager(\n",
    "    dbname='imdb',\n",
    "    user='samaher',\n",
    "    password=\"CodingIsFun++\",\n",
    "    host='localhost',\n",
    "    port='5432'\n",
    ")\n",
    "\n",
    "# Getting the movie data from the database\n",
    "movie_data = imdb_data.get_movie()\n",
    "\n",
    "# Printing the data frame\n",
    "print(movie_data)"
   ]
  },
  {
   "cell_type": "markdown",
   "metadata": {},
   "source": [
    "## Functions"
   ]
  },
  {
   "cell_type": "markdown",
   "metadata": {},
   "source": [
    "### `determine_difficulty_level`"
   ]
  },
  {
   "cell_type": "markdown",
   "metadata": {},
   "source": [
    "The logic of determining the difficulty level of the quiz is built upon 2 elements:\n",
    "- __Recency__: The more recent the movie, the easier it is to recognize it. This is determined based on the release date 'year'.\n",
    "- __Popularity__: The more popular the movie, the easier it is to recognize it. This is determined based on the number of votes 'votes' that are assigned to the movie on IMDb.\n",
    "\n",
    "To make the algorithm more accurate, I added to the 'easy' category, all movies that have more than 1 MILLION votes on IMDb. Those popular movies, in my opinion, should be categorized as 'easy'."
   ]
  },
  {
   "cell_type": "code",
   "execution_count": null,
   "metadata": {},
   "outputs": [],
   "source": [
    "def determine_difficulty_level(self, year, votes):\n",
    "    if (year >= 2010 and votes >= 500000) or (year < 2010 and votes >= 1000000):\n",
    "        return 'easy'\n",
    "    elif 1990 <= year < 2010 and 100000 <= votes < 500000:\n",
    "        return 'medium'\n",
    "    elif year < 1990 and votes < 100000:\n",
    "        return 'hard'\n",
    "    else:\n",
    "        return 'unknown'"
   ]
  },
  {
   "cell_type": "markdown",
   "metadata": {},
   "source": [
    "### `calculate_score`"
   ]
  },
  {
   "cell_type": "markdown",
   "metadata": {},
   "source": [
    "The score is calculated this way: \n",
    "\n",
    "1. wrong answer: 0 points\n",
    "2. correct answer:\n",
    "    - 1 point if the difficulty level chosen is EASY\n",
    "    - 2 points if the difficulty level chosen is MEDIUM\n",
    "    - 3 points if the difficulty level chosen is HARD"
   ]
  },
  {
   "cell_type": "code",
   "execution_count": null,
   "metadata": {},
   "outputs": [],
   "source": [
    "def calculate_score(self, difficulty_level, is_correct):\n",
    "    if is_correct:\n",
    "        if difficulty_level == 'easy':\n",
    "            return 1\n",
    "        elif difficulty_level == 'medium':\n",
    "            return 2\n",
    "        elif difficulty_level == 'hard':\n",
    "            return 3\n",
    "    else:\n",
    "        return 0"
   ]
  },
  {
   "cell_type": "markdown",
   "metadata": {},
   "source": [
    "### `find_highest_score_movie`"
   ]
  },
  {
   "cell_type": "markdown",
   "metadata": {},
   "source": [
    "This method determines the movie that has the highest IMDb score. This function will be used to get the correct answer for questions of this type: 'Which one of these movies has the highest score on IMDb?'\n",
    "\n",
    "Libraries used: `NumPy` and `Pandas`"
   ]
  },
  {
   "cell_type": "code",
   "execution_count": null,
   "metadata": {},
   "outputs": [],
   "source": [
    "def find_highest_score_movie(self, movie_options):\n",
    "    # Converting the 'score' column in the movie data to numeric values\n",
    "    self.movie_data['score'] = pd.to_numeric(self.movie_data['score'])\n",
    "\n",
    "    # Filtering the movie data to include only the provided movie options\n",
    "    filtered_data = self.movie_data[self.movie_data['official_title'].isin(movie_options)]\n",
    "\n",
    "    # Finding the index of the row with the highest score among the filtered options\n",
    "    max_score_index = np.argmax(filtered_data['score'].values)\n",
    "\n",
    "    # Retrieveing the title of the movie with the highest score among the options\n",
    "    highest_score_movie = filtered_data.iloc[max_score_index]['official_title']\n",
    "\n",
    "    # Returning the title of the movie with the highest score among the options\n",
    "    return highest_score_movie\n"
   ]
  },
  {
   "cell_type": "markdown",
   "metadata": {},
   "source": [
    "### `generate_question`"
   ]
  },
  {
   "cell_type": "markdown",
   "metadata": {},
   "source": [
    "There are 3 types of questions included in the quiz:\n",
    "\n",
    "1. Where was this movie produced?\n",
    "2. When was this movie released? \n",
    "3. Which one of these movies has the highest score on IMDb?\n",
    "\n",
    "`Questions of Type 1 and 2`:\n",
    "The way the 2 first questions are constructed is very similar. In this case, the method begins by extracting unique attribute values from the dataset, excluding the correct answer to avoid repetition. Then, it randomly selects 3 options from the remaining values and incorporates the correct answer, shuffling the options for randomness. These options are mapped to letters (A, B, C, etc.) for presentation. Finally, it forms a dictionary containing the question text, the mapped options, the correct answer's corresponding letter, and the question's difficulty level, providing a ready-to-use question dictionary.\n",
    "\n",
    "`Questions of Type 3`:\n",
    "The 3rd type has a slight difference that's why it has a dedicated part in the function. For this type, it randomly selects 4 movies from the dataset, identifies the one with the highest IMDb score among them, shuffles the options, and marks the correct answer based on the highest-scored movie within the selected options."
   ]
  },
  {
   "cell_type": "code",
   "execution_count": null,
   "metadata": {},
   "outputs": [],
   "source": [
    "\n",
    "def generate_question(self, row, desired_difficulty, question_type, correct_answer_column):\n",
    "    official_title = row['official_title']\n",
    "    correct_answer = row[correct_answer_column]\n",
    "    year = int(row['year'])\n",
    "    votes = int(row['votes'])\n",
    "    difficulty_level = self.determine_difficulty_level(year, votes)\n",
    "\n",
    "    if difficulty_level == desired_difficulty:\n",
    "        if question_type == 'Which one of these movies has the highest score on IMDb?':\n",
    "            all_movies = self.movie_data['official_title']\n",
    "            # Randomly select 4 movies \n",
    "            selected_movies = random.sample(all_movies.tolist(), min(len(all_movies), 4))\n",
    "\n",
    "            # Find the highest-scored movie among the selected options\n",
    "            highest_score_movie = self.find_highest_score_movie(selected_movies)\n",
    "\n",
    "            other_options = selected_movies.copy()\n",
    "            random.shuffle(other_options)\n",
    "            options_mapping = {chr(ord('A') + i): option for i, option in enumerate(other_options)}\n",
    "\n",
    "            # Find the index of the correct answer within the options\n",
    "            correct_answer_index = -1\n",
    "            for i, option in enumerate(other_options):\n",
    "                if option == highest_score_movie:\n",
    "                    correct_answer_index = i\n",
    "                    break\n",
    "\n",
    "            # Ensure correct_answer_index exists before assigning the correct_answer\n",
    "            if correct_answer_index != -1:\n",
    "                question_dict = {\n",
    "                    'question': f'{question_type}',\n",
    "                    'options': options_mapping,\n",
    "                    'correct_answer': chr(ord('A') + correct_answer_index),\n",
    "                    'difficulty_level': difficulty_level\n",
    "                }\n",
    "                return question_dict\n",
    "\n",
    "\n",
    "        else:\n",
    "            all_answers = list(set(self.movie_data[correct_answer_column].unique()))\n",
    "            all_answers.remove(correct_answer)\n",
    "            other_options = [correct_answer] + random.sample(all_answers, 3)\n",
    "            random.shuffle(other_options)\n",
    "            options_mapping = {chr(ord('A') + i): option for i, option in enumerate(other_options)}\n",
    "            question_dict = {\n",
    "                'question': f'{question_type} || {official_title} ||',\n",
    "                'options': options_mapping,\n",
    "                'correct_answer': chr(ord('A') + other_options.index(correct_answer)),\n",
    "                'difficulty_level': difficulty_level\n",
    "            }\n",
    "            return question_dict\n"
   ]
  },
  {
   "cell_type": "markdown",
   "metadata": {},
   "source": [
    "### `display_histogram`"
   ]
  },
  {
   "cell_type": "markdown",
   "metadata": {},
   "source": [
    "This function highlights how the current player performed in comparison to others who played the quiz. It visualizes everyone's scores using bars, with each player represented on the horizontal axis and their scores on the vertical axis. The bars showcase individual scores, and the current player's score is highlighted differently for easy recognition. The goal is to give a clear view of how well each player did in the game.\n",
    "\n",
    "Library used: `Matplotlib`"
   ]
  },
  {
   "cell_type": "code",
   "execution_count": null,
   "metadata": {},
   "outputs": [],
   "source": [
    "def display_histogram(self, player_name):\n",
    "    player_scores = {name: score for name, score in self.game_scores}\n",
    "    plt.figure(figsize=(10, 6), dpi=80)\n",
    "\n",
    "    # Extract player names and scores\n",
    "    names = list(player_scores.keys())\n",
    "    scores = list(player_scores.values())\n",
    "\n",
    "    # Get indices to sort scores in descending order\n",
    "    sorted_indices = np.argsort(scores)[::-1]\n",
    "\n",
    "    # Rearrange names and scores based on sorted indices\n",
    "    names = [names[i] for i in sorted_indices]\n",
    "    scores = [scores[i] for i in sorted_indices]\n",
    "\n",
    "    # Plotting player scores\n",
    "    bars = plt.bar(names, scores, color='#202060')\n",
    "\n",
    "    # Highlight the current player's score in a different color and add data label\n",
    "    if player_name in player_scores:\n",
    "        index = names.index(player_name)\n",
    "        bars[index].set_color('#5bc8af')\n",
    "        plt.text(index, scores[index], str(scores[index]), ha='center', va='bottom', fontname='Quicksand', fontsize=10)\n",
    "\n",
    "    plt.xlabel('Players', fontname='Quicksand', fontsize=12)\n",
    "    plt.ylabel('Scores', fontname='Quicksand', fontsize=12)\n",
    "    plt.title('Players\\' Scores Distribution', fontname='Quicksand', fontsize=16)\n",
    "    plt.xticks(rotation=45, fontname='Quicksand', fontsize=10)  # Rotate x-axis labels for readability\n",
    "    plt.yticks(fontname='Quicksand', fontsize=10)\n",
    "    plt.grid(axis='y')  # Show grid lines only for y-axis\n",
    "    plt.tight_layout()\n",
    "    plt.show()"
   ]
  },
  {
   "cell_type": "markdown",
   "metadata": {},
   "source": [
    "### `quiz_game`"
   ]
  },
  {
   "cell_type": "markdown",
   "metadata": {},
   "source": [
    "This is the core function in the `Quiz` class. This function initiates the quiz game by prompting the player for a name and selecting a difficulty level. It generates and presents 10 questions from the different types we mentioned above. The player selects answers using multiple-choice options (A, B, C, D). The function keeps track of the player's score based on the correctness of their answers and displays the score for each question. After the game, it presents the total score, the player's performance in a histogram compared to other players, and saves the updated scores to the json file.\n"
   ]
  },
  {
   "cell_type": "code",
   "execution_count": null,
   "metadata": {},
   "outputs": [],
   "source": [
    "\n",
    "def quiz_game(self):\n",
    "    difficulty_levels = ['easy', 'medium', 'hard']\n",
    "    total_score = 0\n",
    "    used_questions = []\n",
    "\n",
    "\n",
    "    print('HELLO THERE! Welcome to ✨ The Quiz ✨')\n",
    "    player_name = input(\"What do you want us to call you? \")\n",
    "    print('Alright, ' + player_name + '!\\n GET READY TO PLAY 🔥')\n",
    "    print(\"----------------------------\")\n",
    "\n",
    "    user_difficulty = input(\"Choose a difficulty level (easy, medium, hard): \").lower()\n",
    "    print(\"----------------------------\")\n",
    "\n",
    "    while user_difficulty not in difficulty_levels:\n",
    "        print(\"Invalid difficulty level. Please choose from: easy, medium, hard\")\n",
    "        user_difficulty = input(\"Choose a difficulty level (easy, medium, hard): \").lower()\n",
    "\n",
    "    question_generators = [\n",
    "        {'generator': self.generate_question, 'params': ('When was this movie released? ==> ', 'year')},\n",
    "        {'generator': self.generate_question, 'params': ('Where was this movie produced? ==> ', 'country')},\n",
    "        {'generator': self.generate_question, 'params': ('Which one of these movies has the highest score on IMDb?', 'score')}\n",
    "    ]\n",
    "\n",
    "    for i in range(10):\n",
    "        while True:\n",
    "            question_info = None\n",
    "            generator_info = random.choice(question_generators)\n",
    "            question_type, correct_answer_column = generator_info['params']\n",
    "\n",
    "            row_index = random.randint(0, len(self.movie_data) - 1)\n",
    "            row = self.movie_data.iloc[row_index]\n",
    "\n",
    "            question_info = generator_info['generator'](row, user_difficulty, question_type, correct_answer_column)\n",
    "\n",
    "            if question_info is not None and question_info['question'] not in used_questions:\n",
    "                used_questions.append(question_info['question'])\n",
    "                break\n",
    "\n",
    "        print(question_info['question'])\n",
    "\n",
    "        for letter, option in question_info['options'].items():\n",
    "            print(f\"{letter}. {option}\")\n",
    "\n",
    "        user_choice = None\n",
    "        while user_choice not in ['A', 'B', 'C', 'D']:\n",
    "            user_choice = input(\"Enter your choice (A, B, C, D): \").upper()\n",
    "\n",
    "            if user_choice not in ['A', 'B', 'C', 'D']:\n",
    "                print(\"You typed a wrong letter. Please type again.\")\n",
    "\n",
    "        is_correct = user_choice == question_info['correct_answer']\n",
    "        score = self.calculate_score(question_info['difficulty_level'], is_correct)\n",
    "        total_score += score\n",
    "\n",
    "        if is_correct:\n",
    "            print(\"Correct!\")\n",
    "        else:\n",
    "            print(f\"Wrong! The correct answer is: {question_info['correct_answer']}\")\n",
    "\n",
    "        print(f\"Your score for this question: {score}\")\n",
    "        print(\"----------------------------\")\n",
    "\n",
    "    game_score = (player_name, total_score)\n",
    "    self.load_scores('game_scores.json')  # Load existing scores\n",
    "\n",
    "    # If the player already exists in the scores, update their score\n",
    "    player_exists = False\n",
    "    for index, (name, score) in enumerate(self.game_scores):\n",
    "        if name == player_name:\n",
    "            player_exists = True\n",
    "            self.game_scores[index] = (name, score + total_score)\n",
    "            break\n",
    "\n",
    "    # If the player doesn't exist, add their score to the list\n",
    "    if not player_exists:\n",
    "        self.game_scores.append(game_score)\n",
    "\n",
    "    print(f\"Total score: {total_score}\")\n",
    "    print(f\"Here's how you performed, {player_name}:\")\n",
    "    self.display_histogram(player_name)\n",
    "\n",
    "    self.save_scores('game_scores.json')  # Save scores after each game in JSON format\n",
    "\n",
    "    return self.game_scores"
   ]
  },
  {
   "cell_type": "markdown",
   "metadata": {},
   "source": [
    "## Saving and Loading Scores"
   ]
  },
  {
   "cell_type": "markdown",
   "metadata": {},
   "source": [
    "This part ensures that players' scores are stored and can be retrieved later to be used mainly in the histogram described above. The scores of each player are stored in a JSON file called `game_scores.json`.\n",
    "\n",
    "Library used: `json`"
   ]
  },
  {
   "cell_type": "code",
   "execution_count": null,
   "metadata": {},
   "outputs": [],
   "source": [
    "def load_scores(self, filename):\n",
    "    try:\n",
    "        with open(filename, 'r') as file:\n",
    "            self.game_scores = json.load(file)\n",
    "    except FileNotFoundError:\n",
    "        self.game_scores = []\n",
    "\n",
    "def save_scores(self, filename):\n",
    "    with open(filename, 'w') as file:\n",
    "        json.dump(self.game_scores, file)"
   ]
  },
  {
   "cell_type": "markdown",
   "metadata": {},
   "source": [
    "## Final Remarks"
   ]
  },
  {
   "cell_type": "markdown",
   "metadata": {},
   "source": [
    "Throughout this project, I aimed to incorporate what we've learned in class and to meet this exam modality requirements. Yet, there's always more to explore. There are a lot of ways to make this project better: Leveraging the huge database by adding other question types, giving players extra stats, and adding a timer for more excitement."
   ]
  }
 ],
 "metadata": {
  "kernelspec": {
   "display_name": ".venv",
   "language": "python",
   "name": "python3"
  },
  "language_info": {
   "codemirror_mode": {
    "name": "ipython",
    "version": 3
   },
   "file_extension": ".py",
   "mimetype": "text/x-python",
   "name": "python",
   "nbconvert_exporter": "python",
   "pygments_lexer": "ipython3",
   "version": "3.12.0"
  }
 },
 "nbformat": 4,
 "nbformat_minor": 2
}
